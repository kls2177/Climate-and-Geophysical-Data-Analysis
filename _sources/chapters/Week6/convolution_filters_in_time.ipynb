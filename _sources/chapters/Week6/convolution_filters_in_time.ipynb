{
 "cells": [
  {
   "cell_type": "markdown",
   "metadata": {},
   "source": [
    "# Convolution and Filtering in the Time Domain\n",
    "\n",
    "In this section, we are going to return to filtering in the time domain and use the knowledge we have gained about convolution and the convolution theorem to gain insight into filtering methods that we discussed, such as the running-mean filter.\n",
    "\n",
    "## Convolution as a Method of Filtering\n",
    "\n",
    "Recall that in the previous section, we saw that the convolution is really just a sliding window, or, a sliding weighted average. This sounds just like filtering or smoothing in the time domain! For example, a running-mean filter, is simply a sliding weighted average of size $L$ applied over a time series.\n",
    "\n",
    "If $y(t)$ is our original time series and $g(t)$ is the weighing function (e.g. a filter or window such as boxcar, gaussian, etc.), then the filtered time series $y(t)_{filtered}$ is the convolution of $y(t)$ and $g(t)$,\n",
    "\n",
    "$$\n",
    "\\begin{align}\n",
    "y(t)_{filtered} &= (g * y)(t)\\\\\n",
    "&= \\int_{-\\infty}^{\\infty} g(\\tau)y(t-\\tau) \\,d\\tau\\\\\n",
    "\\end{align}\n",
    "$$\n",
    "\n",
    "Thus, using the convolution theorem, the Fourier Transform of the filtered time series, $y(t)_{filtered}$ is,\n",
    "\n",
    "$$\n",
    "\\begin{align}\n",
    "\\mathcal{F}(y(t)_{filtered})& = \\mathcal{F}(y(t)*g(t))\\\\\n",
    "&= \\mathcal{F}(y(t))\\mathcal{F}(g(t))\\\\\n",
    "& = \\mathcal{Y}(\\omega)\\mathcal{G}(\\omega)\n",
    "\\end{align}\n",
    "$$\n",
    "\n",
    "If $g(t)$ is a running-mean filter, then this is essentially the same thing as the boxcar window that we saw in the previous section. In other words,\n",
    "\n",
    "$$\n",
    "\\mathcal{G}(\\omega) = sinc(\\omega L/2\\pi)\n",
    "$$\n",
    "\n",
    "where $L$ is the length of the running-mean filter. Note that,\n",
    "\n",
    "$$\n",
    "\\mathcal{G}(\\omega) = 0 \\quad \\text{when $\\omega L$ = 2$\\pi$, 4$\\pi$, 6$\\pi$, that is, when you have 1 cycle/$L$, 2 cycles/$L$, 3 cycles/$L$\n",
    "}\n",
    "$$\n",
    "\n",
    "So, if you apply a 12-month running mean to monthly data, you will exactly remove the 12-month cycle, the 6-month cycle, the 4-month cycle, etc. Thus, you do not perfectly remove all frequencies higher than $L$ = 12.\n",
    "\n",
    "In addition, the side lobes of the $sinc$ response function cause additional problems. These will phase shift your frequencies between these perfectly removed harmonics, leading to *spectral leakage* to other frequencies.\n",
    "\n",
    "Let's remind ourselves of what a boxcar response function looks like:"
   ]
  },
  {
   "cell_type": "code",
   "execution_count": 131,
   "metadata": {},
   "outputs": [],
   "source": [
    "# Import packages\n",
    "import numpy as np\n",
    "import matplotlib.pyplot as plt\n",
    "import scipy.stats as st\n",
    "import scipy.signal as sig"
   ]
  },
  {
   "cell_type": "markdown",
   "metadata": {},
   "source": [
    "Let's construct it like a running mean filter, with $L$ = 12, assuming we have monthly data and we want to filter out the seasonal cycle."
   ]
  },
  {
   "cell_type": "code",
   "execution_count": 132,
   "metadata": {},
   "outputs": [],
   "source": [
    "# Response function for running-mean filter with L = 12\n",
    "L = 12\n",
    "# time variable\n",
    "t = np.arange(1,20*L+1,1)\n",
    "# frequency\n",
    "freqr = 2*np.pi*np.arange(1,int(len(t))+1)/len(t)\n",
    "\n",
    "bxcr_response= np.sinc(freqr*L/(2*np.pi))"
   ]
  },
  {
   "cell_type": "code",
   "execution_count": 133,
   "metadata": {},
   "outputs": [
    {
     "data": {
      "text/plain": [
       "<matplotlib.legend.Legend at 0x7fd0dbb92d00>"
      ]
     },
     "execution_count": 133,
     "metadata": {},
     "output_type": "execute_result"
    },
    {
     "data": {
      "image/png": "[encoded data removed]",
      "text/plain": [
       "<Figure size 1008x360 with 1 Axes>"
      ]
     },
     "metadata": {
      "needs_background": "light"
     },
     "output_type": "display_data"
    }
   ],
   "source": [
    "# plot response functions for running-mean filter with L = 12\n",
    "plt.figure(figsize=(14,5))\n",
    "plt.plot(freqr,bxcr_response,label = 'L = 12')\n",
    "plt.axhline(0,color='k')\n",
    "plt.xlim(0,freqr[-1])\n",
    "plt.xticks([freqr[19],freqr[39],freqr[59],freqr[79],freqr[99],freqr[119],freqr[139],\n",
    "            freqr[159],freqr[179],freqr[199],freqr[219],freqr[239]],\n",
    "           [\"12\",\"6\",\"4\",\"3\",\"2.4\",\"2\",\"1.7\",\"1.5\",\"1.33\",\"1.2\",\"1.09\",\"1\"])\n",
    "plt.xlabel('frequency (months)')\n",
    "plt.legend()"
   ]
  },
  {
   "cell_type": "markdown",
   "metadata": {},
   "source": [
    "So, what this response function illustrates is that a time series filtered using a running-mean filter will exactly filter out the 12-month frequency and retain the lower frequencies, but these will be smoothed out. The filter does not maintain all the power contained in these low frequencies because the response function decays from a value of 1 to 0. In addition, a time series filtered using a running-mean filter will have some high frequencies removed (note that the response function is 0 for 6-months, 4-months, 3-months, etc.) but it still contain other high frequencies due to the oscillatory side lobes. Thus, the running-mean filter is not a pure low-pass filter.\n",
    "\n",
    "As we saw in the previous section, we can use alternative windows or filters to alleviate some of these issues. An in-depth discussion of how this is done is beyond the scope of this course, but the *Gaussian* filter that was mentioned in the first section, is one such alternative. \n",
    "\n",
    "Filtering in the *frequency domain* and then applying the inverse Fourier Transform is the other option - as we have seen in a previous section."
   ]
  },
  {
   "cell_type": "code",
   "execution_count": null,
   "metadata": {},
   "outputs": [],
   "source": []
  }
 ],
 "metadata": {
  "kernelspec": {
   "display_name": "Python 3",
   "language": "python",
   "name": "python3"
  },
  "language_info": {
   "codemirror_mode": {
    "name": "ipython",
    "version": 3
   },
   "file_extension": ".py",
   "mimetype": "text/x-python",
   "name": "python",
   "nbconvert_exporter": "python",
   "pygments_lexer": "ipython3",
   "version": "3.8.3"
  }
 },
 "nbformat": 4,
 "nbformat_minor": 4
}
