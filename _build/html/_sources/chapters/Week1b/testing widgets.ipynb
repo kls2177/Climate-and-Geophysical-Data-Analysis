{
 "cells": [
  {
   "cell_type": "code",
   "execution_count": 4,
   "metadata": {},
   "outputs": [],
   "source": [
    "import ipywidgets as widgets\n",
    "import sys\n",
    "from IPython.display import display\n",
    "from IPython.display import clear_output"
   ]
  },
  {
   "cell_type": "code",
   "execution_count": 5,
   "metadata": {},
   "outputs": [],
   "source": [
    "def create_multipleChoice_widget(description, options, correct_answer):\n",
    "    if correct_answer not in options:\n",
    "        options.append(correct_answer)\n",
    "    \n",
    "    correct_answer_index = options.index(correct_answer)\n",
    "    \n",
    "    radio_options = [(words, i) for i, words in enumerate(options)]\n",
    "    alternative = widgets.RadioButtons(\n",
    "        options = radio_options,\n",
    "        description = '',\n",
    "        disabled = False\n",
    "    )\n",
    "    \n",
    "    description_out = widgets.Output()\n",
    "    with description_out:\n",
    "        print(description)\n",
    "        \n",
    "    feedback_out = widgets.Output()\n",
    "\n",
    "    def check_selection(b):\n",
    "        a = int(alternative.value)\n",
    "        if a==correct_answer_index:\n",
    "            s = '\\x1b[1;30;42m' + \"Correct\" + '\\x1b[0m' +\"\\n\" #green color\n",
    "        else:\n",
    "            s = '\\x1b[1;30;41m' + \"Incorrect\" + '\\x1b[0m' +\"\\n\" #red color\n",
    "        with feedback_out:\n",
    "            clear_output()\n",
    "            print(s)\n",
    "        return\n",
    "    \n",
    "    check = widgets.Button(description=\"submit\")\n",
    "    check.on_click(check_selection)\n",
    "    \n",
    "    \n",
    "    return widgets.VBox([description_out, alternative, check, feedback_out])\n",
    "    "
   ]
  },
  {
   "cell_type": "code",
   "execution_count": 6,
   "metadata": {},
   "outputs": [],
   "source": [
    "Q1 = create_multipleChoice_widget('blablabla',['apple','banana','pear'],'pear')\n",
    "Q2 = create_multipleChoice_widget('lalalalal',['cat','dog','mouse'],'dog')\n",
    "Q3 = create_multipleChoice_widget('jajajajaj',['blue','white','red'],'white')"
   ]
  },
  {
   "cell_type": "code",
   "execution_count": 7,
   "metadata": {},
   "outputs": [
    {
     "data": {
      "application/vnd.jupyter.widget-view+json": {
       "model_id": "e42da1b554c04c6a89626a4d4680308f",
       "version_major": 2,
       "version_minor": 0
      },
      "text/plain": [
       "VBox(children=(Output(outputs=({'output_type': 'stream', 'text': 'blablabla\\n', 'name': 'stdout'},)), RadioBut…"
      ]
     },
     "metadata": {},
     "output_type": "display_data"
    },
    {
     "data": {
      "application/vnd.jupyter.widget-view+json": {
       "model_id": "35ad1f76b870481097a0d48ccb27d8c4",
       "version_major": 2,
       "version_minor": 0
      },
      "text/plain": [
       "VBox(children=(Output(outputs=({'output_type': 'stream', 'text': 'lalalalal\\n', 'name': 'stdout'},)), RadioBut…"
      ]
     },
     "metadata": {},
     "output_type": "display_data"
    },
    {
     "data": {
      "application/vnd.jupyter.widget-view+json": {
       "model_id": "ffb00c70adac48c0b86ba5bd928a4416",
       "version_major": 2,
       "version_minor": 0
      },
      "text/plain": [
       "VBox(children=(Output(outputs=({'output_type': 'stream', 'text': 'jajajajaj\\n', 'name': 'stdout'},)), RadioBut…"
      ]
     },
     "metadata": {},
     "output_type": "display_data"
    }
   ],
   "source": [
    "display(Q1)\n",
    "display(Q2)\n",
    "display(Q3)"
   ]
  },
  {
   "cell_type": "code",
   "execution_count": null,
   "metadata": {},
   "outputs": [],
   "source": []
  }
 ],
 "metadata": {
  "kernelspec": {
   "display_name": "Python 3",
   "language": "python",
   "name": "python3"
  },
  "language_info": {
   "codemirror_mode": {
    "name": "ipython",
    "version": 3
   },
   "file_extension": ".py",
   "mimetype": "text/x-python",
   "name": "python",
   "nbconvert_exporter": "python",
   "pygments_lexer": "ipython3",
   "version": "3.6.8"
  },
  "widgets": {
   "application/vnd.jupyter.widget-state+json": {
    "state": {
     "0024ebbbd6774b0bb698edfc395b3cba": {
      "model_module": "@jupyter-widgets/controls",
      "model_module_version": "1.5.0",
      "model_name": "ButtonStyleModel",
      "state": {}
     },
     "0077bc5ce3ba4cb997939f9623a16eee": {
      "model_module": "@jupyter-widgets/base",
      "model_module_version": "1.2.0",
      "model_name": "LayoutModel",
      "state": {}
     },
     "012f469e4ab64c8cabd1847b7bb60098": {
      "model_module": "@jupyter-widgets/controls",
      "model_module_version": "1.5.0",
      "model_name": "DescriptionStyleModel",
      "state": {
       "description_width": ""
      }
     },
     "0158d2e34f5e4eb19e675cbe78c465f8": {
      "model_module": "@jupyter-widgets/output",
      "model_module_version": "1.0.0",
      "model_name": "OutputModel",
      "state": {
       "layout": "IPY_MODEL_f296ba57750b452eb6830f011389e8e9",
       "outputs": [
        {
         "name": "stdout",
         "output_type": "stream",
         "text": "\u001b[1;32;40mCorrect\u001b[0m\n\n"
        }
       ]
      }
     },
     "0161bfc3e57c4de8b14c27659686b77c": {
      "model_module": "@jupyter-widgets/output",
      "model_module_version": "1.0.0",
      "model_name": "OutputModel",
      "state": {
       "layout": "IPY_MODEL_4a34b7ea193e438faa18adda0fce6937"
      }
     },
     "016588b372684c0b9c5c1fcd265e7b8a": {
      "model_module": "@jupyter-widgets/base",
      "model_module_version": "1.2.0",
      "model_name": "LayoutModel",
      "state": {}
     },
     "018ae8f26e354a5ebbc1006801a5d9b9": {
      "model_module": "@jupyter-widgets/controls",
      "model_module_version": "1.5.0",
      "model_name": "ButtonStyleModel",
      "state": {}
     },
     "01b5f8582dea433ab270397504a80ba9": {
      "model_module": "@jupyter-widgets/output",
      "model_module_version": "1.0.0",
      "model_name": "OutputModel",
      "state": {
       "layout": "IPY_MODEL_24bc1cf1451e4e6abfe75eeb14e0248a",
       "outputs": [
        {
         "name": "stdout",
         "output_type": "stream",
         "text": "lalalalal\n"
        }
       ]
      }
     },
     "01ced8d081544acc9227d085d0c44ad6": {
      "model_module": "@jupyter-widgets/base",
      "model_module_version": "1.2.0",
      "model_name": "LayoutModel",
      "state": {}
     },
     "0300b06977d24223befdd301b698d2bb": {
      "model_module": "@jupyter-widgets/output",
      "model_module_version": "1.0.0",
      "model_name": "OutputModel",
      "state": {
       "layout": "IPY_MODEL_1cb57080d8054d39afb221f6022484c6"
      }
     },
     "0301d2b0aa004cef9ecb423092f80086": {
      "model_module": "@jupyter-widgets/controls",
      "model_module_version": "1.5.0",
      "model_name": "ButtonModel",
      "state": {
       "description": "submit",
       "layout": "IPY_MODEL_44354bfac1bc4762acdc750f9eb2a5b1",
       "style": "IPY_MODEL_4d7a707358634ef99e7627a2fac477ad"
      }
     },
     "033eabdadfe5459fbd519e820b1e2338": {
      "model_module": "@jupyter-widgets/controls",
      "model_module_version": "1.5.0",
      "model_name": "VBoxModel",
      "state": {
       "children": [
        "IPY_MODEL_9b8120c9ef994d78bcee260c17bfabe3",
        "IPY_MODEL_cc64ceeb769c4ac6907fdf255eb7d840",
        "IPY_MODEL_9f8058d121c6400cb495fc9e82594933",
        "IPY_MODEL_5819e56918e24cec9a0299844064d375"
       ],
       "layout": "IPY_MODEL_2f12ffa319d644d1a9ef0ed71156ae04"
      }
     },
     "0352d1da688f43df9ba1e30118cb4738": {
      "model_module": "@jupyter-widgets/controls",
      "model_module_version": "1.5.0",
      "model_name": "RadioButtonsModel",
      "state": {
       "_options_labels": [
        "cat",
        "dog",
        "mouse"
       ],
       "index": 0,
       "layout": "IPY_MODEL_ab9882abc9ac4ca7963f4dc5a9f8daf7",
       "style": "IPY_MODEL_0d4289bac59c41e488c63f5daac237f3"
      }
     },
     "039348aeb2e74c1a907d7702760343bb": {
      "model_module": "@jupyter-widgets/output",
      "model_module_version": "1.0.0",
      "model_name": "OutputModel",
      "state": {
       "layout": "IPY_MODEL_46637c31760942d1938bdf296b221f0c",
       "outputs": [
        {
         "name": "stdout",
         "output_type": "stream",
         "text": "\u001b[1;30;41mIncorrect\u001b[0m\n\n"
        }
       ]
      }
     },
     "0395b19600504c7dbaf311d641616231": {
      "model_module": "@jupyter-widgets/output",
      "model_module_version": "1.0.0",
      "model_name": "OutputModel",
      "state": {
       "layout": "IPY_MODEL_a559e4dd82734ff3883a147c32b421af",
       "outputs": [
        {
         "name": "stdout",
         "output_type": "stream",
         "text": "jajajajaj\n"
        }
       ]
      }
     },
     "039b0288f1744d4a88d4f7cf811ac394": {
      "model_module": "@jupyter-widgets/base",
      "model_module_version": "1.2.0",
      "model_name": "LayoutModel",
      "state": {}
     },
     "039d82ef36b5407d8ec927641aefc1bb": {
      "model_module": "@jupyter-widgets/base",
      "model_module_version": "1.2.0",
      "model_name": "LayoutModel",
      "state": {}
     },
     "03a1ed4813bc48c780392de52b7ece78": {
      "model_module": "@jupyter-widgets/controls",
      "model_module_version": "1.5.0",
      "model_name": "VBoxModel",
      "state": {
       "children": [
        "IPY_MODEL_0cb12db95ecd4161a97612e7e24ddc3d",
        "IPY_MODEL_84bc84eb66dd457b8774381ebcfcfb88",
        "IPY_MODEL_3ace8b819b474a2497d8828a0013e69e",
        "IPY_MODEL_b241486b7b8b4c729540784f602915f0"
       ],
       "layout": "IPY_MODEL_4c6eaec6470040d5aac5920821380611"
      }
     },
     "03b81b4b0a6e4203a81a044f07a5b819": {
      "model_module": "@jupyter-widgets/controls",
      "model_module_version": "1.5.0",
      "model_name": "ButtonModel",
      "state": {
       "description": "submit",
       "layout": "IPY_MODEL_f970a22fee3e41d2a94a996355fe82c5",
       "style": "IPY_MODEL_4df807f035794a439b9efa6c34c87631"
      }
     },
     "03caed3716b24a6cb5117d2d51bad9ef": {
      "model_module": "@jupyter-widgets/controls",
      "model_module_version": "1.5.0",
      "model_name": "DescriptionStyleModel",
      "state": {
       "description_width": ""
      }
     },
     "03d2c97cbd334645b755c5de27e578a7": {
      "model_module": "@jupyter-widgets/controls",
      "model_module_version": "1.5.0",
      "model_name": "ButtonModel",
      "state": {
       "description": "submit",
       "layout": "IPY_MODEL_692fa242c8ef4aa2a8eb431cc8eeb2af",
       "style": "IPY_MODEL_9a08051d7f5d46c9a4981ed7ec7f2374"
      }
     },
     "041344e890b446f496283d367ae19373": {
      "model_module": "@jupyter-widgets/controls",
      "model_module_version": "1.5.0",
      "model_name": "VBoxModel",
      "state": {
       "children": [
        "IPY_MODEL_fcff4f72a0e748a094819da7d6ad61f6",
        "IPY_MODEL_c2452236e62b48fba552c1f2e9039346",
        "IPY_MODEL_07aebd779e284fa69d57cef24031b56e",
        "IPY_MODEL_e25de40ad3454832b122da3a7de1107c"
       ],
       "layout": "IPY_MODEL_b6614190cd2d479daf8f7781d9f3f50e"
      }
     },
     "04501799700f4defa5505df38ab95dbd": {
      "model_module": "@jupyter-widgets/output",
      "model_module_version": "1.0.0",
      "model_name": "OutputModel",
      "state": {
       "layout": "IPY_MODEL_f8fee15f74404c53b8df4ec66eb5fa8f"
      }
     },
     "046042864caa46228e498c8c5e4d3208": {
      "model_module": "@jupyter-widgets/controls",
      "model_module_version": "1.5.0",
      "model_name": "ButtonModel",
      "state": {
       "description": "submit",
       "layout": "IPY_MODEL_0c07397918724d0baa0689d390f9134f",
       "style": "IPY_MODEL_7c0f24c07c1f45208be0ccb4025cdb08"
      }
     },
     "04c04b8a9f6b4083a22e71c7e53b89eb": {
      "model_module": "@jupyter-widgets/controls",
      "model_module_version": "1.5.0",
      "model_name": "RadioButtonsModel",
      "state": {
       "_options_labels": [
        "apple",
        "banana",
        "pear"
       ],
       "index": 2,
       "layout": "IPY_MODEL_1b2405f6a3404b70ada0b8385846502f",
       "style": "IPY_MODEL_012f469e4ab64c8cabd1847b7bb60098"
      }
     },
     "04c4b0ad7f434ea093138bc4adda531d": {
      "model_module": "@jupyter-widgets/base",
      "model_module_version": "1.2.0",
      "model_name": "LayoutModel",
      "state": {}
     },
     "0512c7962ef94c2fa1604109ff2daaea": {
      "model_module": "@jupyter-widgets/base",
      "model_module_version": "1.2.0",
      "model_name": "LayoutModel",
      "state": {}
     },
     "057801dc87c14390b9d4d3c41e653452": {
      "model_module": "@jupyter-widgets/base",
      "model_module_version": "1.2.0",
      "model_name": "LayoutModel",
      "state": {}
     },
     "05aafdaf02644bfdb85ab425c3d2e689": {
      "model_module": "@jupyter-widgets/controls",
      "model_module_version": "1.5.0",
      "model_name": "RadioButtonsModel",
      "state": {
       "_options_labels": [
        "blue",
        "white",
        "red"
       ],
       "index": 0,
       "layout": "IPY_MODEL_44a2c2c9a68e44f0bdad2c16f0d14640",
       "style": "IPY_MODEL_e070dcdda238469392212466523755e5"
      }
     },
     "05b23d9d80e941d396acc8ba13f82f7e": {
      "model_module": "@jupyter-widgets/base",
      "model_module_version": "1.2.0",
      "model_name": "LayoutModel",
      "state": {}
     },
     "05b4ae2015d0445eb9ef9acf486b02ef": {
      "model_module": "@jupyter-widgets/controls",
      "model_module_version": "1.5.0",
      "model_name": "DescriptionStyleModel",
      "state": {
       "description_width": ""
      }
     },
     "05e5201809b54c6593659ccc425540a1": {
      "model_module": "@jupyter-widgets/controls",
      "model_module_version": "1.5.0",
      "model_name": "RadioButtonsModel",
      "state": {
       "_options_labels": [
        "blue",
        "white",
        "red"
       ],
       "index": 0,
       "layout": "IPY_MODEL_a2eaf6f2a121450d94f1d9265eebab10",
       "style": "IPY_MODEL_fa8ceef86610476b8a5eade753b39b67"
      }
     },
     "06960205876d4e669d14d2411882510f": {
      "model_module": "@jupyter-widgets/output",
      "model_module_version": "1.0.0",
      "model_name": "OutputModel",
      "state": {
       "layout": "IPY_MODEL_0f6e9b4fc4c14f6c8dd2e2cf1264a3c9",
       "outputs": [
        {
         "name": "stdout",
         "output_type": "stream",
         "text": "lalalalal\n"
        }
       ]
      }
     },
     "06e4533ef32847a18b9865fcdde73dd9": {
      "model_module": "@jupyter-widgets/base",
      "model_module_version": "1.2.0",
      "model_name": "LayoutModel",
      "state": {}
     },
     "06f931e5a3e4415a8fafd0916e93e2e5": {
      "model_module": "@jupyter-widgets/base",
      "model_module_version": "1.2.0",
      "model_name": "LayoutModel",
      "state": {}
     },
     "072d29a8ef944f9cb06954e30c6a3e21": {
      "model_module": "@jupyter-widgets/base",
      "model_module_version": "1.2.0",
      "model_name": "LayoutModel",
      "state": {}
     },
     "074f1b36cf0a423b82efc5d7731a0cd9": {
      "model_module": "@jupyter-widgets/controls",
      "model_module_version": "1.5.0",
      "model_name": "ButtonStyleModel",
      "state": {}
     },
     "076c3e5688b14b4d8e5e7f4a277b8202": {
      "model_module": "@jupyter-widgets/base",
      "model_module_version": "1.2.0",
      "model_name": "LayoutModel",
      "state": {}
     },
     "078675e0b6e44ee5906915ef996d3ece": {
      "model_module": "@jupyter-widgets/base",
      "model_module_version": "1.2.0",
      "model_name": "LayoutModel",
      "state": {}
     },
     "078d25fd6a8c43e5b411640a23a82431": {
      "model_module": "@jupyter-widgets/controls",
      "model_module_version": "1.5.0",
      "model_name": "ButtonStyleModel",
      "state": {}
     },
     "07aebd779e284fa69d57cef24031b56e": {
      "model_module": "@jupyter-widgets/controls",
      "model_module_version": "1.5.0",
      "model_name": "ButtonModel",
      "state": {
       "description": "submit",
       "layout": "IPY_MODEL_736f818106264c7182079691c233cd89",
       "style": "IPY_MODEL_765378b05d574ee58c98173ea7f8ec3c"
      }
     },
     "08362dcc20b44fa184f377e3ea7ad611": {
      "model_module": "@jupyter-widgets/output",
      "model_module_version": "1.0.0",
      "model_name": "OutputModel",
      "state": {
       "layout": "IPY_MODEL_43d25ceea49c4b05aa30a641ff58675b",
       "outputs": [
        {
         "name": "stdout",
         "output_type": "stream",
         "text": "lalalalal\n"
        }
       ]
      }
     },
     "08367753f5114698b3d40a384251debc": {
      "model_module": "@jupyter-widgets/controls",
      "model_module_version": "1.5.0",
      "model_name": "VBoxModel",
      "state": {
       "children": [
        "IPY_MODEL_13f25c528edf4eccb3a4286ad1cfeb0a",
        "IPY_MODEL_7013b7e0f7f443d5b7e4343807ddd2cb",
        "IPY_MODEL_ca044294b7b744389fe55e6067023a7b",
        "IPY_MODEL_28e3afbef9f442db92ea966e07ab3f86"
       ],
       "layout": "IPY_MODEL_3a500fe388ea49b5bbfe0c10198f46af"
      }
     },
     "086fbe792d0a4bea8a23fe84d86bb9e4": {
      "model_module": "@jupyter-widgets/controls",
      "model_module_version": "1.5.0",
      "model_name": "DescriptionStyleModel",
      "state": {
       "description_width": ""
      }
     },
     "08999022178b460da4750299ed616cca": {
      "model_module": "@jupyter-widgets/controls",
      "model_module_version": "1.5.0",
      "model_name": "RadioButtonsModel",
      "state": {
       "_options_labels": [
        "blue",
        "white",
        "red"
       ],
       "index": 0,
       "layout": "IPY_MODEL_425190b50f914305a4c29dd854231607",
       "style": "IPY_MODEL_5c99dda6c4bf44cfac1a353ca421f2ca"
      }
     },
     "08fb240a5b914abba50e70e7e0112274": {
      "model_module": "@jupyter-widgets/base",
      "model_module_version": "1.2.0",
      "model_name": "LayoutModel",
      "state": {}
     },
     "0916393245434a21b48d86d4def5c2ee": {
      "model_module": "@jupyter-widgets/controls",
      "model_module_version": "1.5.0",
      "model_name": "ButtonModel",
      "state": {
       "description": "submit",
       "layout": "IPY_MODEL_6a8f23b7f73142a58807971517ad75ef",
       "style": "IPY_MODEL_3ec38c84a03544eeb55bd6d04ed25f84"
      }
     },
     "096d7c52c19d46acbe29f72568c7f7bc": {
      "model_module": "@jupyter-widgets/controls",
      "model_module_version": "1.5.0",
      "model_name": "ButtonStyleModel",
      "state": {}
     },
     "096dc93ef22446709d44314150da7c36": {
      "model_module": "@jupyter-widgets/base",
      "model_module_version": "1.2.0",
      "model_name": "LayoutModel",
      "state": {}
     },
     "098c342072b348baa5641750300befc6": {
      "model_module": "@jupyter-widgets/base",
      "model_module_version": "1.2.0",
      "model_name": "LayoutModel",
      "state": {}
     },
     "09a0287decb34c6783d263f05d6df13b": {
      "model_module": "@jupyter-widgets/controls",
      "model_module_version": "1.5.0",
      "model_name": "VBoxModel",
      "state": {
       "children": [
        "IPY_MODEL_d1a54bc35f294bf19c071836e3db88bc",
        "IPY_MODEL_35d96503b5d848148d8423c6c5fc4ef5",
        "IPY_MODEL_8e71e3199571444abbcdecd45d3d9083",
        "IPY_MODEL_b2f2237870ae4e54892fb2771858dcf7"
       ],
       "layout": "IPY_MODEL_e4e72d476c7c450facf35f3b04ee4c12"
      }
     },
     "09eab1830fd74ed9b79f9e45cf6e9238": {
      "model_module": "@jupyter-widgets/controls",
      "model_module_version": "1.5.0",
      "model_name": "DescriptionStyleModel",
      "state": {
       "description_width": ""
      }
     },
     "09ec961ec5e74b44ab3e37b5200b9523": {
      "model_module": "@jupyter-widgets/base",
      "model_module_version": "1.2.0",
      "model_name": "LayoutModel",
      "state": {}
     },
     "0a10ddfa46be4ff59a08fa8cb1032462": {
      "model_module": "@jupyter-widgets/base",
      "model_module_version": "1.2.0",
      "model_name": "LayoutModel",
      "state": {}
     },
     "0a3496fc414b483494dc615c986f3c73": {
      "model_module": "@jupyter-widgets/controls",
      "model_module_version": "1.5.0",
      "model_name": "VBoxModel",
      "state": {
       "children": [
        "IPY_MODEL_31bcd11965524da3820f4fd70128381c",
        "IPY_MODEL_95972dc435844dfabe8ac38ef4397475",
        "IPY_MODEL_8c879b3b2d5849e8b82c55500b7712a5",
        "IPY_MODEL_df694d5f32bf4676b66ce905ced1fb0f"
       ],
       "layout": "IPY_MODEL_650637b7193b49afbcb532047d90edc5"
      }
     },
     "0a386d57b39142a9bc01663cbed10940": {
      "model_module": "@jupyter-widgets/base",
      "model_module_version": "1.2.0",
      "model_name": "LayoutModel",
      "state": {}
     },
     "0ab687495b234b07b32204108a200609": {
      "model_module": "@jupyter-widgets/controls",
      "model_module_version": "1.5.0",
      "model_name": "VBoxModel",
      "state": {
       "children": [
        "IPY_MODEL_2e3c05d02de54c68b6a6ad07e29927aa",
        "IPY_MODEL_aa69217c843a4bdd8f46b2873cfa42fe",
        "IPY_MODEL_429e66cab4ee444d9af6da2525b82a80",
        "IPY_MODEL_5a8f24e82dc54073a9b0f5e2db305dd0"
       ],
       "layout": "IPY_MODEL_1f21fc1e97114d44876c63834fb36381"
      }
     },
     "0ac3fc878fb8411b8658246c8f0605c9": {
      "model_module": "@jupyter-widgets/base",
      "model_module_version": "1.2.0",
      "model_name": "LayoutModel",
      "state": {}
     },
     "0b07326d1d5a4858bf4fd0d5dc699b5c": {
      "model_module": "@jupyter-widgets/output",
      "model_module_version": "1.0.0",
      "model_name": "OutputModel",
      "state": {
       "layout": "IPY_MODEL_4f646b82c47d449d8075a20b1bee268f",
       "outputs": [
        {
         "name": "stdout",
         "output_type": "stream",
         "text": "\u001b[1;40;39mCorrect\u001b[0m\n\n"
        }
       ]
      }
     },
     "0b26f09465c84bc9ad5375e1d3957f5a": {
      "model_module": "@jupyter-widgets/base",
      "model_module_version": "1.2.0",
      "model_name": "LayoutModel",
      "state": {}
     },
     "0b38b40027cb4125a0be9ff25dae73e0": {
      "model_module": "@jupyter-widgets/controls",
      "model_module_version": "1.5.0",
      "model_name": "DescriptionStyleModel",
      "state": {
       "description_width": ""
      }
     },
     "0b447131576e435b9b806a37522842bd": {
      "model_module": "@jupyter-widgets/base",
      "model_module_version": "1.2.0",
      "model_name": "LayoutModel",
      "state": {}
     },
     "0b6a68fe3a0e43dfbb0534d4b07c1b45": {
      "model_module": "@jupyter-widgets/base",
      "model_module_version": "1.2.0",
      "model_name": "LayoutModel",
      "state": {}
     },
     "0b7ce1d40e584f8185ab164ea4e5f169": {
      "model_module": "@jupyter-widgets/base",
      "model_module_version": "1.2.0",
      "model_name": "LayoutModel",
      "state": {}
     },
     "0b90a6cf8d4b4b40a5850b6ffa8e7ac1": {
      "model_module": "@jupyter-widgets/output",
      "model_module_version": "1.0.0",
      "model_name": "OutputModel",
      "state": {
       "layout": "IPY_MODEL_f01c0cc1dba04430809e45eb15423384",
       "outputs": [
        {
         "name": "stdout",
         "output_type": "stream",
         "text": "blablabla\n"
        }
       ]
      }
     },
     "0b930ba36c924e988b4eab08a7f80106": {
      "model_module": "@jupyter-widgets/base",
      "model_module_version": "1.2.0",
      "model_name": "LayoutModel",
      "state": {}
     },
     "0be73d54ef2348008114ed8188e34900": {
      "model_module": "@jupyter-widgets/controls",
      "model_module_version": "1.5.0",
      "model_name": "RadioButtonsModel",
      "state": {
       "_options_labels": [
        "apple",
        "banana",
        "pear"
       ],
       "index": 2,
       "layout": "IPY_MODEL_93434375daf747a78b823184f6612efe",
       "style": "IPY_MODEL_0b38b40027cb4125a0be9ff25dae73e0"
      }
     },
     "0bef766a4e7f4d119f48de544ed97a9f": {
      "model_module": "@jupyter-widgets/base",
      "model_module_version": "1.2.0",
      "model_name": "LayoutModel",
      "state": {}
     },
     "0bfcccf0b3204f6e8126e2608d8a7967": {
      "model_module": "@jupyter-widgets/base",
      "model_module_version": "1.2.0",
      "model_name": "LayoutModel",
      "state": {}
     },
     "0c07397918724d0baa0689d390f9134f": {
      "model_module": "@jupyter-widgets/base",
      "model_module_version": "1.2.0",
      "model_name": "LayoutModel",
      "state": {}
     },
     "0cb12db95ecd4161a97612e7e24ddc3d": {
      "model_module": "@jupyter-widgets/output",
      "model_module_version": "1.0.0",
      "model_name": "OutputModel",
      "state": {
       "layout": "IPY_MODEL_8fd12e108c114e319fc66a9c414cef93",
       "outputs": [
        {
         "name": "stdout",
         "output_type": "stream",
         "text": "jajajajaj\n"
        }
       ]
      }
     },
     "0d4289bac59c41e488c63f5daac237f3": {
      "model_module": "@jupyter-widgets/controls",
      "model_module_version": "1.5.0",
      "model_name": "DescriptionStyleModel",
      "state": {
       "description_width": ""
      }
     },
     "0d5c0b349549470c925038acd2c2e15a": {
      "model_module": "@jupyter-widgets/controls",
      "model_module_version": "1.5.0",
      "model_name": "VBoxModel",
      "state": {
       "children": [
        "IPY_MODEL_5b1622eedd4147ea94193d6a24422ab9",
        "IPY_MODEL_290a1ae414264bc4a6faf9f0b19a42b7",
        "IPY_MODEL_ea320b68f03a450e95cad8848173ef87",
        "IPY_MODEL_eea52d1b46344a8aa10af7678ebdaa51"
       ],
       "layout": "IPY_MODEL_5115f32800364e05b453123cc9a8f5a9"
      }
     },
     "0d7eb1240275413087f1d08931c2b49a": {
      "model_module": "@jupyter-widgets/base",
      "model_module_version": "1.2.0",
      "model_name": "LayoutModel",
      "state": {}
     },
     "0db9102e83514649a3aa599292126e92": {
      "model_module": "@jupyter-widgets/base",
      "model_module_version": "1.2.0",
      "model_name": "LayoutModel",
      "state": {}
     },
     "0dbc6cc9faa3458f9226bbd736d91a2c": {
      "model_module": "@jupyter-widgets/base",
      "model_module_version": "1.2.0",
      "model_name": "LayoutModel",
      "state": {}
     },
     "0df8da0cf9eb4b3680b570b4942132da": {
      "model_module": "@jupyter-widgets/base",
      "model_module_version": "1.2.0",
      "model_name": "LayoutModel",
      "state": {}
     },
     "0e0b7e6a54ed42ba9ccd613ef2469b7a": {
      "model_module": "@jupyter-widgets/base",
      "model_module_version": "1.2.0",
      "model_name": "LayoutModel",
      "state": {}
     },
     "0e60673b12704bc2880bd9bed8bc3d7e": {
      "model_module": "@jupyter-widgets/controls",
      "model_module_version": "1.5.0",
      "model_name": "RadioButtonsModel",
      "state": {
       "_options_labels": [
        "apple",
        "banana",
        "pear"
       ],
       "index": 2,
       "layout": "IPY_MODEL_e36a1bf8705245648dd71930880d4ae4",
       "style": "IPY_MODEL_b8a0f962fe1b43a7a61a3f62d3342273"
      }
     },
     "0eb2ca98fbf64349ae29c62e6fc6baf4": {
      "model_module": "@jupyter-widgets/base",
      "model_module_version": "1.2.0",
      "model_name": "LayoutModel",
      "state": {}
     },
     "0ef78eb72470478b97d5b68871c2d676": {
      "model_module": "@jupyter-widgets/base",
      "model_module_version": "1.2.0",
      "model_name": "LayoutModel",
      "state": {}
     },
     "0f12cec8814a49d2a6c1fa828e0992e6": {
      "model_module": "@jupyter-widgets/base",
      "model_module_version": "1.2.0",
      "model_name": "LayoutModel",
      "state": {}
     },
     "0f160aa964f84dbeb3b683b6e569f15e": {
      "model_module": "@jupyter-widgets/controls",
      "model_module_version": "1.5.0",
      "model_name": "VBoxModel",
      "state": {
       "children": [
        "IPY_MODEL_3c6f0cd6071e4d5db050f6850824c669",
        "IPY_MODEL_812aa5d79d2f4cc195f4d77f010572a7",
        "IPY_MODEL_c4ca90263ae241e282503ddf4e1d6ea7",
        "IPY_MODEL_38eb5f09e6684392832da7785ccbdbf6"
       ],
       "layout": "IPY_MODEL_1c0557dc89754b21a70db7e9e045efe1"
      }
     },
     "0f2f8fbee7914b65a7d72143c5342da3": {
      "model_module": "@jupyter-widgets/base",
      "model_module_version": "1.2.0",
      "model_name": "LayoutModel",
      "state": {}
     },
     "0f6e1e368000451499e22f96356cc0f8": {
      "model_module": "@jupyter-widgets/controls",
      "model_module_version": "1.5.0",
      "model_name": "DescriptionStyleModel",
      "state": {
       "description_width": ""
      }
     },
     "0f6e9b4fc4c14f6c8dd2e2cf1264a3c9": {
      "model_module": "@jupyter-widgets/base",
      "model_module_version": "1.2.0",
      "model_name": "LayoutModel",
      "state": {}
     },
     "0fbb7d38535e46cd862df180598aa843": {
      "model_module": "@jupyter-widgets/base",
      "model_module_version": "1.2.0",
      "model_name": "LayoutModel",
      "state": {}
     },
     "0fec59f987db44b493f17c2b3376110e": {
      "model_module": "@jupyter-widgets/controls",
      "model_module_version": "1.5.0",
      "model_name": "ButtonStyleModel",
      "state": {}
     },
     "10120ef6508c4590bd447ca3354c6faf": {
      "model_module": "@jupyter-widgets/base",
      "model_module_version": "1.2.0",
      "model_name": "LayoutModel",
      "state": {}
     },
     "103f7e54541d4d889ab8af2e890e4114": {
      "model_module": "@jupyter-widgets/base",
      "model_module_version": "1.2.0",
      "model_name": "LayoutModel",
      "state": {}
     },
     "1058343e8c4842c38adad90a9874d4e3": {
      "model_module": "@jupyter-widgets/controls",
      "model_module_version": "1.5.0",
      "model_name": "DescriptionStyleModel",
      "state": {
       "description_width": ""
      }
     },
     "105bef8f8ad848afa4d338b0523433a1": {
      "model_module": "@jupyter-widgets/controls",
      "model_module_version": "1.5.0",
      "model_name": "DescriptionStyleModel",
      "state": {
       "description_width": ""
      }
     },
     "10938be137ef47cb8b334faaa7ea4f80": {
      "model_module": "@jupyter-widgets/base",
      "model_module_version": "1.2.0",
      "model_name": "LayoutModel",
      "state": {}
     },
     "10949b33431a434baac1182e3a01ddac": {
      "model_module": "@jupyter-widgets/base",
      "model_module_version": "1.2.0",
      "model_name": "LayoutModel",
      "state": {}
     },
     "10b7023d977f4757b5ebded62bfbb123": {
      "model_module": "@jupyter-widgets/controls",
      "model_module_version": "1.5.0",
      "model_name": "DescriptionStyleModel",
      "state": {
       "description_width": ""
      }
     },
     "10bbaa6b60fc475d9350f99a656a1665": {
      "model_module": "@jupyter-widgets/base",
      "model_module_version": "1.2.0",
      "model_name": "LayoutModel",
      "state": {}
     },
     "10c0059f76a340c6b7a18d9d4681d5c6": {
      "model_module": "@jupyter-widgets/controls",
      "model_module_version": "1.5.0",
      "model_name": "RadioButtonsModel",
      "state": {
       "_options_labels": [
        "cat",
        "dog",
        "mouse"
       ],
       "index": 0,
       "layout": "IPY_MODEL_af82877582b74610815c12265ad74e08",
       "style": "IPY_MODEL_129313847c3b4d1baa27de637cb4e748"
      }
     },
     "10f383cc8f8b4f0eaaaee3f13b1f67ba": {
      "model_module": "@jupyter-widgets/base",
      "model_module_version": "1.2.0",
      "model_name": "LayoutModel",
      "state": {}
     },
     "110ccfdaee544bcdaaae61c397b28518": {
      "model_module": "@jupyter-widgets/base",
      "model_module_version": "1.2.0",
      "model_name": "LayoutModel",
      "state": {}
     },
     "112732cb9b6b4882b1081684e898761f": {
      "model_module": "@jupyter-widgets/controls",
      "model_module_version": "1.5.0",
      "model_name": "RadioButtonsModel",
      "state": {
       "_options_labels": [
        "apple",
        "banana",
        "pear"
       ],
       "index": 2,
       "layout": "IPY_MODEL_974f1bff69ea4274a681cc39fe4452fd",
       "style": "IPY_MODEL_557a0edbacf2423a9395209342520c66"
      }
     },
     "115b6bf7947c4f5895ac937f1f4e3aa5": {
      "model_module": "@jupyter-widgets/base",
      "model_module_version": "1.2.0",
      "model_name": "LayoutModel",
      "state": {}
     },
     "11653116df974ea6a69037d113e6551c": {
      "model_module": "@jupyter-widgets/controls",
      "model_module_version": "1.5.0",
      "model_name": "ButtonStyleModel",
      "state": {}
     },
     "119d02c8210446ac847bd06b0ed61eeb": {
      "model_module": "@jupyter-widgets/base",
      "model_module_version": "1.2.0",
      "model_name": "LayoutModel",
      "state": {}
     },
     "11af566e58f345dd9a51ce52f22f296a": {
      "model_module": "@jupyter-widgets/base",
      "model_module_version": "1.2.0",
      "model_name": "LayoutModel",
      "state": {}
     },
     "11bcfdf6f7b74fec874da0c5cf8da195": {
      "model_module": "@jupyter-widgets/base",
      "model_module_version": "1.2.0",
      "model_name": "LayoutModel",
      "state": {}
     },
     "11dc24d6a9e648d2b4772d61ee7e5368": {
      "model_module": "@jupyter-widgets/base",
      "model_module_version": "1.2.0",
      "model_name": "LayoutModel",
      "state": {}
     },
     "12612b0ba3e3483298a81a200fe335cf": {
      "model_module": "@jupyter-widgets/output",
      "model_module_version": "1.0.0",
      "model_name": "OutputModel",
      "state": {
       "layout": "IPY_MODEL_d0a79dfaace9460d92155ef480b12f00",
       "outputs": [
        {
         "name": "stdout",
         "output_type": "stream",
         "text": "\u001b[1;40;41mCorrect\u001b[0m\n\n"
        }
       ]
      }
     },
     "129313847c3b4d1baa27de637cb4e748": {
      "model_module": "@jupyter-widgets/controls",
      "model_module_version": "1.5.0",
      "model_name": "DescriptionStyleModel",
      "state": {
       "description_width": ""
      }
     },
     "129629f2562c45239258a454e4519871": {
      "model_module": "@jupyter-widgets/base",
      "model_module_version": "1.2.0",
      "model_name": "LayoutModel",
      "state": {}
     },
     "129ccdf4831a4aaaa468e3bf323cbe83": {
      "model_module": "@jupyter-widgets/controls",
      "model_module_version": "1.5.0",
      "model_name": "DescriptionStyleModel",
      "state": {
       "description_width": ""
      }
     },
     "12c9f9d271424645b6f4dfaa23e5e247": {
      "model_module": "@jupyter-widgets/base",
      "model_module_version": "1.2.0",
      "model_name": "LayoutModel",
      "state": {}
     },
     "1352bdbdf6ee4338aa61ab1e1631a406": {
      "model_module": "@jupyter-widgets/output",
      "model_module_version": "1.0.0",
      "model_name": "OutputModel",
      "state": {
       "layout": "IPY_MODEL_119d02c8210446ac847bd06b0ed61eeb",
       "outputs": [
        {
         "name": "stdout",
         "output_type": "stream",
         "text": "jajajajaj\n"
        }
       ]
      }
     },
     "136a074ce62747c8abf295588cea7e97": {
      "model_module": "@jupyter-widgets/controls",
      "model_module_version": "1.5.0",
      "model_name": "DescriptionStyleModel",
      "state": {
       "description_width": ""
      }
     },
     "13b7085ab8f5486f94196e9daba700e5": {
      "model_module": "@jupyter-widgets/base",
      "model_module_version": "1.2.0",
      "model_name": "LayoutModel",
      "state": {}
     },
     "13f25c528edf4eccb3a4286ad1cfeb0a": {
      "model_module": "@jupyter-widgets/output",
      "model_module_version": "1.0.0",
      "model_name": "OutputModel",
      "state": {
       "layout": "IPY_MODEL_c0b05c18cc7c4123b8bc89b8c2c29a97",
       "outputs": [
        {
         "name": "stdout",
         "output_type": "stream",
         "text": "jajajajaj\n"
        }
       ]
      }
     },
     "141443fcec1c46758132be338f0dc1ba": {
      "model_module": "@jupyter-widgets/base",
      "model_module_version": "1.2.0",
      "model_name": "LayoutModel",
      "state": {}
     },
     "142cb43b53bd4bf99f6bf7082e6686e0": {
      "model_module": "@jupyter-widgets/controls",
      "model_module_version": "1.5.0",
      "model_name": "ButtonStyleModel",
      "state": {}
     },
     "1436114a7c8445aeb7896ed1ff3edd42": {
      "model_module": "@jupyter-widgets/controls",
      "model_module_version": "1.5.0",
      "model_name": "ButtonModel",
      "state": {
       "description": "submit",
       "layout": "IPY_MODEL_d5e9d8025be94c84a6b6fcb7ace4d16f",
       "style": "IPY_MODEL_3f38c65ed70d40d98bfe105ba1b8bf4b"
      }
     },
     "143715a076784548bd5fd1c0215b38eb": {
      "model_module": "@jupyter-widgets/controls",
      "model_module_version": "1.5.0",
      "model_name": "RadioButtonsModel",
      "state": {
       "_options_labels": [
        "blue",
        "white",
        "red"
       ],
       "index": 0,
       "layout": "IPY_MODEL_3bae36488da74cd98faf83bca5b00409",
       "style": "IPY_MODEL_490e3fe33ce74f448e979b78ccbf983c"
      }
     },
     "1483dcd8055f4f73bb830d563e565e38": {
      "model_module": "@jupyter-widgets/base",
      "model_module_version": "1.2.0",
      "model_name": "LayoutModel",
      "state": {}
     },
     "1493ecaec38a4790a0e380d9d88b945f": {
      "model_module": "@jupyter-widgets/base",
      "model_module_version": "1.2.0",
      "model_name": "LayoutModel",
      "state": {}
     },
     "14a88b4cde1e4b2cb495e13824f8c34a": {
      "model_module": "@jupyter-widgets/controls",
      "model_module_version": "1.5.0",
      "model_name": "DescriptionStyleModel",
      "state": {
       "description_width": ""
      }
     },
     "14ed73dcb4604c48af24fcad16eecbd1": {
      "model_module": "@jupyter-widgets/controls",
      "model_module_version": "1.5.0",
      "model_name": "DescriptionStyleModel",
      "state": {
       "description_width": ""
      }
     },
     "14efd2cf35f24dd2b7367e334c1491b6": {
      "model_module": "@jupyter-widgets/base",
      "model_module_version": "1.2.0",
      "model_name": "LayoutModel",
      "state": {}
     },
     "151640873b89416e9cbf4a02190110c8": {
      "model_module": "@jupyter-widgets/controls",
      "model_module_version": "1.5.0",
      "model_name": "VBoxModel",
      "state": {
       "children": [
        "IPY_MODEL_eed3e0b05eab40609d3ca0e8a0af2373",
        "IPY_MODEL_614978e8efb849fdbf9f19cc33eef388",
        "IPY_MODEL_b4a6dff8d17342c493db0601d9799efb",
        "IPY_MODEL_2ff31ec64ced4d8e9e7a1a1e39832b53"
       ],
       "layout": "IPY_MODEL_562cd8fb94c848a8b851676f42c98ca6"
      }
     },
     "1554bd136de14033a3bf93bf8255dd79": {
      "model_module": "@jupyter-widgets/base",
      "model_module_version": "1.2.0",
      "model_name": "LayoutModel",
      "state": {}
     },
     "155cc4a79abd4168b69691db75336f43": {
      "model_module": "@jupyter-widgets/base",
      "model_module_version": "1.2.0",
      "model_name": "LayoutModel",
      "state": {}
     },
     "156a58652c594f4793125cc765654890": {
      "model_module": "@jupyter-widgets/controls",
      "model_module_version": "1.5.0",
      "model_name": "VBoxModel",
      "state": {
       "children": [
        "IPY_MODEL_ad2a6484f64e4305a104322544a0cf4c",
        "IPY_MODEL_6b583d745ccc4ddba01327dbfbd47f89",
        "IPY_MODEL_17da1a4533854ab7b67dee53804e43ed",
        "IPY_MODEL_92e58a3681fb4ed792b569c0b757b154"
       ],
       "layout": "IPY_MODEL_db96f057c60a470eb97de515e4643bdc"
      }
     },
     "1594dba879cc4dc5a0106e5da5a035f5": {
      "model_module": "@jupyter-widgets/controls",
      "model_module_version": "1.5.0",
      "model_name": "VBoxModel",
      "state": {
       "children": [
        "IPY_MODEL_79a79330e777401f91a3eea846f3a381",
        "IPY_MODEL_b5e459eaea23412a99e608439239b618",
        "IPY_MODEL_03b81b4b0a6e4203a81a044f07a5b819",
        "IPY_MODEL_68ac90da6f7f49d1b19c4c8bdb1016b5"
       ],
       "layout": "IPY_MODEL_512703a3b5c849b984defb57e02f9918"
      }
     },
     "1599f8c282ff4ecd9e626cc194b687ce": {
      "model_module": "@jupyter-widgets/controls",
      "model_module_version": "1.5.0",
      "model_name": "DescriptionStyleModel",
      "state": {
       "description_width": ""
      }
     },
     "15a3a7be45324df0a24cad20dea8ab71": {
      "model_module": "@jupyter-widgets/controls",
      "model_module_version": "1.5.0",
      "model_name": "RadioButtonsModel",
      "state": {
       "_options_labels": [
        "blue",
        "white",
        "red"
       ],
       "index": 0,
       "layout": "IPY_MODEL_ad40240f2938484bbffa6f2a0bde2d76",
       "style": "IPY_MODEL_7422987ef4a1443398aa4d2b1280b389"
      }
     },
     "15b2684c10714932bbf095738c9a67fd": {
      "model_module": "@jupyter-widgets/controls",
      "model_module_version": "1.5.0",
      "model_name": "ButtonModel",
      "state": {
       "description": "submit",
       "layout": "IPY_MODEL_d7067fd85d4d430ab753e24c07dfb0e2",
       "style": "IPY_MODEL_e5fd7decafef4549b706804dbab263c9"
      }
     },
     "15c0f69109044ffd8cfc6e109f71a2ed": {
      "model_module": "@jupyter-widgets/controls",
      "model_module_version": "1.5.0",
      "model_name": "DescriptionStyleModel",
      "state": {
       "description_width": ""
      }
     },
     "1602319a69704f57866cd01a8c24d037": {
      "model_module": "@jupyter-widgets/base",
      "model_module_version": "1.2.0",
      "model_name": "LayoutModel",
      "state": {}
     },
     "160325dac7584fb5a31a6f4d4c163827": {
      "model_module": "@jupyter-widgets/output",
      "model_module_version": "1.0.0",
      "model_name": "OutputModel",
      "state": {
       "layout": "IPY_MODEL_e8bba5ee99c1496594cd69950fbf82c3",
       "outputs": [
        {
         "name": "stdout",
         "output_type": "stream",
         "text": "blablabla\n"
        }
       ]
      }
     },
     "179563ad29c54fdfa2808efd93c1fb43": {
      "model_module": "@jupyter-widgets/base",
      "model_module_version": "1.2.0",
      "model_name": "LayoutModel",
      "state": {}
     },
     "17a0d9ec5c094ae38b37c22539d4435c": {
      "model_module": "@jupyter-widgets/base",
      "model_module_version": "1.2.0",
      "model_name": "LayoutModel",
      "state": {}
     },
     "17da1a4533854ab7b67dee53804e43ed": {
      "model_module": "@jupyter-widgets/controls",
      "model_module_version": "1.5.0",
      "model_name": "ButtonModel",
      "state": {
       "description": "submit",
       "layout": "IPY_MODEL_b764753797ef4f8484317748c536023d",
       "style": "IPY_MODEL_44eaaa7ce068475f8d45991dbae0b49f"
      }
     },
     "1824f592076e42baabd56538fba75701": {
      "model_module": "@jupyter-widgets/controls",
      "model_module_version": "1.5.0",
      "model_name": "VBoxModel",
      "state": {
       "children": [
        "IPY_MODEL_801079d3678e465fbebadfdbc55d892d",
        "IPY_MODEL_0be73d54ef2348008114ed8188e34900",
        "IPY_MODEL_d58f0c50e14f4e49a9ae2e76fef35a50",
        "IPY_MODEL_b27f0d3f607c44c6952b21c995576168"
       ],
       "layout": "IPY_MODEL_73ac0a57155a4d74afc44cdeed9bc4a3"
      }
     },
     "18252cdfe8f443a3a4293a3d28873a30": {
      "model_module": "@jupyter-widgets/output",
      "model_module_version": "1.0.0",
      "model_name": "OutputModel",
      "state": {
       "layout": "IPY_MODEL_e47d8feac13346bf8220450134278314",
       "outputs": [
        {
         "name": "stdout",
         "output_type": "stream",
         "text": "\u001b[5;30;41mIncorrect \u001b[0m\n\n"
        }
       ]
      }
     },
     "1853ba9108d641888f3db29f2f239aa1": {
      "model_module": "@jupyter-widgets/controls",
      "model_module_version": "1.5.0",
      "model_name": "ButtonModel",
      "state": {
       "description": "submit",
       "layout": "IPY_MODEL_ad6e4ab717b5468ba5f13b7695f0e9f2",
       "style": "IPY_MODEL_d2828735a7af4ddc89b96181a29b7a35"
      }
     },
     "18607738543342d2aad14b1ffd817f45": {
      "model_module": "@jupyter-widgets/base",
      "model_module_version": "1.2.0",
      "model_name": "LayoutModel",
      "state": {}
     },
     "190460762fa449dfa780ec5aabab8eb5": {
      "model_module": "@jupyter-widgets/controls",
      "model_module_version": "1.5.0",
      "model_name": "RadioButtonsModel",
      "state": {
       "_options_labels": [
        "cat",
        "dog",
        "mouse"
       ],
       "index": 0,
       "layout": "IPY_MODEL_4efdd5a70fe74ee28a536a01cfbbe291",
       "style": "IPY_MODEL_b05c9a7eee7447bd803986e60e2b6b10"
      }
     },
     "194885a4b29a440da9cdbf766a3a51e6": {
      "model_module": "@jupyter-widgets/base",
      "model_module_version": "1.2.0",
      "model_name": "LayoutModel",
      "state": {}
     },
     "196407bb6b224ccf803ecdc3f94f9823": {
      "model_module": "@jupyter-widgets/controls",
      "model_module_version": "1.5.0",
      "model_name": "ButtonStyleModel",
      "state": {}
     },
     "196e04dd719640d0be808c7f0b4b1381": {
      "model_module": "@jupyter-widgets/output",
      "model_module_version": "1.0.0",
      "model_name": "OutputModel",
      "state": {
       "layout": "IPY_MODEL_ec64ca95e3f24a058e9cdae6d49aba4a",
       "outputs": [
        {
         "name": "stdout",
         "output_type": "stream",
         "text": "blablabla\n"
        }
       ]
      }
     },
     "1993693a82ea4ff8ab1d73af88a1b9c5": {
      "model_module": "@jupyter-widgets/controls",
      "model_module_version": "1.5.0",
      "model_name": "VBoxModel",
      "state": {
       "children": [
        "IPY_MODEL_d3fa876bcf86405c93ecb5fc431a9abd",
        "IPY_MODEL_10c0059f76a340c6b7a18d9d4681d5c6",
        "IPY_MODEL_95c05d69972f4921b0bdfe8ce6317694",
        "IPY_MODEL_edf728bd324b4206ac920aa22683a208"
       ],
       "layout": "IPY_MODEL_ce4dcafb0a1c49d5b35e4a1eeebd55f8"
      }
     },
     "19e0a92fbf7d49d4a41fd64629148a6c": {
      "model_module": "@jupyter-widgets/base",
      "model_module_version": "1.2.0",
      "model_name": "LayoutModel",
      "state": {}
     },
     "1a3239792e80431881a1bc8bb95c6f7b": {
      "model_module": "@jupyter-widgets/controls",
      "model_module_version": "1.5.0",
      "model_name": "DescriptionStyleModel",
      "state": {
       "description_width": ""
      }
     },
     "1a6bad6ecb104ec0b153a321216ceeb9": {
      "model_module": "@jupyter-widgets/controls",
      "model_module_version": "1.5.0",
      "model_name": "ButtonStyleModel",
      "state": {}
     },
     "1a7a082403934722bbd4f00c49b01c8c": {
      "model_module": "@jupyter-widgets/base",
      "model_module_version": "1.2.0",
      "model_name": "LayoutModel",
      "state": {}
     },
     "1a8a06e2640f4445beb12aa1d51335f4": {
      "model_module": "@jupyter-widgets/base",
      "model_module_version": "1.2.0",
      "model_name": "LayoutModel",
      "state": {}
     },
     "1abbf61bddd24b429568a052b0723950": {
      "model_module": "@jupyter-widgets/base",
      "model_module_version": "1.2.0",
      "model_name": "LayoutModel",
      "state": {}
     },
     "1b2405f6a3404b70ada0b8385846502f": {
      "model_module": "@jupyter-widgets/base",
      "model_module_version": "1.2.0",
      "model_name": "LayoutModel",
      "state": {}
     },
     "1b6e207bef0f4d9595be773934d213db": {
      "model_module": "@jupyter-widgets/controls",
      "model_module_version": "1.5.0",
      "model_name": "RadioButtonsModel",
      "state": {
       "_options_labels": [
        "blue",
        "white",
        "red"
       ],
       "index": 0,
       "layout": "IPY_MODEL_906ec0b111ad4de9a52b9aafd719dad4",
       "style": "IPY_MODEL_c4392e94a3d344b18adb40598c0fb03d"
      }
     },
     "1b8a18c020e247419e34d25748a2af72": {
      "model_module": "@jupyter-widgets/controls",
      "model_module_version": "1.5.0",
      "model_name": "DescriptionStyleModel",
      "state": {
       "description_width": ""
      }
     },
     "1ba1c3d2b6ba468a938569f5a808d489": {
      "model_module": "@jupyter-widgets/controls",
      "model_module_version": "1.5.0",
      "model_name": "ButtonModel",
      "state": {
       "description": "submit",
       "layout": "IPY_MODEL_d5ee7de8c8194ee88848a2be9688493b",
       "style": "IPY_MODEL_e44468efa4614bc597410e7ef3edfe76"
      }
     },
     "1bc8f9415b664099adb4bb915b724957": {
      "model_module": "@jupyter-widgets/controls",
      "model_module_version": "1.5.0",
      "model_name": "ButtonStyleModel",
      "state": {}
     },
     "1c0217c9f0584270a14d54f1e84707e2": {
      "model_module": "@jupyter-widgets/base",
      "model_module_version": "1.2.0",
      "model_name": "LayoutModel",
      "state": {}
     },
     "1c0557dc89754b21a70db7e9e045efe1": {
      "model_module": "@jupyter-widgets/base",
      "model_module_version": "1.2.0",
      "model_name": "LayoutModel",
      "state": {}
     },
     "1c1311cd92cd41d19a3d2146c0d1d2b5": {
      "model_module": "@jupyter-widgets/output",
      "model_module_version": "1.0.0",
      "model_name": "OutputModel",
      "state": {
       "layout": "IPY_MODEL_272203e7c4414b92b4dcd0880734394f"
      }
     },
     "1c1426a400f2410a9b00f49b255fe7e4": {
      "model_module": "@jupyter-widgets/base",
      "model_module_version": "1.2.0",
      "model_name": "LayoutModel",
      "state": {}
     },
     "1c9217c5c0d349fab012dce7d2627f33": {
      "model_module": "@jupyter-widgets/controls",
      "model_module_version": "1.5.0",
      "model_name": "RadioButtonsModel",
      "state": {
       "_options_labels": [
        "apple",
        "banana",
        "pear"
       ],
       "index": 2,
       "layout": "IPY_MODEL_7819ec0f9a414af290bdf8818d8bfbb8",
       "style": "IPY_MODEL_bf9d2ce821c647e7ae7ddb3b4325a2e9"
      }
     },
     "1cb57080d8054d39afb221f6022484c6": {
      "model_module": "@jupyter-widgets/base",
      "model_module_version": "1.2.0",
      "model_name": "LayoutModel",
      "state": {}
     },
     "1cc8b86c1ca94496a078f3816589aecf": {
      "model_module": "@jupyter-widgets/controls",
      "model_module_version": "1.5.0",
      "model_name": "VBoxModel",
      "state": {
       "children": [
        "IPY_MODEL_9eca28771819489d872eea23b30d76ea",
        "IPY_MODEL_b4dc913f983b4d8ca078d3ae844590c2",
        "IPY_MODEL_78c4572ba8c64b959160ab51282e5330",
        "IPY_MODEL_e9f06d4f5641467aaf0e65f562bb18d5"
       ],
       "layout": "IPY_MODEL_b84baf53d9e14cccb1d7c04f367da6d2"
      }
     },
     "1d592edb29f64310a08669051b38cf6c": {
      "model_module": "@jupyter-widgets/output",
      "model_module_version": "1.0.0",
      "model_name": "OutputModel",
      "state": {
       "layout": "IPY_MODEL_5eb03058a88d4122952b2376cf2c95fb"
      }
     },
     "1de096df0a1049edb54a17ce0daab748": {
      "model_module": "@jupyter-widgets/output",
      "model_module_version": "1.0.0",
      "model_name": "OutputModel",
      "state": {
       "layout": "IPY_MODEL_cb1990a04d3941b19fd7f7cd4bda6898",
       "outputs": [
        {
         "name": "stdout",
         "output_type": "stream",
         "text": "blablabla\n"
        }
       ]
      }
     },
     "1df6c89950fb43dcac4a889e5b22b787": {
      "model_module": "@jupyter-widgets/base",
      "model_module_version": "1.2.0",
      "model_name": "LayoutModel",
      "state": {}
     },
     "1eb1afee90ed49cd9f4ffbcc9e482401": {
      "model_module": "@jupyter-widgets/controls",
      "model_module_version": "1.5.0",
      "model_name": "VBoxModel",
      "state": {
       "children": [
        "IPY_MODEL_d502bb55383642bc8c18ba69d24ab69c",
        "IPY_MODEL_a101bc6aa0784d3397ef94b394cdc257",
        "IPY_MODEL_65adad916bbf4c65a3efdce6aca96957",
        "IPY_MODEL_b5b77e2173c6495195b6483f8b6e69b2"
       ],
       "layout": "IPY_MODEL_bf4cecbd34844514a74f535825ca82a3"
      }
     },
     "1f11c1b5fdfa4f7ead83894f4af59dc1": {
      "model_module": "@jupyter-widgets/controls",
      "model_module_version": "1.5.0",
      "model_name": "VBoxModel",
      "state": {
       "children": [
        "IPY_MODEL_3c69defc7dfa4351b5328226b696b435",
        "IPY_MODEL_7d9431eb7ad54c36b1bcaf1e29e00332",
        "IPY_MODEL_4ef48d06f84345dfad2fba977a4113e2",
        "IPY_MODEL_8327ee83b2234bf2a7cd18bab9344209"
       ],
       "layout": "IPY_MODEL_7b3327b742ae4cdab5c744613035597d"
      }
     },
     "1f21fc1e97114d44876c63834fb36381": {
      "model_module": "@jupyter-widgets/base",
      "model_module_version": "1.2.0",
      "model_name": "LayoutModel",
      "state": {}
     },
     "1f51f36f7bec4e41bc6b06d33911828c": {
      "model_module": "@jupyter-widgets/base",
      "model_module_version": "1.2.0",
      "model_name": "LayoutModel",
      "state": {}
     },
     "1f6ee595e31c40d59ee9cdf0c5ce7308": {
      "model_module": "@jupyter-widgets/base",
      "model_module_version": "1.2.0",
      "model_name": "LayoutModel",
      "state": {}
     },
     "1f8c9c5341a14d9190210f035e493574": {
      "model_module": "@jupyter-widgets/controls",
      "model_module_version": "1.5.0",
      "model_name": "ButtonModel",
      "state": {
       "description": "submit",
       "layout": "IPY_MODEL_f5cfeaa4f1954029b5ec4c9e09ba861d",
       "style": "IPY_MODEL_ff8ebe2605d24b76ae025615ef1f127c"
      }
     },
     "1f9c0fadb4374dc8aa0fc1f9971c603e": {
      "model_module": "@jupyter-widgets/output",
      "model_module_version": "1.0.0",
      "model_name": "OutputModel",
      "state": {
       "layout": "IPY_MODEL_6f5f5401c2dc472696380ac7757cc645"
      }
     },
     "1fe31f6e16b24ba1ae7c3522b45678a5": {
      "model_module": "@jupyter-widgets/base",
      "model_module_version": "1.2.0",
      "model_name": "LayoutModel",
      "state": {}
     },
     "200c7a55fe06468d85f7d4790a6654e9": {
      "model_module": "@jupyter-widgets/base",
      "model_module_version": "1.2.0",
      "model_name": "LayoutModel",
      "state": {}
     },
     "201d8e14f2a344a891b07ebd6b98c40b": {
      "model_module": "@jupyter-widgets/controls",
      "model_module_version": "1.5.0",
      "model_name": "ButtonModel",
      "state": {
       "description": "submit",
       "layout": "IPY_MODEL_f7e9b32b3d044cd28c77f90a7fd971f7",
       "style": "IPY_MODEL_ca9fbd6ebc8542f785af16f70d31a8d2"
      }
     },
     "20329ac93d4f4fad80d7054338b80ff1": {
      "model_module": "@jupyter-widgets/controls",
      "model_module_version": "1.5.0",
      "model_name": "VBoxModel",
      "state": {
       "children": [
        "IPY_MODEL_edd927da0d31494b9707f82731ed10f1",
        "IPY_MODEL_2cf4d8a0d20340fe8f22d0c405bcc2d5",
        "IPY_MODEL_ed65ae3d55654b888ec71d0a3c4a741d",
        "IPY_MODEL_8757cd3d80d6484cae3e2bedaf06c549"
       ],
       "layout": "IPY_MODEL_6118fa0ae1d3476e956d43f00e3ef97f"
      }
     },
     "2032af4712454b65b52156a56541511e": {
      "model_module": "@jupyter-widgets/output",
      "model_module_version": "1.0.0",
      "model_name": "OutputModel",
      "state": {
       "layout": "IPY_MODEL_cccd874429f94c0496f9f2fefee180d1",
       "outputs": [
        {
         "name": "stdout",
         "output_type": "stream",
         "text": "lalalalal\n"
        }
       ]
      }
     },
     "2088cd338f9244a1a2786ffdab0a55ff": {
      "model_module": "@jupyter-widgets/controls",
      "model_module_version": "1.5.0",
      "model_name": "ButtonModel",
      "state": {
       "description": "submit",
       "layout": "IPY_MODEL_650462c1451445bebe9b9e894e698610",
       "style": "IPY_MODEL_f0260e89344546afa755454136971ecf"
      }
     },
     "20f03595f7a64b1498108eee505b6238": {
      "model_module": "@jupyter-widgets/base",
      "model_module_version": "1.2.0",
      "model_name": "LayoutModel",
      "state": {}
     },
     "21055e4ff36d482b98b3a4fd0a56f51c": {
      "model_module": "@jupyter-widgets/base",
      "model_module_version": "1.2.0",
      "model_name": "LayoutModel",
      "state": {}
     },
     "211059a1f80a49fb8532dc9912e56696": {
      "model_module": "@jupyter-widgets/base",
      "model_module_version": "1.2.0",
      "model_name": "LayoutModel",
      "state": {}
     },
     "2126131f6e2b44d2aa5dd9b52fcf28e4": {
      "model_module": "@jupyter-widgets/base",
      "model_module_version": "1.2.0",
      "model_name": "LayoutModel",
      "state": {}
     },
     "212863edce564cd8a69686d9576d3586": {
      "model_module": "@jupyter-widgets/base",
      "model_module_version": "1.2.0",
      "model_name": "LayoutModel",
      "state": {}
     },
     "224316885e3c447f93ce3140b1d7d4c0": {
      "model_module": "@jupyter-widgets/base",
      "model_module_version": "1.2.0",
      "model_name": "LayoutModel",
      "state": {}
     },
     "22c84ddddf4346d7b9344743eef302cf": {
      "model_module": "@jupyter-widgets/controls",
      "model_module_version": "1.5.0",
      "model_name": "ButtonModel",
      "state": {
       "description": "submit",
       "layout": "IPY_MODEL_8457be5f82ce4c7388a7ca8a0ed68998",
       "style": "IPY_MODEL_d1cb099aa87d4a84b79fcbb8d0610018"
      }
     },
     "22fe487fffe84b6a9fe3ff842b64d724": {
      "model_module": "@jupyter-widgets/base",
      "model_module_version": "1.2.0",
      "model_name": "LayoutModel",
      "state": {}
     },
     "23012dbd7d9f45849652eac65f684eea": {
      "model_module": "@jupyter-widgets/base",
      "model_module_version": "1.2.0",
      "model_name": "LayoutModel",
      "state": {}
     },
     "2310277b1b8441d88c3b332efb6b6218": {
      "model_module": "@jupyter-widgets/base",
      "model_module_version": "1.2.0",
      "model_name": "LayoutModel",
      "state": {}
     },
     "2322a5ed40884ec6a38775081f4d2017": {
      "model_module": "@jupyter-widgets/output",
      "model_module_version": "1.0.0",
      "model_name": "OutputModel",
      "state": {
       "layout": "IPY_MODEL_4f8468c712ce49109bd2b0650616a08d",
       "outputs": [
        {
         "name": "stdout",
         "output_type": "stream",
         "text": "lalalalal\n"
        }
       ]
      }
     },
     "2339291a73774ec2a1559f3b3a69b9c9": {
      "model_module": "@jupyter-widgets/controls",
      "model_module_version": "1.5.0",
      "model_name": "ButtonStyleModel",
      "state": {}
     },
     "23530b49c562470ebfeac1c45778d4d9": {
      "model_module": "@jupyter-widgets/base",
      "model_module_version": "1.2.0",
      "model_name": "LayoutModel",
      "state": {}
     },
     "23aff2c71ece467bb0f8ebcab39f6f88": {
      "model_module": "@jupyter-widgets/controls",
      "model_module_version": "1.5.0",
      "model_name": "RadioButtonsModel",
      "state": {
       "_options_labels": [
        "apple",
        "banana",
        "pear"
       ],
       "index": 2,
       "layout": "IPY_MODEL_32f752477acf41e7941a75cec3b6c3a1",
       "style": "IPY_MODEL_bd54936bfa284e91999c2383c99f3d6e"
      }
     },
     "23e71a11265a4e2e9697ecb65864357c": {
      "model_module": "@jupyter-widgets/output",
      "model_module_version": "1.0.0",
      "model_name": "OutputModel",
      "state": {
       "layout": "IPY_MODEL_23f5d2906ceb4056b2c97eb7afbde623",
       "outputs": [
        {
         "name": "stdout",
         "output_type": "stream",
         "text": "\u001b[1;30;43mCorrect\u001b[0m\n\n"
        }
       ]
      }
     },
     "23f5d2906ceb4056b2c97eb7afbde623": {
      "model_module": "@jupyter-widgets/base",
      "model_module_version": "1.2.0",
      "model_name": "LayoutModel",
      "state": {}
     },
     "2493e705b2324732b3c5ab4785bcde6b": {
      "model_module": "@jupyter-widgets/base",
      "model_module_version": "1.2.0",
      "model_name": "LayoutModel",
      "state": {}
     },
     "249fa4a1ce044565850896dfc0acf7ac": {
      "model_module": "@jupyter-widgets/base",
      "model_module_version": "1.2.0",
      "model_name": "LayoutModel",
      "state": {}
     },
     "24af89f7abf747a8a8a835683a0046bd": {
      "model_module": "@jupyter-widgets/base",
      "model_module_version": "1.2.0",
      "model_name": "LayoutModel",
      "state": {}
     },
     "24bc1cf1451e4e6abfe75eeb14e0248a": {
      "model_module": "@jupyter-widgets/base",
      "model_module_version": "1.2.0",
      "model_name": "LayoutModel",
      "state": {}
     },
     "24c45dbb4a974b9188f9fe1d23c48678": {
      "model_module": "@jupyter-widgets/base",
      "model_module_version": "1.2.0",
      "model_name": "LayoutModel",
      "state": {}
     },
     "2541ea8b80b24b81b618934812efcc24": {
      "model_module": "@jupyter-widgets/controls",
      "model_module_version": "1.5.0",
      "model_name": "RadioButtonsModel",
      "state": {
       "_options_labels": [
        "cat",
        "dog",
        "mouse"
       ],
       "index": 0,
       "layout": "IPY_MODEL_0512c7962ef94c2fa1604109ff2daaea",
       "style": "IPY_MODEL_45c7a53ab2cb4c23aa850c9cfa43ecf7"
      }
     },
     "257f5a39eaac4adfa575945e12900778": {
      "model_module": "@jupyter-widgets/controls",
      "model_module_version": "1.5.0",
      "model_name": "DescriptionStyleModel",
      "state": {
       "description_width": ""
      }
     },
     "2630fc01b3784733912522244ba03cec": {
      "model_module": "@jupyter-widgets/output",
      "model_module_version": "1.0.0",
      "model_name": "OutputModel",
      "state": {
       "layout": "IPY_MODEL_6b8c9f005f0d463bb74d2732e35bf15f"
      }
     },
     "27007d3971fa4907bdcc1f3059ed9d13": {
      "model_module": "@jupyter-widgets/controls",
      "model_module_version": "1.5.0",
      "model_name": "RadioButtonsModel",
      "state": {
       "_options_labels": [
        "apple",
        "banana",
        "pear"
       ],
       "index": 2,
       "layout": "IPY_MODEL_42c43974f4c84725b5bc2f67184de23f",
       "style": "IPY_MODEL_caeb366ea4f14353b32caa901772bf38"
      }
     },
     "272203e7c4414b92b4dcd0880734394f": {
      "model_module": "@jupyter-widgets/base",
      "model_module_version": "1.2.0",
      "model_name": "LayoutModel",
      "state": {}
     },
     "2784214b35ec4dc78b1b05ea2792fb49": {
      "model_module": "@jupyter-widgets/output",
      "model_module_version": "1.0.0",
      "model_name": "OutputModel",
      "state": {
       "layout": "IPY_MODEL_a5395a21a87b4642af6006e40d29db2f",
       "outputs": [
        {
         "name": "stdout",
         "output_type": "stream",
         "text": "\u001b[1;40;46mCorrect\u001b[0m\n\n"
        }
       ]
      }
     },
     "27ae9840db0b4dfd90f17e068f17c852": {
      "model_module": "@jupyter-widgets/output",
      "model_module_version": "1.0.0",
      "model_name": "OutputModel",
      "state": {
       "layout": "IPY_MODEL_0db9102e83514649a3aa599292126e92"
      }
     },
     "27e30655f54f4395a64ba87958619b30": {
      "model_module": "@jupyter-widgets/controls",
      "model_module_version": "1.5.0",
      "model_name": "ButtonModel",
      "state": {
       "description": "submit",
       "layout": "IPY_MODEL_a8ff29b4406a4931927196c0bf3555ca",
       "style": "IPY_MODEL_55cb3fb92c8146eca371b21bc08776c1"
      }
     },
     "2843d47913704e6ab84d39a38692d6e4": {
      "model_module": "@jupyter-widgets/base",
      "model_module_version": "1.2.0",
      "model_name": "LayoutModel",
      "state": {}
     },
     "2858c7f234fe48d090070380c3ac7942": {
      "model_module": "@jupyter-widgets/base",
      "model_module_version": "1.2.0",
      "model_name": "LayoutModel",
      "state": {}
     },
     "28b11c7b70154c73aa1c3a30e210c351": {
      "model_module": "@jupyter-widgets/output",
      "model_module_version": "1.0.0",
      "model_name": "OutputModel",
      "state": {
       "layout": "IPY_MODEL_48e2477223484766be115e58114da470",
       "outputs": [
        {
         "name": "stdout",
         "output_type": "stream",
         "text": "jajajajaj\n"
        }
       ]
      }
     },
     "28e3afbef9f442db92ea966e07ab3f86": {
      "model_module": "@jupyter-widgets/output",
      "model_module_version": "1.0.0",
      "model_name": "OutputModel",
      "state": {
       "layout": "IPY_MODEL_d233440be86940ffb42fa9a298515df4"
      }
     },
     "290a1ae414264bc4a6faf9f0b19a42b7": {
      "model_module": "@jupyter-widgets/controls",
      "model_module_version": "1.5.0",
      "model_name": "RadioButtonsModel",
      "state": {
       "_options_labels": [
        "cat",
        "dog",
        "mouse"
       ],
       "index": 0,
       "layout": "IPY_MODEL_909bc9730e2047298694369cdd02c8c0",
       "style": "IPY_MODEL_5e8708fb77ce488e9b1866dfdf5aac48"
      }
     },
     "299f40d42dad4a8ebceff4424a4ca8c0": {
      "model_module": "@jupyter-widgets/controls",
      "model_module_version": "1.5.0",
      "model_name": "ButtonModel",
      "state": {
       "description": "submit",
       "layout": "IPY_MODEL_1abbf61bddd24b429568a052b0723950",
       "style": "IPY_MODEL_a86258d0c3384b07869e120e26a3cdc1"
      }
     },
     "29df37c926f4409c90f721a3c88c2e08": {
      "model_module": "@jupyter-widgets/controls",
      "model_module_version": "1.5.0",
      "model_name": "DescriptionStyleModel",
      "state": {
       "description_width": ""
      }
     },
     "2a42bb1fb7c346a5ab0598db86932666": {
      "model_module": "@jupyter-widgets/base",
      "model_module_version": "1.2.0",
      "model_name": "LayoutModel",
      "state": {}
     },
     "2ab71c821d9045f585fd88b8eb72da52": {
      "model_module": "@jupyter-widgets/controls",
      "model_module_version": "1.5.0",
      "model_name": "ButtonStyleModel",
      "state": {}
     },
     "2b2763cc0e1349738b42c59ba8c2ec70": {
      "model_module": "@jupyter-widgets/output",
      "model_module_version": "1.0.0",
      "model_name": "OutputModel",
      "state": {
       "layout": "IPY_MODEL_14efd2cf35f24dd2b7367e334c1491b6"
      }
     },
     "2b94a3a60d2b4f4bb095da70b77fb0bf": {
      "model_module": "@jupyter-widgets/base",
      "model_module_version": "1.2.0",
      "model_name": "LayoutModel",
      "state": {}
     },
     "2b9f8cfd06c746169133fb7ae4f01de4": {
      "model_module": "@jupyter-widgets/output",
      "model_module_version": "1.0.0",
      "model_name": "OutputModel",
      "state": {
       "layout": "IPY_MODEL_3f6646b06de84516ac206516815aecbc"
      }
     },
     "2bc98f6d0ecf441094f7c24d29384397": {
      "model_module": "@jupyter-widgets/base",
      "model_module_version": "1.2.0",
      "model_name": "LayoutModel",
      "state": {}
     },
     "2c0bf75e88ec450093d9223df22d83c4": {
      "model_module": "@jupyter-widgets/controls",
      "model_module_version": "1.5.0",
      "model_name": "RadioButtonsModel",
      "state": {
       "_options_labels": [
        "blue",
        "white",
        "red"
       ],
       "index": 0,
       "layout": "IPY_MODEL_e4edab866895493288d30de27c223a1c",
       "style": "IPY_MODEL_d29e7503b6d5477fbe716351c925d3c9"
      }
     },
     "2cd5f08b0eee4c0a96168d5fa4c935dd": {
      "model_module": "@jupyter-widgets/base",
      "model_module_version": "1.2.0",
      "model_name": "LayoutModel",
      "state": {}
     },
     "2cf4d8a0d20340fe8f22d0c405bcc2d5": {
      "model_module": "@jupyter-widgets/controls",
      "model_module_version": "1.5.0",
      "model_name": "RadioButtonsModel",
      "state": {
       "_options_labels": [
        "cat",
        "dog",
        "mouse"
       ],
       "index": 0,
       "layout": "IPY_MODEL_0b7ce1d40e584f8185ab164ea4e5f169",
       "style": "IPY_MODEL_901907a12635462ea737817e945a8c5e"
      }
     },
     "2d082181bb7e424faac92ced8379cfba": {
      "model_module": "@jupyter-widgets/base",
      "model_module_version": "1.2.0",
      "model_name": "LayoutModel",
      "state": {}
     },
     "2d398c44e7e44b20ac777302c699c6e9": {
      "model_module": "@jupyter-widgets/output",
      "model_module_version": "1.0.0",
      "model_name": "OutputModel",
      "state": {
       "layout": "IPY_MODEL_6938b592cc4a47ad803a7aeaa6a4c8f1"
      }
     },
     "2d7d4bc41b94497a929ec0dc71529440": {
      "model_module": "@jupyter-widgets/controls",
      "model_module_version": "1.5.0",
      "model_name": "RadioButtonsModel",
      "state": {
       "_options_labels": [
        "blue",
        "white",
        "red"
       ],
       "index": 0,
       "layout": "IPY_MODEL_96e114c9814847e3a5b834f40215739e",
       "style": "IPY_MODEL_3529aef6e5824fb3afb2e05e3af12c8d"
      }
     },
     "2db636771dd74823927e1f475292b514": {
      "model_module": "@jupyter-widgets/output",
      "model_module_version": "1.0.0",
      "model_name": "OutputModel",
      "state": {
       "layout": "IPY_MODEL_e772a27a78554640813bdfd741b57984",
       "outputs": [
        {
         "name": "stdout",
         "output_type": "stream",
         "text": "blablabla\n"
        }
       ]
      }
     },
     "2ddcfc5e42854a9c8a53b59dff8f7617": {
      "model_module": "@jupyter-widgets/controls",
      "model_module_version": "1.5.0",
      "model_name": "DescriptionStyleModel",
      "state": {
       "description_width": ""
      }
     },
     "2df9ba6cca67422c86c23605efd4663a": {
      "model_module": "@jupyter-widgets/base",
      "model_module_version": "1.2.0",
      "model_name": "LayoutModel",
      "state": {}
     },
     "2e08f4751ae3495dbb072ae4c469b950": {
      "model_module": "@jupyter-widgets/controls",
      "model_module_version": "1.5.0",
      "model_name": "VBoxModel",
      "state": {
       "children": [
        "IPY_MODEL_67fdad1b36a447728526cb9b99971d35",
        "IPY_MODEL_e31fb9f0f1c24a36a4f67b8db1a1d705",
        "IPY_MODEL_597f10bbd5944bbda0d98581bc1d3090",
        "IPY_MODEL_62894ca22d7d407fb7191fd45880174d"
       ],
       "layout": "IPY_MODEL_4fae3a4f4fcf4d64a79e383ae7a81b95"
      }
     },
     "2e3c05d02de54c68b6a6ad07e29927aa": {
      "model_module": "@jupyter-widgets/output",
      "model_module_version": "1.0.0",
      "model_name": "OutputModel",
      "state": {
       "layout": "IPY_MODEL_665468a7201d435295cb572ee0437852",
       "outputs": [
        {
         "name": "stdout",
         "output_type": "stream",
         "text": "blablabla\n"
        }
       ]
      }
     },
     "2e55a4c83de84371b70e9ce49633f8b3": {
      "model_module": "@jupyter-widgets/base",
      "model_module_version": "1.2.0",
      "model_name": "LayoutModel",
      "state": {}
     },
     "2ebdb563291349faa4220a629e61c5b6": {
      "model_module": "@jupyter-widgets/base",
      "model_module_version": "1.2.0",
      "model_name": "LayoutModel",
      "state": {}
     },
     "2ee3a485fdb348f9938fb27679662c24": {
      "model_module": "@jupyter-widgets/output",
      "model_module_version": "1.0.0",
      "model_name": "OutputModel",
      "state": {
       "layout": "IPY_MODEL_36122cbb7c344ba582b587af006f2110",
       "outputs": [
        {
         "name": "stdout",
         "output_type": "stream",
         "text": "\u001b[6;40;42mCorrect.\u001b[0m\n\n"
        }
       ]
      }
     },
     "2f12ffa319d644d1a9ef0ed71156ae04": {
      "model_module": "@jupyter-widgets/base",
      "model_module_version": "1.2.0",
      "model_name": "LayoutModel",
      "state": {}
     },
     "2ff31ec64ced4d8e9e7a1a1e39832b53": {
      "model_module": "@jupyter-widgets/output",
      "model_module_version": "1.0.0",
      "model_name": "OutputModel",
      "state": {
       "layout": "IPY_MODEL_f8e9a7166af74c43949f1de4fca34104"
      }
     },
     "2ff860f2a1c34d8eab9cdcac9c34d2f0": {
      "model_module": "@jupyter-widgets/controls",
      "model_module_version": "1.5.0",
      "model_name": "RadioButtonsModel",
      "state": {
       "_options_labels": [
        "apple",
        "banana",
        "pear"
       ],
       "index": 2,
       "layout": "IPY_MODEL_016588b372684c0b9c5c1fcd265e7b8a",
       "style": "IPY_MODEL_7d664b380cf74daebe67a92e43a73fbb"
      }
     },
     "3072ecc47e144b739870585db4dd0149": {
      "model_module": "@jupyter-widgets/controls",
      "model_module_version": "1.5.0",
      "model_name": "ButtonModel",
      "state": {
       "description": "submit",
       "layout": "IPY_MODEL_7a7081a0c4784eb9a0fd94b50a8ba0be",
       "style": "IPY_MODEL_e5d7cfc3dfc840689e7723be08ab1423"
      }
     },
     "308a9991c2c244e381665f59d990deb7": {
      "model_module": "@jupyter-widgets/output",
      "model_module_version": "1.0.0",
      "model_name": "OutputModel",
      "state": {
       "layout": "IPY_MODEL_71f204a62fe246b4a7ebf2d8b3c5c278"
      }
     },
     "30c43f34ad89485dbf26cf99eae5a4d4": {
      "model_module": "@jupyter-widgets/output",
      "model_module_version": "1.0.0",
      "model_name": "OutputModel",
      "state": {
       "layout": "IPY_MODEL_a40880cfa7034d92837a453d1c0ae426"
      }
     },
     "3125c6a96fe44233afd28c2ab47a05c7": {
      "model_module": "@jupyter-widgets/controls",
      "model_module_version": "1.5.0",
      "model_name": "DescriptionStyleModel",
      "state": {
       "description_width": ""
      }
     },
     "313ec5736df145719e12dad4aacffdf7": {
      "model_module": "@jupyter-widgets/output",
      "model_module_version": "1.0.0",
      "model_name": "OutputModel",
      "state": {
       "layout": "IPY_MODEL_4bb83e83a80a40408fb61a6b10d0649c",
       "outputs": [
        {
         "name": "stdout",
         "output_type": "stream",
         "text": "blablabla\n"
        }
       ]
      }
     },
     "31a855fea50344f886ac00fd7ca21b91": {
      "model_module": "@jupyter-widgets/controls",
      "model_module_version": "1.5.0",
      "model_name": "VBoxModel",
      "state": {
       "children": [
        "IPY_MODEL_a320b766dc754bf2a14b9b15cccc6578",
        "IPY_MODEL_d407ee3e69954865b8a8cc37cd37fe5f",
        "IPY_MODEL_1f8c9c5341a14d9190210f035e493574",
        "IPY_MODEL_79f0191a769b4b80b8aed4d9b235505e"
       ],
       "layout": "IPY_MODEL_4fe2de0ea6cf497881859479590b38d5"
      }
     },
     "31bcd11965524da3820f4fd70128381c": {
      "model_module": "@jupyter-widgets/output",
      "model_module_version": "1.0.0",
      "model_name": "OutputModel",
      "state": {
       "layout": "IPY_MODEL_3d5e38191cab49998dec73563ba50c0b",
       "outputs": [
        {
         "name": "stdout",
         "output_type": "stream",
         "text": "jajajajaj\n"
        }
       ]
      }
     },
     "3218707223f44659b0e7a6e1606a6610": {
      "model_module": "@jupyter-widgets/base",
      "model_module_version": "1.2.0",
      "model_name": "LayoutModel",
      "state": {}
     },
     "32253ebdb87c4433b7d1096165d90313": {
      "model_module": "@jupyter-widgets/controls",
      "model_module_version": "1.5.0",
      "model_name": "VBoxModel",
      "state": {
       "children": [
        "IPY_MODEL_5f9d9c2135ab4642ab07124ed0a89586",
        "IPY_MODEL_5cd6296a0c7e4d23b7e1241126c9f57f",
        "IPY_MODEL_fbb7e1c7b9b34e87a108c6f45ec348a8",
        "IPY_MODEL_1c1311cd92cd41d19a3d2146c0d1d2b5"
       ],
       "layout": "IPY_MODEL_01ced8d081544acc9227d085d0c44ad6"
      }
     },
     "3238b6ac3ddd491e88ab680926f20f9a": {
      "model_module": "@jupyter-widgets/base",
      "model_module_version": "1.2.0",
      "model_name": "LayoutModel",
      "state": {}
     },
     "32510cd826b144a08dcf3a4bc14ed011": {
      "model_module": "@jupyter-widgets/controls",
      "model_module_version": "1.5.0",
      "model_name": "DescriptionStyleModel",
      "state": {
       "description_width": ""
      }
     },
     "32901a7d29ea454db6d4d69bde6b2de1": {
      "model_module": "@jupyter-widgets/controls",
      "model_module_version": "1.5.0",
      "model_name": "ButtonModel",
      "state": {
       "description": "submit",
       "layout": "IPY_MODEL_b11c2043bc884573862b486cdbb626e0",
       "style": "IPY_MODEL_bd00ee9fc37d42c086fbc77cd86e42d2"
      }
     },
     "329464506bff4a25a53f02c046f5dc0d": {
      "model_module": "@jupyter-widgets/base",
      "model_module_version": "1.2.0",
      "model_name": "LayoutModel",
      "state": {}
     },
     "32cd65f3d61d4d949050c924b974a5d4": {
      "model_module": "@jupyter-widgets/controls",
      "model_module_version": "1.5.0",
      "model_name": "ButtonStyleModel",
      "state": {}
     },
     "32f752477acf41e7941a75cec3b6c3a1": {
      "model_module": "@jupyter-widgets/base",
      "model_module_version": "1.2.0",
      "model_name": "LayoutModel",
      "state": {}
     },
     "331eccc194424ac298322053d4e7cf37": {
      "model_module": "@jupyter-widgets/base",
      "model_module_version": "1.2.0",
      "model_name": "LayoutModel",
      "state": {}
     },
     "335741de5cdf4cc4bf2bd9058be0f8bc": {
      "model_module": "@jupyter-widgets/base",
      "model_module_version": "1.2.0",
      "model_name": "LayoutModel",
      "state": {}
     },
     "33a446b3d69441fba52fcc3e2c81ec32": {
      "model_module": "@jupyter-widgets/output",
      "model_module_version": "1.0.0",
      "model_name": "OutputModel",
      "state": {
       "layout": "IPY_MODEL_5e3c4ed15bb4462ab14a9bc2534abe35",
       "outputs": [
        {
         "name": "stdout",
         "output_type": "stream",
         "text": "\u001b[1;30;42mCorrect\u001b[0m\n\n"
        }
       ]
      }
     },
     "33b10a19cd9842b098d2a5e1f7003b03": {
      "model_module": "@jupyter-widgets/base",
      "model_module_version": "1.2.0",
      "model_name": "LayoutModel",
      "state": {}
     },
     "342b853be9fd49e1a891b76d68478fa5": {
      "model_module": "@jupyter-widgets/controls",
      "model_module_version": "1.5.0",
      "model_name": "ButtonModel",
      "state": {
       "description": "submit",
       "layout": "IPY_MODEL_930ca15fb197403683e67e654457ce50",
       "style": "IPY_MODEL_0fec59f987db44b493f17c2b3376110e"
      }
     },
     "3466e3e876494c5fb3551519685a5e71": {
      "model_module": "@jupyter-widgets/output",
      "model_module_version": "1.0.0",
      "model_name": "OutputModel",
      "state": {
       "layout": "IPY_MODEL_13b7085ab8f5486f94196e9daba700e5",
       "outputs": [
        {
         "name": "stdout",
         "output_type": "stream",
         "text": "\u001b[6;30;42mCorrect\u001b[0m\n\n"
        }
       ]
      }
     },
     "34a75953297f4dbca9c463dd3fcaf109": {
      "model_module": "@jupyter-widgets/controls",
      "model_module_version": "1.5.0",
      "model_name": "RadioButtonsModel",
      "state": {
       "_options_labels": [
        "cat",
        "dog",
        "mouse"
       ],
       "index": 0,
       "layout": "IPY_MODEL_4eb854fb0d674e5aa4ac8a48dbe2f5af",
       "style": "IPY_MODEL_2ddcfc5e42854a9c8a53b59dff8f7617"
      }
     },
     "34fa1bd54646484dbbc92ff42b937d18": {
      "model_module": "@jupyter-widgets/controls",
      "model_module_version": "1.5.0",
      "model_name": "DescriptionStyleModel",
      "state": {
       "description_width": ""
      }
     },
     "351cdcfe0e7041f58795ec3c9985387a": {
      "model_module": "@jupyter-widgets/controls",
      "model_module_version": "1.5.0",
      "model_name": "ButtonStyleModel",
      "state": {}
     },
     "3529aef6e5824fb3afb2e05e3af12c8d": {
      "model_module": "@jupyter-widgets/controls",
      "model_module_version": "1.5.0",
      "model_name": "DescriptionStyleModel",
      "state": {
       "description_width": ""
      }
     },
     "354fd01cfdf54b3687b96484c2d9f9d9": {
      "model_module": "@jupyter-widgets/output",
      "model_module_version": "1.0.0",
      "model_name": "OutputModel",
      "state": {
       "layout": "IPY_MODEL_d181029003e044228e9772c2c590a89d"
      }
     },
     "355997b9572a4a38aff7e805fffdb48c": {
      "model_module": "@jupyter-widgets/controls",
      "model_module_version": "1.5.0",
      "model_name": "RadioButtonsModel",
      "state": {
       "_options_labels": [
        "apple",
        "banana",
        "pear"
       ],
       "index": 2,
       "layout": "IPY_MODEL_1f6ee595e31c40d59ee9cdf0c5ce7308",
       "style": "IPY_MODEL_3f06fd1ecd274af5913c16bd97c2230a"
      }
     },
     "357c3d62d0f24d76a075f711f8f737b6": {
      "model_module": "@jupyter-widgets/output",
      "model_module_version": "1.0.0",
      "model_name": "OutputModel",
      "state": {
       "layout": "IPY_MODEL_72d5d513065f4f4da413b4c8d54441e9"
      }
     },
     "358862ea928640a7b78d811673660bd0": {
      "model_module": "@jupyter-widgets/base",
      "model_module_version": "1.2.0",
      "model_name": "LayoutModel",
      "state": {}
     },
     "35be39a430794c1d839fd7556d5c5a68": {
      "model_module": "@jupyter-widgets/base",
      "model_module_version": "1.2.0",
      "model_name": "LayoutModel",
      "state": {}
     },
     "35c94ea527a244afab264a97297d9ba1": {
      "model_module": "@jupyter-widgets/base",
      "model_module_version": "1.2.0",
      "model_name": "LayoutModel",
      "state": {}
     },
     "35d96503b5d848148d8423c6c5fc4ef5": {
      "model_module": "@jupyter-widgets/controls",
      "model_module_version": "1.5.0",
      "model_name": "RadioButtonsModel",
      "state": {
       "_options_labels": [
        "blue",
        "white",
        "red"
       ],
       "index": 0,
       "layout": "IPY_MODEL_d1a9af53fecd438bae7572aeec39162b",
       "style": "IPY_MODEL_a06bcd734ccd4ce88d1539bc7c1bf91f"
      }
     },
     "36122cbb7c344ba582b587af006f2110": {
      "model_module": "@jupyter-widgets/base",
      "model_module_version": "1.2.0",
      "model_name": "LayoutModel",
      "state": {}
     },
     "366ca99db1904ebe8d0b46ed0734d0d8": {
      "model_module": "@jupyter-widgets/base",
      "model_module_version": "1.2.0",
      "model_name": "LayoutModel",
      "state": {}
     },
     "36834efcc69449df8ebb591e06b265a1": {
      "model_module": "@jupyter-widgets/base",
      "model_module_version": "1.2.0",
      "model_name": "LayoutModel",
      "state": {}
     },
     "3689b2b88a5f43dd8d7896ad79ba0d37": {
      "model_module": "@jupyter-widgets/controls",
      "model_module_version": "1.5.0",
      "model_name": "VBoxModel",
      "state": {
       "children": [
        "IPY_MODEL_9f6b3bb5d283406587725e09f2265221",
        "IPY_MODEL_a46af3fe045842f58900bc0ebf9f69c3",
        "IPY_MODEL_71118c87c2e24c64999d4a662a01c34e",
        "IPY_MODEL_53d666c92be94e588d6396a9098b4af0"
       ],
       "layout": "IPY_MODEL_436274d8e1e641c7af1123b5cec7dbc4"
      }
     },
     "36930ff9b5f04cdda480ddf55ba76ecd": {
      "model_module": "@jupyter-widgets/output",
      "model_module_version": "1.0.0",
      "model_name": "OutputModel",
      "state": {
       "layout": "IPY_MODEL_46b90ef1ccb94d8fa8eb788e3420b9eb",
       "outputs": [
        {
         "name": "stdout",
         "output_type": "stream",
         "text": "\u001b[5;40;46mCorrect\u001b[0m\n\n"
        }
       ]
      }
     },
     "36986ed4a10f42a58c879cf077ac44c5": {
      "model_module": "@jupyter-widgets/controls",
      "model_module_version": "1.5.0",
      "model_name": "VBoxModel",
      "state": {
       "children": [
        "IPY_MODEL_5edfc2d66e604db48733e4f3c1591785",
        "IPY_MODEL_8a53dff38f0a4f71b6bb70318ebd3268",
        "IPY_MODEL_046042864caa46228e498c8c5e4d3208",
        "IPY_MODEL_72d68cea1e814657aac2a59d299e66af"
       ],
       "layout": "IPY_MODEL_68113b13984f482eb7dc6806840c268f"
      }
     },
     "36be841110dd4ac6809e3c2d48d8f709": {
      "model_module": "@jupyter-widgets/base",
      "model_module_version": "1.2.0",
      "model_name": "LayoutModel",
      "state": {}
     },
     "36dec1532679447db6eb042466e68b0d": {
      "model_module": "@jupyter-widgets/output",
      "model_module_version": "1.0.0",
      "model_name": "OutputModel",
      "state": {
       "layout": "IPY_MODEL_1554bd136de14033a3bf93bf8255dd79",
       "outputs": [
        {
         "name": "stdout",
         "output_type": "stream",
         "text": "lalalalal\n"
        }
       ]
      }
     },
     "36f6a9025f18495989197ef687106a52": {
      "model_module": "@jupyter-widgets/controls",
      "model_module_version": "1.5.0",
      "model_name": "DescriptionStyleModel",
      "state": {
       "description_width": ""
      }
     },
     "371664e2bb4348e4a93f11d6b0a4e07e": {
      "model_module": "@jupyter-widgets/controls",
      "model_module_version": "1.5.0",
      "model_name": "RadioButtonsModel",
      "state": {
       "_options_labels": [
        "apple",
        "banana",
        "pear"
       ],
       "index": 2,
       "layout": "IPY_MODEL_ef3af2e8914b48a5b88233e7ee39b91c",
       "style": "IPY_MODEL_5772be04a6194d42bbe0835e55939175"
      }
     },
     "375f934a09c64e2cb79ff88b2ef7ec7f": {
      "model_module": "@jupyter-widgets/controls",
      "model_module_version": "1.5.0",
      "model_name": "VBoxModel",
      "state": {
       "children": [
        "IPY_MODEL_c5f61a62fa7a48f687457671753c455f",
        "IPY_MODEL_fa4eb9dc625c4985af0d904eefbf247c",
        "IPY_MODEL_dea35c05f9c74387a00d8e77ad25eb95",
        "IPY_MODEL_8dcd04af017a49bd9b043e8172008ef7"
       ],
       "layout": "IPY_MODEL_3d85662c61db4d118f5cde4983fafbdf"
      }
     },
     "37a425c8d6dc4997b0ef7adc61967d92": {
      "model_module": "@jupyter-widgets/base",
      "model_module_version": "1.2.0",
      "model_name": "LayoutModel",
      "state": {}
     },
     "37ac6e9432ed4df2b8f8a88d3bf1f906": {
      "model_module": "@jupyter-widgets/base",
      "model_module_version": "1.2.0",
      "model_name": "LayoutModel",
      "state": {}
     },
     "37d5adc20243454c9ffb30abc6f894d1": {
      "model_module": "@jupyter-widgets/base",
      "model_module_version": "1.2.0",
      "model_name": "LayoutModel",
      "state": {}
     },
     "37f3cd1368834192a7b29c09cdc3d214": {
      "model_module": "@jupyter-widgets/base",
      "model_module_version": "1.2.0",
      "model_name": "LayoutModel",
      "state": {}
     },
     "3806c71d5973435c945a8c3bd7eaa2ee": {
      "model_module": "@jupyter-widgets/output",
      "model_module_version": "1.0.0",
      "model_name": "OutputModel",
      "state": {
       "layout": "IPY_MODEL_f2741c36d11042c098692ff8df898447",
       "outputs": [
        {
         "name": "stdout",
         "output_type": "stream",
         "text": "lalalalal\n"
        }
       ]
      }
     },
     "3839459bc3d94b30829064fe1978fd2f": {
      "model_module": "@jupyter-widgets/controls",
      "model_module_version": "1.5.0",
      "model_name": "ButtonStyleModel",
      "state": {}
     },
     "38a63b335c824277becaf8d15a31bb6c": {
      "model_module": "@jupyter-widgets/output",
      "model_module_version": "1.0.0",
      "model_name": "OutputModel",
      "state": {
       "layout": "IPY_MODEL_f30a3d68cdcf42d98e3323d0c3a7a7d8",
       "outputs": [
        {
         "name": "stdout",
         "output_type": "stream",
         "text": "lalalalal\n"
        }
       ]
      }
     },
     "38e7050923334b4d9e983a279e7c3764": {
      "model_module": "@jupyter-widgets/output",
      "model_module_version": "1.0.0",
      "model_name": "OutputModel",
      "state": {
       "layout": "IPY_MODEL_9a2a6cd5f7d040348f59abb7396d1a20"
      }
     },
     "38eb5f09e6684392832da7785ccbdbf6": {
      "model_module": "@jupyter-widgets/output",
      "model_module_version": "1.0.0",
      "model_name": "OutputModel",
      "state": {
       "layout": "IPY_MODEL_10bbaa6b60fc475d9350f99a656a1665"
      }
     },
     "396991dd9fbc4a1097003235ebff3737": {
      "model_module": "@jupyter-widgets/output",
      "model_module_version": "1.0.0",
      "model_name": "OutputModel",
      "state": {
       "layout": "IPY_MODEL_9b59c29744e44a388173ff9e2fb3339a",
       "outputs": [
        {
         "name": "stdout",
         "output_type": "stream",
         "text": "lalalalal\n"
        }
       ]
      }
     },
     "398e9c3fc1bb4f4bb103a571a172f59c": {
      "model_module": "@jupyter-widgets/base",
      "model_module_version": "1.2.0",
      "model_name": "LayoutModel",
      "state": {}
     },
     "3a38645f0a0f4b56b300fceb6e65dde9": {
      "model_module": "@jupyter-widgets/base",
      "model_module_version": "1.2.0",
      "model_name": "LayoutModel",
      "state": {}
     },
     "3a500fe388ea49b5bbfe0c10198f46af": {
      "model_module": "@jupyter-widgets/base",
      "model_module_version": "1.2.0",
      "model_name": "LayoutModel",
      "state": {}
     },
     "3ab04eed2d774100a58665d81f92e45a": {
      "model_module": "@jupyter-widgets/output",
      "model_module_version": "1.0.0",
      "model_name": "OutputModel",
      "state": {
       "layout": "IPY_MODEL_97230468a1c1412896646f3db9a4881f",
       "outputs": [
        {
         "name": "stdout",
         "output_type": "stream",
         "text": "jajajajaj\n"
        }
       ]
      }
     },
     "3abb1a6f97ef4757a74496fbc571e851": {
      "model_module": "@jupyter-widgets/controls",
      "model_module_version": "1.5.0",
      "model_name": "VBoxModel",
      "state": {
       "children": [
        "IPY_MODEL_160325dac7584fb5a31a6f4d4c163827",
        "IPY_MODEL_94e850e2e0244b6faaa35260a4360d63",
        "IPY_MODEL_d950777a285043a68ffa930242c17738",
        "IPY_MODEL_77ee1d3bd1344dceaf450210d1e24eb9"
       ],
       "layout": "IPY_MODEL_19e0a92fbf7d49d4a41fd64629148a6c"
      }
     },
     "3ace8b819b474a2497d8828a0013e69e": {
      "model_module": "@jupyter-widgets/controls",
      "model_module_version": "1.5.0",
      "model_name": "ButtonModel",
      "state": {
       "description": "submit",
       "layout": "IPY_MODEL_0b930ba36c924e988b4eab08a7f80106",
       "style": "IPY_MODEL_3df5baefaa3042da89556711abae6f57"
      }
     },
     "3af07b3fda2e4a2894d94749a5f17669": {
      "model_module": "@jupyter-widgets/output",
      "model_module_version": "1.0.0",
      "model_name": "OutputModel",
      "state": {
       "layout": "IPY_MODEL_0a386d57b39142a9bc01663cbed10940"
      }
     },
     "3b6222c4b5a24e2dbb16eabf413478cb": {
      "model_module": "@jupyter-widgets/output",
      "model_module_version": "1.0.0",
      "model_name": "OutputModel",
      "state": {
       "layout": "IPY_MODEL_96424528253446d5aa54019191c84a1c",
       "outputs": [
        {
         "name": "stdout",
         "output_type": "stream",
         "text": "jajajajaj\n"
        }
       ]
      }
     },
     "3b73c63eb0244cf194e50e3190560fe5": {
      "model_module": "@jupyter-widgets/base",
      "model_module_version": "1.2.0",
      "model_name": "LayoutModel",
      "state": {}
     },
     "3ba22d2d9c544990af0556cf79fc076f": {
      "model_module": "@jupyter-widgets/output",
      "model_module_version": "1.0.0",
      "model_name": "OutputModel",
      "state": {
       "layout": "IPY_MODEL_c143878fcbe0472d90e38242ba683fd7"
      }
     },
     "3ba7b85841b24b6babfd39c6b746a730": {
      "model_module": "@jupyter-widgets/controls",
      "model_module_version": "1.5.0",
      "model_name": "VBoxModel",
      "state": {
       "children": [
        "IPY_MODEL_fd5e18c57ce34c598c5269004ea7ce0a",
        "IPY_MODEL_190460762fa449dfa780ec5aabab8eb5",
        "IPY_MODEL_8e68c48a2b7e41608f65b5994e29b095",
        "IPY_MODEL_add72b491a85425d979b4d7ad7e8b492"
       ],
       "layout": "IPY_MODEL_bc2317c2a2624cc8bd5bae0c7537f737"
      }
     },
     "3bae36488da74cd98faf83bca5b00409": {
      "model_module": "@jupyter-widgets/base",
      "model_module_version": "1.2.0",
      "model_name": "LayoutModel",
      "state": {}
     },
     "3bd36aea42ea4ff78e09ecfc5150e871": {
      "model_module": "@jupyter-widgets/base",
      "model_module_version": "1.2.0",
      "model_name": "LayoutModel",
      "state": {}
     },
     "3c2e305ef3e645e88fa6839feeac9540": {
      "model_module": "@jupyter-widgets/output",
      "model_module_version": "1.0.0",
      "model_name": "OutputModel",
      "state": {
       "layout": "IPY_MODEL_f5f987d850754e1199e4cf308e852296",
       "outputs": [
        {
         "name": "stdout",
         "output_type": "stream",
         "text": "lalalalal\n"
        }
       ]
      }
     },
     "3c3efc30b13d4d1c9e51d2d933570887": {
      "model_module": "@jupyter-widgets/controls",
      "model_module_version": "1.5.0",
      "model_name": "VBoxModel",
      "state": {
       "children": [
        "IPY_MODEL_4eb68ca43bed451da0de644ca74c654f",
        "IPY_MODEL_ec9fb4f0285e45688fab374d77f686bf",
        "IPY_MODEL_e70b6ae07da440debde8a1c45126f1a2",
        "IPY_MODEL_3af07b3fda2e4a2894d94749a5f17669"
       ],
       "layout": "IPY_MODEL_5f0e94aed8da4de9854d55bb666f0020"
      }
     },
     "3c69defc7dfa4351b5328226b696b435": {
      "model_module": "@jupyter-widgets/output",
      "model_module_version": "1.0.0",
      "model_name": "OutputModel",
      "state": {
       "layout": "IPY_MODEL_b2db5f56473e4c0eb1868e4020940d25",
       "outputs": [
        {
         "name": "stdout",
         "output_type": "stream",
         "text": "lalalalal\n"
        }
       ]
      }
     },
     "3c6f0cd6071e4d5db050f6850824c669": {
      "model_module": "@jupyter-widgets/output",
      "model_module_version": "1.0.0",
      "model_name": "OutputModel",
      "state": {
       "layout": "IPY_MODEL_8de8333ced1344e4a194b7e7f67e2d61",
       "outputs": [
        {
         "name": "stdout",
         "output_type": "stream",
         "text": "jajajajaj\n"
        }
       ]
      }
     },
     "3c7f0007f6564b5495b478db64935eb3": {
      "model_module": "@jupyter-widgets/base",
      "model_module_version": "1.2.0",
      "model_name": "LayoutModel",
      "state": {}
     },
     "3cad8ea1345f48388dbed43d3afd1d6a": {
      "model_module": "@jupyter-widgets/output",
      "model_module_version": "1.0.0",
      "model_name": "OutputModel",
      "state": {
       "layout": "IPY_MODEL_4b751bd951af4f95aa8eb4d30cbb94ae"
      }
     },
     "3cb06bf5eacd409c86dd581c1390159e": {
      "model_module": "@jupyter-widgets/base",
      "model_module_version": "1.2.0",
      "model_name": "LayoutModel",
      "state": {}
     },
     "3cb318c353cd4f8e91d28a00e687d7e9": {
      "model_module": "@jupyter-widgets/controls",
      "model_module_version": "1.5.0",
      "model_name": "DescriptionStyleModel",
      "state": {
       "description_width": ""
      }
     },
     "3cd82765083043d0ac0b51883801c9a4": {
      "model_module": "@jupyter-widgets/controls",
      "model_module_version": "1.5.0",
      "model_name": "RadioButtonsModel",
      "state": {
       "_options_labels": [
        "apple",
        "banana",
        "pear"
       ],
       "index": 2,
       "layout": "IPY_MODEL_fba08a58954947e792b5662ee8f109f0",
       "style": "IPY_MODEL_29df37c926f4409c90f721a3c88c2e08"
      }
     },
     "3ce863bdad374c609673f5491c1090e0": {
      "model_module": "@jupyter-widgets/controls",
      "model_module_version": "1.5.0",
      "model_name": "RadioButtonsModel",
      "state": {
       "_options_labels": [
        "blue",
        "white",
        "red"
       ],
       "index": 0,
       "layout": "IPY_MODEL_6d59b5b4d6d74c3f8aec43423f3f7fae",
       "style": "IPY_MODEL_03caed3716b24a6cb5117d2d51bad9ef"
      }
     },
     "3d5e38191cab49998dec73563ba50c0b": {
      "model_module": "@jupyter-widgets/base",
      "model_module_version": "1.2.0",
      "model_name": "LayoutModel",
      "state": {}
     },
     "3d85662c61db4d118f5cde4983fafbdf": {
      "model_module": "@jupyter-widgets/base",
      "model_module_version": "1.2.0",
      "model_name": "LayoutModel",
      "state": {}
     },
     "3de1c4f6e0c4422dbc825315717d5b92": {
      "model_module": "@jupyter-widgets/controls",
      "model_module_version": "1.5.0",
      "model_name": "ButtonModel",
      "state": {
       "description": "submit",
       "layout": "IPY_MODEL_6cfdffab491f426abd0cf7bcb3ed59a7",
       "style": "IPY_MODEL_fdbfbd42cb654332b1f0ac6b207b9a73"
      }
     },
     "3df5baefaa3042da89556711abae6f57": {
      "model_module": "@jupyter-widgets/controls",
      "model_module_version": "1.5.0",
      "model_name": "ButtonStyleModel",
      "state": {}
     },
     "3e03eb9b36c44714bd70a19448f24401": {
      "model_module": "@jupyter-widgets/controls",
      "model_module_version": "1.5.0",
      "model_name": "DescriptionStyleModel",
      "state": {
       "description_width": ""
      }
     },
     "3e1724139a784e0594fd8bb5c80a1e41": {
      "model_module": "@jupyter-widgets/base",
      "model_module_version": "1.2.0",
      "model_name": "LayoutModel",
      "state": {}
     },
     "3e1a1f657d3c4da08fc09b1bb4d5932b": {
      "model_module": "@jupyter-widgets/base",
      "model_module_version": "1.2.0",
      "model_name": "LayoutModel",
      "state": {}
     },
     "3ec38c84a03544eeb55bd6d04ed25f84": {
      "model_module": "@jupyter-widgets/controls",
      "model_module_version": "1.5.0",
      "model_name": "ButtonStyleModel",
      "state": {}
     },
     "3f06fd1ecd274af5913c16bd97c2230a": {
      "model_module": "@jupyter-widgets/controls",
      "model_module_version": "1.5.0",
      "model_name": "DescriptionStyleModel",
      "state": {
       "description_width": ""
      }
     },
     "3f38c65ed70d40d98bfe105ba1b8bf4b": {
      "model_module": "@jupyter-widgets/controls",
      "model_module_version": "1.5.0",
      "model_name": "ButtonStyleModel",
      "state": {}
     },
     "3f6646b06de84516ac206516815aecbc": {
      "model_module": "@jupyter-widgets/base",
      "model_module_version": "1.2.0",
      "model_name": "LayoutModel",
      "state": {}
     },
     "3fecabc73a5c46eda467da4626feb642": {
      "model_module": "@jupyter-widgets/controls",
      "model_module_version": "1.5.0",
      "model_name": "RadioButtonsModel",
      "state": {
       "_options_labels": [
        "apple",
        "banana",
        "pear"
       ],
       "index": 2,
       "layout": "IPY_MODEL_f0276770040d4b749d908c80f18316aa",
       "style": "IPY_MODEL_b7bbf88b6ac14828af36a4e65ac8fd64"
      }
     },
     "402de65aa5e847e8a32851be62f9160c": {
      "model_module": "@jupyter-widgets/base",
      "model_module_version": "1.2.0",
      "model_name": "LayoutModel",
      "state": {}
     },
     "405da1b29d3e482895c8cc0a1044de4b": {
      "model_module": "@jupyter-widgets/controls",
      "model_module_version": "1.5.0",
      "model_name": "VBoxModel",
      "state": {
       "children": [
        "IPY_MODEL_eeb21fa188654e66a947d9f89feeb9fb",
        "IPY_MODEL_05aafdaf02644bfdb85ab425c3d2e689",
        "IPY_MODEL_6e0996f85d894ba49a6fb9c5e62b597f",
        "IPY_MODEL_b2de88180d0146e2970a78399c99b17f"
       ],
       "layout": "IPY_MODEL_b587ff1b3f844d13a5d40fa113bb3f50"
      }
     },
     "407e5052c29c49b9b4f91c499d153ce4": {
      "model_module": "@jupyter-widgets/output",
      "model_module_version": "1.0.0",
      "model_name": "OutputModel",
      "state": {
       "layout": "IPY_MODEL_4200c998e6c644248493bc236497f427",
       "outputs": [
        {
         "name": "stdout",
         "output_type": "stream",
         "text": "jajajajaj\n"
        }
       ]
      }
     },
     "40b450607b9e41d2ac36fa76c31a8f70": {
      "model_module": "@jupyter-widgets/controls",
      "model_module_version": "1.5.0",
      "model_name": "ButtonModel",
      "state": {
       "description": "submit",
       "layout": "IPY_MODEL_c0197df57b58481cbbf7f9ad448e4377",
       "style": "IPY_MODEL_924bf9ddb8c94534a99e4fb0317d7544"
      }
     },
     "412ccf7bdfa74511a37d27c398a056c6": {
      "model_module": "@jupyter-widgets/controls",
      "model_module_version": "1.5.0",
      "model_name": "RadioButtonsModel",
      "state": {
       "_options_labels": [
        "apple",
        "banana",
        "pear"
       ],
       "index": 2,
       "layout": "IPY_MODEL_71df4faa126747f5895d8166803637ca",
       "style": "IPY_MODEL_999b16b2ae3242bab665a9dd34ae1f00"
      }
     },
     "412f377be5094804b171c5da1924310b": {
      "model_module": "@jupyter-widgets/controls",
      "model_module_version": "1.5.0",
      "model_name": "ButtonStyleModel",
      "state": {}
     },
     "4200c998e6c644248493bc236497f427": {
      "model_module": "@jupyter-widgets/base",
      "model_module_version": "1.2.0",
      "model_name": "LayoutModel",
      "state": {}
     },
     "423c01f843c84671b46fb656e3010fde": {
      "model_module": "@jupyter-widgets/output",
      "model_module_version": "1.0.0",
      "model_name": "OutputModel",
      "state": {
       "layout": "IPY_MODEL_10f383cc8f8b4f0eaaaee3f13b1f67ba",
       "outputs": [
        {
         "name": "stdout",
         "output_type": "stream",
         "text": "blablabla\n"
        }
       ]
      }
     },
     "425190b50f914305a4c29dd854231607": {
      "model_module": "@jupyter-widgets/base",
      "model_module_version": "1.2.0",
      "model_name": "LayoutModel",
      "state": {}
     },
     "4257593fa13a44899feeeabc11022ae6": {
      "model_module": "@jupyter-widgets/controls",
      "model_module_version": "1.5.0",
      "model_name": "RadioButtonsModel",
      "state": {
       "_options_labels": [
        "cat",
        "dog",
        "mouse"
       ],
       "index": 0,
       "layout": "IPY_MODEL_3c7f0007f6564b5495b478db64935eb3",
       "style": "IPY_MODEL_8c41f1a876c3467a820c68fcd26d65b0"
      }
     },
     "429e66cab4ee444d9af6da2525b82a80": {
      "model_module": "@jupyter-widgets/controls",
      "model_module_version": "1.5.0",
      "model_name": "ButtonModel",
      "state": {
       "description": "submit",
       "layout": "IPY_MODEL_7f643624dcf545929868b264176284d0",
       "style": "IPY_MODEL_a86157648bf8459caf1ad4baadd2b3d0"
      }
     },
     "42a21ad0f3fd4d42bef322d112862cc7": {
      "model_module": "@jupyter-widgets/base",
      "model_module_version": "1.2.0",
      "model_name": "LayoutModel",
      "state": {}
     },
     "42c43974f4c84725b5bc2f67184de23f": {
      "model_module": "@jupyter-widgets/base",
      "model_module_version": "1.2.0",
      "model_name": "LayoutModel",
      "state": {}
     },
     "42cf1bf4f2f344e691ac2ca0d62257e3": {
      "model_module": "@jupyter-widgets/controls",
      "model_module_version": "1.5.0",
      "model_name": "DescriptionStyleModel",
      "state": {
       "description_width": ""
      }
     },
     "432b257e7c494f1cb7e1a2ae446999df": {
      "model_module": "@jupyter-widgets/controls",
      "model_module_version": "1.5.0",
      "model_name": "ButtonModel",
      "state": {
       "description": "submit",
       "layout": "IPY_MODEL_91d7ddacb3ba43cdb5ba8a2bb40cb211",
       "style": "IPY_MODEL_f0bc5c6d61a942f3b7326bb23894f573"
      }
     },
     "436274d8e1e641c7af1123b5cec7dbc4": {
      "model_module": "@jupyter-widgets/base",
      "model_module_version": "1.2.0",
      "model_name": "LayoutModel",
      "state": {}
     },
     "43d25ceea49c4b05aa30a641ff58675b": {
      "model_module": "@jupyter-widgets/base",
      "model_module_version": "1.2.0",
      "model_name": "LayoutModel",
      "state": {}
     },
     "44354bfac1bc4762acdc750f9eb2a5b1": {
      "model_module": "@jupyter-widgets/base",
      "model_module_version": "1.2.0",
      "model_name": "LayoutModel",
      "state": {}
     },
     "449dd36861a84b16a688d9de5cf2d87f": {
      "model_module": "@jupyter-widgets/controls",
      "model_module_version": "1.5.0",
      "model_name": "VBoxModel",
      "state": {
       "children": [
        "IPY_MODEL_93c56e04ba954a418ba5a9e56eda0353",
        "IPY_MODEL_05e5201809b54c6593659ccc425540a1",
        "IPY_MODEL_e517de32853c40478455e5b01a33f270",
        "IPY_MODEL_308a9991c2c244e381665f59d990deb7"
       ],
       "layout": "IPY_MODEL_ee0a0f70e73e444bb3ab311c0bf0fd33"
      }
     },
     "44a2c2c9a68e44f0bdad2c16f0d14640": {
      "model_module": "@jupyter-widgets/base",
      "model_module_version": "1.2.0",
      "model_name": "LayoutModel",
      "state": {}
     },
     "44eaaa7ce068475f8d45991dbae0b49f": {
      "model_module": "@jupyter-widgets/controls",
      "model_module_version": "1.5.0",
      "model_name": "ButtonStyleModel",
      "state": {}
     },
     "4506aa94bc114c7f9dd00e4e9cfa5cbc": {
      "model_module": "@jupyter-widgets/base",
      "model_module_version": "1.2.0",
      "model_name": "LayoutModel",
      "state": {}
     },
     "4541564d2efc4ed1847e954ca55db890": {
      "model_module": "@jupyter-widgets/base",
      "model_module_version": "1.2.0",
      "model_name": "LayoutModel",
      "state": {}
     },
     "455aefa0b2f34967a9cb7f950fff0165": {
      "model_module": "@jupyter-widgets/controls",
      "model_module_version": "1.5.0",
      "model_name": "ButtonStyleModel",
      "state": {}
     },
     "456a46578f24485b98827ff612dbab33": {
      "model_module": "@jupyter-widgets/base",
      "model_module_version": "1.2.0",
      "model_name": "LayoutModel",
      "state": {}
     },
     "458f587d68204b7a8ef3b80085fbb6e4": {
      "model_module": "@jupyter-widgets/base",
      "model_module_version": "1.2.0",
      "model_name": "LayoutModel",
      "state": {}
     },
     "45c7a53ab2cb4c23aa850c9cfa43ecf7": {
      "model_module": "@jupyter-widgets/controls",
      "model_module_version": "1.5.0",
      "model_name": "DescriptionStyleModel",
      "state": {
       "description_width": ""
      }
     },
     "45e9fbe43a3d439c80bd37a935b07097": {
      "model_module": "@jupyter-widgets/controls",
      "model_module_version": "1.5.0",
      "model_name": "ButtonStyleModel",
      "state": {}
     },
     "463625bd1c7040c782a1860522809144": {
      "model_module": "@jupyter-widgets/controls",
      "model_module_version": "1.5.0",
      "model_name": "VBoxModel",
      "state": {
       "children": [
        "IPY_MODEL_68e1c9e2e9f440f5ac168ccd48b017db",
        "IPY_MODEL_4eefd8222ce2483ba7dbc7b7cf9fb7fe",
        "IPY_MODEL_1853ba9108d641888f3db29f2f239aa1",
        "IPY_MODEL_18252cdfe8f443a3a4293a3d28873a30"
       ],
       "layout": "IPY_MODEL_690ec5cfe8dd4d988d7a2cb375ec720d"
      }
     },
     "4661289c5c754d64bbfbfaa8db54f11b": {
      "model_module": "@jupyter-widgets/controls",
      "model_module_version": "1.5.0",
      "model_name": "ButtonStyleModel",
      "state": {}
     },
     "46635fdb69c64df2aeff32b13d1e2c2a": {
      "model_module": "@jupyter-widgets/controls",
      "model_module_version": "1.5.0",
      "model_name": "ButtonModel",
      "state": {
       "description": "submit",
       "layout": "IPY_MODEL_4541564d2efc4ed1847e954ca55db890",
       "style": "IPY_MODEL_993fb8b1362641299c3c2296d5935067"
      }
     },
     "46637c31760942d1938bdf296b221f0c": {
      "model_module": "@jupyter-widgets/base",
      "model_module_version": "1.2.0",
      "model_name": "LayoutModel",
      "state": {}
     },
     "46a6b9b88825488a98fdaacd4c5f10e8": {
      "model_module": "@jupyter-widgets/base",
      "model_module_version": "1.2.0",
      "model_name": "LayoutModel",
      "state": {}
     },
     "46b90ef1ccb94d8fa8eb788e3420b9eb": {
      "model_module": "@jupyter-widgets/base",
      "model_module_version": "1.2.0",
      "model_name": "LayoutModel",
      "state": {}
     },
     "478a025f4ecd419880117ed2da4c6c8f": {
      "model_module": "@jupyter-widgets/controls",
      "model_module_version": "1.5.0",
      "model_name": "RadioButtonsModel",
      "state": {
       "_options_labels": [
        "cat",
        "dog",
        "mouse"
       ],
       "index": 0,
       "layout": "IPY_MODEL_0b447131576e435b9b806a37522842bd",
       "style": "IPY_MODEL_1599f8c282ff4ecd9e626cc194b687ce"
      }
     },
     "4798b81957a1469083cd0ba32a06c38f": {
      "model_module": "@jupyter-widgets/controls",
      "model_module_version": "1.5.0",
      "model_name": "ButtonStyleModel",
      "state": {}
     },
     "47aaf3c6c52e43ef9b2e49dbe1457edb": {
      "model_module": "@jupyter-widgets/base",
      "model_module_version": "1.2.0",
      "model_name": "LayoutModel",
      "state": {}
     },
     "47eb5834662643fabefd9638c5308212": {
      "model_module": "@jupyter-widgets/controls",
      "model_module_version": "1.5.0",
      "model_name": "RadioButtonsModel",
      "state": {
       "_options_labels": [
        "cat",
        "dog",
        "mouse"
       ],
       "index": 0,
       "layout": "IPY_MODEL_90eff28671284f118ec8654d958cbdcc",
       "style": "IPY_MODEL_f2fbf3e84278476a85b5fa430f579b85"
      }
     },
     "48e2477223484766be115e58114da470": {
      "model_module": "@jupyter-widgets/base",
      "model_module_version": "1.2.0",
      "model_name": "LayoutModel",
      "state": {}
     },
     "48e84dc306554188872bac8db84b3864": {
      "model_module": "@jupyter-widgets/controls",
      "model_module_version": "1.5.0",
      "model_name": "ButtonModel",
      "state": {
       "description": "submit",
       "layout": "IPY_MODEL_37d5adc20243454c9ffb30abc6f894d1",
       "style": "IPY_MODEL_4798b81957a1469083cd0ba32a06c38f"
      }
     },
     "49087b25f2994ca099a01cdd16533edc": {
      "model_module": "@jupyter-widgets/output",
      "model_module_version": "1.0.0",
      "model_name": "OutputModel",
      "state": {
       "layout": "IPY_MODEL_4506aa94bc114c7f9dd00e4e9cfa5cbc"
      }
     },
     "490e3fe33ce74f448e979b78ccbf983c": {
      "model_module": "@jupyter-widgets/controls",
      "model_module_version": "1.5.0",
      "model_name": "DescriptionStyleModel",
      "state": {
       "description_width": ""
      }
     },
     "49bf66e2266e4194b777cf77078a8e69": {
      "model_module": "@jupyter-widgets/controls",
      "model_module_version": "1.5.0",
      "model_name": "ButtonModel",
      "state": {
       "description": "submit",
       "layout": "IPY_MODEL_b821f962c7a34fb9a43523dfa0c04ea5",
       "style": "IPY_MODEL_e6dab0d90f8c4ab6ba98427c193b703b"
      }
     },
     "49dfbdb80ec44389919093a63bc6695f": {
      "model_module": "@jupyter-widgets/output",
      "model_module_version": "1.0.0",
      "model_name": "OutputModel",
      "state": {
       "layout": "IPY_MODEL_33b10a19cd9842b098d2a5e1f7003b03"
      }
     },
     "4a0effb54a7e40788affe922aa78145b": {
      "model_module": "@jupyter-widgets/controls",
      "model_module_version": "1.5.0",
      "model_name": "DescriptionStyleModel",
      "state": {
       "description_width": ""
      }
     },
     "4a297f38aea74d2d9747171f596e950d": {
      "model_module": "@jupyter-widgets/base",
      "model_module_version": "1.2.0",
      "model_name": "LayoutModel",
      "state": {}
     },
     "4a34b7ea193e438faa18adda0fce6937": {
      "model_module": "@jupyter-widgets/base",
      "model_module_version": "1.2.0",
      "model_name": "LayoutModel",
      "state": {}
     },
     "4a5bf6e428cb4dc5b60ac310978d3d15": {
      "model_module": "@jupyter-widgets/base",
      "model_module_version": "1.2.0",
      "model_name": "LayoutModel",
      "state": {}
     },
     "4aa2957aed8e4dc688a0614affd8d0e5": {
      "model_module": "@jupyter-widgets/controls",
      "model_module_version": "1.5.0",
      "model_name": "VBoxModel",
      "state": {
       "children": [
        "IPY_MODEL_0395b19600504c7dbaf311d641616231",
        "IPY_MODEL_ca42676dcde8426f9a61865685cc6484",
        "IPY_MODEL_d7e447697d354840b37a7ea0dac433e1",
        "IPY_MODEL_38e7050923334b4d9e983a279e7c3764"
       ],
       "layout": "IPY_MODEL_84f05c66535f425abd75d806eb386c4c"
      }
     },
     "4ad2f0840210472d8da6c1243e207255": {
      "model_module": "@jupyter-widgets/controls",
      "model_module_version": "1.5.0",
      "model_name": "VBoxModel",
      "state": {
       "children": [
        "IPY_MODEL_28b11c7b70154c73aa1c3a30e210c351",
        "IPY_MODEL_3ce863bdad374c609673f5491c1090e0",
        "IPY_MODEL_b57a9e1900f94012b6f40a337e9ecdd4",
        "IPY_MODEL_a18e796e4003404a92065b67c11ec02a"
       ],
       "layout": "IPY_MODEL_d56e23c0acf04a98a4193e90f084c302"
      }
     },
     "4b15fa08e2cc4840b9b0879a7d2665b3": {
      "model_module": "@jupyter-widgets/controls",
      "model_module_version": "1.5.0",
      "model_name": "ButtonModel",
      "state": {
       "description": "submit",
       "layout": "IPY_MODEL_e91f20d8172243b682373f06cbc5de2e",
       "style": "IPY_MODEL_bf6e4f84ac334363b1a05003b262fbd9"
      }
     },
     "4b38f865bf554f27bc7b50a3bf3fa597": {
      "model_module": "@jupyter-widgets/controls",
      "model_module_version": "1.5.0",
      "model_name": "RadioButtonsModel",
      "state": {
       "_options_labels": [
        "cat",
        "dog",
        "mouse"
       ],
       "index": 0,
       "layout": "IPY_MODEL_0d7eb1240275413087f1d08931c2b49a",
       "style": "IPY_MODEL_b4521b4697674e1cbc2a2a66a84046cd"
      }
     },
     "4b58135d459c4486aa1b508a44e77551": {
      "model_module": "@jupyter-widgets/controls",
      "model_module_version": "1.5.0",
      "model_name": "DescriptionStyleModel",
      "state": {
       "description_width": ""
      }
     },
     "4b66eee4ab8d49208150f30dfc672845": {
      "model_module": "@jupyter-widgets/controls",
      "model_module_version": "1.5.0",
      "model_name": "ButtonStyleModel",
      "state": {}
     },
     "4b751bd951af4f95aa8eb4d30cbb94ae": {
      "model_module": "@jupyter-widgets/base",
      "model_module_version": "1.2.0",
      "model_name": "LayoutModel",
      "state": {}
     },
     "4bb83e83a80a40408fb61a6b10d0649c": {
      "model_module": "@jupyter-widgets/base",
      "model_module_version": "1.2.0",
      "model_name": "LayoutModel",
      "state": {}
     },
     "4bb8b0b2531b4de093f28125e41640dc": {
      "model_module": "@jupyter-widgets/base",
      "model_module_version": "1.2.0",
      "model_name": "LayoutModel",
      "state": {}
     },
     "4c26b20354414785a0ca827a13795a97": {
      "model_module": "@jupyter-widgets/base",
      "model_module_version": "1.2.0",
      "model_name": "LayoutModel",
      "state": {}
     },
     "4c54c9639194415b99fe947bcc490099": {
      "model_module": "@jupyter-widgets/controls",
      "model_module_version": "1.5.0",
      "model_name": "VBoxModel",
      "state": {
       "children": [
        "IPY_MODEL_a75d0b4ae59940138006cc576c311ebf",
        "IPY_MODEL_7d95520bda0145b3a66630ed1f5831ef",
        "IPY_MODEL_93d874455b704999a9a536afd519a03d",
        "IPY_MODEL_d9b28bdbecaf4c43bdad357cd9a848a9"
       ],
       "layout": "IPY_MODEL_12c9f9d271424645b6f4dfaa23e5e247"
      }
     },
     "4c6eaec6470040d5aac5920821380611": {
      "model_module": "@jupyter-widgets/base",
      "model_module_version": "1.2.0",
      "model_name": "LayoutModel",
      "state": {}
     },
     "4c84ee5013924f7288b45df4998cb2f1": {
      "model_module": "@jupyter-widgets/base",
      "model_module_version": "1.2.0",
      "model_name": "LayoutModel",
      "state": {}
     },
     "4c8cd34a8e66444bac354b4b27932376": {
      "model_module": "@jupyter-widgets/controls",
      "model_module_version": "1.5.0",
      "model_name": "ButtonModel",
      "state": {
       "description": "submit",
       "layout": "IPY_MODEL_7294cc50b8584d8fbf8a65f78d59f283",
       "style": "IPY_MODEL_938356ad0f5440da995af2b7ad9ed1b7"
      }
     },
     "4c9d61229eb0499e9635d7424ad009fd": {
      "model_module": "@jupyter-widgets/output",
      "model_module_version": "1.0.0",
      "model_name": "OutputModel",
      "state": {
       "layout": "IPY_MODEL_de525bc5a858412e8779701428244b15",
       "outputs": [
        {
         "name": "stdout",
         "output_type": "stream",
         "text": "lalalalal\n"
        }
       ]
      }
     },
     "4caaf66f8a434d2f8b150eca897fc201": {
      "model_module": "@jupyter-widgets/output",
      "model_module_version": "1.0.0",
      "model_name": "OutputModel",
      "state": {
       "layout": "IPY_MODEL_601f37554ff64958bc310217189e65b8",
       "outputs": [
        {
         "name": "stdout",
         "output_type": "stream",
         "text": "\u001b[0;30;42mCorrect\u001b[0m\n\n"
        }
       ]
      }
     },
     "4cc8fe70960f45a4a884286e03859610": {
      "model_module": "@jupyter-widgets/output",
      "model_module_version": "1.0.0",
      "model_name": "OutputModel",
      "state": {
       "layout": "IPY_MODEL_4ff8b1fca9d24d51bce4fa46cfce48fb"
      }
     },
     "4d3a0daab99849a29bd7e6b35a6d5536": {
      "model_module": "@jupyter-widgets/controls",
      "model_module_version": "1.5.0",
      "model_name": "ButtonModel",
      "state": {
       "description": "submit",
       "layout": "IPY_MODEL_8bd7681b73a2402abed7a5e385b398b2",
       "style": "IPY_MODEL_3839459bc3d94b30829064fe1978fd2f"
      }
     },
     "4d68f9cc744b43cd95cea68949dc648b": {
      "model_module": "@jupyter-widgets/base",
      "model_module_version": "1.2.0",
      "model_name": "LayoutModel",
      "state": {}
     },
     "4d7a707358634ef99e7627a2fac477ad": {
      "model_module": "@jupyter-widgets/controls",
      "model_module_version": "1.5.0",
      "model_name": "ButtonStyleModel",
      "state": {}
     },
     "4dd7376777844f1a81469b8df81f9035": {
      "model_module": "@jupyter-widgets/base",
      "model_module_version": "1.2.0",
      "model_name": "LayoutModel",
      "state": {}
     },
     "4df807f035794a439b9efa6c34c87631": {
      "model_module": "@jupyter-widgets/controls",
      "model_module_version": "1.5.0",
      "model_name": "ButtonStyleModel",
      "state": {}
     },
     "4e20b6159c654dba965161eba5359898": {
      "model_module": "@jupyter-widgets/output",
      "model_module_version": "1.0.0",
      "model_name": "OutputModel",
      "state": {
       "layout": "IPY_MODEL_e9d71976ceae469aaf7d70a75e21bd3b",
       "outputs": [
        {
         "name": "stdout",
         "output_type": "stream",
         "text": "lalalalal\n"
        }
       ]
      }
     },
     "4e6089c952c34944900ade548149d310": {
      "model_module": "@jupyter-widgets/base",
      "model_module_version": "1.2.0",
      "model_name": "LayoutModel",
      "state": {}
     },
     "4eb68ca43bed451da0de644ca74c654f": {
      "model_module": "@jupyter-widgets/output",
      "model_module_version": "1.0.0",
      "model_name": "OutputModel",
      "state": {
       "layout": "IPY_MODEL_10949b33431a434baac1182e3a01ddac",
       "outputs": [
        {
         "name": "stdout",
         "output_type": "stream",
         "text": "jajajajaj\n"
        }
       ]
      }
     },
     "4eb854fb0d674e5aa4ac8a48dbe2f5af": {
      "model_module": "@jupyter-widgets/base",
      "model_module_version": "1.2.0",
      "model_name": "LayoutModel",
      "state": {}
     },
     "4eefd8222ce2483ba7dbc7b7cf9fb7fe": {
      "model_module": "@jupyter-widgets/controls",
      "model_module_version": "1.5.0",
      "model_name": "RadioButtonsModel",
      "state": {
       "_options_labels": [
        "apple",
        "banana",
        "pear"
       ],
       "index": 1,
       "layout": "IPY_MODEL_b1085af76f1b4f2ab95ba66dcab77002",
       "style": "IPY_MODEL_ab7bd9c378a34dd698ab3c5787b43d83"
      }
     },
     "4ef48d06f84345dfad2fba977a4113e2": {
      "model_module": "@jupyter-widgets/controls",
      "model_module_version": "1.5.0",
      "model_name": "ButtonModel",
      "state": {
       "description": "submit",
       "layout": "IPY_MODEL_633fbb3d68ce492e8f7c2ba71dc0bb81",
       "style": "IPY_MODEL_7dd00ce079d44093857760e1ae376675"
      }
     },
     "4efdd5a70fe74ee28a536a01cfbbe291": {
      "model_module": "@jupyter-widgets/base",
      "model_module_version": "1.2.0",
      "model_name": "LayoutModel",
      "state": {}
     },
     "4f35c7471119474e99b1d52ca0722f9e": {
      "model_module": "@jupyter-widgets/output",
      "model_module_version": "1.0.0",
      "model_name": "OutputModel",
      "state": {
       "layout": "IPY_MODEL_3218707223f44659b0e7a6e1606a6610"
      }
     },
     "4f482456b3e44da9b8cd1ddcfa4ab39c": {
      "model_module": "@jupyter-widgets/output",
      "model_module_version": "1.0.0",
      "model_name": "OutputModel",
      "state": {
       "layout": "IPY_MODEL_5c867e52ac6446fea150cd60d76ace4a",
       "outputs": [
        {
         "name": "stdout",
         "output_type": "stream",
         "text": "\u001b[1;40;32mCorrect.\u001b[0m\n\n"
        }
       ]
      }
     },
     "4f646b82c47d449d8075a20b1bee268f": {
      "model_module": "@jupyter-widgets/base",
      "model_module_version": "1.2.0",
      "model_name": "LayoutModel",
      "state": {}
     },
     "4f8468c712ce49109bd2b0650616a08d": {
      "model_module": "@jupyter-widgets/base",
      "model_module_version": "1.2.0",
      "model_name": "LayoutModel",
      "state": {}
     },
     "4f99cbe6dd5e45468acf2e53ed4115ab": {
      "model_module": "@jupyter-widgets/base",
      "model_module_version": "1.2.0",
      "model_name": "LayoutModel",
      "state": {}
     },
     "4fae3a4f4fcf4d64a79e383ae7a81b95": {
      "model_module": "@jupyter-widgets/base",
      "model_module_version": "1.2.0",
      "model_name": "LayoutModel",
      "state": {}
     },
     "4fb1550c59914ab4943efbba13ea3ff9": {
      "model_module": "@jupyter-widgets/base",
      "model_module_version": "1.2.0",
      "model_name": "LayoutModel",
      "state": {}
     },
     "4fe2de0ea6cf497881859479590b38d5": {
      "model_module": "@jupyter-widgets/base",
      "model_module_version": "1.2.0",
      "model_name": "LayoutModel",
      "state": {}
     },
     "4fe67a02179148c1ac88459d144827e3": {
      "model_module": "@jupyter-widgets/controls",
      "model_module_version": "1.5.0",
      "model_name": "VBoxModel",
      "state": {
       "children": [
        "IPY_MODEL_a84fabecbc864c0fa8ea8ca25abaa46c",
        "IPY_MODEL_fe7dea5ec65745aab88acee5c51595c8",
        "IPY_MODEL_b8817f3a95e64a79abf8d138690bae1b",
        "IPY_MODEL_c44b63a4060f42eaa0d9aae8f6ac32e6"
       ],
       "layout": "IPY_MODEL_ad2980a5d6704093b51a4a3036c6b0a3"
      }
     },
     "4ff8b1fca9d24d51bce4fa46cfce48fb": {
      "model_module": "@jupyter-widgets/base",
      "model_module_version": "1.2.0",
      "model_name": "LayoutModel",
      "state": {}
     },
     "505283885dc846b7b673f147bd92db57": {
      "model_module": "@jupyter-widgets/base",
      "model_module_version": "1.2.0",
      "model_name": "LayoutModel",
      "state": {}
     },
     "5115f32800364e05b453123cc9a8f5a9": {
      "model_module": "@jupyter-widgets/base",
      "model_module_version": "1.2.0",
      "model_name": "LayoutModel",
      "state": {}
     },
     "511dda85fa8e49d3b7d69c95fd1204f9": {
      "model_module": "@jupyter-widgets/controls",
      "model_module_version": "1.5.0",
      "model_name": "DescriptionStyleModel",
      "state": {
       "description_width": ""
      }
     },
     "512703a3b5c849b984defb57e02f9918": {
      "model_module": "@jupyter-widgets/base",
      "model_module_version": "1.2.0",
      "model_name": "LayoutModel",
      "state": {}
     },
     "520a7c33e9aa45f0b32a391b1f243759": {
      "model_module": "@jupyter-widgets/output",
      "model_module_version": "1.0.0",
      "model_name": "OutputModel",
      "state": {
       "layout": "IPY_MODEL_1602319a69704f57866cd01a8c24d037",
       "outputs": [
        {
         "name": "stdout",
         "output_type": "stream",
         "text": "\u001b[1;32;40mCorrect.\u001b[0m\n\n"
        }
       ]
      }
     },
     "5224a04324974d609dda6f2f35229c8d": {
      "model_module": "@jupyter-widgets/base",
      "model_module_version": "1.2.0",
      "model_name": "LayoutModel",
      "state": {}
     },
     "5233bb2c19f44462a3f34bc091860120": {
      "model_module": "@jupyter-widgets/controls",
      "model_module_version": "1.5.0",
      "model_name": "ButtonStyleModel",
      "state": {}
     },
     "5298ecb657154fc9bae8854f14986237": {
      "model_module": "@jupyter-widgets/controls",
      "model_module_version": "1.5.0",
      "model_name": "ButtonModel",
      "state": {
       "description": "submit",
       "layout": "IPY_MODEL_a3bd40709b8a4f258cefe2508bc7338f",
       "style": "IPY_MODEL_1a6bad6ecb104ec0b153a321216ceeb9"
      }
     },
     "529d797016fe48d6952bed3d2d555dcf": {
      "model_module": "@jupyter-widgets/base",
      "model_module_version": "1.2.0",
      "model_name": "LayoutModel",
      "state": {}
     },
     "52ec13849a334cbcbc8bf9c85e095dcc": {
      "model_module": "@jupyter-widgets/base",
      "model_module_version": "1.2.0",
      "model_name": "LayoutModel",
      "state": {}
     },
     "53083c8e248042acb2f3360f52cbe394": {
      "model_module": "@jupyter-widgets/base",
      "model_module_version": "1.2.0",
      "model_name": "LayoutModel",
      "state": {}
     },
     "5315077e867041c6b98d2ca835676e26": {
      "model_module": "@jupyter-widgets/controls",
      "model_module_version": "1.5.0",
      "model_name": "ButtonModel",
      "state": {
       "description": "submit",
       "layout": "IPY_MODEL_abd691778b96467ea45c8300270e3702",
       "style": "IPY_MODEL_a8daac5e53e9445887b2c13a0e4357f5"
      }
     },
     "535028845f4644198d60061334166b41": {
      "model_module": "@jupyter-widgets/controls",
      "model_module_version": "1.5.0",
      "model_name": "ButtonModel",
      "state": {
       "description": "submit",
       "layout": "IPY_MODEL_ff82867775dd4f04bf65950e000a8e50",
       "style": "IPY_MODEL_d6cd2b1453e0490094395e38945c4ec9"
      }
     },
     "53643fae1d1d46cc9b8913d02a560922": {
      "model_module": "@jupyter-widgets/controls",
      "model_module_version": "1.5.0",
      "model_name": "RadioButtonsModel",
      "state": {
       "_options_labels": [
        "cat",
        "dog",
        "mouse"
       ],
       "index": 0,
       "layout": "IPY_MODEL_402de65aa5e847e8a32851be62f9160c",
       "style": "IPY_MODEL_6aea93e79fdb423b8218ab1755e7ce96"
      }
     },
     "53c8225128c647398ed86f50ac6a80af": {
      "model_module": "@jupyter-widgets/base",
      "model_module_version": "1.2.0",
      "model_name": "LayoutModel",
      "state": {}
     },
     "53d666c92be94e588d6396a9098b4af0": {
      "model_module": "@jupyter-widgets/output",
      "model_module_version": "1.0.0",
      "model_name": "OutputModel",
      "state": {
       "layout": "IPY_MODEL_d281269865a846c2befe2f28ed22adc5"
      }
     },
     "5418b8f73db546ddba38f349f459251e": {
      "model_module": "@jupyter-widgets/controls",
      "model_module_version": "1.5.0",
      "model_name": "DescriptionStyleModel",
      "state": {
       "description_width": ""
      }
     },
     "54208f5e563f426ebcea8822f39fc3ae": {
      "model_module": "@jupyter-widgets/controls",
      "model_module_version": "1.5.0",
      "model_name": "ButtonStyleModel",
      "state": {}
     },
     "547230ef928e40a1acac4a8081d87f54": {
      "model_module": "@jupyter-widgets/base",
      "model_module_version": "1.2.0",
      "model_name": "LayoutModel",
      "state": {}
     },
     "548e0b1aded34b43a7cf469d012784c4": {
      "model_module": "@jupyter-widgets/output",
      "model_module_version": "1.0.0",
      "model_name": "OutputModel",
      "state": {
       "layout": "IPY_MODEL_110ccfdaee544bcdaaae61c397b28518"
      }
     },
     "54a5aa93fe78416daa1ce5728bd53cbe": {
      "model_module": "@jupyter-widgets/controls",
      "model_module_version": "1.5.0",
      "model_name": "DescriptionStyleModel",
      "state": {
       "description_width": ""
      }
     },
     "54abf105bde04e68a3d4d114a2a50757": {
      "model_module": "@jupyter-widgets/controls",
      "model_module_version": "1.5.0",
      "model_name": "VBoxModel",
      "state": {
       "children": [
        "IPY_MODEL_1de096df0a1049edb54a17ce0daab748",
        "IPY_MODEL_7806c5559c524024bd15d7f1ac60d8f6",
        "IPY_MODEL_4d3a0daab99849a29bd7e6b35a6d5536",
        "IPY_MODEL_0158d2e34f5e4eb19e675cbe78c465f8"
       ],
       "layout": "IPY_MODEL_0ef78eb72470478b97d5b68871c2d676"
      }
     },
     "54c1c65fb6834a53b9d62a676eb0c620": {
      "model_module": "@jupyter-widgets/base",
      "model_module_version": "1.2.0",
      "model_name": "LayoutModel",
      "state": {}
     },
     "54f9f0b17d18460ca975627483374824": {
      "model_module": "@jupyter-widgets/controls",
      "model_module_version": "1.5.0",
      "model_name": "ButtonModel",
      "state": {
       "description": "submit",
       "layout": "IPY_MODEL_fecd7c6ef9054b65bb75634a83cea390",
       "style": "IPY_MODEL_d6e29ef3a73a485a8af34ba0347ac8ec"
      }
     },
     "550f8da60aa34d78bdd3d1af0737bf40": {
      "model_module": "@jupyter-widgets/controls",
      "model_module_version": "1.5.0",
      "model_name": "ButtonStyleModel",
      "state": {}
     },
     "55462ff3bf6345c59417859c71e9a422": {
      "model_module": "@jupyter-widgets/controls",
      "model_module_version": "1.5.0",
      "model_name": "RadioButtonsModel",
      "state": {
       "_options_labels": [
        "blue",
        "white",
        "red"
       ],
       "index": 0,
       "layout": "IPY_MODEL_b2bf47e652a342f58c95255892c56e9f",
       "style": "IPY_MODEL_9deb1e4f941d4de7832dd8e7e69b26d9"
      }
     },
     "557556c55bfd4ee9aa14dd9c92100d58": {
      "model_module": "@jupyter-widgets/controls",
      "model_module_version": "1.5.0",
      "model_name": "VBoxModel",
      "state": {
       "children": [
        "IPY_MODEL_8a74698555b54174bb75c5b500264808",
        "IPY_MODEL_2d7d4bc41b94497a929ec0dc71529440",
        "IPY_MODEL_8c90f1e6aae540188f2e22cd28459383",
        "IPY_MODEL_c1b260b1b453467cb721c6ddd7a3e862"
       ],
       "layout": "IPY_MODEL_3a38645f0a0f4b56b300fceb6e65dde9"
      }
     },
     "557a0edbacf2423a9395209342520c66": {
      "model_module": "@jupyter-widgets/controls",
      "model_module_version": "1.5.0",
      "model_name": "DescriptionStyleModel",
      "state": {
       "description_width": ""
      }
     },
     "5580036712a24c23be39380f18596175": {
      "model_module": "@jupyter-widgets/base",
      "model_module_version": "1.2.0",
      "model_name": "LayoutModel",
      "state": {}
     },
     "55cb3fb92c8146eca371b21bc08776c1": {
      "model_module": "@jupyter-widgets/controls",
      "model_module_version": "1.5.0",
      "model_name": "ButtonStyleModel",
      "state": {}
     },
     "55d054fa06cb47039203f254743b2650": {
      "model_module": "@jupyter-widgets/base",
      "model_module_version": "1.2.0",
      "model_name": "LayoutModel",
      "state": {}
     },
     "562cd8fb94c848a8b851676f42c98ca6": {
      "model_module": "@jupyter-widgets/base",
      "model_module_version": "1.2.0",
      "model_name": "LayoutModel",
      "state": {}
     },
     "568428fe81374fec925f8b2825788f73": {
      "model_module": "@jupyter-widgets/output",
      "model_module_version": "1.0.0",
      "model_name": "OutputModel",
      "state": {
       "layout": "IPY_MODEL_ede3961115a9457a88da51ac6c3c2f45",
       "outputs": [
        {
         "name": "stdout",
         "output_type": "stream",
         "text": "lalalalal\n"
        }
       ]
      }
     },
     "56dc6049dc274e51b10a2b54dc003bed": {
      "model_module": "@jupyter-widgets/controls",
      "model_module_version": "1.5.0",
      "model_name": "ButtonStyleModel",
      "state": {}
     },
     "56efd79bf45849009b7068841f5fe120": {
      "model_module": "@jupyter-widgets/output",
      "model_module_version": "1.0.0",
      "model_name": "OutputModel",
      "state": {
       "layout": "IPY_MODEL_53c8225128c647398ed86f50ac6a80af",
       "outputs": [
        {
         "name": "stdout",
         "output_type": "stream",
         "text": "lalalalal\n"
        }
       ]
      }
     },
     "5772be04a6194d42bbe0835e55939175": {
      "model_module": "@jupyter-widgets/controls",
      "model_module_version": "1.5.0",
      "model_name": "DescriptionStyleModel",
      "state": {
       "description_width": ""
      }
     },
     "578e460688f84470868be340ae347a8f": {
      "model_module": "@jupyter-widgets/base",
      "model_module_version": "1.2.0",
      "model_name": "LayoutModel",
      "state": {}
     },
     "57e76cda1d6d4316b8d9a7c342c82b6a": {
      "model_module": "@jupyter-widgets/controls",
      "model_module_version": "1.5.0",
      "model_name": "ButtonModel",
      "state": {
       "description": "submit",
       "layout": "IPY_MODEL_9a20b659e642408891b06037bbfbd3f3",
       "style": "IPY_MODEL_7f4f264aec7e4d10a8ffc49ebfdc2e56"
      }
     },
     "5814f6b4b37b4494a60bd0263f74dc51": {
      "model_module": "@jupyter-widgets/base",
      "model_module_version": "1.2.0",
      "model_name": "LayoutModel",
      "state": {}
     },
     "5819e56918e24cec9a0299844064d375": {
      "model_module": "@jupyter-widgets/output",
      "model_module_version": "1.0.0",
      "model_name": "OutputModel",
      "state": {
       "layout": "IPY_MODEL_1483dcd8055f4f73bb830d563e565e38"
      }
     },
     "581e31764c444606ac3291ec3366d103": {
      "model_module": "@jupyter-widgets/output",
      "model_module_version": "1.0.0",
      "model_name": "OutputModel",
      "state": {
       "layout": "IPY_MODEL_2cd5f08b0eee4c0a96168d5fa4c935dd"
      }
     },
     "5825eeb8e07c4e3394190374ffdbfb9c": {
      "model_module": "@jupyter-widgets/controls",
      "model_module_version": "1.5.0",
      "model_name": "VBoxModel",
      "state": {
       "children": [
        "IPY_MODEL_bc2e644b85884864993f1d1d6aceeffd",
        "IPY_MODEL_143715a076784548bd5fd1c0215b38eb",
        "IPY_MODEL_0301d2b0aa004cef9ecb423092f80086",
        "IPY_MODEL_b9b2448639724550822980e93e309924"
       ],
       "layout": "IPY_MODEL_a2209bf22cc2419199c34a10100b8a0a"
      }
     },
     "58986cc94d8b4b98a55ace0d036fd4bd": {
      "model_module": "@jupyter-widgets/base",
      "model_module_version": "1.2.0",
      "model_name": "LayoutModel",
      "state": {}
     },
     "58bca0aa0b314232b521513b70c96d4d": {
      "model_module": "@jupyter-widgets/controls",
      "model_module_version": "1.5.0",
      "model_name": "ButtonModel",
      "state": {
       "description": "submit",
       "layout": "IPY_MODEL_3cb06bf5eacd409c86dd581c1390159e",
       "style": "IPY_MODEL_9ef39aad58554bab9d2b3a7f5c797be2"
      }
     },
     "58bdd188910543a3b4e1ab02816aa907": {
      "model_module": "@jupyter-widgets/controls",
      "model_module_version": "1.5.0",
      "model_name": "ButtonModel",
      "state": {
       "description": "submit",
       "layout": "IPY_MODEL_358862ea928640a7b78d811673660bd0",
       "style": "IPY_MODEL_5233bb2c19f44462a3f34bc091860120"
      }
     },
     "590a21d53fb846939cdeaf767a0f8daa": {
      "model_module": "@jupyter-widgets/controls",
      "model_module_version": "1.5.0",
      "model_name": "DescriptionStyleModel",
      "state": {
       "description_width": ""
      }
     },
     "595fdba799b540ed86db6f1dba178574": {
      "model_module": "@jupyter-widgets/base",
      "model_module_version": "1.2.0",
      "model_name": "LayoutModel",
      "state": {}
     },
     "597f10bbd5944bbda0d98581bc1d3090": {
      "model_module": "@jupyter-widgets/controls",
      "model_module_version": "1.5.0",
      "model_name": "ButtonModel",
      "state": {
       "description": "submit",
       "layout": "IPY_MODEL_7974e090b45a410da0006bb911bf905a",
       "style": "IPY_MODEL_71c8d73b2b89483ea905e7599a85db6e"
      }
     },
     "59c21dd70c8e4ec9acd32a8f228fa891": {
      "model_module": "@jupyter-widgets/controls",
      "model_module_version": "1.5.0",
      "model_name": "ButtonStyleModel",
      "state": {}
     },
     "5a03ea85190d47daad5b2d2a94a8f15e": {
      "model_module": "@jupyter-widgets/controls",
      "model_module_version": "1.5.0",
      "model_name": "DescriptionStyleModel",
      "state": {
       "description_width": ""
      }
     },
     "5a43bc30c1084805883ec33304724ac0": {
      "model_module": "@jupyter-widgets/controls",
      "model_module_version": "1.5.0",
      "model_name": "ButtonStyleModel",
      "state": {}
     },
     "5a8f24e82dc54073a9b0f5e2db305dd0": {
      "model_module": "@jupyter-widgets/output",
      "model_module_version": "1.0.0",
      "model_name": "OutputModel",
      "state": {
       "layout": "IPY_MODEL_8fe89ead36fa4872bede6ed431d4a0c2",
       "outputs": [
        {
         "name": "stdout",
         "output_type": "stream",
         "text": "\u001b[1;30;103mCorrect\u001b[0m\n\n"
        }
       ]
      }
     },
     "5abcbdb009ed4cb19a12aa20b958fea0": {
      "model_module": "@jupyter-widgets/base",
      "model_module_version": "1.2.0",
      "model_name": "LayoutModel",
      "state": {}
     },
     "5accbc02e19343a5ab6144522214b124": {
      "model_module": "@jupyter-widgets/output",
      "model_module_version": "1.0.0",
      "model_name": "OutputModel",
      "state": {
       "layout": "IPY_MODEL_bd11562efb2042beaa4de22ccc3018d7",
       "outputs": [
        {
         "name": "stdout",
         "output_type": "stream",
         "text": "blablabla\n"
        }
       ]
      }
     },
     "5af281e7b5804c59b7b63ef5ccce03d9": {
      "model_module": "@jupyter-widgets/controls",
      "model_module_version": "1.5.0",
      "model_name": "ButtonModel",
      "state": {
       "description": "submit",
       "layout": "IPY_MODEL_c4b062b2965a4562a89413675340c03a",
       "style": "IPY_MODEL_7191467b8b414713ad47800a680014a2"
      }
     },
     "5b1622eedd4147ea94193d6a24422ab9": {
      "model_module": "@jupyter-widgets/output",
      "model_module_version": "1.0.0",
      "model_name": "OutputModel",
      "state": {
       "layout": "IPY_MODEL_949976d803c04910b2a5555a6b65a10c",
       "outputs": [
        {
         "name": "stdout",
         "output_type": "stream",
         "text": "lalalalal\n"
        }
       ]
      }
     },
     "5b772a45c7864ac785c3526b2727affd": {
      "model_module": "@jupyter-widgets/controls",
      "model_module_version": "1.5.0",
      "model_name": "DescriptionStyleModel",
      "state": {
       "description_width": ""
      }
     },
     "5b7740e696db4d31bbf82a2900ba86d7": {
      "model_module": "@jupyter-widgets/output",
      "model_module_version": "1.0.0",
      "model_name": "OutputModel",
      "state": {
       "layout": "IPY_MODEL_35c94ea527a244afab264a97297d9ba1",
       "outputs": [
        {
         "name": "stdout",
         "output_type": "stream",
         "text": "jajajajaj\n"
        }
       ]
      }
     },
     "5b9f363ad7b64326a0143779fc6ce504": {
      "model_module": "@jupyter-widgets/controls",
      "model_module_version": "1.5.0",
      "model_name": "VBoxModel",
      "state": {
       "children": [
        "IPY_MODEL_f641d27a2b164045b06ef5820387ef8f",
        "IPY_MODEL_a4a03179509c47f48c940713d2623712",
        "IPY_MODEL_5edb63daeae84cf685fd11ff7dd20dee",
        "IPY_MODEL_9e69b38985e74c409be7037ed2670fdd"
       ],
       "layout": "IPY_MODEL_8c1d6a9de0f8435b8ee5b089d2a6f91e"
      }
     },
     "5bdf70464eaa4706a33510d73a6fd454": {
      "model_module": "@jupyter-widgets/controls",
      "model_module_version": "1.5.0",
      "model_name": "VBoxModel",
      "state": {
       "children": [
        "IPY_MODEL_2032af4712454b65b52156a56541511e",
        "IPY_MODEL_53643fae1d1d46cc9b8913d02a560922",
        "IPY_MODEL_5315077e867041c6b98d2ca835676e26",
        "IPY_MODEL_357c3d62d0f24d76a075f711f8f737b6"
       ],
       "layout": "IPY_MODEL_d7355b8c775348de81638fe72a0af4c0"
      }
     },
     "5be74e4fe4d34c5798e7618ab803b4aa": {
      "model_module": "@jupyter-widgets/controls",
      "model_module_version": "1.5.0",
      "model_name": "ButtonModel",
      "state": {
       "description": "submit",
       "layout": "IPY_MODEL_efa3dda8aeda4dafb35f38419c4cb7f6",
       "style": "IPY_MODEL_aa01eaa47c41434a883f11bdebe069ab"
      }
     },
     "5bf9d5fbb04d4ff382d9f90693b184c0": {
      "model_module": "@jupyter-widgets/controls",
      "model_module_version": "1.5.0",
      "model_name": "VBoxModel",
      "state": {
       "children": [
        "IPY_MODEL_b4936f18ce41485aab07a8fa647eedbe",
        "IPY_MODEL_eb7848ba39814119a3f4ac2d6be6ebc1",
        "IPY_MODEL_fef7a80cbd57413d83c9922124004891",
        "IPY_MODEL_9d4ff620c83345649dcd4797bfdc055f"
       ],
       "layout": "IPY_MODEL_6ee50596ce5e48d8a2f955f7d1dcd91d"
      }
     },
     "5c74083783224f87ade8475baaee2969": {
      "model_module": "@jupyter-widgets/controls",
      "model_module_version": "1.5.0",
      "model_name": "RadioButtonsModel",
      "state": {
       "_options_labels": [
        "cat",
        "dog",
        "mouse"
       ],
       "index": 0,
       "layout": "IPY_MODEL_61284884401b4772b02b7e910aba91e0",
       "style": "IPY_MODEL_a70c8662064048f4b21c0d775e10188b"
      }
     },
     "5c867e52ac6446fea150cd60d76ace4a": {
      "model_module": "@jupyter-widgets/base",
      "model_module_version": "1.2.0",
      "model_name": "LayoutModel",
      "state": {}
     },
     "5c99dda6c4bf44cfac1a353ca421f2ca": {
      "model_module": "@jupyter-widgets/controls",
      "model_module_version": "1.5.0",
      "model_name": "DescriptionStyleModel",
      "state": {
       "description_width": ""
      }
     },
     "5cd6296a0c7e4d23b7e1241126c9f57f": {
      "model_module": "@jupyter-widgets/controls",
      "model_module_version": "1.5.0",
      "model_name": "RadioButtonsModel",
      "state": {
       "_options_labels": [
        "blue",
        "white",
        "red"
       ],
       "index": 0,
       "layout": "IPY_MODEL_5ef41e7b8e0248c29c426e076383ea94",
       "style": "IPY_MODEL_3cb318c353cd4f8e91d28a00e687d7e9"
      }
     },
     "5cd84a9dc9974340aa03a7db1510d3ad": {
      "model_module": "@jupyter-widgets/controls",
      "model_module_version": "1.5.0",
      "model_name": "VBoxModel",
      "state": {
       "children": [
        "IPY_MODEL_06960205876d4e669d14d2411882510f",
        "IPY_MODEL_2541ea8b80b24b81b618934812efcc24",
        "IPY_MODEL_58bca0aa0b314232b521513b70c96d4d",
        "IPY_MODEL_ec9e3722515b413380f59d19f03b9c93"
       ],
       "layout": "IPY_MODEL_9848c0d8263246a4b837ba47685224c2"
      }
     },
     "5cdc5d1cfbf245af92cdadba47f041fe": {
      "model_module": "@jupyter-widgets/base",
      "model_module_version": "1.2.0",
      "model_name": "LayoutModel",
      "state": {}
     },
     "5ced3034b18e451c85a608912d458684": {
      "model_module": "@jupyter-widgets/controls",
      "model_module_version": "1.5.0",
      "model_name": "VBoxModel",
      "state": {
       "children": [
        "IPY_MODEL_d5b16d1221f74129a22dc91a4f056c42",
        "IPY_MODEL_34a75953297f4dbca9c463dd3fcaf109",
        "IPY_MODEL_ff5b3839c04946439c9f7235b11ae160",
        "IPY_MODEL_a0db02e7d98c45efad9d204f3d1ed917"
       ],
       "layout": "IPY_MODEL_0e0b7e6a54ed42ba9ccd613ef2469b7a"
      }
     },
     "5cf45af26c5146c7b40e36e383d8c5b0": {
      "model_module": "@jupyter-widgets/controls",
      "model_module_version": "1.5.0",
      "model_name": "DescriptionStyleModel",
      "state": {
       "description_width": ""
      }
     },
     "5d0eae86a1f646419855c9b4a7dac153": {
      "model_module": "@jupyter-widgets/controls",
      "model_module_version": "1.5.0",
      "model_name": "ButtonStyleModel",
      "state": {}
     },
     "5db58e4de0294bc2b598b90b368bb1bb": {
      "model_module": "@jupyter-widgets/output",
      "model_module_version": "1.0.0",
      "model_name": "OutputModel",
      "state": {
       "layout": "IPY_MODEL_d74cb61467f944d298f2885daf29addd",
       "outputs": [
        {
         "name": "stdout",
         "output_type": "stream",
         "text": "blablabla\n"
        }
       ]
      }
     },
     "5dfabe073620405a9ca2a18828fb7007": {
      "model_module": "@jupyter-widgets/base",
      "model_module_version": "1.2.0",
      "model_name": "LayoutModel",
      "state": {}
     },
     "5e3c4ed15bb4462ab14a9bc2534abe35": {
      "model_module": "@jupyter-widgets/base",
      "model_module_version": "1.2.0",
      "model_name": "LayoutModel",
      "state": {}
     },
     "5e52b940aeb74e23a3da268279f69461": {
      "model_module": "@jupyter-widgets/base",
      "model_module_version": "1.2.0",
      "model_name": "LayoutModel",
      "state": {}
     },
     "5e8708fb77ce488e9b1866dfdf5aac48": {
      "model_module": "@jupyter-widgets/controls",
      "model_module_version": "1.5.0",
      "model_name": "DescriptionStyleModel",
      "state": {
       "description_width": ""
      }
     },
     "5eb03058a88d4122952b2376cf2c95fb": {
      "model_module": "@jupyter-widgets/base",
      "model_module_version": "1.2.0",
      "model_name": "LayoutModel",
      "state": {}
     },
     "5ed54addfa014b79806c76540aa591c5": {
      "model_module": "@jupyter-widgets/output",
      "model_module_version": "1.0.0",
      "model_name": "OutputModel",
      "state": {
       "layout": "IPY_MODEL_366ca99db1904ebe8d0b46ed0734d0d8",
       "outputs": [
        {
         "name": "stdout",
         "output_type": "stream",
         "text": "jajajajaj\n"
        }
       ]
      }
     },
     "5edb63daeae84cf685fd11ff7dd20dee": {
      "model_module": "@jupyter-widgets/controls",
      "model_module_version": "1.5.0",
      "model_name": "ButtonModel",
      "state": {
       "description": "submit",
       "layout": "IPY_MODEL_9f571ad1e44642a780be43984b7268b9",
       "style": "IPY_MODEL_11653116df974ea6a69037d113e6551c"
      }
     },
     "5edfc2d66e604db48733e4f3c1591785": {
      "model_module": "@jupyter-widgets/output",
      "model_module_version": "1.0.0",
      "model_name": "OutputModel",
      "state": {
       "layout": "IPY_MODEL_ca8aec87e6124517a24813ba5df114a5",
       "outputs": [
        {
         "name": "stdout",
         "output_type": "stream",
         "text": "lalalalal\n"
        }
       ]
      }
     },
     "5ef41e7b8e0248c29c426e076383ea94": {
      "model_module": "@jupyter-widgets/base",
      "model_module_version": "1.2.0",
      "model_name": "LayoutModel",
      "state": {}
     },
     "5ef83cd4aa4149ca8d4ae272e4f575f1": {
      "model_module": "@jupyter-widgets/controls",
      "model_module_version": "1.5.0",
      "model_name": "RadioButtonsModel",
      "state": {
       "_options_labels": [
        "blue",
        "white",
        "red"
       ],
       "index": 0,
       "layout": "IPY_MODEL_71526f05a22449ef9011343ad9fcb8c4",
       "style": "IPY_MODEL_14ed73dcb4604c48af24fcad16eecbd1"
      }
     },
     "5f0e94aed8da4de9854d55bb666f0020": {
      "model_module": "@jupyter-widgets/base",
      "model_module_version": "1.2.0",
      "model_name": "LayoutModel",
      "state": {}
     },
     "5f505b184f434f40aa4dee0838b431bb": {
      "model_module": "@jupyter-widgets/base",
      "model_module_version": "1.2.0",
      "model_name": "LayoutModel",
      "state": {}
     },
     "5f7a771872e84c90a468319837a84280": {
      "model_module": "@jupyter-widgets/controls",
      "model_module_version": "1.5.0",
      "model_name": "ButtonStyleModel",
      "state": {}
     },
     "5f838ba47cfd4ee89e6da47818f411a1": {
      "model_module": "@jupyter-widgets/output",
      "model_module_version": "1.0.0",
      "model_name": "OutputModel",
      "state": {
       "layout": "IPY_MODEL_3b73c63eb0244cf194e50e3190560fe5"
      }
     },
     "5f93894752f8415ca2cfd44790d954dc": {
      "model_module": "@jupyter-widgets/controls",
      "model_module_version": "1.5.0",
      "model_name": "VBoxModel",
      "state": {
       "children": [
        "IPY_MODEL_5accbc02e19343a5ab6144522214b124",
        "IPY_MODEL_1c9217c5c0d349fab012dce7d2627f33",
        "IPY_MODEL_8d1fd630e39b4ab384da821146c34541",
        "IPY_MODEL_b42a017419ac42a88c4d86e6c93691b9"
       ],
       "layout": "IPY_MODEL_c437d9c366d84f508e91f30e5808bf05"
      }
     },
     "5f9d9c2135ab4642ab07124ed0a89586": {
      "model_module": "@jupyter-widgets/output",
      "model_module_version": "1.0.0",
      "model_name": "OutputModel",
      "state": {
       "layout": "IPY_MODEL_919b3129275c4998ae92f9d2861b65e8",
       "outputs": [
        {
         "name": "stdout",
         "output_type": "stream",
         "text": "jajajajaj\n"
        }
       ]
      }
     },
     "5fc462e446b145968e272b58e6c825f2": {
      "model_module": "@jupyter-widgets/base",
      "model_module_version": "1.2.0",
      "model_name": "LayoutModel",
      "state": {}
     },
     "601f37554ff64958bc310217189e65b8": {
      "model_module": "@jupyter-widgets/base",
      "model_module_version": "1.2.0",
      "model_name": "LayoutModel",
      "state": {}
     },
     "6118fa0ae1d3476e956d43f00e3ef97f": {
      "model_module": "@jupyter-widgets/base",
      "model_module_version": "1.2.0",
      "model_name": "LayoutModel",
      "state": {}
     },
     "611a09ba906941cd879a4f63855624ed": {
      "model_module": "@jupyter-widgets/base",
      "model_module_version": "1.2.0",
      "model_name": "LayoutModel",
      "state": {}
     },
     "61284884401b4772b02b7e910aba91e0": {
      "model_module": "@jupyter-widgets/base",
      "model_module_version": "1.2.0",
      "model_name": "LayoutModel",
      "state": {}
     },
     "614978e8efb849fdbf9f19cc33eef388": {
      "model_module": "@jupyter-widgets/controls",
      "model_module_version": "1.5.0",
      "model_name": "RadioButtonsModel",
      "state": {
       "_options_labels": [
        "blue",
        "white",
        "red"
       ],
       "index": 0,
       "layout": "IPY_MODEL_37a425c8d6dc4997b0ef7adc61967d92",
       "style": "IPY_MODEL_959a1f16c1184412971348c7bff64d37"
      }
     },
     "6167c0874ac24c2ab0e58b6b31419bb0": {
      "model_module": "@jupyter-widgets/base",
      "model_module_version": "1.2.0",
      "model_name": "LayoutModel",
      "state": {}
     },
     "62613137064243ed839b8bd89ecbcb93": {
      "model_module": "@jupyter-widgets/controls",
      "model_module_version": "1.5.0",
      "model_name": "ButtonStyleModel",
      "state": {}
     },
     "6272e9cc3ee241f88e675d70f8928550": {
      "model_module": "@jupyter-widgets/controls",
      "model_module_version": "1.5.0",
      "model_name": "VBoxModel",
      "state": {
       "children": [
        "IPY_MODEL_863a862366534fb5830a8634c6a0e3d7",
        "IPY_MODEL_04c04b8a9f6b4083a22e71c7e53b89eb",
        "IPY_MODEL_f522fce6fba246ac9c4dc4ef63ad88c4",
        "IPY_MODEL_f2ad1ab596c44e48b823f20df81289f0"
       ],
       "layout": "IPY_MODEL_78fddc1f55544aed9a81b6c4d461ce77"
      }
     },
     "6283a932ddaf458fa40b8b49ab3440d4": {
      "model_module": "@jupyter-widgets/controls",
      "model_module_version": "1.5.0",
      "model_name": "ButtonStyleModel",
      "state": {}
     },
     "62894ca22d7d407fb7191fd45880174d": {
      "model_module": "@jupyter-widgets/output",
      "model_module_version": "1.0.0",
      "model_name": "OutputModel",
      "state": {
       "layout": "IPY_MODEL_f387526b31ad4b1db5bc09ee44f46fb7"
      }
     },
     "629fa1fa07bb4c9ab8593a273f58e427": {
      "model_module": "@jupyter-widgets/controls",
      "model_module_version": "1.5.0",
      "model_name": "DescriptionStyleModel",
      "state": {
       "description_width": ""
      }
     },
     "62e1ece7022c4a11a8b6db52a8a35e6a": {
      "model_module": "@jupyter-widgets/controls",
      "model_module_version": "1.5.0",
      "model_name": "DescriptionStyleModel",
      "state": {
       "description_width": ""
      }
     },
     "633fbb3d68ce492e8f7c2ba71dc0bb81": {
      "model_module": "@jupyter-widgets/base",
      "model_module_version": "1.2.0",
      "model_name": "LayoutModel",
      "state": {}
     },
     "63b540cb00d74a648536ce79e445850f": {
      "model_module": "@jupyter-widgets/base",
      "model_module_version": "1.2.0",
      "model_name": "LayoutModel",
      "state": {}
     },
     "6405d90f37db4c3cbf90cabc81f40408": {
      "model_module": "@jupyter-widgets/output",
      "model_module_version": "1.0.0",
      "model_name": "OutputModel",
      "state": {
       "layout": "IPY_MODEL_e3601910b73842fe8ef6ac98d7a48767",
       "outputs": [
        {
         "name": "stdout",
         "output_type": "stream",
         "text": "jajajajaj\n"
        }
       ]
      }
     },
     "6427ac06ec504230aeaa02b1692f1a46": {
      "model_module": "@jupyter-widgets/controls",
      "model_module_version": "1.5.0",
      "model_name": "VBoxModel",
      "state": {
       "children": [
        "IPY_MODEL_f89a89346c4b47ca99ec5137f2fcec61",
        "IPY_MODEL_f66d640027c348f99928ecc8409127fa",
        "IPY_MODEL_27e30655f54f4395a64ba87958619b30",
        "IPY_MODEL_04501799700f4defa5505df38ab95dbd"
       ],
       "layout": "IPY_MODEL_7e67c85153444f4c865b25eeee19dfbf"
      }
     },
     "6463edf9ea7b4fd5951364c2d7ca846f": {
      "model_module": "@jupyter-widgets/controls",
      "model_module_version": "1.5.0",
      "model_name": "VBoxModel",
      "state": {
       "children": [
        "IPY_MODEL_6bc9ca445ee2453fbb94f2bdcc243ff1",
        "IPY_MODEL_cfd194e951e142f98b7df029a10099e1",
        "IPY_MODEL_342b853be9fd49e1a891b76d68478fa5",
        "IPY_MODEL_7901470a9dd641139061230561c6d0e6"
       ],
       "layout": "IPY_MODEL_e5736a3604af4fb3a2a8c2ee16368005"
      }
     },
     "64659bf2e40e4458b3552be5a83b60fd": {
      "model_module": "@jupyter-widgets/controls",
      "model_module_version": "1.5.0",
      "model_name": "RadioButtonsModel",
      "state": {
       "_options_labels": [
        "cat",
        "dog",
        "mouse"
       ],
       "index": 0,
       "layout": "IPY_MODEL_6b29ce6d8ecc47a2adb134d3064002ba",
       "style": "IPY_MODEL_ee0c213a36e84250939a55b03d06fca7"
      }
     },
     "64bcd482416942d8b729ff18c894a88f": {
      "model_module": "@jupyter-widgets/controls",
      "model_module_version": "1.5.0",
      "model_name": "RadioButtonsModel",
      "state": {
       "_options_labels": [
        "blue",
        "white",
        "red"
       ],
       "index": 0,
       "layout": "IPY_MODEL_1493ecaec38a4790a0e380d9d88b945f",
       "style": "IPY_MODEL_cb573d8eaea94cd09e74e8ab34b0fd58"
      }
     },
     "64cdb0b13f60484a9f390dd0fee1df30": {
      "model_module": "@jupyter-widgets/controls",
      "model_module_version": "1.5.0",
      "model_name": "VBoxModel",
      "state": {
       "children": [
        "IPY_MODEL_d815d5a9a82145a6ba867a3fffe09325",
        "IPY_MODEL_15a3a7be45324df0a24cad20dea8ab71",
        "IPY_MODEL_9c9dc89aa0384f32b45b08f3a1f9b588",
        "IPY_MODEL_354fd01cfdf54b3687b96484c2d9f9d9"
       ],
       "layout": "IPY_MODEL_05b23d9d80e941d396acc8ba13f82f7e"
      }
     },
     "650462c1451445bebe9b9e894e698610": {
      "model_module": "@jupyter-widgets/base",
      "model_module_version": "1.2.0",
      "model_name": "LayoutModel",
      "state": {}
     },
     "650637b7193b49afbcb532047d90edc5": {
      "model_module": "@jupyter-widgets/base",
      "model_module_version": "1.2.0",
      "model_name": "LayoutModel",
      "state": {}
     },
     "6576665ac3854f2cb4265bf73a704414": {
      "model_module": "@jupyter-widgets/controls",
      "model_module_version": "1.5.0",
      "model_name": "VBoxModel",
      "state": {
       "children": [
        "IPY_MODEL_2db636771dd74823927e1f475292b514",
        "IPY_MODEL_7116fbb5accb4c05bf83c076064417de",
        "IPY_MODEL_bbee3965a76345feac6f608ca465ec4e",
        "IPY_MODEL_4f482456b3e44da9b8cd1ddcfa4ab39c"
       ],
       "layout": "IPY_MODEL_a619956bec984d09b37cb7954b73d9f2"
      }
     },
     "65adad916bbf4c65a3efdce6aca96957": {
      "model_module": "@jupyter-widgets/controls",
      "model_module_version": "1.5.0",
      "model_name": "ButtonModel",
      "state": {
       "description": "submit",
       "layout": "IPY_MODEL_abbdc9646b85415eb471811e7ebea443",
       "style": "IPY_MODEL_dfe88467203440f6a5d99b79854ae8d1"
      }
     },
     "65b8968ca28a48569d276f1e19c656e7": {
      "model_module": "@jupyter-widgets/base",
      "model_module_version": "1.2.0",
      "model_name": "LayoutModel",
      "state": {}
     },
     "665468a7201d435295cb572ee0437852": {
      "model_module": "@jupyter-widgets/base",
      "model_module_version": "1.2.0",
      "model_name": "LayoutModel",
      "state": {}
     },
     "66553873527f4a86ba7fb4e093f48380": {
      "model_module": "@jupyter-widgets/base",
      "model_module_version": "1.2.0",
      "model_name": "LayoutModel",
      "state": {}
     },
     "665ea428b77740f0b2fbafbc0b84caa8": {
      "model_module": "@jupyter-widgets/controls",
      "model_module_version": "1.5.0",
      "model_name": "DescriptionStyleModel",
      "state": {
       "description_width": ""
      }
     },
     "66da4d6586c64084b3ecc30b5400c03a": {
      "model_module": "@jupyter-widgets/controls",
      "model_module_version": "1.5.0",
      "model_name": "RadioButtonsModel",
      "state": {
       "_options_labels": [
        "blue",
        "white",
        "red"
       ],
       "index": 0,
       "layout": "IPY_MODEL_cdf97fc6b1b4454d98244750d8ee0fc0",
       "style": "IPY_MODEL_6c4f091198684c0c9eb2b6f38fd38283"
      }
     },
     "66f0ba8da6d8450bb4dd8d32c38800d9": {
      "model_module": "@jupyter-widgets/controls",
      "model_module_version": "1.5.0",
      "model_name": "ButtonStyleModel",
      "state": {}
     },
     "6738cf75a25144e0849d94d2fa64692b": {
      "model_module": "@jupyter-widgets/base",
      "model_module_version": "1.2.0",
      "model_name": "LayoutModel",
      "state": {}
     },
     "67b7d5122c234722a984211327d120c5": {
      "model_module": "@jupyter-widgets/base",
      "model_module_version": "1.2.0",
      "model_name": "LayoutModel",
      "state": {}
     },
     "67fdad1b36a447728526cb9b99971d35": {
      "model_module": "@jupyter-widgets/output",
      "model_module_version": "1.0.0",
      "model_name": "OutputModel",
      "state": {
       "layout": "IPY_MODEL_e6c2077d70494b92967503437fb8e230",
       "outputs": [
        {
         "name": "stdout",
         "output_type": "stream",
         "text": "lalalalal\n"
        }
       ]
      }
     },
     "68113b13984f482eb7dc6806840c268f": {
      "model_module": "@jupyter-widgets/base",
      "model_module_version": "1.2.0",
      "model_name": "LayoutModel",
      "state": {}
     },
     "681d91eac66346a5935e891bc0711508": {
      "model_module": "@jupyter-widgets/controls",
      "model_module_version": "1.5.0",
      "model_name": "VBoxModel",
      "state": {
       "children": [
        "IPY_MODEL_a329123c91274995b729d0eb9b5696ab",
        "IPY_MODEL_d9f95caceac0483e9c938b4e0d4d457a",
        "IPY_MODEL_58bdd188910543a3b4e1ab02816aa907",
        "IPY_MODEL_0b07326d1d5a4858bf4fd0d5dc699b5c"
       ],
       "layout": "IPY_MODEL_eb166ce5da0e4e85a06c6c5a3c8a59f0"
      }
     },
     "689e7eb877da4599969fe9efa1b2b962": {
      "model_module": "@jupyter-widgets/base",
      "model_module_version": "1.2.0",
      "model_name": "LayoutModel",
      "state": {}
     },
     "68ac90da6f7f49d1b19c4c8bdb1016b5": {
      "model_module": "@jupyter-widgets/output",
      "model_module_version": "1.0.0",
      "model_name": "OutputModel",
      "state": {
       "layout": "IPY_MODEL_70b7849ef945480b879f888175f18a36"
      }
     },
     "68c5d2ee2595401fab05bdd919e8b7ae": {
      "model_module": "@jupyter-widgets/controls",
      "model_module_version": "1.5.0",
      "model_name": "VBoxModel",
      "state": {
       "children": [
        "IPY_MODEL_36dec1532679447db6eb042466e68b0d",
        "IPY_MODEL_f313fed5c12f43e399a741d02c4265fe",
        "IPY_MODEL_c68178ee3b234f82ae72c279a95e883b",
        "IPY_MODEL_49dfbdb80ec44389919093a63bc6695f"
       ],
       "layout": "IPY_MODEL_456a46578f24485b98827ff612dbab33"
      }
     },
     "68d19fabd58c41b9883c6d5eec780e65": {
      "model_module": "@jupyter-widgets/controls",
      "model_module_version": "1.5.0",
      "model_name": "DescriptionStyleModel",
      "state": {
       "description_width": ""
      }
     },
     "68e1c9e2e9f440f5ac168ccd48b017db": {
      "model_module": "@jupyter-widgets/output",
      "model_module_version": "1.0.0",
      "model_name": "OutputModel",
      "state": {
       "layout": "IPY_MODEL_2310277b1b8441d88c3b332efb6b6218",
       "outputs": [
        {
         "name": "stdout",
         "output_type": "stream",
         "text": "blablabla\n"
        }
       ]
      }
     },
     "690ec5cfe8dd4d988d7a2cb375ec720d": {
      "model_module": "@jupyter-widgets/base",
      "model_module_version": "1.2.0",
      "model_name": "LayoutModel",
      "state": {}
     },
     "691312d6d903430c99432feb063aeda6": {
      "model_module": "@jupyter-widgets/output",
      "model_module_version": "1.0.0",
      "model_name": "OutputModel",
      "state": {
       "layout": "IPY_MODEL_115b6bf7947c4f5895ac937f1f4e3aa5",
       "outputs": [
        {
         "name": "stdout",
         "output_type": "stream",
         "text": "blablabla\n"
        }
       ]
      }
     },
     "692fa242c8ef4aa2a8eb431cc8eeb2af": {
      "model_module": "@jupyter-widgets/base",
      "model_module_version": "1.2.0",
      "model_name": "LayoutModel",
      "state": {}
     },
     "6937349d07d04985a91678ec47d3cafb": {
      "model_module": "@jupyter-widgets/controls",
      "model_module_version": "1.5.0",
      "model_name": "ButtonStyleModel",
      "state": {}
     },
     "6938b592cc4a47ad803a7aeaa6a4c8f1": {
      "model_module": "@jupyter-widgets/base",
      "model_module_version": "1.2.0",
      "model_name": "LayoutModel",
      "state": {}
     },
     "6941b23328744d11bcfc1afd6fc5b364": {
      "model_module": "@jupyter-widgets/base",
      "model_module_version": "1.2.0",
      "model_name": "LayoutModel",
      "state": {}
     },
     "699d556db78c4238814e73d98d08b2c1": {
      "model_module": "@jupyter-widgets/output",
      "model_module_version": "1.0.0",
      "model_name": "OutputModel",
      "state": {
       "layout": "IPY_MODEL_7307a615c06b44488dbb4ff4c69fc42c",
       "outputs": [
        {
         "name": "stdout",
         "output_type": "stream",
         "text": "blablabla\n"
        }
       ]
      }
     },
     "69c3b21df87e429d9c6e8a7379c55e6a": {
      "model_module": "@jupyter-widgets/controls",
      "model_module_version": "1.5.0",
      "model_name": "VBoxModel",
      "state": {
       "children": [
        "IPY_MODEL_af0221e49c3b4623b8a3b95503216ffa",
        "IPY_MODEL_55462ff3bf6345c59417859c71e9a422",
        "IPY_MODEL_5af281e7b5804c59b7b63ef5ccce03d9",
        "IPY_MODEL_1d592edb29f64310a08669051b38cf6c"
       ],
       "layout": "IPY_MODEL_18607738543342d2aad14b1ffd817f45"
      }
     },
     "6a389f9cce2342e2bfa77b0d0c1178cd": {
      "model_module": "@jupyter-widgets/controls",
      "model_module_version": "1.5.0",
      "model_name": "VBoxModel",
      "state": {
       "children": [
        "IPY_MODEL_7492039fd17f425899ac121292be6346",
        "IPY_MODEL_3fecabc73a5c46eda467da4626feb642",
        "IPY_MODEL_3de1c4f6e0c4422dbc825315717d5b92",
        "IPY_MODEL_2ee3a485fdb348f9938fb27679662c24"
       ],
       "layout": "IPY_MODEL_6ff6d3c1dcf748b8a6612405f9cecbf3"
      }
     },
     "6a8f23b7f73142a58807971517ad75ef": {
      "model_module": "@jupyter-widgets/base",
      "model_module_version": "1.2.0",
      "model_name": "LayoutModel",
      "state": {}
     },
     "6ad3847168c84868bf32afd7423019ed": {
      "model_module": "@jupyter-widgets/controls",
      "model_module_version": "1.5.0",
      "model_name": "VBoxModel",
      "state": {
       "children": [
        "IPY_MODEL_9b09dea0873b4718af242881e7aaaf91",
        "IPY_MODEL_c93a3817a4d4424b91bb138b4aa4a09d",
        "IPY_MODEL_de1e841a3c92404689e165bb0db2e76f",
        "IPY_MODEL_0300b06977d24223befdd301b698d2bb"
       ],
       "layout": "IPY_MODEL_4bb8b0b2531b4de093f28125e41640dc"
      }
     },
     "6aea93e79fdb423b8218ab1755e7ce96": {
      "model_module": "@jupyter-widgets/controls",
      "model_module_version": "1.5.0",
      "model_name": "DescriptionStyleModel",
      "state": {
       "description_width": ""
      }
     },
     "6b29ce6d8ecc47a2adb134d3064002ba": {
      "model_module": "@jupyter-widgets/base",
      "model_module_version": "1.2.0",
      "model_name": "LayoutModel",
      "state": {}
     },
     "6b4c70ff0a5849d7bc7093a9c5c7858b": {
      "model_module": "@jupyter-widgets/base",
      "model_module_version": "1.2.0",
      "model_name": "LayoutModel",
      "state": {}
     },
     "6b583d745ccc4ddba01327dbfbd47f89": {
      "model_module": "@jupyter-widgets/controls",
      "model_module_version": "1.5.0",
      "model_name": "RadioButtonsModel",
      "state": {
       "_options_labels": [
        "blue",
        "white",
        "red"
       ],
       "index": 0,
       "layout": "IPY_MODEL_1c0217c9f0584270a14d54f1e84707e2",
       "style": "IPY_MODEL_c061ba216a484275a90a6cad17541bca"
      }
     },
     "6b8c9f005f0d463bb74d2732e35bf15f": {
      "model_module": "@jupyter-widgets/base",
      "model_module_version": "1.2.0",
      "model_name": "LayoutModel",
      "state": {}
     },
     "6bc9ca445ee2453fbb94f2bdcc243ff1": {
      "model_module": "@jupyter-widgets/output",
      "model_module_version": "1.0.0",
      "model_name": "OutputModel",
      "state": {
       "layout": "IPY_MODEL_24c45dbb4a974b9188f9fe1d23c48678",
       "outputs": [
        {
         "name": "stdout",
         "output_type": "stream",
         "text": "blablabla\n"
        }
       ]
      }
     },
     "6be48ea50eb342a8980d562e35c5b8d9": {
      "model_module": "@jupyter-widgets/base",
      "model_module_version": "1.2.0",
      "model_name": "LayoutModel",
      "state": {}
     },
     "6c4f091198684c0c9eb2b6f38fd38283": {
      "model_module": "@jupyter-widgets/controls",
      "model_module_version": "1.5.0",
      "model_name": "DescriptionStyleModel",
      "state": {
       "description_width": ""
      }
     },
     "6ce6675d03ce453cb52e23976fc4aeda": {
      "model_module": "@jupyter-widgets/controls",
      "model_module_version": "1.5.0",
      "model_name": "ButtonStyleModel",
      "state": {}
     },
     "6cfdffab491f426abd0cf7bcb3ed59a7": {
      "model_module": "@jupyter-widgets/base",
      "model_module_version": "1.2.0",
      "model_name": "LayoutModel",
      "state": {}
     },
     "6d29edb85c6545c8addf3eaa4aa78864": {
      "model_module": "@jupyter-widgets/controls",
      "model_module_version": "1.5.0",
      "model_name": "RadioButtonsModel",
      "state": {
       "_options_labels": [
        "blue",
        "white",
        "red"
       ],
       "index": 0,
       "layout": "IPY_MODEL_a378ff391fad479db0d8f617b6e0a608",
       "style": "IPY_MODEL_5418b8f73db546ddba38f349f459251e"
      }
     },
     "6d2e868bd9164e3890bed41984787546": {
      "model_module": "@jupyter-widgets/controls",
      "model_module_version": "1.5.0",
      "model_name": "ButtonModel",
      "state": {
       "description": "submit",
       "layout": "IPY_MODEL_58986cc94d8b4b98a55ace0d036fd4bd",
       "style": "IPY_MODEL_e519b56e42bc4fa7aedbff4c068f17b0"
      }
     },
     "6d2ef29d8cf24c8695c65c7811eb38cb": {
      "model_module": "@jupyter-widgets/controls",
      "model_module_version": "1.5.0",
      "model_name": "ButtonStyleModel",
      "state": {}
     },
     "6d59b5b4d6d74c3f8aec43423f3f7fae": {
      "model_module": "@jupyter-widgets/base",
      "model_module_version": "1.2.0",
      "model_name": "LayoutModel",
      "state": {}
     },
     "6dc6b87946d244afa563fc8bda09850f": {
      "model_module": "@jupyter-widgets/base",
      "model_module_version": "1.2.0",
      "model_name": "LayoutModel",
      "state": {}
     },
     "6dc915d9004a4f10ad1c76154f916bf4": {
      "model_module": "@jupyter-widgets/controls",
      "model_module_version": "1.5.0",
      "model_name": "VBoxModel",
      "state": {
       "children": [
        "IPY_MODEL_d27e25ae47e741c7a38321bb2fb2537a",
        "IPY_MODEL_2c0bf75e88ec450093d9223df22d83c4",
        "IPY_MODEL_4c8cd34a8e66444bac354b4b27932376",
        "IPY_MODEL_4f35c7471119474e99b1d52ca0722f9e"
       ],
       "layout": "IPY_MODEL_211059a1f80a49fb8532dc9912e56696"
      }
     },
     "6e0996f85d894ba49a6fb9c5e62b597f": {
      "model_module": "@jupyter-widgets/controls",
      "model_module_version": "1.5.0",
      "model_name": "ButtonModel",
      "state": {
       "description": "submit",
       "layout": "IPY_MODEL_2bc98f6d0ecf441094f7c24d29384397",
       "style": "IPY_MODEL_fb8d6c014153438b995ff9478b8ba58e"
      }
     },
     "6e16d2d8616f466e92907cb834700264": {
      "model_module": "@jupyter-widgets/base",
      "model_module_version": "1.2.0",
      "model_name": "LayoutModel",
      "state": {}
     },
     "6e4423adaaad45619a527875a7446535": {
      "model_module": "@jupyter-widgets/base",
      "model_module_version": "1.2.0",
      "model_name": "LayoutModel",
      "state": {}
     },
     "6e7efcc5c2f045e8ba4139acc574a579": {
      "model_module": "@jupyter-widgets/base",
      "model_module_version": "1.2.0",
      "model_name": "LayoutModel",
      "state": {}
     },
     "6eaa6d32387f458887f21e471b0dcd54": {
      "model_module": "@jupyter-widgets/base",
      "model_module_version": "1.2.0",
      "model_name": "LayoutModel",
      "state": {}
     },
     "6edb903ae42c4fe5ab74b806f1842bac": {
      "model_module": "@jupyter-widgets/output",
      "model_module_version": "1.0.0",
      "model_name": "OutputModel",
      "state": {
       "layout": "IPY_MODEL_10120ef6508c4590bd447ca3354c6faf"
      }
     },
     "6ee50596ce5e48d8a2f955f7d1dcd91d": {
      "model_module": "@jupyter-widgets/base",
      "model_module_version": "1.2.0",
      "model_name": "LayoutModel",
      "state": {}
     },
     "6f5f5401c2dc472696380ac7757cc645": {
      "model_module": "@jupyter-widgets/base",
      "model_module_version": "1.2.0",
      "model_name": "LayoutModel",
      "state": {}
     },
     "6fa103c1f6fd410d8eacdb5c5ac3c691": {
      "model_module": "@jupyter-widgets/controls",
      "model_module_version": "1.5.0",
      "model_name": "ButtonStyleModel",
      "state": {}
     },
     "6fb12a340fc441359795f973c015c498": {
      "model_module": "@jupyter-widgets/base",
      "model_module_version": "1.2.0",
      "model_name": "LayoutModel",
      "state": {}
     },
     "6ff6d3c1dcf748b8a6612405f9cecbf3": {
      "model_module": "@jupyter-widgets/base",
      "model_module_version": "1.2.0",
      "model_name": "LayoutModel",
      "state": {}
     },
     "7013b7e0f7f443d5b7e4343807ddd2cb": {
      "model_module": "@jupyter-widgets/controls",
      "model_module_version": "1.5.0",
      "model_name": "RadioButtonsModel",
      "state": {
       "_options_labels": [
        "blue",
        "white",
        "red"
       ],
       "index": 0,
       "layout": "IPY_MODEL_1c1426a400f2410a9b00f49b255fe7e4",
       "style": "IPY_MODEL_257f5a39eaac4adfa575945e12900778"
      }
     },
     "70b7849ef945480b879f888175f18a36": {
      "model_module": "@jupyter-widgets/base",
      "model_module_version": "1.2.0",
      "model_name": "LayoutModel",
      "state": {}
     },
     "70f4edf4db9549f885c7d58219f2e461": {
      "model_module": "@jupyter-widgets/base",
      "model_module_version": "1.2.0",
      "model_name": "LayoutModel",
      "state": {}
     },
     "70f54aec51c2452da27f94bff4623ed2": {
      "model_module": "@jupyter-widgets/base",
      "model_module_version": "1.2.0",
      "model_name": "LayoutModel",
      "state": {}
     },
     "71118c87c2e24c64999d4a662a01c34e": {
      "model_module": "@jupyter-widgets/controls",
      "model_module_version": "1.5.0",
      "model_name": "ButtonModel",
      "state": {
       "description": "submit",
       "layout": "IPY_MODEL_4c26b20354414785a0ca827a13795a97",
       "style": "IPY_MODEL_66f0ba8da6d8450bb4dd8d32c38800d9"
      }
     },
     "7116fbb5accb4c05bf83c076064417de": {
      "model_module": "@jupyter-widgets/controls",
      "model_module_version": "1.5.0",
      "model_name": "RadioButtonsModel",
      "state": {
       "_options_labels": [
        "apple",
        "banana",
        "pear"
       ],
       "index": 2,
       "layout": "IPY_MODEL_de54eef16f094f0dbcccb2fd4bccfe63",
       "style": "IPY_MODEL_ad731f24cb7a43ccb5852174b2630dcc"
      }
     },
     "71526f05a22449ef9011343ad9fcb8c4": {
      "model_module": "@jupyter-widgets/base",
      "model_module_version": "1.2.0",
      "model_name": "LayoutModel",
      "state": {}
     },
     "716f2b9158cb4e4789e5cc9148aeda09": {
      "model_module": "@jupyter-widgets/output",
      "model_module_version": "1.0.0",
      "model_name": "OutputModel",
      "state": {
       "layout": "IPY_MODEL_80b2fe9497be4cf7839fad742a641480"
      }
     },
     "7191467b8b414713ad47800a680014a2": {
      "model_module": "@jupyter-widgets/controls",
      "model_module_version": "1.5.0",
      "model_name": "ButtonStyleModel",
      "state": {}
     },
     "71c8d73b2b89483ea905e7599a85db6e": {
      "model_module": "@jupyter-widgets/controls",
      "model_module_version": "1.5.0",
      "model_name": "ButtonStyleModel",
      "state": {}
     },
     "71d4fe0b718442dda732aee7c787de12": {
      "model_module": "@jupyter-widgets/controls",
      "model_module_version": "1.5.0",
      "model_name": "ButtonStyleModel",
      "state": {}
     },
     "71df4faa126747f5895d8166803637ca": {
      "model_module": "@jupyter-widgets/base",
      "model_module_version": "1.2.0",
      "model_name": "LayoutModel",
      "state": {}
     },
     "71f204a62fe246b4a7ebf2d8b3c5c278": {
      "model_module": "@jupyter-widgets/base",
      "model_module_version": "1.2.0",
      "model_name": "LayoutModel",
      "state": {}
     },
     "7294cc50b8584d8fbf8a65f78d59f283": {
      "model_module": "@jupyter-widgets/base",
      "model_module_version": "1.2.0",
      "model_name": "LayoutModel",
      "state": {}
     },
     "72d5d513065f4f4da413b4c8d54441e9": {
      "model_module": "@jupyter-widgets/base",
      "model_module_version": "1.2.0",
      "model_name": "LayoutModel",
      "state": {}
     },
     "72d68cea1e814657aac2a59d299e66af": {
      "model_module": "@jupyter-widgets/output",
      "model_module_version": "1.0.0",
      "model_name": "OutputModel",
      "state": {
       "layout": "IPY_MODEL_36be841110dd4ac6809e3c2d48d8f709"
      }
     },
     "72ebf807c0264e96bc571e60d6363b97": {
      "model_module": "@jupyter-widgets/controls",
      "model_module_version": "1.5.0",
      "model_name": "VBoxModel",
      "state": {
       "children": [
        "IPY_MODEL_c7551d71df15442985d546cf20745da1",
        "IPY_MODEL_864ce8f1ca004370adc2cdd3403f94c8",
        "IPY_MODEL_e890f161e3384f80bf76482219cf7d95",
        "IPY_MODEL_e0a011b639d2485f90d7344eedf93cba"
       ],
       "layout": "IPY_MODEL_df366b109be2482c8dc173f271c56256"
      }
     },
     "7307a615c06b44488dbb4ff4c69fc42c": {
      "model_module": "@jupyter-widgets/base",
      "model_module_version": "1.2.0",
      "model_name": "LayoutModel",
      "state": {}
     },
     "734bd64a1ad9488db1b9bc915f1bd1cd": {
      "model_module": "@jupyter-widgets/output",
      "model_module_version": "1.0.0",
      "model_name": "OutputModel",
      "state": {
       "layout": "IPY_MODEL_1df6c89950fb43dcac4a889e5b22b787",
       "outputs": [
        {
         "name": "stdout",
         "output_type": "stream",
         "text": "\u001b[6;60;42mCorrect.\u001b[0m\n\n"
        }
       ]
      }
     },
     "736f818106264c7182079691c233cd89": {
      "model_module": "@jupyter-widgets/base",
      "model_module_version": "1.2.0",
      "model_name": "LayoutModel",
      "state": {}
     },
     "73818c0b151e4700add43410883d12b0": {
      "model_module": "@jupyter-widgets/base",
      "model_module_version": "1.2.0",
      "model_name": "LayoutModel",
      "state": {}
     },
     "73ac0a57155a4d74afc44cdeed9bc4a3": {
      "model_module": "@jupyter-widgets/base",
      "model_module_version": "1.2.0",
      "model_name": "LayoutModel",
      "state": {}
     },
     "73f224433af24b448be325bf9e08f764": {
      "model_module": "@jupyter-widgets/base",
      "model_module_version": "1.2.0",
      "model_name": "LayoutModel",
      "state": {}
     },
     "7422987ef4a1443398aa4d2b1280b389": {
      "model_module": "@jupyter-widgets/controls",
      "model_module_version": "1.5.0",
      "model_name": "DescriptionStyleModel",
      "state": {
       "description_width": ""
      }
     },
     "7463730fe2ac4635bbe8304de4897cd1": {
      "model_module": "@jupyter-widgets/output",
      "model_module_version": "1.0.0",
      "model_name": "OutputModel",
      "state": {
       "layout": "IPY_MODEL_e3989f804fb84b1f85fcb9952b3d563f",
       "outputs": [
        {
         "name": "stdout",
         "output_type": "stream",
         "text": "lalalalal\n"
        }
       ]
      }
     },
     "746bcfea93714d7284a7ad11dc5e85b7": {
      "model_module": "@jupyter-widgets/output",
      "model_module_version": "1.0.0",
      "model_name": "OutputModel",
      "state": {
       "layout": "IPY_MODEL_0ac3fc878fb8411b8658246c8f0605c9",
       "outputs": [
        {
         "name": "stdout",
         "output_type": "stream",
         "text": "\u001b[1;30;41mIncorrect\u001b[0m\n\n"
        }
       ]
      }
     },
     "7492039fd17f425899ac121292be6346": {
      "model_module": "@jupyter-widgets/output",
      "model_module_version": "1.0.0",
      "model_name": "OutputModel",
      "state": {
       "layout": "IPY_MODEL_99446d94559841a3b2995f9b4aa83049",
       "outputs": [
        {
         "name": "stdout",
         "output_type": "stream",
         "text": "blablabla\n"
        }
       ]
      }
     },
     "750937f2acba47c187c9f663d41ce2d2": {
      "model_module": "@jupyter-widgets/base",
      "model_module_version": "1.2.0",
      "model_name": "LayoutModel",
      "state": {}
     },
     "755d64b920d3427391dd7cf5804aa20f": {
      "model_module": "@jupyter-widgets/controls",
      "model_module_version": "1.5.0",
      "model_name": "RadioButtonsModel",
      "state": {
       "_options_labels": [
        "cat",
        "dog",
        "mouse"
       ],
       "index": 0,
       "layout": "IPY_MODEL_2e55a4c83de84371b70e9ce49633f8b3",
       "style": "IPY_MODEL_dd21402ba15b4dd6b1f03a456904a2f9"
      }
     },
     "75af4221228b4e008e1dc8b2c3ce72fa": {
      "model_module": "@jupyter-widgets/controls",
      "model_module_version": "1.5.0",
      "model_name": "VBoxModel",
      "state": {
       "children": [
        "IPY_MODEL_568428fe81374fec925f8b2825788f73",
        "IPY_MODEL_ce9548569c91430db96aca656065a900",
        "IPY_MODEL_2088cd338f9244a1a2786ffdab0a55ff",
        "IPY_MODEL_2b2763cc0e1349738b42c59ba8c2ec70"
       ],
       "layout": "IPY_MODEL_4d68f9cc744b43cd95cea68949dc648b"
      }
     },
     "75b1db76dcdc47eaa9d0990958157efe": {
      "model_module": "@jupyter-widgets/output",
      "model_module_version": "1.0.0",
      "model_name": "OutputModel",
      "state": {
       "layout": "IPY_MODEL_a8ef6ea2714542479be2416b3e4fe6b9",
       "outputs": [
        {
         "name": "stdout",
         "output_type": "stream",
         "text": "jajajajaj\n"
        }
       ]
      }
     },
     "75b5ab72d16a4f2bbd37cc7a8c9ca773": {
      "model_module": "@jupyter-widgets/base",
      "model_module_version": "1.2.0",
      "model_name": "LayoutModel",
      "state": {}
     },
     "765161163f674d32a8155183657d577f": {
      "model_module": "@jupyter-widgets/controls",
      "model_module_version": "1.5.0",
      "model_name": "RadioButtonsModel",
      "state": {
       "_options_labels": [
        "cat",
        "dog",
        "mouse"
       ],
       "index": 0,
       "layout": "IPY_MODEL_194885a4b29a440da9cdbf766a3a51e6",
       "style": "IPY_MODEL_129ccdf4831a4aaaa468e3bf323cbe83"
      }
     },
     "765378b05d574ee58c98173ea7f8ec3c": {
      "model_module": "@jupyter-widgets/controls",
      "model_module_version": "1.5.0",
      "model_name": "ButtonStyleModel",
      "state": {}
     },
     "768abba373704fc880eaf3f6395ae5c4": {
      "model_module": "@jupyter-widgets/base",
      "model_module_version": "1.2.0",
      "model_name": "LayoutModel",
      "state": {}
     },
     "76de68a289ea4c9eb80647e5cbfe878d": {
      "model_module": "@jupyter-widgets/controls",
      "model_module_version": "1.5.0",
      "model_name": "VBoxModel",
      "state": {
       "children": [
        "IPY_MODEL_bc6470d7178046b881dd77aee1134f0d",
        "IPY_MODEL_2ff860f2a1c34d8eab9cdcac9c34d2f0",
        "IPY_MODEL_912b696817f7474486cd24e83f6486bd",
        "IPY_MODEL_36930ff9b5f04cdda480ddf55ba76ecd"
       ],
       "layout": "IPY_MODEL_6b4c70ff0a5849d7bc7093a9c5c7858b"
      }
     },
     "772cf711a125435cbe58187af56ea813": {
      "model_module": "@jupyter-widgets/controls",
      "model_module_version": "1.5.0",
      "model_name": "RadioButtonsModel",
      "state": {
       "_options_labels": [
        "cat",
        "dog",
        "mouse"
       ],
       "index": 0,
       "layout": "IPY_MODEL_6167c0874ac24c2ab0e58b6b31419bb0",
       "style": "IPY_MODEL_3125c6a96fe44233afd28c2ab47a05c7"
      }
     },
     "773096d816ef47ad93bdd6088e76ae70": {
      "model_module": "@jupyter-widgets/base",
      "model_module_version": "1.2.0",
      "model_name": "LayoutModel",
      "state": {}
     },
     "774cd861496b41008643aa1c4a2a32a7": {
      "model_module": "@jupyter-widgets/base",
      "model_module_version": "1.2.0",
      "model_name": "LayoutModel",
      "state": {}
     },
     "7783c9f4408942dd9b2633b69e28ebdc": {
      "model_module": "@jupyter-widgets/controls",
      "model_module_version": "1.5.0",
      "model_name": "DescriptionStyleModel",
      "state": {
       "description_width": ""
      }
     },
     "77d7be82d4714b699c40be96a57c0396": {
      "model_module": "@jupyter-widgets/base",
      "model_module_version": "1.2.0",
      "model_name": "LayoutModel",
      "state": {}
     },
     "77ee1d3bd1344dceaf450210d1e24eb9": {
      "model_module": "@jupyter-widgets/output",
      "model_module_version": "1.0.0",
      "model_name": "OutputModel",
      "state": {
       "layout": "IPY_MODEL_f84552c1416044ad906d01ae94fd5049",
       "outputs": [
        {
         "name": "stdout",
         "output_type": "stream",
         "text": "\u001b[6;40;42mCorrect.\u001b[0m\n\n"
        }
       ]
      }
     },
     "7806c5559c524024bd15d7f1ac60d8f6": {
      "model_module": "@jupyter-widgets/controls",
      "model_module_version": "1.5.0",
      "model_name": "RadioButtonsModel",
      "state": {
       "_options_labels": [
        "apple",
        "banana",
        "pear"
       ],
       "index": 2,
       "layout": "IPY_MODEL_057801dc87c14390b9d4d3c41e653452",
       "style": "IPY_MODEL_629fa1fa07bb4c9ab8593a273f58e427"
      }
     },
     "7819ec0f9a414af290bdf8818d8bfbb8": {
      "model_module": "@jupyter-widgets/base",
      "model_module_version": "1.2.0",
      "model_name": "LayoutModel",
      "state": {}
     },
     "7867e98bb28e4abe93b7e5fe2e0120f5": {
      "model_module": "@jupyter-widgets/base",
      "model_module_version": "1.2.0",
      "model_name": "LayoutModel",
      "state": {}
     },
     "7885f6124c1e4558a4216daa0a6ec0cb": {
      "model_module": "@jupyter-widgets/base",
      "model_module_version": "1.2.0",
      "model_name": "LayoutModel",
      "state": {}
     },
     "78bf3de11b8243558dd01a36510afe6b": {
      "model_module": "@jupyter-widgets/controls",
      "model_module_version": "1.5.0",
      "model_name": "VBoxModel",
      "state": {
       "children": [
        "IPY_MODEL_75b1db76dcdc47eaa9d0990958157efe",
        "IPY_MODEL_1b6e207bef0f4d9595be773934d213db",
        "IPY_MODEL_e2816ba4d42e43a1abe415ad6fc7909e",
        "IPY_MODEL_49087b25f2994ca099a01cdd16533edc"
       ],
       "layout": "IPY_MODEL_b8d2470b14b243cb93cd708fee37c779"
      }
     },
     "78c4572ba8c64b959160ab51282e5330": {
      "model_module": "@jupyter-widgets/controls",
      "model_module_version": "1.5.0",
      "model_name": "ButtonModel",
      "state": {
       "description": "submit",
       "layout": "IPY_MODEL_be90144b9d27449a86970af769608c0d",
       "style": "IPY_MODEL_196407bb6b224ccf803ecdc3f94f9823"
      }
     },
     "78fddc1f55544aed9a81b6c4d461ce77": {
      "model_module": "@jupyter-widgets/base",
      "model_module_version": "1.2.0",
      "model_name": "LayoutModel",
      "state": {}
     },
     "7901470a9dd641139061230561c6d0e6": {
      "model_module": "@jupyter-widgets/output",
      "model_module_version": "1.0.0",
      "model_name": "OutputModel",
      "state": {
       "layout": "IPY_MODEL_1f51f36f7bec4e41bc6b06d33911828c",
       "outputs": [
        {
         "name": "stdout",
         "output_type": "stream",
         "text": "\u001b[6;40;32mCorrect.\u001b[0m\n\n"
        }
       ]
      }
     },
     "794720d0f4dd42b6a356e190e1545a31": {
      "model_module": "@jupyter-widgets/controls",
      "model_module_version": "1.5.0",
      "model_name": "ButtonStyleModel",
      "state": {}
     },
     "7974e090b45a410da0006bb911bf905a": {
      "model_module": "@jupyter-widgets/base",
      "model_module_version": "1.2.0",
      "model_name": "LayoutModel",
      "state": {}
     },
     "79a79330e777401f91a3eea846f3a381": {
      "model_module": "@jupyter-widgets/output",
      "model_module_version": "1.0.0",
      "model_name": "OutputModel",
      "state": {
       "layout": "IPY_MODEL_8c8f0cf8145d42208a1432a5fd01fe21",
       "outputs": [
        {
         "name": "stdout",
         "output_type": "stream",
         "text": "lalalalal\n"
        }
       ]
      }
     },
     "79f0191a769b4b80b8aed4d9b235505e": {
      "model_module": "@jupyter-widgets/output",
      "model_module_version": "1.0.0",
      "model_name": "OutputModel",
      "state": {
       "layout": "IPY_MODEL_8077321627eb4666beb3e650a47ea6ba",
       "outputs": [
        {
         "name": "stdout",
         "output_type": "stream",
         "text": "\u001b[1;33;47mIncorrect\u001b[0m\n\n"
        }
       ]
      }
     },
     "7a069981c30b447c98d35b14c07986ef": {
      "model_module": "@jupyter-widgets/base",
      "model_module_version": "1.2.0",
      "model_name": "LayoutModel",
      "state": {}
     },
     "7a0d5507159a43ceb6442515a6c22ca2": {
      "model_module": "@jupyter-widgets/output",
      "model_module_version": "1.0.0",
      "model_name": "OutputModel",
      "state": {
       "layout": "IPY_MODEL_d6c4011779d449e1a505de0d2e47f443",
       "outputs": [
        {
         "name": "stdout",
         "output_type": "stream",
         "text": "blablabla\n"
        }
       ]
      }
     },
     "7a1d92fd499d472f82d3ac72b2def2d2": {
      "model_module": "@jupyter-widgets/base",
      "model_module_version": "1.2.0",
      "model_name": "LayoutModel",
      "state": {}
     },
     "7a2e8247747042d09a16e125d2c51061": {
      "model_module": "@jupyter-widgets/controls",
      "model_module_version": "1.5.0",
      "model_name": "VBoxModel",
      "state": {
       "children": [
        "IPY_MODEL_423c01f843c84671b46fb656e3010fde",
        "IPY_MODEL_0e60673b12704bc2880bd9bed8bc3d7e",
        "IPY_MODEL_1436114a7c8445aeb7896ed1ff3edd42",
        "IPY_MODEL_9ae382a922604779b59154b3520b25f3"
       ],
       "layout": "IPY_MODEL_ec9694f92e134823a6e6aa71fb40db73"
      }
     },
     "7a3c51f94b5844dca230673fd09f6069": {
      "model_module": "@jupyter-widgets/base",
      "model_module_version": "1.2.0",
      "model_name": "LayoutModel",
      "state": {}
     },
     "7a63775b624b4b1b8292c504455ad930": {
      "model_module": "@jupyter-widgets/controls",
      "model_module_version": "1.5.0",
      "model_name": "ButtonModel",
      "state": {
       "description": "submit",
       "layout": "IPY_MODEL_d270a621667841eca66e445342817c6f",
       "style": "IPY_MODEL_4b66eee4ab8d49208150f30dfc672845"
      }
     },
     "7a7081a0c4784eb9a0fd94b50a8ba0be": {
      "model_module": "@jupyter-widgets/base",
      "model_module_version": "1.2.0",
      "model_name": "LayoutModel",
      "state": {}
     },
     "7b3327b742ae4cdab5c744613035597d": {
      "model_module": "@jupyter-widgets/base",
      "model_module_version": "1.2.0",
      "model_name": "LayoutModel",
      "state": {}
     },
     "7b6eff24319f431f89bcf03d4b9e14c5": {
      "model_module": "@jupyter-widgets/output",
      "model_module_version": "1.0.0",
      "model_name": "OutputModel",
      "state": {
       "layout": "IPY_MODEL_c0dc155bcdfc4e3aaaeb3423788884e2"
      }
     },
     "7c0f24c07c1f45208be0ccb4025cdb08": {
      "model_module": "@jupyter-widgets/controls",
      "model_module_version": "1.5.0",
      "model_name": "ButtonStyleModel",
      "state": {}
     },
     "7c6eebafdd7840ada62cdb016e37b11d": {
      "model_module": "@jupyter-widgets/controls",
      "model_module_version": "1.5.0",
      "model_name": "ButtonStyleModel",
      "state": {}
     },
     "7d4631ca5c26494fa480523ae587707d": {
      "model_module": "@jupyter-widgets/base",
      "model_module_version": "1.2.0",
      "model_name": "LayoutModel",
      "state": {}
     },
     "7d58f6d419c8460bb386bb7be9acb408": {
      "model_module": "@jupyter-widgets/output",
      "model_module_version": "1.0.0",
      "model_name": "OutputModel",
      "state": {
       "layout": "IPY_MODEL_2d082181bb7e424faac92ced8379cfba",
       "outputs": [
        {
         "name": "stdout",
         "output_type": "stream",
         "text": "lalalalal\n"
        }
       ]
      }
     },
     "7d664b380cf74daebe67a92e43a73fbb": {
      "model_module": "@jupyter-widgets/controls",
      "model_module_version": "1.5.0",
      "model_name": "DescriptionStyleModel",
      "state": {
       "description_width": ""
      }
     },
     "7d9431eb7ad54c36b1bcaf1e29e00332": {
      "model_module": "@jupyter-widgets/controls",
      "model_module_version": "1.5.0",
      "model_name": "RadioButtonsModel",
      "state": {
       "_options_labels": [
        "cat",
        "dog",
        "mouse"
       ],
       "index": 0,
       "layout": "IPY_MODEL_ffdfe1a01dda46c2a7731c7bb4b5a3f0",
       "style": "IPY_MODEL_7e06a09d56ac4af3bfb5a150f8a678c7"
      }
     },
     "7d95520bda0145b3a66630ed1f5831ef": {
      "model_module": "@jupyter-widgets/controls",
      "model_module_version": "1.5.0",
      "model_name": "RadioButtonsModel",
      "state": {
       "_options_labels": [
        "cat",
        "dog",
        "mouse"
       ],
       "index": 0,
       "layout": "IPY_MODEL_09ec961ec5e74b44ab3e37b5200b9523",
       "style": "IPY_MODEL_962c3ed7189745d38442c65c6337f3bc"
      }
     },
     "7dd00ce079d44093857760e1ae376675": {
      "model_module": "@jupyter-widgets/controls",
      "model_module_version": "1.5.0",
      "model_name": "ButtonStyleModel",
      "state": {}
     },
     "7e06a09d56ac4af3bfb5a150f8a678c7": {
      "model_module": "@jupyter-widgets/controls",
      "model_module_version": "1.5.0",
      "model_name": "DescriptionStyleModel",
      "state": {
       "description_width": ""
      }
     },
     "7e0fa187e0e5476f98500eeb20df5092": {
      "model_module": "@jupyter-widgets/output",
      "model_module_version": "1.0.0",
      "model_name": "OutputModel",
      "state": {
       "layout": "IPY_MODEL_9243857d94794dd0bc3b6884a6d222b8",
       "outputs": [
        {
         "name": "stdout",
         "output_type": "stream",
         "text": "lalalalal\n"
        }
       ]
      }
     },
     "7e67c85153444f4c865b25eeee19dfbf": {
      "model_module": "@jupyter-widgets/base",
      "model_module_version": "1.2.0",
      "model_name": "LayoutModel",
      "state": {}
     },
     "7e91b5305c2b4112a0b6c940ea70a1b9": {
      "model_module": "@jupyter-widgets/base",
      "model_module_version": "1.2.0",
      "model_name": "LayoutModel",
      "state": {}
     },
     "7f37236637544e12b9d40e328ae11942": {
      "model_module": "@jupyter-widgets/base",
      "model_module_version": "1.2.0",
      "model_name": "LayoutModel",
      "state": {}
     },
     "7f4cb912b88646e7929cd6f647865089": {
      "model_module": "@jupyter-widgets/base",
      "model_module_version": "1.2.0",
      "model_name": "LayoutModel",
      "state": {}
     },
     "7f4f264aec7e4d10a8ffc49ebfdc2e56": {
      "model_module": "@jupyter-widgets/controls",
      "model_module_version": "1.5.0",
      "model_name": "ButtonStyleModel",
      "state": {}
     },
     "7f643624dcf545929868b264176284d0": {
      "model_module": "@jupyter-widgets/base",
      "model_module_version": "1.2.0",
      "model_name": "LayoutModel",
      "state": {}
     },
     "7ffbd5398a524a799efd419b81a008b7": {
      "model_module": "@jupyter-widgets/base",
      "model_module_version": "1.2.0",
      "model_name": "LayoutModel",
      "state": {}
     },
     "801079d3678e465fbebadfdbc55d892d": {
      "model_module": "@jupyter-widgets/output",
      "model_module_version": "1.0.0",
      "model_name": "OutputModel",
      "state": {
       "layout": "IPY_MODEL_dec524d3ca4b4f04be69bca1d9521cfb",
       "outputs": [
        {
         "name": "stdout",
         "output_type": "stream",
         "text": "blablabla\n"
        }
       ]
      }
     },
     "8077321627eb4666beb3e650a47ea6ba": {
      "model_module": "@jupyter-widgets/base",
      "model_module_version": "1.2.0",
      "model_name": "LayoutModel",
      "state": {}
     },
     "80b2fe9497be4cf7839fad742a641480": {
      "model_module": "@jupyter-widgets/base",
      "model_module_version": "1.2.0",
      "model_name": "LayoutModel",
      "state": {}
     },
     "812aa5d79d2f4cc195f4d77f010572a7": {
      "model_module": "@jupyter-widgets/controls",
      "model_module_version": "1.5.0",
      "model_name": "RadioButtonsModel",
      "state": {
       "_options_labels": [
        "blue",
        "white",
        "red"
       ],
       "index": 0,
       "layout": "IPY_MODEL_06e4533ef32847a18b9865fcdde73dd9",
       "style": "IPY_MODEL_f4d881cee27e41cc98777961b68a47c6"
      }
     },
     "81ca37cde7e547a2a642a1eff6f7d98a": {
      "model_module": "@jupyter-widgets/controls",
      "model_module_version": "1.5.0",
      "model_name": "RadioButtonsModel",
      "state": {
       "_options_labels": [
        "apple",
        "banana",
        "pear"
       ],
       "index": 2,
       "layout": "IPY_MODEL_768abba373704fc880eaf3f6395ae5c4",
       "style": "IPY_MODEL_bcb4ca4784324dfbb18a8b931f4ca392"
      }
     },
     "822b02be12a14ec482b40482d350f450": {
      "model_module": "@jupyter-widgets/output",
      "model_module_version": "1.0.0",
      "model_name": "OutputModel",
      "state": {
       "layout": "IPY_MODEL_fbb720d47fd646fd8a2033b25c02397a"
      }
     },
     "824c724186ab4bd0b6e31f8941ad33b1": {
      "model_module": "@jupyter-widgets/controls",
      "model_module_version": "1.5.0",
      "model_name": "ButtonModel",
      "state": {
       "description": "submit",
       "layout": "IPY_MODEL_ed2902bf8c9b4d7e84059ef9f9860cf7",
       "style": "IPY_MODEL_d884a82aa6154a3780d8512a3ccc9b7c"
      }
     },
     "8253cfdaa8a340b4bd976cb66998e914": {
      "model_module": "@jupyter-widgets/controls",
      "model_module_version": "1.5.0",
      "model_name": "RadioButtonsModel",
      "state": {
       "_options_labels": [
        "apple",
        "banana",
        "pear"
       ],
       "index": 2,
       "layout": "IPY_MODEL_21055e4ff36d482b98b3a4fd0a56f51c",
       "style": "IPY_MODEL_e101a0b0fe4f4fa592f4034088f03e2c"
      }
     },
     "826a8ed7c8c6413cb65b618844fb70d7": {
      "model_module": "@jupyter-widgets/base",
      "model_module_version": "1.2.0",
      "model_name": "LayoutModel",
      "state": {}
     },
     "83190db64a2b422bb847058aecddae94": {
      "model_module": "@jupyter-widgets/output",
      "model_module_version": "1.0.0",
      "model_name": "OutputModel",
      "state": {
       "layout": "IPY_MODEL_cfadcd6195cf4c99adba6e2c05bfa9d5",
       "outputs": [
        {
         "name": "stdout",
         "output_type": "stream",
         "text": "jajajajaj\n"
        }
       ]
      }
     },
     "8327ee83b2234bf2a7cd18bab9344209": {
      "model_module": "@jupyter-widgets/output",
      "model_module_version": "1.0.0",
      "model_name": "OutputModel",
      "state": {
       "layout": "IPY_MODEL_965a18f0445f4b9f8a64a1c56191b101"
      }
     },
     "837a5479f6ae4b2db8f5348dad19f3ef": {
      "model_module": "@jupyter-widgets/output",
      "model_module_version": "1.0.0",
      "model_name": "OutputModel",
      "state": {
       "layout": "IPY_MODEL_595fdba799b540ed86db6f1dba178574"
      }
     },
     "8403fc6bc33646b98f29bb4fd85fa141": {
      "model_module": "@jupyter-widgets/controls",
      "model_module_version": "1.5.0",
      "model_name": "VBoxModel",
      "state": {
       "children": [
        "IPY_MODEL_83190db64a2b422bb847058aecddae94",
        "IPY_MODEL_5ef83cd4aa4149ca8d4ae272e4f575f1",
        "IPY_MODEL_4b15fa08e2cc4840b9b0879a7d2665b3",
        "IPY_MODEL_6edb903ae42c4fe5ab74b806f1842bac"
       ],
       "layout": "IPY_MODEL_2843d47913704e6ab84d39a38692d6e4"
      }
     },
     "8457be5f82ce4c7388a7ca8a0ed68998": {
      "model_module": "@jupyter-widgets/base",
      "model_module_version": "1.2.0",
      "model_name": "LayoutModel",
      "state": {}
     },
     "846791d4b446449d8f6bbf8b18b14097": {
      "model_module": "@jupyter-widgets/controls",
      "model_module_version": "1.5.0",
      "model_name": "VBoxModel",
      "state": {
       "children": [
        "IPY_MODEL_3ab04eed2d774100a58665d81f92e45a",
        "IPY_MODEL_bc5cdb81f6d34cbe93b158dea9e313d1",
        "IPY_MODEL_54f9f0b17d18460ca975627483374824",
        "IPY_MODEL_93273098704647d49cf6eed728cd36be"
       ],
       "layout": "IPY_MODEL_ba8e5ea3d0fd471cb2518dc3eaec4a42"
      }
     },
     "847d50dc658e40ad9a9b0b2b832a558c": {
      "model_module": "@jupyter-widgets/controls",
      "model_module_version": "1.5.0",
      "model_name": "VBoxModel",
      "state": {
       "children": [
        "IPY_MODEL_b708923aa32745e4ba72615e0b901e79",
        "IPY_MODEL_64bcd482416942d8b729ff18c894a88f",
        "IPY_MODEL_d26f891375b04b1cbc3842fe4accb521",
        "IPY_MODEL_581e31764c444606ac3291ec3366d103"
       ],
       "layout": "IPY_MODEL_53083c8e248042acb2f3360f52cbe394"
      }
     },
     "84bc84eb66dd457b8774381ebcfcfb88": {
      "model_module": "@jupyter-widgets/controls",
      "model_module_version": "1.5.0",
      "model_name": "RadioButtonsModel",
      "state": {
       "_options_labels": [
        "blue",
        "white",
        "red"
       ],
       "index": 0,
       "layout": "IPY_MODEL_078675e0b6e44ee5906915ef996d3ece",
       "style": "IPY_MODEL_bcdf1a861d934136a5bb1c38623b44cc"
      }
     },
     "84f05c66535f425abd75d806eb386c4c": {
      "model_module": "@jupyter-widgets/base",
      "model_module_version": "1.2.0",
      "model_name": "LayoutModel",
      "state": {}
     },
     "856f09e381bf4156b888f8b58629b86b": {
      "model_module": "@jupyter-widgets/controls",
      "model_module_version": "1.5.0",
      "model_name": "VBoxModel",
      "state": {
       "children": [
        "IPY_MODEL_9d3cbeb190a7471a91fa82585a35d96f",
        "IPY_MODEL_23aff2c71ece467bb0f8ebcab39f6f88",
        "IPY_MODEL_eadce43d3a5b4da086e88bb84c46cfa1",
        "IPY_MODEL_2784214b35ec4dc78b1b05ea2792fb49"
       ],
       "layout": "IPY_MODEL_04c4b0ad7f434ea093138bc4adda531d"
      }
     },
     "85f542732c614a67a076747e6a4d6719": {
      "model_module": "@jupyter-widgets/controls",
      "model_module_version": "1.5.0",
      "model_name": "ButtonModel",
      "state": {
       "description": "submit",
       "layout": "IPY_MODEL_fe7c2ec2c56046f1819e9ddccf620c5f",
       "style": "IPY_MODEL_59c21dd70c8e4ec9acd32a8f228fa891"
      }
     },
     "85f7398fbbf44266b83a47965361b445": {
      "model_module": "@jupyter-widgets/base",
      "model_module_version": "1.2.0",
      "model_name": "LayoutModel",
      "state": {}
     },
     "863a862366534fb5830a8634c6a0e3d7": {
      "model_module": "@jupyter-widgets/output",
      "model_module_version": "1.0.0",
      "model_name": "OutputModel",
      "state": {
       "layout": "IPY_MODEL_ceb7b96723fb4c808666d78cf9566d81",
       "outputs": [
        {
         "name": "stdout",
         "output_type": "stream",
         "text": "blablabla\n"
        }
       ]
      }
     },
     "864ce8f1ca004370adc2cdd3403f94c8": {
      "model_module": "@jupyter-widgets/controls",
      "model_module_version": "1.5.0",
      "model_name": "RadioButtonsModel",
      "state": {
       "_options_labels": [
        "apple",
        "banana",
        "pear"
       ],
       "index": 2,
       "layout": "IPY_MODEL_dabc758922434f21ba1a9c20d1ac9787",
       "style": "IPY_MODEL_62e1ece7022c4a11a8b6db52a8a35e6a"
      }
     },
     "87111de1929b4938bb16d00bcf89d42c": {
      "model_module": "@jupyter-widgets/base",
      "model_module_version": "1.2.0",
      "model_name": "LayoutModel",
      "state": {}
     },
     "8746404d9da74b0c9de70e86e9a88ffe": {
      "model_module": "@jupyter-widgets/controls",
      "model_module_version": "1.5.0",
      "model_name": "VBoxModel",
      "state": {
       "children": [
        "IPY_MODEL_b6b96c0c5d444711a7abc8929fb9e7ca",
        "IPY_MODEL_355997b9572a4a38aff7e805fffdb48c",
        "IPY_MODEL_40b450607b9e41d2ac36fa76c31a8f70",
        "IPY_MODEL_33a446b3d69441fba52fcc3e2c81ec32"
       ],
       "layout": "IPY_MODEL_a4d4ec765a9c4ee883bec0594b8d3175"
      }
     },
     "8757cd3d80d6484cae3e2bedaf06c549": {
      "model_module": "@jupyter-widgets/output",
      "model_module_version": "1.0.0",
      "model_name": "OutputModel",
      "state": {
       "layout": "IPY_MODEL_8a9b5f97747b4dd1bca7f90e931ca0c3"
      }
     },
     "87b0e963dd4b497599a2b9afc7e64baa": {
      "model_module": "@jupyter-widgets/base",
      "model_module_version": "1.2.0",
      "model_name": "LayoutModel",
      "state": {}
     },
     "87ee8167bd494d9791e2a6dffea6e7ee": {
      "model_module": "@jupyter-widgets/base",
      "model_module_version": "1.2.0",
      "model_name": "LayoutModel",
      "state": {}
     },
     "886c09aad810466a984d7e2291da37e3": {
      "model_module": "@jupyter-widgets/base",
      "model_module_version": "1.2.0",
      "model_name": "LayoutModel",
      "state": {}
     },
     "88c4e7b62af24c11919f1bdb3f926083": {
      "model_module": "@jupyter-widgets/controls",
      "model_module_version": "1.5.0",
      "model_name": "ButtonModel",
      "state": {
       "description": "submit",
       "layout": "IPY_MODEL_a4f4d611d2474aa4b72ceb570beef601",
       "style": "IPY_MODEL_8f6fdf06d91544b5b3b49354d150f3dd"
      }
     },
     "890eaebf021c414a9709ed2dc079a196": {
      "model_module": "@jupyter-widgets/controls",
      "model_module_version": "1.5.0",
      "model_name": "RadioButtonsModel",
      "state": {
       "_options_labels": [
        "cat",
        "dog",
        "mouse"
       ],
       "index": 0,
       "layout": "IPY_MODEL_fe97dd35e10a4ffe91713047da271114",
       "style": "IPY_MODEL_136a074ce62747c8abf295588cea7e97"
      }
     },
     "89548424d87b469c986b584822fc704e": {
      "model_module": "@jupyter-widgets/controls",
      "model_module_version": "1.5.0",
      "model_name": "DescriptionStyleModel",
      "state": {
       "description_width": ""
      }
     },
     "89ad23035bd94e63acc50beafe83775f": {
      "model_module": "@jupyter-widgets/output",
      "model_module_version": "1.0.0",
      "model_name": "OutputModel",
      "state": {
       "layout": "IPY_MODEL_3238b6ac3ddd491e88ab680926f20f9a",
       "outputs": [
        {
         "name": "stdout",
         "output_type": "stream",
         "text": "blablabla\n"
        }
       ]
      }
     },
     "89f514927b164aa49f36ef08a7993e63": {
      "model_module": "@jupyter-widgets/base",
      "model_module_version": "1.2.0",
      "model_name": "LayoutModel",
      "state": {}
     },
     "8a53dff38f0a4f71b6bb70318ebd3268": {
      "model_module": "@jupyter-widgets/controls",
      "model_module_version": "1.5.0",
      "model_name": "RadioButtonsModel",
      "state": {
       "_options_labels": [
        "cat",
        "dog",
        "mouse"
       ],
       "index": 0,
       "layout": "IPY_MODEL_fac88ed4f16c47d691b4242822e2bfc5",
       "style": "IPY_MODEL_f4bf23d7286d4944ac2d497e80a716fc"
      }
     },
     "8a74698555b54174bb75c5b500264808": {
      "model_module": "@jupyter-widgets/output",
      "model_module_version": "1.0.0",
      "model_name": "OutputModel",
      "state": {
       "layout": "IPY_MODEL_547230ef928e40a1acac4a8081d87f54",
       "outputs": [
        {
         "name": "stdout",
         "output_type": "stream",
         "text": "jajajajaj\n"
        }
       ]
      }
     },
     "8a9b5f97747b4dd1bca7f90e931ca0c3": {
      "model_module": "@jupyter-widgets/base",
      "model_module_version": "1.2.0",
      "model_name": "LayoutModel",
      "state": {}
     },
     "8b033b9ce4704a768fe609452557a823": {
      "model_module": "@jupyter-widgets/base",
      "model_module_version": "1.2.0",
      "model_name": "LayoutModel",
      "state": {}
     },
     "8b5395e9d8b04698b4bc8f927d882e7e": {
      "model_module": "@jupyter-widgets/controls",
      "model_module_version": "1.5.0",
      "model_name": "VBoxModel",
      "state": {
       "children": [
        "IPY_MODEL_196e04dd719640d0be808c7f0b4b1381",
        "IPY_MODEL_f03490829f9941fd8e2a56815505966e",
        "IPY_MODEL_a8cd48e7c19e47d38ccb73ef9f669c72",
        "IPY_MODEL_2d398c44e7e44b20ac777302c699c6e9"
       ],
       "layout": "IPY_MODEL_bd0f08fa25934cd288b819cbce8cb271"
      }
     },
     "8b6537f12f27446baa376e9db1579451": {
      "model_module": "@jupyter-widgets/controls",
      "model_module_version": "1.5.0",
      "model_name": "VBoxModel",
      "state": {
       "children": [
        "IPY_MODEL_f9630d23adb24baca62eadde8d65b9fd",
        "IPY_MODEL_81ca37cde7e547a2a642a1eff6f7d98a",
        "IPY_MODEL_32901a7d29ea454db6d4d69bde6b2de1",
        "IPY_MODEL_e15353281b4241a3942b0946acd91e3f"
       ],
       "layout": "IPY_MODEL_bcd43ba0946a4362b44ada6f30ce4c30"
      }
     },
     "8b7922a8a9c94162a99920f2b83b239f": {
      "model_module": "@jupyter-widgets/base",
      "model_module_version": "1.2.0",
      "model_name": "LayoutModel",
      "state": {}
     },
     "8baabb229c3b4d908af6f83a074f5d91": {
      "model_module": "@jupyter-widgets/output",
      "model_module_version": "1.0.0",
      "model_name": "OutputModel",
      "state": {
       "layout": "IPY_MODEL_8f87083d990544f6b225f933a3c42f96",
       "outputs": [
        {
         "name": "stdout",
         "output_type": "stream",
         "text": "\u001b[1;40;40mCorrect\u001b[0m\n\n"
        }
       ]
      }
     },
     "8bd7681b73a2402abed7a5e385b398b2": {
      "model_module": "@jupyter-widgets/base",
      "model_module_version": "1.2.0",
      "model_name": "LayoutModel",
      "state": {}
     },
     "8bdc3a5e1d764632ae45d3c78af4357d": {
      "model_module": "@jupyter-widgets/base",
      "model_module_version": "1.2.0",
      "model_name": "LayoutModel",
      "state": {}
     },
     "8c19408c363f4561a906790dd6c34939": {
      "model_module": "@jupyter-widgets/base",
      "model_module_version": "1.2.0",
      "model_name": "LayoutModel",
      "state": {}
     },
     "8c1d6a9de0f8435b8ee5b089d2a6f91e": {
      "model_module": "@jupyter-widgets/base",
      "model_module_version": "1.2.0",
      "model_name": "LayoutModel",
      "state": {}
     },
     "8c41f1a876c3467a820c68fcd26d65b0": {
      "model_module": "@jupyter-widgets/controls",
      "model_module_version": "1.5.0",
      "model_name": "DescriptionStyleModel",
      "state": {
       "description_width": ""
      }
     },
     "8c879b3b2d5849e8b82c55500b7712a5": {
      "model_module": "@jupyter-widgets/controls",
      "model_module_version": "1.5.0",
      "model_name": "ButtonModel",
      "state": {
       "description": "submit",
       "layout": "IPY_MODEL_2a42bb1fb7c346a5ab0598db86932666",
       "style": "IPY_MODEL_412f377be5094804b171c5da1924310b"
      }
     },
     "8c8f0cf8145d42208a1432a5fd01fe21": {
      "model_module": "@jupyter-widgets/base",
      "model_module_version": "1.2.0",
      "model_name": "LayoutModel",
      "state": {}
     },
     "8c90f1e6aae540188f2e22cd28459383": {
      "model_module": "@jupyter-widgets/controls",
      "model_module_version": "1.5.0",
      "model_name": "ButtonModel",
      "state": {
       "description": "submit",
       "layout": "IPY_MODEL_c066ca53c2604fec95ea66f4887e13bb",
       "style": "IPY_MODEL_c9b5556005dd4e3c9bdb8406b4164607"
      }
     },
     "8cafc1955fdb472f9de674c2273c3b29": {
      "model_module": "@jupyter-widgets/controls",
      "model_module_version": "1.5.0",
      "model_name": "RadioButtonsModel",
      "state": {
       "_options_labels": [
        "cat",
        "dog",
        "mouse"
       ],
       "index": 0,
       "layout": "IPY_MODEL_f69a467f046f4a9cbfbd5a4797285650",
       "style": "IPY_MODEL_15c0f69109044ffd8cfc6e109f71a2ed"
      }
     },
     "8d0e6133c598444eb35ee03b7aa99ec1": {
      "model_module": "@jupyter-widgets/base",
      "model_module_version": "1.2.0",
      "model_name": "LayoutModel",
      "state": {}
     },
     "8d1fd630e39b4ab384da821146c34541": {
      "model_module": "@jupyter-widgets/controls",
      "model_module_version": "1.5.0",
      "model_name": "ButtonModel",
      "state": {
       "description": "submit",
       "layout": "IPY_MODEL_d5599adc122947eaa95b3fdba76b6a92",
       "style": "IPY_MODEL_90785be1c1d948c987f95d3878f03024"
      }
     },
     "8da126aab56441ea9f4dabab43f09949": {
      "model_module": "@jupyter-widgets/controls",
      "model_module_version": "1.5.0",
      "model_name": "VBoxModel",
      "state": {
       "children": [
        "IPY_MODEL_ac868716b33f4a17818515e22e2e9ae5",
        "IPY_MODEL_371664e2bb4348e4a93f11d6b0a4e07e",
        "IPY_MODEL_9e86032bd85341b8a3b1dfe281433485",
        "IPY_MODEL_520a7c33e9aa45f0b32a391b1f243759"
       ],
       "layout": "IPY_MODEL_7f4cb912b88646e7929cd6f647865089"
      }
     },
     "8dcd04af017a49bd9b043e8172008ef7": {
      "model_module": "@jupyter-widgets/output",
      "model_module_version": "1.0.0",
      "model_name": "OutputModel",
      "state": {
       "layout": "IPY_MODEL_4a297f38aea74d2d9747171f596e950d"
      }
     },
     "8de8333ced1344e4a194b7e7f67e2d61": {
      "model_module": "@jupyter-widgets/base",
      "model_module_version": "1.2.0",
      "model_name": "LayoutModel",
      "state": {}
     },
     "8e68c48a2b7e41608f65b5994e29b095": {
      "model_module": "@jupyter-widgets/controls",
      "model_module_version": "1.5.0",
      "model_name": "ButtonModel",
      "state": {
       "description": "submit",
       "layout": "IPY_MODEL_6941b23328744d11bcfc1afd6fc5b364",
       "style": "IPY_MODEL_a47209f93d774f36b255ca190692d66e"
      }
     },
     "8e71e3199571444abbcdecd45d3d9083": {
      "model_module": "@jupyter-widgets/controls",
      "model_module_version": "1.5.0",
      "model_name": "ButtonModel",
      "state": {
       "description": "submit",
       "layout": "IPY_MODEL_cbeecef99b72438abb3b62cf4826025b",
       "style": "IPY_MODEL_455aefa0b2f34967a9cb7f950fff0165"
      }
     },
     "8e79615348a745dfb0893b03bb77c207": {
      "model_module": "@jupyter-widgets/controls",
      "model_module_version": "1.5.0",
      "model_name": "VBoxModel",
      "state": {
       "children": [
        "IPY_MODEL_8fb44345a6164ed6bbcfe18b41365406",
        "IPY_MODEL_bbeef16cf3fa433c841199e9eb01f7f3",
        "IPY_MODEL_824c724186ab4bd0b6e31f8941ad33b1",
        "IPY_MODEL_27ae9840db0b4dfd90f17e068f17c852"
       ],
       "layout": "IPY_MODEL_0eb2ca98fbf64349ae29c62e6fc6baf4"
      }
     },
     "8ed52ea9a3bf492d90e4d3feed5cacc2": {
      "model_module": "@jupyter-widgets/base",
      "model_module_version": "1.2.0",
      "model_name": "LayoutModel",
      "state": {}
     },
     "8f188074c09f4398b4a76c894822598f": {
      "model_module": "@jupyter-widgets/base",
      "model_module_version": "1.2.0",
      "model_name": "LayoutModel",
      "state": {}
     },
     "8f622074ca1c4dc484f01bfd0c233fe3": {
      "model_module": "@jupyter-widgets/base",
      "model_module_version": "1.2.0",
      "model_name": "LayoutModel",
      "state": {}
     },
     "8f6fdf06d91544b5b3b49354d150f3dd": {
      "model_module": "@jupyter-widgets/controls",
      "model_module_version": "1.5.0",
      "model_name": "ButtonStyleModel",
      "state": {}
     },
     "8f87083d990544f6b225f933a3c42f96": {
      "model_module": "@jupyter-widgets/base",
      "model_module_version": "1.2.0",
      "model_name": "LayoutModel",
      "state": {}
     },
     "8fb44345a6164ed6bbcfe18b41365406": {
      "model_module": "@jupyter-widgets/output",
      "model_module_version": "1.0.0",
      "model_name": "OutputModel",
      "state": {
       "layout": "IPY_MODEL_505283885dc846b7b673f147bd92db57",
       "outputs": [
        {
         "name": "stdout",
         "output_type": "stream",
         "text": "lalalalal\n"
        }
       ]
      }
     },
     "8fd12e108c114e319fc66a9c414cef93": {
      "model_module": "@jupyter-widgets/base",
      "model_module_version": "1.2.0",
      "model_name": "LayoutModel",
      "state": {}
     },
     "8fe89ead36fa4872bede6ed431d4a0c2": {
      "model_module": "@jupyter-widgets/base",
      "model_module_version": "1.2.0",
      "model_name": "LayoutModel",
      "state": {}
     },
     "901907a12635462ea737817e945a8c5e": {
      "model_module": "@jupyter-widgets/controls",
      "model_module_version": "1.5.0",
      "model_name": "DescriptionStyleModel",
      "state": {
       "description_width": ""
      }
     },
     "906ec0b111ad4de9a52b9aafd719dad4": {
      "model_module": "@jupyter-widgets/base",
      "model_module_version": "1.2.0",
      "model_name": "LayoutModel",
      "state": {}
     },
     "906fb7ae88fe401d99edaf6fdf037f87": {
      "model_module": "@jupyter-widgets/base",
      "model_module_version": "1.2.0",
      "model_name": "LayoutModel",
      "state": {}
     },
     "90785be1c1d948c987f95d3878f03024": {
      "model_module": "@jupyter-widgets/controls",
      "model_module_version": "1.5.0",
      "model_name": "ButtonStyleModel",
      "state": {}
     },
     "9090620d3975448d8d8d9a4acb54ec13": {
      "model_module": "@jupyter-widgets/output",
      "model_module_version": "1.0.0",
      "model_name": "OutputModel",
      "state": {
       "layout": "IPY_MODEL_a0d61a886e8d471e818d3034743b3b3b"
      }
     },
     "909bc9730e2047298694369cdd02c8c0": {
      "model_module": "@jupyter-widgets/base",
      "model_module_version": "1.2.0",
      "model_name": "LayoutModel",
      "state": {}
     },
     "90eff28671284f118ec8654d958cbdcc": {
      "model_module": "@jupyter-widgets/base",
      "model_module_version": "1.2.0",
      "model_name": "LayoutModel",
      "state": {}
     },
     "911aacfd3bf94121a6c7354429fc8f0c": {
      "model_module": "@jupyter-widgets/controls",
      "model_module_version": "1.5.0",
      "model_name": "ButtonModel",
      "state": {
       "description": "submit",
       "layout": "IPY_MODEL_886c09aad810466a984d7e2291da37e3",
       "style": "IPY_MODEL_d6821394c0d14c80944fa8ebfd2723af"
      }
     },
     "912b696817f7474486cd24e83f6486bd": {
      "model_module": "@jupyter-widgets/controls",
      "model_module_version": "1.5.0",
      "model_name": "ButtonModel",
      "state": {
       "description": "submit",
       "layout": "IPY_MODEL_9aade781e60942588cca36769ada55c1",
       "style": "IPY_MODEL_6937349d07d04985a91678ec47d3cafb"
      }
     },
     "913d08cc0e184a38837c0241e456bdfb": {
      "model_module": "@jupyter-widgets/controls",
      "model_module_version": "1.5.0",
      "model_name": "ButtonStyleModel",
      "state": {}
     },
     "919b3129275c4998ae92f9d2861b65e8": {
      "model_module": "@jupyter-widgets/base",
      "model_module_version": "1.2.0",
      "model_name": "LayoutModel",
      "state": {}
     },
     "91cedcf2043a42abaddfddb55b243a1e": {
      "model_module": "@jupyter-widgets/controls",
      "model_module_version": "1.5.0",
      "model_name": "ButtonModel",
      "state": {
       "description": "submit",
       "layout": "IPY_MODEL_daef4e8c82d4427090d29faa95709763",
       "style": "IPY_MODEL_d4b707a263f743b3893d8a401f28665a"
      }
     },
     "91d7ddacb3ba43cdb5ba8a2bb40cb211": {
      "model_module": "@jupyter-widgets/base",
      "model_module_version": "1.2.0",
      "model_name": "LayoutModel",
      "state": {}
     },
     "9243857d94794dd0bc3b6884a6d222b8": {
      "model_module": "@jupyter-widgets/base",
      "model_module_version": "1.2.0",
      "model_name": "LayoutModel",
      "state": {}
     },
     "924bf9ddb8c94534a99e4fb0317d7544": {
      "model_module": "@jupyter-widgets/controls",
      "model_module_version": "1.5.0",
      "model_name": "ButtonStyleModel",
      "state": {}
     },
     "92e58a3681fb4ed792b569c0b757b154": {
      "model_module": "@jupyter-widgets/output",
      "model_module_version": "1.0.0",
      "model_name": "OutputModel",
      "state": {
       "layout": "IPY_MODEL_c70826f67cd24e529c1413dc475f0103"
      }
     },
     "930ca15fb197403683e67e654457ce50": {
      "model_module": "@jupyter-widgets/base",
      "model_module_version": "1.2.0",
      "model_name": "LayoutModel",
      "state": {}
     },
     "932244c2e7e64cd6859469a819c9941e": {
      "model_module": "@jupyter-widgets/controls",
      "model_module_version": "1.5.0",
      "model_name": "VBoxModel",
      "state": {
       "children": [
        "IPY_MODEL_5db58e4de0294bc2b598b90b368bb1bb",
        "IPY_MODEL_a5fc799ace99482096fc959e27243973",
        "IPY_MODEL_f75edbd526344b178adfdc7c77afcb87",
        "IPY_MODEL_12612b0ba3e3483298a81a200fe335cf"
       ],
       "layout": "IPY_MODEL_076c3e5688b14b4d8e5e7f4a277b8202"
      }
     },
     "93273098704647d49cf6eed728cd36be": {
      "model_module": "@jupyter-widgets/output",
      "model_module_version": "1.0.0",
      "model_name": "OutputModel",
      "state": {
       "layout": "IPY_MODEL_d001999b616543448a3dc18aed5a3389"
      }
     },
     "93426699a3414d899748e2379d8626f2": {
      "model_module": "@jupyter-widgets/controls",
      "model_module_version": "1.5.0",
      "model_name": "DescriptionStyleModel",
      "state": {
       "description_width": ""
      }
     },
     "93434375daf747a78b823184f6612efe": {
      "model_module": "@jupyter-widgets/base",
      "model_module_version": "1.2.0",
      "model_name": "LayoutModel",
      "state": {}
     },
     "938356ad0f5440da995af2b7ad9ed1b7": {
      "model_module": "@jupyter-widgets/controls",
      "model_module_version": "1.5.0",
      "model_name": "ButtonStyleModel",
      "state": {}
     },
     "93b130f52df24a1f8c95da733a81925c": {
      "model_module": "@jupyter-widgets/base",
      "model_module_version": "1.2.0",
      "model_name": "LayoutModel",
      "state": {}
     },
     "93c56e04ba954a418ba5a9e56eda0353": {
      "model_module": "@jupyter-widgets/output",
      "model_module_version": "1.0.0",
      "model_name": "OutputModel",
      "state": {
       "layout": "IPY_MODEL_529d797016fe48d6952bed3d2d555dcf",
       "outputs": [
        {
         "name": "stdout",
         "output_type": "stream",
         "text": "jajajajaj\n"
        }
       ]
      }
     },
     "93d874455b704999a9a536afd519a03d": {
      "model_module": "@jupyter-widgets/controls",
      "model_module_version": "1.5.0",
      "model_name": "ButtonModel",
      "state": {
       "description": "submit",
       "layout": "IPY_MODEL_d18f41365a1348549c423a627bed6da6",
       "style": "IPY_MODEL_1bc8f9415b664099adb4bb915b724957"
      }
     },
     "94405a30e3304647a3d24439e0a6e31e": {
      "model_module": "@jupyter-widgets/base",
      "model_module_version": "1.2.0",
      "model_name": "LayoutModel",
      "state": {}
     },
     "9453b8e3426141bba8645a3a3083ee15": {
      "model_module": "@jupyter-widgets/base",
      "model_module_version": "1.2.0",
      "model_name": "LayoutModel",
      "state": {}
     },
     "949976d803c04910b2a5555a6b65a10c": {
      "model_module": "@jupyter-widgets/base",
      "model_module_version": "1.2.0",
      "model_name": "LayoutModel",
      "state": {}
     },
     "94e850e2e0244b6faaa35260a4360d63": {
      "model_module": "@jupyter-widgets/controls",
      "model_module_version": "1.5.0",
      "model_name": "RadioButtonsModel",
      "state": {
       "_options_labels": [
        "apple",
        "banana",
        "pear"
       ],
       "index": 2,
       "layout": "IPY_MODEL_b3736558a47641549bd7166643171993",
       "style": "IPY_MODEL_9729b81fdf11469c894fdc11a5f32645"
      }
     },
     "95036ddd0d9f4d148656bbfc5042c03c": {
      "model_module": "@jupyter-widgets/controls",
      "model_module_version": "1.5.0",
      "model_name": "VBoxModel",
      "state": {
       "children": [
        "IPY_MODEL_9814f495d1a64fd58c5bbff264a30f54",
        "IPY_MODEL_478a025f4ecd419880117ed2da4c6c8f",
        "IPY_MODEL_99256fe5715c404792d8560e9efc4fc8",
        "IPY_MODEL_2b9f8cfd06c746169133fb7ae4f01de4"
       ],
       "layout": "IPY_MODEL_11bcfdf6f7b74fec874da0c5cf8da195"
      }
     },
     "95972dc435844dfabe8ac38ef4397475": {
      "model_module": "@jupyter-widgets/controls",
      "model_module_version": "1.5.0",
      "model_name": "RadioButtonsModel",
      "state": {
       "_options_labels": [
        "blue",
        "white",
        "red"
       ],
       "index": 0,
       "layout": "IPY_MODEL_67b7d5122c234722a984211327d120c5",
       "style": "IPY_MODEL_a7e9d03de61842d7ac7fd54742fa902d"
      }
     },
     "959a1f16c1184412971348c7bff64d37": {
      "model_module": "@jupyter-widgets/controls",
      "model_module_version": "1.5.0",
      "model_name": "DescriptionStyleModel",
      "state": {
       "description_width": ""
      }
     },
     "95ac6e427d1b4864af2298f608de212d": {
      "model_module": "@jupyter-widgets/controls",
      "model_module_version": "1.5.0",
      "model_name": "RadioButtonsModel",
      "state": {
       "_options_labels": [
        "blue",
        "white",
        "red"
       ],
       "index": 0,
       "layout": "IPY_MODEL_6eaa6d32387f458887f21e471b0dcd54",
       "style": "IPY_MODEL_d2b2e58cc1554843b0d04e6c5488198d"
      }
     },
     "95c05d69972f4921b0bdfe8ce6317694": {
      "model_module": "@jupyter-widgets/controls",
      "model_module_version": "1.5.0",
      "model_name": "ButtonModel",
      "state": {
       "description": "submit",
       "layout": "IPY_MODEL_36834efcc69449df8ebb591e06b265a1",
       "style": "IPY_MODEL_deb3e6b77cde427a994838e2690beef5"
      }
     },
     "962c3ed7189745d38442c65c6337f3bc": {
      "model_module": "@jupyter-widgets/controls",
      "model_module_version": "1.5.0",
      "model_name": "DescriptionStyleModel",
      "state": {
       "description_width": ""
      }
     },
     "96424528253446d5aa54019191c84a1c": {
      "model_module": "@jupyter-widgets/base",
      "model_module_version": "1.2.0",
      "model_name": "LayoutModel",
      "state": {}
     },
     "965a18f0445f4b9f8a64a1c56191b101": {
      "model_module": "@jupyter-widgets/base",
      "model_module_version": "1.2.0",
      "model_name": "LayoutModel",
      "state": {}
     },
     "96e114c9814847e3a5b834f40215739e": {
      "model_module": "@jupyter-widgets/base",
      "model_module_version": "1.2.0",
      "model_name": "LayoutModel",
      "state": {}
     },
     "97230468a1c1412896646f3db9a4881f": {
      "model_module": "@jupyter-widgets/base",
      "model_module_version": "1.2.0",
      "model_name": "LayoutModel",
      "state": {}
     },
     "9729b81fdf11469c894fdc11a5f32645": {
      "model_module": "@jupyter-widgets/controls",
      "model_module_version": "1.5.0",
      "model_name": "DescriptionStyleModel",
      "state": {
       "description_width": ""
      }
     },
     "974f1bff69ea4274a681cc39fe4452fd": {
      "model_module": "@jupyter-widgets/base",
      "model_module_version": "1.2.0",
      "model_name": "LayoutModel",
      "state": {}
     },
     "97dbde7449894d43a55c46497364230d": {
      "model_module": "@jupyter-widgets/controls",
      "model_module_version": "1.5.0",
      "model_name": "RadioButtonsModel",
      "state": {
       "_options_labels": [
        "apple",
        "banana",
        "pear"
       ],
       "index": 0,
       "layout": "IPY_MODEL_0b26f09465c84bc9ad5375e1d3957f5a",
       "style": "IPY_MODEL_a6e398dadd4e4b6daf59eca469461727"
      }
     },
     "9813b3e298d542e886051210633714ae": {
      "model_module": "@jupyter-widgets/base",
      "model_module_version": "1.2.0",
      "model_name": "LayoutModel",
      "state": {}
     },
     "9814f495d1a64fd58c5bbff264a30f54": {
      "model_module": "@jupyter-widgets/output",
      "model_module_version": "1.0.0",
      "model_name": "OutputModel",
      "state": {
       "layout": "IPY_MODEL_aa3e59e36b0542c1a0d9da936c275ec7",
       "outputs": [
        {
         "name": "stdout",
         "output_type": "stream",
         "text": "lalalalal\n"
        }
       ]
      }
     },
     "983fb4133442404cbceff33dd389e0fd": {
      "model_module": "@jupyter-widgets/controls",
      "model_module_version": "1.5.0",
      "model_name": "ButtonStyleModel",
      "state": {}
     },
     "9848c0d8263246a4b837ba47685224c2": {
      "model_module": "@jupyter-widgets/base",
      "model_module_version": "1.2.0",
      "model_name": "LayoutModel",
      "state": {}
     },
     "987bcf44ffbb4b648df547ada9cf0841": {
      "model_module": "@jupyter-widgets/output",
      "model_module_version": "1.0.0",
      "model_name": "OutputModel",
      "state": {
       "layout": "IPY_MODEL_6be48ea50eb342a8980d562e35c5b8d9"
      }
     },
     "98c851c6b8f5485f8484a850324c3826": {
      "model_module": "@jupyter-widgets/controls",
      "model_module_version": "1.5.0",
      "model_name": "VBoxModel",
      "state": {
       "children": [
        "IPY_MODEL_407e5052c29c49b9b4f91c499d153ce4",
        "IPY_MODEL_c23f358ae368436b840713cc57ee7022",
        "IPY_MODEL_5be74e4fe4d34c5798e7618ab803b4aa",
        "IPY_MODEL_fd2ecf39c2a24e7fb736d50444b86567"
       ],
       "layout": "IPY_MODEL_6738cf75a25144e0849d94d2fa64692b"
      }
     },
     "990e9228481244fd87ee8a16c18ceebf": {
      "model_module": "@jupyter-widgets/controls",
      "model_module_version": "1.5.0",
      "model_name": "VBoxModel",
      "state": {
       "children": [
        "IPY_MODEL_c304d31151a043eca4825920f2ca9b19",
        "IPY_MODEL_8253cfdaa8a340b4bd976cb66998e914",
        "IPY_MODEL_9d95e76d7ad8480c8cf11e2353324bcc",
        "IPY_MODEL_e47ec23fa32240cdb89847bdfa71a3be"
       ],
       "layout": "IPY_MODEL_22fe487fffe84b6a9fe3ff842b64d724"
      }
     },
     "99156a0711584bfd955d6b9f91dbc5f6": {
      "model_module": "@jupyter-widgets/base",
      "model_module_version": "1.2.0",
      "model_name": "LayoutModel",
      "state": {}
     },
     "99256fe5715c404792d8560e9efc4fc8": {
      "model_module": "@jupyter-widgets/controls",
      "model_module_version": "1.5.0",
      "model_name": "ButtonModel",
      "state": {
       "description": "submit",
       "layout": "IPY_MODEL_89f514927b164aa49f36ef08a7993e63",
       "style": "IPY_MODEL_b37185fa6c57407db20b0f4f0979d658"
      }
     },
     "993fb8b1362641299c3c2296d5935067": {
      "model_module": "@jupyter-widgets/controls",
      "model_module_version": "1.5.0",
      "model_name": "ButtonStyleModel",
      "state": {}
     },
     "99446d94559841a3b2995f9b4aa83049": {
      "model_module": "@jupyter-widgets/base",
      "model_module_version": "1.2.0",
      "model_name": "LayoutModel",
      "state": {}
     },
     "9958288b86554ea3a2cbaf881a6d005c": {
      "model_module": "@jupyter-widgets/controls",
      "model_module_version": "1.5.0",
      "model_name": "ButtonModel",
      "state": {
       "description": "submit",
       "layout": "IPY_MODEL_7f37236637544e12b9d40e328ae11942",
       "style": "IPY_MODEL_afa94d320db046bfb2f5e54e9415f729"
      }
     },
     "9975c07dc73645258e6ccf4c712e8707": {
      "model_module": "@jupyter-widgets/base",
      "model_module_version": "1.2.0",
      "model_name": "LayoutModel",
      "state": {}
     },
     "999b16b2ae3242bab665a9dd34ae1f00": {
      "model_module": "@jupyter-widgets/controls",
      "model_module_version": "1.5.0",
      "model_name": "DescriptionStyleModel",
      "state": {
       "description_width": ""
      }
     },
     "9a08051d7f5d46c9a4981ed7ec7f2374": {
      "model_module": "@jupyter-widgets/controls",
      "model_module_version": "1.5.0",
      "model_name": "ButtonStyleModel",
      "state": {}
     },
     "9a106973baad432eb990ccba76c9b739": {
      "model_module": "@jupyter-widgets/controls",
      "model_module_version": "1.5.0",
      "model_name": "DescriptionStyleModel",
      "state": {
       "description_width": ""
      }
     },
     "9a20b659e642408891b06037bbfbd3f3": {
      "model_module": "@jupyter-widgets/base",
      "model_module_version": "1.2.0",
      "model_name": "LayoutModel",
      "state": {}
     },
     "9a2a6cd5f7d040348f59abb7396d1a20": {
      "model_module": "@jupyter-widgets/base",
      "model_module_version": "1.2.0",
      "model_name": "LayoutModel",
      "state": {}
     },
     "9a552aef7d99482ab1c64bb5ad087782": {
      "model_module": "@jupyter-widgets/controls",
      "model_module_version": "1.5.0",
      "model_name": "RadioButtonsModel",
      "state": {
       "_options_labels": [
        "blue",
        "white",
        "red"
       ],
       "index": 0,
       "layout": "IPY_MODEL_d342395f6c124b5f8b5a1ea2b583b0e5",
       "style": "IPY_MODEL_32510cd826b144a08dcf3a4bc14ed011"
      }
     },
     "9a5611b5e4454e0382fdc6cb6bc74538": {
      "model_module": "@jupyter-widgets/controls",
      "model_module_version": "1.5.0",
      "model_name": "ButtonStyleModel",
      "state": {}
     },
     "9aa82b81cfcb422cbea7c1a6fad70f2a": {
      "model_module": "@jupyter-widgets/controls",
      "model_module_version": "1.5.0",
      "model_name": "ButtonModel",
      "state": {
       "description": "submit",
       "layout": "IPY_MODEL_a36da92b0a824077954adf70a083f93c",
       "style": "IPY_MODEL_bfb0f5a908ba40c185bb1625085fcdd5"
      }
     },
     "9aade781e60942588cca36769ada55c1": {
      "model_module": "@jupyter-widgets/base",
      "model_module_version": "1.2.0",
      "model_name": "LayoutModel",
      "state": {}
     },
     "9ad440d6c8054882b9039a214c7aa30e": {
      "model_module": "@jupyter-widgets/controls",
      "model_module_version": "1.5.0",
      "model_name": "VBoxModel",
      "state": {
       "children": [
        "IPY_MODEL_396991dd9fbc4a1097003235ebff3737",
        "IPY_MODEL_4257593fa13a44899feeeabc11022ae6",
        "IPY_MODEL_91cedcf2043a42abaddfddb55b243a1e",
        "IPY_MODEL_987bcf44ffbb4b648df547ada9cf0841"
       ],
       "layout": "IPY_MODEL_5814f6b4b37b4494a60bd0263f74dc51"
      }
     },
     "9ae382a922604779b59154b3520b25f3": {
      "model_module": "@jupyter-widgets/output",
      "model_module_version": "1.0.0",
      "model_name": "OutputModel",
      "state": {
       "layout": "IPY_MODEL_b1f25f8e03bb4e789bb937b53b63b3c0",
       "outputs": [
        {
         "name": "stdout",
         "output_type": "stream",
         "text": "\u001b[4;60;42mCorrect.\u001b[0m\n\n"
        }
       ]
      }
     },
     "9b09dea0873b4718af242881e7aaaf91": {
      "model_module": "@jupyter-widgets/output",
      "model_module_version": "1.0.0",
      "model_name": "OutputModel",
      "state": {
       "layout": "IPY_MODEL_0077bc5ce3ba4cb997939f9623a16eee",
       "outputs": [
        {
         "name": "stdout",
         "output_type": "stream",
         "text": "jajajajaj\n"
        }
       ]
      }
     },
     "9b59c29744e44a388173ff9e2fb3339a": {
      "model_module": "@jupyter-widgets/base",
      "model_module_version": "1.2.0",
      "model_name": "LayoutModel",
      "state": {}
     },
     "9b6010bef71b4ca4a97678d03a09488b": {
      "model_module": "@jupyter-widgets/controls",
      "model_module_version": "1.5.0",
      "model_name": "ButtonStyleModel",
      "state": {}
     },
     "9b8120c9ef994d78bcee260c17bfabe3": {
      "model_module": "@jupyter-widgets/output",
      "model_module_version": "1.0.0",
      "model_name": "OutputModel",
      "state": {
       "layout": "IPY_MODEL_c0962f31a1224205a3f6bf231066f719",
       "outputs": [
        {
         "name": "stdout",
         "output_type": "stream",
         "text": "lalalalal\n"
        }
       ]
      }
     },
     "9bd77f4d3e184cf39211bc721a4d670b": {
      "model_module": "@jupyter-widgets/controls",
      "model_module_version": "1.5.0",
      "model_name": "ButtonStyleModel",
      "state": {}
     },
     "9bfe7ec806ec42aaad9cb6fce145e3f8": {
      "model_module": "@jupyter-widgets/controls",
      "model_module_version": "1.5.0",
      "model_name": "VBoxModel",
      "state": {
       "children": [
        "IPY_MODEL_fea976b6e2b348e7ae66659ee890fbac",
        "IPY_MODEL_755d64b920d3427391dd7cf5804aa20f",
        "IPY_MODEL_b38a37cefbb04ac787f9f0168c870ecd",
        "IPY_MODEL_7b6eff24319f431f89bcf03d4b9e14c5"
       ],
       "layout": "IPY_MODEL_e1e54deebd1b45d290de9e13b7792b72"
      }
     },
     "9c9dc89aa0384f32b45b08f3a1f9b588": {
      "model_module": "@jupyter-widgets/controls",
      "model_module_version": "1.5.0",
      "model_name": "ButtonModel",
      "state": {
       "description": "submit",
       "layout": "IPY_MODEL_0a10ddfa46be4ff59a08fa8cb1032462",
       "style": "IPY_MODEL_6fa103c1f6fd410d8eacdb5c5ac3c691"
      }
     },
     "9d0236da5ba14bab99a3ec7d80248e21": {
      "model_module": "@jupyter-widgets/output",
      "model_module_version": "1.0.0",
      "model_name": "OutputModel",
      "state": {
       "layout": "IPY_MODEL_10938be137ef47cb8b334faaa7ea4f80",
       "outputs": [
        {
         "name": "stdout",
         "output_type": "stream",
         "text": "\u001b[6;30;42mCorrect.\u001b[0m\n\n"
        }
       ]
      }
     },
     "9d3cbeb190a7471a91fa82585a35d96f": {
      "model_module": "@jupyter-widgets/output",
      "model_module_version": "1.0.0",
      "model_name": "OutputModel",
      "state": {
       "layout": "IPY_MODEL_87ee8167bd494d9791e2a6dffea6e7ee",
       "outputs": [
        {
         "name": "stdout",
         "output_type": "stream",
         "text": "blablabla\n"
        }
       ]
      }
     },
     "9d4ff620c83345649dcd4797bfdc055f": {
      "model_module": "@jupyter-widgets/output",
      "model_module_version": "1.0.0",
      "model_name": "OutputModel",
      "state": {
       "layout": "IPY_MODEL_2493e705b2324732b3c5ab4785bcde6b"
      }
     },
     "9d95e76d7ad8480c8cf11e2353324bcc": {
      "model_module": "@jupyter-widgets/controls",
      "model_module_version": "1.5.0",
      "model_name": "ButtonModel",
      "state": {
       "description": "submit",
       "layout": "IPY_MODEL_65b8968ca28a48569d276f1e19c656e7",
       "style": "IPY_MODEL_45e9fbe43a3d439c80bd37a935b07097"
      }
     },
     "9dded0c2476d42f0ab3bb27f10a5c10b": {
      "model_module": "@jupyter-widgets/output",
      "model_module_version": "1.0.0",
      "model_name": "OutputModel",
      "state": {
       "layout": "IPY_MODEL_d39901c37ab0490bbc1637268572732d"
      }
     },
     "9deb1e4f941d4de7832dd8e7e69b26d9": {
      "model_module": "@jupyter-widgets/controls",
      "model_module_version": "1.5.0",
      "model_name": "DescriptionStyleModel",
      "state": {
       "description_width": ""
      }
     },
     "9e69b38985e74c409be7037ed2670fdd": {
      "model_module": "@jupyter-widgets/output",
      "model_module_version": "1.0.0",
      "model_name": "OutputModel",
      "state": {
       "layout": "IPY_MODEL_7867e98bb28e4abe93b7e5fe2e0120f5"
      }
     },
     "9e86032bd85341b8a3b1dfe281433485": {
      "model_module": "@jupyter-widgets/controls",
      "model_module_version": "1.5.0",
      "model_name": "ButtonModel",
      "state": {
       "description": "submit",
       "layout": "IPY_MODEL_d71779b2f81141b9b8d02b8e90fefbdf",
       "style": "IPY_MODEL_4661289c5c754d64bbfbfaa8db54f11b"
      }
     },
     "9eca28771819489d872eea23b30d76ea": {
      "model_module": "@jupyter-widgets/output",
      "model_module_version": "1.0.0",
      "model_name": "OutputModel",
      "state": {
       "layout": "IPY_MODEL_9813b3e298d542e886051210633714ae",
       "outputs": [
        {
         "name": "stdout",
         "output_type": "stream",
         "text": "jajajajaj\n"
        }
       ]
      }
     },
     "9ef39aad58554bab9d2b3a7f5c797be2": {
      "model_module": "@jupyter-widgets/controls",
      "model_module_version": "1.5.0",
      "model_name": "ButtonStyleModel",
      "state": {}
     },
     "9efda6a072354478b6fbd83ee8b76c1a": {
      "model_module": "@jupyter-widgets/controls",
      "model_module_version": "1.5.0",
      "model_name": "DescriptionStyleModel",
      "state": {
       "description_width": ""
      }
     },
     "9f571ad1e44642a780be43984b7268b9": {
      "model_module": "@jupyter-widgets/base",
      "model_module_version": "1.2.0",
      "model_name": "LayoutModel",
      "state": {}
     },
     "9f59d0d2f6884f0faa59eff70a953474": {
      "model_module": "@jupyter-widgets/controls",
      "model_module_version": "1.5.0",
      "model_name": "VBoxModel",
      "state": {
       "children": [
        "IPY_MODEL_56efd79bf45849009b7068841f5fe120",
        "IPY_MODEL_64659bf2e40e4458b3552be5a83b60fd",
        "IPY_MODEL_1ba1c3d2b6ba468a938569f5a808d489",
        "IPY_MODEL_fc054f4031a34901a457c991db8bc1ee"
       ],
       "layout": "IPY_MODEL_8d0e6133c598444eb35ee03b7aa99ec1"
      }
     },
     "9f5bf6495aa0412089c59bc79921b186": {
      "model_module": "@jupyter-widgets/controls",
      "model_module_version": "1.5.0",
      "model_name": "ButtonModel",
      "state": {
       "description": "submit",
       "layout": "IPY_MODEL_ac6e1d01f78447b98c124c9d1feecf05",
       "style": "IPY_MODEL_e8e723be5d6b47bd89b628392552bd17"
      }
     },
     "9f6b3bb5d283406587725e09f2265221": {
      "model_module": "@jupyter-widgets/output",
      "model_module_version": "1.0.0",
      "model_name": "OutputModel",
      "state": {
       "layout": "IPY_MODEL_4a5bf6e428cb4dc5b60ac310978d3d15",
       "outputs": [
        {
         "name": "stdout",
         "output_type": "stream",
         "text": "lalalalal\n"
        }
       ]
      }
     },
     "9f7d95be71e24dc79e57a41668ddbbf6": {
      "model_module": "@jupyter-widgets/controls",
      "model_module_version": "1.5.0",
      "model_name": "VBoxModel",
      "state": {
       "children": [
        "IPY_MODEL_699d556db78c4238814e73d98d08b2c1",
        "IPY_MODEL_a22fefb7b267468ca35fe7e8588668f6",
        "IPY_MODEL_cb15eacf24dd46119e74c8bc73950729",
        "IPY_MODEL_cf9da09658b34538b3f4524db5894030"
       ],
       "layout": "IPY_MODEL_73818c0b151e4700add43410883d12b0"
      }
     },
     "9f8058d121c6400cb495fc9e82594933": {
      "model_module": "@jupyter-widgets/controls",
      "model_module_version": "1.5.0",
      "model_name": "ButtonModel",
      "state": {
       "description": "submit",
       "layout": "IPY_MODEL_fc58197aa70d4959a13d1c55751f57d1",
       "style": "IPY_MODEL_32cd65f3d61d4d949050c924b974a5d4"
      }
     },
     "a04558a9834f45d89831b95af8a34c8c": {
      "model_module": "@jupyter-widgets/base",
      "model_module_version": "1.2.0",
      "model_name": "LayoutModel",
      "state": {}
     },
     "a06bcd734ccd4ce88d1539bc7c1bf91f": {
      "model_module": "@jupyter-widgets/controls",
      "model_module_version": "1.5.0",
      "model_name": "DescriptionStyleModel",
      "state": {
       "description_width": ""
      }
     },
     "a0bec5362c5648d6bb90ece1884cdeac": {
      "model_module": "@jupyter-widgets/base",
      "model_module_version": "1.2.0",
      "model_name": "LayoutModel",
      "state": {}
     },
     "a0d61a886e8d471e818d3034743b3b3b": {
      "model_module": "@jupyter-widgets/base",
      "model_module_version": "1.2.0",
      "model_name": "LayoutModel",
      "state": {}
     },
     "a0db02e7d98c45efad9d204f3d1ed917": {
      "model_module": "@jupyter-widgets/output",
      "model_module_version": "1.0.0",
      "model_name": "OutputModel",
      "state": {
       "layout": "IPY_MODEL_155cc4a79abd4168b69691db75336f43"
      }
     },
     "a101bc6aa0784d3397ef94b394cdc257": {
      "model_module": "@jupyter-widgets/controls",
      "model_module_version": "1.5.0",
      "model_name": "RadioButtonsModel",
      "state": {
       "_options_labels": [
        "apple",
        "banana",
        "pear"
       ],
       "index": 2,
       "layout": "IPY_MODEL_331eccc194424ac298322053d4e7cf37",
       "style": "IPY_MODEL_aef778080748454caa260984596c69e5"
      }
     },
     "a18e796e4003404a92065b67c11ec02a": {
      "model_module": "@jupyter-widgets/output",
      "model_module_version": "1.0.0",
      "model_name": "OutputModel",
      "state": {
       "layout": "IPY_MODEL_fbfd7b27d9c54684b8e437ad7af78326"
      }
     },
     "a1c188fe29154974890809571e7a3b87": {
      "model_module": "@jupyter-widgets/base",
      "model_module_version": "1.2.0",
      "model_name": "LayoutModel",
      "state": {}
     },
     "a1cce23894724c76bb5c4397ad034d85": {
      "model_module": "@jupyter-widgets/base",
      "model_module_version": "1.2.0",
      "model_name": "LayoutModel",
      "state": {}
     },
     "a2140af1d58a4acb8526e0a09ab44f86": {
      "model_module": "@jupyter-widgets/base",
      "model_module_version": "1.2.0",
      "model_name": "LayoutModel",
      "state": {}
     },
     "a2209bf22cc2419199c34a10100b8a0a": {
      "model_module": "@jupyter-widgets/base",
      "model_module_version": "1.2.0",
      "model_name": "LayoutModel",
      "state": {}
     },
     "a22fefb7b267468ca35fe7e8588668f6": {
      "model_module": "@jupyter-widgets/controls",
      "model_module_version": "1.5.0",
      "model_name": "RadioButtonsModel",
      "state": {
       "_options_labels": [
        "apple",
        "banana",
        "pear"
       ],
       "index": 2,
       "layout": "IPY_MODEL_a616e9321b8a408dbc6710c9a7714a14",
       "style": "IPY_MODEL_d65a4d9f6b9e474d95e5e2469d4370cd"
      }
     },
     "a2eaf6f2a121450d94f1d9265eebab10": {
      "model_module": "@jupyter-widgets/base",
      "model_module_version": "1.2.0",
      "model_name": "LayoutModel",
      "state": {}
     },
     "a320b766dc754bf2a14b9b15cccc6578": {
      "model_module": "@jupyter-widgets/output",
      "model_module_version": "1.0.0",
      "model_name": "OutputModel",
      "state": {
       "layout": "IPY_MODEL_06f931e5a3e4415a8fafd0916e93e2e5",
       "outputs": [
        {
         "name": "stdout",
         "output_type": "stream",
         "text": "blablabla\n"
        }
       ]
      }
     },
     "a329123c91274995b729d0eb9b5696ab": {
      "model_module": "@jupyter-widgets/output",
      "model_module_version": "1.0.0",
      "model_name": "OutputModel",
      "state": {
       "layout": "IPY_MODEL_1fe31f6e16b24ba1ae7c3522b45678a5",
       "outputs": [
        {
         "name": "stdout",
         "output_type": "stream",
         "text": "blablabla\n"
        }
       ]
      }
     },
     "a36da92b0a824077954adf70a083f93c": {
      "model_module": "@jupyter-widgets/base",
      "model_module_version": "1.2.0",
      "model_name": "LayoutModel",
      "state": {}
     },
     "a378ff391fad479db0d8f617b6e0a608": {
      "model_module": "@jupyter-widgets/base",
      "model_module_version": "1.2.0",
      "model_name": "LayoutModel",
      "state": {}
     },
     "a3bd40709b8a4f258cefe2508bc7338f": {
      "model_module": "@jupyter-widgets/base",
      "model_module_version": "1.2.0",
      "model_name": "LayoutModel",
      "state": {}
     },
     "a40880cfa7034d92837a453d1c0ae426": {
      "model_module": "@jupyter-widgets/base",
      "model_module_version": "1.2.0",
      "model_name": "LayoutModel",
      "state": {}
     },
     "a46af3fe045842f58900bc0ebf9f69c3": {
      "model_module": "@jupyter-widgets/controls",
      "model_module_version": "1.5.0",
      "model_name": "RadioButtonsModel",
      "state": {
       "_options_labels": [
        "cat",
        "dog",
        "mouse"
       ],
       "index": 0,
       "layout": "IPY_MODEL_249fa4a1ce044565850896dfc0acf7ac",
       "style": "IPY_MODEL_d59701f67c3e4df6a1a34370c847bb1f"
      }
     },
     "a47209f93d774f36b255ca190692d66e": {
      "model_module": "@jupyter-widgets/controls",
      "model_module_version": "1.5.0",
      "model_name": "ButtonStyleModel",
      "state": {}
     },
     "a48cdd3cd9084c8cb27ffbdff62b5553": {
      "model_module": "@jupyter-widgets/controls",
      "model_module_version": "1.5.0",
      "model_name": "RadioButtonsModel",
      "state": {
       "_options_labels": [
        "cat",
        "dog",
        "mouse"
       ],
       "index": 0,
       "layout": "IPY_MODEL_eb7d2fa7f510497ea1476b09e2d745d5",
       "style": "IPY_MODEL_c80eb19972ee448f9f9e3e098a25770d"
      }
     },
     "a4a03179509c47f48c940713d2623712": {
      "model_module": "@jupyter-widgets/controls",
      "model_module_version": "1.5.0",
      "model_name": "RadioButtonsModel",
      "state": {
       "_options_labels": [
        "cat",
        "dog",
        "mouse"
       ],
       "index": 0,
       "layout": "IPY_MODEL_b013e8ff3d94417cbdce843444e9ad8f",
       "style": "IPY_MODEL_4a0effb54a7e40788affe922aa78145b"
      }
     },
     "a4d1abf0467c422e9d64d932a29a345a": {
      "model_module": "@jupyter-widgets/base",
      "model_module_version": "1.2.0",
      "model_name": "LayoutModel",
      "state": {}
     },
     "a4d4ec765a9c4ee883bec0594b8d3175": {
      "model_module": "@jupyter-widgets/base",
      "model_module_version": "1.2.0",
      "model_name": "LayoutModel",
      "state": {}
     },
     "a4dcd216afde4da3a97ff6ee9737a9cf": {
      "model_module": "@jupyter-widgets/controls",
      "model_module_version": "1.5.0",
      "model_name": "DescriptionStyleModel",
      "state": {
       "description_width": ""
      }
     },
     "a4f4d611d2474aa4b72ceb570beef601": {
      "model_module": "@jupyter-widgets/base",
      "model_module_version": "1.2.0",
      "model_name": "LayoutModel",
      "state": {}
     },
     "a514971eaa684f5484b05e2ba68b3784": {
      "model_module": "@jupyter-widgets/base",
      "model_module_version": "1.2.0",
      "model_name": "LayoutModel",
      "state": {}
     },
     "a5395a21a87b4642af6006e40d29db2f": {
      "model_module": "@jupyter-widgets/base",
      "model_module_version": "1.2.0",
      "model_name": "LayoutModel",
      "state": {}
     },
     "a559e4dd82734ff3883a147c32b421af": {
      "model_module": "@jupyter-widgets/base",
      "model_module_version": "1.2.0",
      "model_name": "LayoutModel",
      "state": {}
     },
     "a5b4d40ee82b455fbe84324a5554c993": {
      "model_module": "@jupyter-widgets/controls",
      "model_module_version": "1.5.0",
      "model_name": "VBoxModel",
      "state": {
       "children": [
        "IPY_MODEL_313ec5736df145719e12dad4aacffdf7",
        "IPY_MODEL_a974edb7a52e42faaf8a7232e51e27b9",
        "IPY_MODEL_9f5bf6495aa0412089c59bc79921b186",
        "IPY_MODEL_039348aeb2e74c1a907d7702760343bb"
       ],
       "layout": "IPY_MODEL_d5d32dee3a954c02be28b3b9b7b69aca"
      }
     },
     "a5d30a42eada4ee1bce635b9463521c9": {
      "model_module": "@jupyter-widgets/output",
      "model_module_version": "1.0.0",
      "model_name": "OutputModel",
      "state": {
       "layout": "IPY_MODEL_0dbc6cc9faa3458f9226bbd736d91a2c"
      }
     },
     "a5fc799ace99482096fc959e27243973": {
      "model_module": "@jupyter-widgets/controls",
      "model_module_version": "1.5.0",
      "model_name": "RadioButtonsModel",
      "state": {
       "_options_labels": [
        "apple",
        "banana",
        "pear"
       ],
       "index": 2,
       "layout": "IPY_MODEL_5cdc5d1cfbf245af92cdadba47f041fe",
       "style": "IPY_MODEL_aac5341f8c374a62ab63787714c229b7"
      }
     },
     "a616e9321b8a408dbc6710c9a7714a14": {
      "model_module": "@jupyter-widgets/base",
      "model_module_version": "1.2.0",
      "model_name": "LayoutModel",
      "state": {}
     },
     "a619956bec984d09b37cb7954b73d9f2": {
      "model_module": "@jupyter-widgets/base",
      "model_module_version": "1.2.0",
      "model_name": "LayoutModel",
      "state": {}
     },
     "a6e398dadd4e4b6daf59eca469461727": {
      "model_module": "@jupyter-widgets/controls",
      "model_module_version": "1.5.0",
      "model_name": "DescriptionStyleModel",
      "state": {
       "description_width": ""
      }
     },
     "a6eab04730b843a6b8a6ad88a2675d9b": {
      "model_module": "@jupyter-widgets/base",
      "model_module_version": "1.2.0",
      "model_name": "LayoutModel",
      "state": {}
     },
     "a6f62910c91044219c00ace10cfe1517": {
      "model_module": "@jupyter-widgets/base",
      "model_module_version": "1.2.0",
      "model_name": "LayoutModel",
      "state": {}
     },
     "a70c8662064048f4b21c0d775e10188b": {
      "model_module": "@jupyter-widgets/controls",
      "model_module_version": "1.5.0",
      "model_name": "DescriptionStyleModel",
      "state": {
       "description_width": ""
      }
     },
     "a710cef2f09a489f89c1014e9e7fde24": {
      "model_module": "@jupyter-widgets/base",
      "model_module_version": "1.2.0",
      "model_name": "LayoutModel",
      "state": {}
     },
     "a727ad3b943f49e3b669d2f246fccbb7": {
      "model_module": "@jupyter-widgets/base",
      "model_module_version": "1.2.0",
      "model_name": "LayoutModel",
      "state": {}
     },
     "a75d0b4ae59940138006cc576c311ebf": {
      "model_module": "@jupyter-widgets/output",
      "model_module_version": "1.0.0",
      "model_name": "OutputModel",
      "state": {
       "layout": "IPY_MODEL_bfaa5b222bd34cfe897cf9cf956849a1",
       "outputs": [
        {
         "name": "stdout",
         "output_type": "stream",
         "text": "lalalalal\n"
        }
       ]
      }
     },
     "a7e9d03de61842d7ac7fd54742fa902d": {
      "model_module": "@jupyter-widgets/controls",
      "model_module_version": "1.5.0",
      "model_name": "DescriptionStyleModel",
      "state": {
       "description_width": ""
      }
     },
     "a84fabecbc864c0fa8ea8ca25abaa46c": {
      "model_module": "@jupyter-widgets/output",
      "model_module_version": "1.0.0",
      "model_name": "OutputModel",
      "state": {
       "layout": "IPY_MODEL_d869567497d7400a9081a13302185984",
       "outputs": [
        {
         "name": "stdout",
         "output_type": "stream",
         "text": "lalalalal\n"
        }
       ]
      }
     },
     "a86157648bf8459caf1ad4baadd2b3d0": {
      "model_module": "@jupyter-widgets/controls",
      "model_module_version": "1.5.0",
      "model_name": "ButtonStyleModel",
      "state": {}
     },
     "a86258d0c3384b07869e120e26a3cdc1": {
      "model_module": "@jupyter-widgets/controls",
      "model_module_version": "1.5.0",
      "model_name": "ButtonStyleModel",
      "state": {}
     },
     "a8cd48e7c19e47d38ccb73ef9f669c72": {
      "model_module": "@jupyter-widgets/controls",
      "model_module_version": "1.5.0",
      "model_name": "ButtonModel",
      "state": {
       "description": "submit",
       "layout": "IPY_MODEL_bd64ac9933a44f9f85d9c8456eab9833",
       "style": "IPY_MODEL_913d08cc0e184a38837c0241e456bdfb"
      }
     },
     "a8daac5e53e9445887b2c13a0e4357f5": {
      "model_module": "@jupyter-widgets/controls",
      "model_module_version": "1.5.0",
      "model_name": "ButtonStyleModel",
      "state": {}
     },
     "a8ef6ea2714542479be2416b3e4fe6b9": {
      "model_module": "@jupyter-widgets/base",
      "model_module_version": "1.2.0",
      "model_name": "LayoutModel",
      "state": {}
     },
     "a8ff29b4406a4931927196c0bf3555ca": {
      "model_module": "@jupyter-widgets/base",
      "model_module_version": "1.2.0",
      "model_name": "LayoutModel",
      "state": {}
     },
     "a910f484117843d59a8893d09e8d18cd": {
      "model_module": "@jupyter-widgets/base",
      "model_module_version": "1.2.0",
      "model_name": "LayoutModel",
      "state": {}
     },
     "a921d05fd2da4f4e86d98f17927b8f2a": {
      "model_module": "@jupyter-widgets/base",
      "model_module_version": "1.2.0",
      "model_name": "LayoutModel",
      "state": {}
     },
     "a9332fc7b9514cc79d8bb1a7067ea2fe": {
      "model_module": "@jupyter-widgets/controls",
      "model_module_version": "1.5.0",
      "model_name": "ButtonStyleModel",
      "state": {}
     },
     "a974edb7a52e42faaf8a7232e51e27b9": {
      "model_module": "@jupyter-widgets/controls",
      "model_module_version": "1.5.0",
      "model_name": "RadioButtonsModel",
      "state": {
       "_options_labels": [
        "apple",
        "banana",
        "pear"
       ],
       "index": 1,
       "layout": "IPY_MODEL_23012dbd7d9f45849652eac65f684eea",
       "style": "IPY_MODEL_105bef8f8ad848afa4d338b0523433a1"
      }
     },
     "aa01eaa47c41434a883f11bdebe069ab": {
      "model_module": "@jupyter-widgets/controls",
      "model_module_version": "1.5.0",
      "model_name": "ButtonStyleModel",
      "state": {}
     },
     "aa313f4530db43e8bc9d666e443b76db": {
      "model_module": "@jupyter-widgets/base",
      "model_module_version": "1.2.0",
      "model_name": "LayoutModel",
      "state": {}
     },
     "aa3e59e36b0542c1a0d9da936c275ec7": {
      "model_module": "@jupyter-widgets/base",
      "model_module_version": "1.2.0",
      "model_name": "LayoutModel",
      "state": {}
     },
     "aa69217c843a4bdd8f46b2873cfa42fe": {
      "model_module": "@jupyter-widgets/controls",
      "model_module_version": "1.5.0",
      "model_name": "RadioButtonsModel",
      "state": {
       "_options_labels": [
        "apple",
        "banana",
        "pear"
       ],
       "index": 2,
       "layout": "IPY_MODEL_17a0d9ec5c094ae38b37c22539d4435c",
       "style": "IPY_MODEL_086fbe792d0a4bea8a23fe84d86bb9e4"
      }
     },
     "aac5341f8c374a62ab63787714c229b7": {
      "model_module": "@jupyter-widgets/controls",
      "model_module_version": "1.5.0",
      "model_name": "DescriptionStyleModel",
      "state": {
       "description_width": ""
      }
     },
     "aacbc0bb2a3147b7870bfe9c84ad106d": {
      "model_module": "@jupyter-widgets/controls",
      "model_module_version": "1.5.0",
      "model_name": "DescriptionStyleModel",
      "state": {
       "description_width": ""
      }
     },
     "aaceeb59e54f45babb190cbdd18e5d01": {
      "model_module": "@jupyter-widgets/base",
      "model_module_version": "1.2.0",
      "model_name": "LayoutModel",
      "state": {}
     },
     "aada9911c3624406abc11af70ced82f3": {
      "model_module": "@jupyter-widgets/base",
      "model_module_version": "1.2.0",
      "model_name": "LayoutModel",
      "state": {}
     },
     "ab3cfd10a93b42acb3fcab4b6f14bca9": {
      "model_module": "@jupyter-widgets/controls",
      "model_module_version": "1.5.0",
      "model_name": "ButtonStyleModel",
      "state": {}
     },
     "ab7bd9c378a34dd698ab3c5787b43d83": {
      "model_module": "@jupyter-widgets/controls",
      "model_module_version": "1.5.0",
      "model_name": "DescriptionStyleModel",
      "state": {
       "description_width": ""
      }
     },
     "ab9882abc9ac4ca7963f4dc5a9f8daf7": {
      "model_module": "@jupyter-widgets/base",
      "model_module_version": "1.2.0",
      "model_name": "LayoutModel",
      "state": {}
     },
     "abbdc9646b85415eb471811e7ebea443": {
      "model_module": "@jupyter-widgets/base",
      "model_module_version": "1.2.0",
      "model_name": "LayoutModel",
      "state": {}
     },
     "abd691778b96467ea45c8300270e3702": {
      "model_module": "@jupyter-widgets/base",
      "model_module_version": "1.2.0",
      "model_name": "LayoutModel",
      "state": {}
     },
     "ac1c7fab92a94fcbb61b6e15960a1c8e": {
      "model_module": "@jupyter-widgets/controls",
      "model_module_version": "1.5.0",
      "model_name": "VBoxModel",
      "state": {
       "children": [
        "IPY_MODEL_bbe0dcfb7be84407bfdaea9e3919d1e1",
        "IPY_MODEL_f6da9070c5f14786ac0085eff49e2a90",
        "IPY_MODEL_ce25eae6f56849e8a11def2c54379102",
        "IPY_MODEL_c5f943b1137642a2a3e8858f9ef5ad6b"
       ],
       "layout": "IPY_MODEL_fcd6ed63df4f422fa8b05c9154661ff2"
      }
     },
     "ac6e1d01f78447b98c124c9d1feecf05": {
      "model_module": "@jupyter-widgets/base",
      "model_module_version": "1.2.0",
      "model_name": "LayoutModel",
      "state": {}
     },
     "ac868716b33f4a17818515e22e2e9ae5": {
      "model_module": "@jupyter-widgets/output",
      "model_module_version": "1.0.0",
      "model_name": "OutputModel",
      "state": {
       "layout": "IPY_MODEL_e926e6d710304e2c9744412814c6f785",
       "outputs": [
        {
         "name": "stdout",
         "output_type": "stream",
         "text": "blablabla\n"
        }
       ]
      }
     },
     "ad2980a5d6704093b51a4a3036c6b0a3": {
      "model_module": "@jupyter-widgets/base",
      "model_module_version": "1.2.0",
      "model_name": "LayoutModel",
      "state": {}
     },
     "ad2a6484f64e4305a104322544a0cf4c": {
      "model_module": "@jupyter-widgets/output",
      "model_module_version": "1.0.0",
      "model_name": "OutputModel",
      "state": {
       "layout": "IPY_MODEL_70f54aec51c2452da27f94bff4623ed2",
       "outputs": [
        {
         "name": "stdout",
         "output_type": "stream",
         "text": "jajajajaj\n"
        }
       ]
      }
     },
     "ad40240f2938484bbffa6f2a0bde2d76": {
      "model_module": "@jupyter-widgets/base",
      "model_module_version": "1.2.0",
      "model_name": "LayoutModel",
      "state": {}
     },
     "ad6e4ab717b5468ba5f13b7695f0e9f2": {
      "model_module": "@jupyter-widgets/base",
      "model_module_version": "1.2.0",
      "model_name": "LayoutModel",
      "state": {}
     },
     "ad731f24cb7a43ccb5852174b2630dcc": {
      "model_module": "@jupyter-widgets/controls",
      "model_module_version": "1.5.0",
      "model_name": "DescriptionStyleModel",
      "state": {
       "description_width": ""
      }
     },
     "ad8b8defb66c422a83aa65d1ea8bf773": {
      "model_module": "@jupyter-widgets/controls",
      "model_module_version": "1.5.0",
      "model_name": "VBoxModel",
      "state": {
       "children": [
        "IPY_MODEL_f76b2b357b5b488abddba497b20f5377",
        "IPY_MODEL_9a552aef7d99482ab1c64bb5ad087782",
        "IPY_MODEL_85f542732c614a67a076747e6a4d6719",
        "IPY_MODEL_fe5a86a62210425c857d73c3ba5ec3c8"
       ],
       "layout": "IPY_MODEL_b2f3176b8a7a489cbd13964c353c45a6"
      }
     },
     "ad9f2273617b436fb39414728d0dd5ca": {
      "model_module": "@jupyter-widgets/base",
      "model_module_version": "1.2.0",
      "model_name": "LayoutModel",
      "state": {}
     },
     "add72b491a85425d979b4d7ad7e8b492": {
      "model_module": "@jupyter-widgets/output",
      "model_module_version": "1.0.0",
      "model_name": "OutputModel",
      "state": {
       "layout": "IPY_MODEL_8bdc3a5e1d764632ae45d3c78af4357d"
      }
     },
     "aef778080748454caa260984596c69e5": {
      "model_module": "@jupyter-widgets/controls",
      "model_module_version": "1.5.0",
      "model_name": "DescriptionStyleModel",
      "state": {
       "description_width": ""
      }
     },
     "af0221e49c3b4623b8a3b95503216ffa": {
      "model_module": "@jupyter-widgets/output",
      "model_module_version": "1.0.0",
      "model_name": "OutputModel",
      "state": {
       "layout": "IPY_MODEL_098c342072b348baa5641750300befc6",
       "outputs": [
        {
         "name": "stdout",
         "output_type": "stream",
         "text": "jajajajaj\n"
        }
       ]
      }
     },
     "af4a524ea5da40f9bf711ea8a227301f": {
      "model_module": "@jupyter-widgets/controls",
      "model_module_version": "1.5.0",
      "model_name": "VBoxModel",
      "state": {
       "children": [
        "IPY_MODEL_c3c84fc6d9a74c7b99b309980ad76535",
        "IPY_MODEL_3cd82765083043d0ac0b51883801c9a4",
        "IPY_MODEL_03d2c97cbd334645b755c5de27e578a7",
        "IPY_MODEL_e494faf8315d4fb0bad0a8b65c367bdd"
       ],
       "layout": "IPY_MODEL_7a3c51f94b5844dca230673fd09f6069"
      }
     },
     "af82877582b74610815c12265ad74e08": {
      "model_module": "@jupyter-widgets/base",
      "model_module_version": "1.2.0",
      "model_name": "LayoutModel",
      "state": {}
     },
     "afa94d320db046bfb2f5e54e9415f729": {
      "model_module": "@jupyter-widgets/controls",
      "model_module_version": "1.5.0",
      "model_name": "ButtonStyleModel",
      "state": {}
     },
     "afe8e83b95b9484b8b1d9cd70594505b": {
      "model_module": "@jupyter-widgets/controls",
      "model_module_version": "1.5.0",
      "model_name": "DescriptionStyleModel",
      "state": {
       "description_width": ""
      }
     },
     "b013e8ff3d94417cbdce843444e9ad8f": {
      "model_module": "@jupyter-widgets/base",
      "model_module_version": "1.2.0",
      "model_name": "LayoutModel",
      "state": {}
     },
     "b029f4201798465cba3bf49bdbdcc427": {
      "model_module": "@jupyter-widgets/base",
      "model_module_version": "1.2.0",
      "model_name": "LayoutModel",
      "state": {}
     },
     "b05c9a7eee7447bd803986e60e2b6b10": {
      "model_module": "@jupyter-widgets/controls",
      "model_module_version": "1.5.0",
      "model_name": "DescriptionStyleModel",
      "state": {
       "description_width": ""
      }
     },
     "b0a0203d95284b2991f6eee644b25823": {
      "model_module": "@jupyter-widgets/controls",
      "model_module_version": "1.5.0",
      "model_name": "ButtonModel",
      "state": {
       "description": "submit",
       "layout": "IPY_MODEL_d3f91178e30e45dc9e7b4bc051804de6",
       "style": "IPY_MODEL_a9332fc7b9514cc79d8bb1a7067ea2fe"
      }
     },
     "b1085af76f1b4f2ab95ba66dcab77002": {
      "model_module": "@jupyter-widgets/base",
      "model_module_version": "1.2.0",
      "model_name": "LayoutModel",
      "state": {}
     },
     "b114900771ab459996c96c650041fdc9": {
      "model_module": "@jupyter-widgets/controls",
      "model_module_version": "1.5.0",
      "model_name": "RadioButtonsModel",
      "state": {
       "_options_labels": [
        "apple",
        "banana",
        "pear"
       ],
       "index": 1,
       "layout": "IPY_MODEL_4c84ee5013924f7288b45df4998cb2f1",
       "style": "IPY_MODEL_9efda6a072354478b6fbd83ee8b76c1a"
      }
     },
     "b117f14ae1ec44c4b1f7e2b6af22ce44": {
      "model_module": "@jupyter-widgets/controls",
      "model_module_version": "1.5.0",
      "model_name": "VBoxModel",
      "state": {
       "children": [
        "IPY_MODEL_e7c541790ee344e995d41181e0b7a4a7",
        "IPY_MODEL_412ccf7bdfa74511a37d27c398a056c6",
        "IPY_MODEL_bf34fccb7e434c52a8250026dec8fa69",
        "IPY_MODEL_8baabb229c3b4d908af6f83a074f5d91"
       ],
       "layout": "IPY_MODEL_46a6b9b88825488a98fdaacd4c5f10e8"
      }
     },
     "b11c2043bc884573862b486cdbb626e0": {
      "model_module": "@jupyter-widgets/base",
      "model_module_version": "1.2.0",
      "model_name": "LayoutModel",
      "state": {}
     },
     "b1826d3a2ad149e7be038283d88fc874": {
      "model_module": "@jupyter-widgets/controls",
      "model_module_version": "1.5.0",
      "model_name": "DescriptionStyleModel",
      "state": {
       "description_width": ""
      }
     },
     "b19d9b4771674a6eb94a0d50966cf2eb": {
      "model_module": "@jupyter-widgets/controls",
      "model_module_version": "1.5.0",
      "model_name": "VBoxModel",
      "state": {
       "children": [
        "IPY_MODEL_f97639bf46314806b901108d2dfefb63",
        "IPY_MODEL_66da4d6586c64084b3ecc30b5400c03a",
        "IPY_MODEL_9aa82b81cfcb422cbea7c1a6fad70f2a",
        "IPY_MODEL_0161bfc3e57c4de8b14c27659686b77c"
       ],
       "layout": "IPY_MODEL_df386ac6ae4848a8ab5bf1ec1fd926ac"
      }
     },
     "b1f25f8e03bb4e789bb937b53b63b3c0": {
      "model_module": "@jupyter-widgets/base",
      "model_module_version": "1.2.0",
      "model_name": "LayoutModel",
      "state": {}
     },
     "b2329ace7d7a425c81033a3049a5fcbd": {
      "model_module": "@jupyter-widgets/base",
      "model_module_version": "1.2.0",
      "model_name": "LayoutModel",
      "state": {}
     },
     "b241486b7b8b4c729540784f602915f0": {
      "model_module": "@jupyter-widgets/output",
      "model_module_version": "1.0.0",
      "model_name": "OutputModel",
      "state": {
       "layout": "IPY_MODEL_b64dc6eedb9445b68e222b206cfc8544"
      }
     },
     "b27f0d3f607c44c6952b21c995576168": {
      "model_module": "@jupyter-widgets/output",
      "model_module_version": "1.0.0",
      "model_name": "OutputModel",
      "state": {
       "layout": "IPY_MODEL_d3c673cdbdc64b76a2827880df2b8e2a",
       "outputs": [
        {
         "name": "stdout",
         "output_type": "stream",
         "text": "\u001b[1;40;62mCorrect\u001b[0m\n\n"
        }
       ]
      }
     },
     "b2bf47e652a342f58c95255892c56e9f": {
      "model_module": "@jupyter-widgets/base",
      "model_module_version": "1.2.0",
      "model_name": "LayoutModel",
      "state": {}
     },
     "b2c5771504624a63a5ed293db3ae92f5": {
      "model_module": "@jupyter-widgets/controls",
      "model_module_version": "1.5.0",
      "model_name": "VBoxModel",
      "state": {
       "children": [
        "IPY_MODEL_1352bdbdf6ee4338aa61ab1e1631a406",
        "IPY_MODEL_ce70c72d7c404f4cab1fcbfa0096dc98",
        "IPY_MODEL_d65c11a9771648ebaac86c4e8bdfcd20",
        "IPY_MODEL_9090620d3975448d8d8d9a4acb54ec13"
       ],
       "layout": "IPY_MODEL_e0136de7fca048f7a4ef27abca022e07"
      }
     },
     "b2db5f56473e4c0eb1868e4020940d25": {
      "model_module": "@jupyter-widgets/base",
      "model_module_version": "1.2.0",
      "model_name": "LayoutModel",
      "state": {}
     },
     "b2de88180d0146e2970a78399c99b17f": {
      "model_module": "@jupyter-widgets/output",
      "model_module_version": "1.0.0",
      "model_name": "OutputModel",
      "state": {
       "layout": "IPY_MODEL_5abcbdb009ed4cb19a12aa20b958fea0"
      }
     },
     "b2e07fcb264d4a018c825302dedfce23": {
      "model_module": "@jupyter-widgets/controls",
      "model_module_version": "1.5.0",
      "model_name": "DescriptionStyleModel",
      "state": {
       "description_width": ""
      }
     },
     "b2f2237870ae4e54892fb2771858dcf7": {
      "model_module": "@jupyter-widgets/output",
      "model_module_version": "1.0.0",
      "model_name": "OutputModel",
      "state": {
       "layout": "IPY_MODEL_906fb7ae88fe401d99edaf6fdf037f87"
      }
     },
     "b2f3176b8a7a489cbd13964c353c45a6": {
      "model_module": "@jupyter-widgets/base",
      "model_module_version": "1.2.0",
      "model_name": "LayoutModel",
      "state": {}
     },
     "b31409b0899b4d4fb7edfc34ba95e874": {
      "model_module": "@jupyter-widgets/output",
      "model_module_version": "1.0.0",
      "model_name": "OutputModel",
      "state": {
       "layout": "IPY_MODEL_141443fcec1c46758132be338f0dc1ba",
       "outputs": [
        {
         "name": "stdout",
         "output_type": "stream",
         "text": "blablabla\n"
        }
       ]
      }
     },
     "b33284b1dc7c4d9185fd26ab49aee3f7": {
      "model_module": "@jupyter-widgets/base",
      "model_module_version": "1.2.0",
      "model_name": "LayoutModel",
      "state": {}
     },
     "b37185fa6c57407db20b0f4f0979d658": {
      "model_module": "@jupyter-widgets/controls",
      "model_module_version": "1.5.0",
      "model_name": "ButtonStyleModel",
      "state": {}
     },
     "b3736558a47641549bd7166643171993": {
      "model_module": "@jupyter-widgets/base",
      "model_module_version": "1.2.0",
      "model_name": "LayoutModel",
      "state": {}
     },
     "b38a37cefbb04ac787f9f0168c870ecd": {
      "model_module": "@jupyter-widgets/controls",
      "model_module_version": "1.5.0",
      "model_name": "ButtonModel",
      "state": {
       "description": "submit",
       "layout": "IPY_MODEL_2df9ba6cca67422c86c23605efd4663a",
       "style": "IPY_MODEL_6d2ef29d8cf24c8695c65c7811eb38cb"
      }
     },
     "b3e909429cdd4ddc8bd92c83891a972a": {
      "model_module": "@jupyter-widgets/controls",
      "model_module_version": "1.5.0",
      "model_name": "ButtonModel",
      "state": {
       "description": "submit",
       "layout": "IPY_MODEL_689e7eb877da4599969fe9efa1b2b962",
       "style": "IPY_MODEL_c78876546d5c4e7a87590686394369db"
      }
     },
     "b3ef7571a1634ecd935ba2e67d427a9e": {
      "model_module": "@jupyter-widgets/controls",
      "model_module_version": "1.5.0",
      "model_name": "VBoxModel",
      "state": {
       "children": [
        "IPY_MODEL_3806c71d5973435c945a8c3bd7eaa2ee",
        "IPY_MODEL_0352d1da688f43df9ba1e30118cb4738",
        "IPY_MODEL_b3e909429cdd4ddc8bd92c83891a972a",
        "IPY_MODEL_1f9c0fadb4374dc8aa0fc1f9971c603e"
       ],
       "layout": "IPY_MODEL_20f03595f7a64b1498108eee505b6238"
      }
     },
     "b3fdf8800e3a4859a6fcb4c0c4265e20": {
      "model_module": "@jupyter-widgets/output",
      "model_module_version": "1.0.0",
      "model_name": "OutputModel",
      "state": {
       "layout": "IPY_MODEL_c1c0481fd6434eeaaf9d27976b24bbf8"
      }
     },
     "b42a017419ac42a88c4d86e6c93691b9": {
      "model_module": "@jupyter-widgets/output",
      "model_module_version": "1.0.0",
      "model_name": "OutputModel",
      "state": {
       "layout": "IPY_MODEL_73f224433af24b448be325bf9e08f764",
       "outputs": [
        {
         "name": "stdout",
         "output_type": "stream",
         "text": "\u001b[1;30;102mCorrect\u001b[0m\n\n"
        }
       ]
      }
     },
     "b4504d473fc34348b0c2a3b8ee5d76e0": {
      "model_module": "@jupyter-widgets/base",
      "model_module_version": "1.2.0",
      "model_name": "LayoutModel",
      "state": {}
     },
     "b4521b4697674e1cbc2a2a66a84046cd": {
      "model_module": "@jupyter-widgets/controls",
      "model_module_version": "1.5.0",
      "model_name": "DescriptionStyleModel",
      "state": {
       "description_width": ""
      }
     },
     "b4936f18ce41485aab07a8fa647eedbe": {
      "model_module": "@jupyter-widgets/output",
      "model_module_version": "1.0.0",
      "model_name": "OutputModel",
      "state": {
       "layout": "IPY_MODEL_c84a38c1a9ae4869932ce04fc2e7425c",
       "outputs": [
        {
         "name": "stdout",
         "output_type": "stream",
         "text": "blablabla\n"
        }
       ]
      }
     },
     "b4a6dff8d17342c493db0601d9799efb": {
      "model_module": "@jupyter-widgets/controls",
      "model_module_version": "1.5.0",
      "model_name": "ButtonModel",
      "state": {
       "description": "submit",
       "layout": "IPY_MODEL_24af89f7abf747a8a8a835683a0046bd",
       "style": "IPY_MODEL_078d25fd6a8c43e5b411640a23a82431"
      }
     },
     "b4cffd286346460eb39a5e20e0c10efe": {
      "model_module": "@jupyter-widgets/controls",
      "model_module_version": "1.5.0",
      "model_name": "VBoxModel",
      "state": {
       "children": [
        "IPY_MODEL_08362dcc20b44fa184f377e3ea7ad611",
        "IPY_MODEL_f875a12470c54190b3b7990a3e7bd6fd",
        "IPY_MODEL_535028845f4644198d60061334166b41",
        "IPY_MODEL_716f2b9158cb4e4789e5cc9148aeda09"
       ],
       "layout": "IPY_MODEL_6dc6b87946d244afa563fc8bda09850f"
      }
     },
     "b4dc913f983b4d8ca078d3ae844590c2": {
      "model_module": "@jupyter-widgets/controls",
      "model_module_version": "1.5.0",
      "model_name": "RadioButtonsModel",
      "state": {
       "_options_labels": [
        "blue",
        "white",
        "red"
       ],
       "index": 0,
       "layout": "IPY_MODEL_8b033b9ce4704a768fe609452557a823",
       "style": "IPY_MODEL_68d19fabd58c41b9883c6d5eec780e65"
      }
     },
     "b561a0423c884f2cba49b10cef072dcd": {
      "model_module": "@jupyter-widgets/controls",
      "model_module_version": "1.5.0",
      "model_name": "VBoxModel",
      "state": {
       "children": [
        "IPY_MODEL_f6cdc3370d4743e7bedea77924b5e1e9",
        "IPY_MODEL_6d29edb85c6545c8addf3eaa4aa78864",
        "IPY_MODEL_57e76cda1d6d4316b8d9a7c342c82b6a",
        "IPY_MODEL_2630fc01b3784733912522244ba03cec"
       ],
       "layout": "IPY_MODEL_23530b49c562470ebfeac1c45778d4d9"
      }
     },
     "b5702cfcc1c3438ab49253d948faf439": {
      "model_module": "@jupyter-widgets/base",
      "model_module_version": "1.2.0",
      "model_name": "LayoutModel",
      "state": {}
     },
     "b57a9e1900f94012b6f40a337e9ecdd4": {
      "model_module": "@jupyter-widgets/controls",
      "model_module_version": "1.5.0",
      "model_name": "ButtonModel",
      "state": {
       "description": "submit",
       "layout": "IPY_MODEL_a2140af1d58a4acb8526e0a09ab44f86",
       "style": "IPY_MODEL_6283a932ddaf458fa40b8b49ab3440d4"
      }
     },
     "b57b08e11656442eb9ca0473861f2dcf": {
      "model_module": "@jupyter-widgets/controls",
      "model_module_version": "1.5.0",
      "model_name": "VBoxModel",
      "state": {
       "children": [
        "IPY_MODEL_89ad23035bd94e63acc50beafe83775f",
        "IPY_MODEL_b114900771ab459996c96c650041fdc9",
        "IPY_MODEL_299f40d42dad4a8ebceff4424a4ca8c0",
        "IPY_MODEL_746bcfea93714d7284a7ad11dc5e85b7"
       ],
       "layout": "IPY_MODEL_d3b433a3b06144018a012175f3b1c451"
      }
     },
     "b587ff1b3f844d13a5d40fa113bb3f50": {
      "model_module": "@jupyter-widgets/base",
      "model_module_version": "1.2.0",
      "model_name": "LayoutModel",
      "state": {}
     },
     "b590221293504d469b00e983bac8b026": {
      "model_module": "@jupyter-widgets/output",
      "model_module_version": "1.0.0",
      "model_name": "OutputModel",
      "state": {
       "layout": "IPY_MODEL_cd4571a893ab43e38e7ae92d2373f38d"
      }
     },
     "b5b77e2173c6495195b6483f8b6e69b2": {
      "model_module": "@jupyter-widgets/output",
      "model_module_version": "1.0.0",
      "model_name": "OutputModel",
      "state": {
       "layout": "IPY_MODEL_e3c6028b5b31467cb69f8505a1f7d5a4",
       "outputs": [
        {
         "name": "stdout",
         "output_type": "stream",
         "text": "\u001b[144;238;144mCorrect.\u001b[0m\n\n"
        }
       ]
      }
     },
     "b5e459eaea23412a99e608439239b618": {
      "model_module": "@jupyter-widgets/controls",
      "model_module_version": "1.5.0",
      "model_name": "RadioButtonsModel",
      "state": {
       "_options_labels": [
        "cat",
        "dog",
        "mouse"
       ],
       "index": 0,
       "layout": "IPY_MODEL_0f2f8fbee7914b65a7d72143c5342da3",
       "style": "IPY_MODEL_54a5aa93fe78416daa1ce5728bd53cbe"
      }
     },
     "b64dc6eedb9445b68e222b206cfc8544": {
      "model_module": "@jupyter-widgets/base",
      "model_module_version": "1.2.0",
      "model_name": "LayoutModel",
      "state": {}
     },
     "b6614190cd2d479daf8f7781d9f3f50e": {
      "model_module": "@jupyter-widgets/base",
      "model_module_version": "1.2.0",
      "model_name": "LayoutModel",
      "state": {}
     },
     "b693c352d4d54856b29256b5705e0b26": {
      "model_module": "@jupyter-widgets/output",
      "model_module_version": "1.0.0",
      "model_name": "OutputModel",
      "state": {
       "layout": "IPY_MODEL_cef46b7675d54017881751bd8b9fcc76"
      }
     },
     "b6b96c0c5d444711a7abc8929fb9e7ca": {
      "model_module": "@jupyter-widgets/output",
      "model_module_version": "1.0.0",
      "model_name": "OutputModel",
      "state": {
       "layout": "IPY_MODEL_039d82ef36b5407d8ec927641aefc1bb",
       "outputs": [
        {
         "name": "stdout",
         "output_type": "stream",
         "text": "blablabla\n"
        }
       ]
      }
     },
     "b6c8165b2e534558a8fdca69d77c5c58": {
      "model_module": "@jupyter-widgets/controls",
      "model_module_version": "1.5.0",
      "model_name": "VBoxModel",
      "state": {
       "children": [
        "IPY_MODEL_3c2e305ef3e645e88fa6839feeac9540",
        "IPY_MODEL_772cf711a125435cbe58187af56ea813",
        "IPY_MODEL_201d8e14f2a344a891b07ebd6b98c40b",
        "IPY_MODEL_548e0b1aded34b43a7cf469d012784c4"
       ],
       "layout": "IPY_MODEL_99156a0711584bfd955d6b9f91dbc5f6"
      }
     },
     "b708923aa32745e4ba72615e0b901e79": {
      "model_module": "@jupyter-widgets/output",
      "model_module_version": "1.0.0",
      "model_name": "OutputModel",
      "state": {
       "layout": "IPY_MODEL_4f99cbe6dd5e45468acf2e53ed4115ab",
       "outputs": [
        {
         "name": "stdout",
         "output_type": "stream",
         "text": "jajajajaj\n"
        }
       ]
      }
     },
     "b764753797ef4f8484317748c536023d": {
      "model_module": "@jupyter-widgets/base",
      "model_module_version": "1.2.0",
      "model_name": "LayoutModel",
      "state": {}
     },
     "b7a9882a193f48bbace6a04b7717d5e1": {
      "model_module": "@jupyter-widgets/base",
      "model_module_version": "1.2.0",
      "model_name": "LayoutModel",
      "state": {}
     },
     "b7bbf88b6ac14828af36a4e65ac8fd64": {
      "model_module": "@jupyter-widgets/controls",
      "model_module_version": "1.5.0",
      "model_name": "DescriptionStyleModel",
      "state": {
       "description_width": ""
      }
     },
     "b821f962c7a34fb9a43523dfa0c04ea5": {
      "model_module": "@jupyter-widgets/base",
      "model_module_version": "1.2.0",
      "model_name": "LayoutModel",
      "state": {}
     },
     "b84baf53d9e14cccb1d7c04f367da6d2": {
      "model_module": "@jupyter-widgets/base",
      "model_module_version": "1.2.0",
      "model_name": "LayoutModel",
      "state": {}
     },
     "b8817f3a95e64a79abf8d138690bae1b": {
      "model_module": "@jupyter-widgets/controls",
      "model_module_version": "1.5.0",
      "model_name": "ButtonModel",
      "state": {
       "description": "submit",
       "layout": "IPY_MODEL_b7a9882a193f48bbace6a04b7717d5e1",
       "style": "IPY_MODEL_fd1619e8c1cc4991ae9aa6bdd5f591a5"
      }
     },
     "b89e2e15503843f3b9735e70398a5ed9": {
      "model_module": "@jupyter-widgets/base",
      "model_module_version": "1.2.0",
      "model_name": "LayoutModel",
      "state": {}
     },
     "b8a0f962fe1b43a7a61a3f62d3342273": {
      "model_module": "@jupyter-widgets/controls",
      "model_module_version": "1.5.0",
      "model_name": "DescriptionStyleModel",
      "state": {
       "description_width": ""
      }
     },
     "b8c65b1b34d148b79995488832c3491b": {
      "model_module": "@jupyter-widgets/base",
      "model_module_version": "1.2.0",
      "model_name": "LayoutModel",
      "state": {}
     },
     "b8d2470b14b243cb93cd708fee37c779": {
      "model_module": "@jupyter-widgets/base",
      "model_module_version": "1.2.0",
      "model_name": "LayoutModel",
      "state": {}
     },
     "b930bb6e665642438e02671d1efa30b1": {
      "model_module": "@jupyter-widgets/base",
      "model_module_version": "1.2.0",
      "model_name": "LayoutModel",
      "state": {}
     },
     "b9b2448639724550822980e93e309924": {
      "model_module": "@jupyter-widgets/output",
      "model_module_version": "1.0.0",
      "model_name": "OutputModel",
      "state": {
       "layout": "IPY_MODEL_6e16d2d8616f466e92907cb834700264"
      }
     },
     "b9d0f9a5c89b40e9b5f565bb7b6de505": {
      "model_module": "@jupyter-widgets/controls",
      "model_module_version": "1.5.0",
      "model_name": "VBoxModel",
      "state": {
       "children": [
        "IPY_MODEL_6405d90f37db4c3cbf90cabc81f40408",
        "IPY_MODEL_d4fe5c6d3f394ac0874ba2ed67205d06",
        "IPY_MODEL_eb23d791f1334c77b1389ce9f6a673f7",
        "IPY_MODEL_fc2479e62d414630abbe7795f417efc7"
       ],
       "layout": "IPY_MODEL_dd63420259b74003aa1ab1cf98af3d2f"
      }
     },
     "ba1dc187d79141c8be699c314f1b342b": {
      "model_module": "@jupyter-widgets/base",
      "model_module_version": "1.2.0",
      "model_name": "LayoutModel",
      "state": {}
     },
     "ba8e5ea3d0fd471cb2518dc3eaec4a42": {
      "model_module": "@jupyter-widgets/base",
      "model_module_version": "1.2.0",
      "model_name": "LayoutModel",
      "state": {}
     },
     "baa89dd526b24fa5b66a60403deff92c": {
      "model_module": "@jupyter-widgets/controls",
      "model_module_version": "1.5.0",
      "model_name": "ButtonModel",
      "state": {
       "description": "submit",
       "layout": "IPY_MODEL_b2329ace7d7a425c81033a3049a5fcbd",
       "style": "IPY_MODEL_5a43bc30c1084805883ec33304724ac0"
      }
     },
     "bb02780396f14068a3db6bb8961641bd": {
      "model_module": "@jupyter-widgets/controls",
      "model_module_version": "1.5.0",
      "model_name": "VBoxModel",
      "state": {
       "children": [
        "IPY_MODEL_7463730fe2ac4635bbe8304de4897cd1",
        "IPY_MODEL_765161163f674d32a8155183657d577f",
        "IPY_MODEL_e39793d9398f4826b837b3e0eab8a2e2",
        "IPY_MODEL_9dded0c2476d42f0ab3bb27f10a5c10b"
       ],
       "layout": "IPY_MODEL_b4504d473fc34348b0c2a3b8ee5d76e0"
      }
     },
     "bb907fa3015b4bf3877fc99b180be117": {
      "model_module": "@jupyter-widgets/output",
      "model_module_version": "1.0.0",
      "model_name": "OutputModel",
      "state": {
       "layout": "IPY_MODEL_6e7efcc5c2f045e8ba4139acc574a579",
       "outputs": [
        {
         "name": "stdout",
         "output_type": "stream",
         "text": "lalalalal\n"
        }
       ]
      }
     },
     "bb9e3a29d5a844c3b8f429d30677930a": {
      "model_module": "@jupyter-widgets/controls",
      "model_module_version": "1.5.0",
      "model_name": "VBoxModel",
      "state": {
       "children": [
        "IPY_MODEL_2322a5ed40884ec6a38775081f4d2017",
        "IPY_MODEL_47eb5834662643fabefd9638c5308212",
        "IPY_MODEL_f5de6ded1f674a4c83332d6aa350b230",
        "IPY_MODEL_30c43f34ad89485dbf26cf99eae5a4d4"
       ],
       "layout": "IPY_MODEL_4dd7376777844f1a81469b8df81f9035"
      }
     },
     "bbe0dcfb7be84407bfdaea9e3919d1e1": {
      "model_module": "@jupyter-widgets/output",
      "model_module_version": "1.0.0",
      "model_name": "OutputModel",
      "state": {
       "layout": "IPY_MODEL_072d29a8ef944f9cb06954e30c6a3e21",
       "outputs": [
        {
         "name": "stdout",
         "output_type": "stream",
         "text": "blablabla\n"
        }
       ]
      }
     },
     "bbee3965a76345feac6f608ca465ec4e": {
      "model_module": "@jupyter-widgets/controls",
      "model_module_version": "1.5.0",
      "model_name": "ButtonModel",
      "state": {
       "description": "submit",
       "layout": "IPY_MODEL_d1be4a1658a3461dbc09f7fb05cc003c",
       "style": "IPY_MODEL_f984191679bc4b21beb5e0051d3600fd"
      }
     },
     "bbeef16cf3fa433c841199e9eb01f7f3": {
      "model_module": "@jupyter-widgets/controls",
      "model_module_version": "1.5.0",
      "model_name": "RadioButtonsModel",
      "state": {
       "_options_labels": [
        "cat",
        "dog",
        "mouse"
       ],
       "index": 0,
       "layout": "IPY_MODEL_a04558a9834f45d89831b95af8a34c8c",
       "style": "IPY_MODEL_aacbc0bb2a3147b7870bfe9c84ad106d"
      }
     },
     "bc2317c2a2624cc8bd5bae0c7537f737": {
      "model_module": "@jupyter-widgets/base",
      "model_module_version": "1.2.0",
      "model_name": "LayoutModel",
      "state": {}
     },
     "bc2e644b85884864993f1d1d6aceeffd": {
      "model_module": "@jupyter-widgets/output",
      "model_module_version": "1.0.0",
      "model_name": "OutputModel",
      "state": {
       "layout": "IPY_MODEL_773096d816ef47ad93bdd6088e76ae70",
       "outputs": [
        {
         "name": "stdout",
         "output_type": "stream",
         "text": "jajajajaj\n"
        }
       ]
      }
     },
     "bc2f5dd86be94e379c5512d507fe5f56": {
      "model_module": "@jupyter-widgets/controls",
      "model_module_version": "1.5.0",
      "model_name": "ButtonStyleModel",
      "state": {}
     },
     "bc36771e7e3e4cab9dd0ecead6fce4ba": {
      "model_module": "@jupyter-widgets/controls",
      "model_module_version": "1.5.0",
      "model_name": "RadioButtonsModel",
      "state": {
       "_options_labels": [
        "cat",
        "dog",
        "mouse"
       ],
       "index": 0,
       "layout": "IPY_MODEL_750937f2acba47c187c9f663d41ce2d2",
       "style": "IPY_MODEL_5cf45af26c5146c7b40e36e383d8c5b0"
      }
     },
     "bc5cdb81f6d34cbe93b158dea9e313d1": {
      "model_module": "@jupyter-widgets/controls",
      "model_module_version": "1.5.0",
      "model_name": "RadioButtonsModel",
      "state": {
       "_options_labels": [
        "blue",
        "white",
        "red"
       ],
       "index": 0,
       "layout": "IPY_MODEL_0df8da0cf9eb4b3680b570b4942132da",
       "style": "IPY_MODEL_665ea428b77740f0b2fbafbc0b84caa8"
      }
     },
     "bc6470d7178046b881dd77aee1134f0d": {
      "model_module": "@jupyter-widgets/output",
      "model_module_version": "1.0.0",
      "model_name": "OutputModel",
      "state": {
       "layout": "IPY_MODEL_e6b29a7c425740b694ffc07f5383bea2",
       "outputs": [
        {
         "name": "stdout",
         "output_type": "stream",
         "text": "blablabla\n"
        }
       ]
      }
     },
     "bcb4ca4784324dfbb18a8b931f4ca392": {
      "model_module": "@jupyter-widgets/controls",
      "model_module_version": "1.5.0",
      "model_name": "DescriptionStyleModel",
      "state": {
       "description_width": ""
      }
     },
     "bcd43ba0946a4362b44ada6f30ce4c30": {
      "model_module": "@jupyter-widgets/base",
      "model_module_version": "1.2.0",
      "model_name": "LayoutModel",
      "state": {}
     },
     "bcdf1a861d934136a5bb1c38623b44cc": {
      "model_module": "@jupyter-widgets/controls",
      "model_module_version": "1.5.0",
      "model_name": "DescriptionStyleModel",
      "state": {
       "description_width": ""
      }
     },
     "bcf71d484cf54f0f9464e17be711b9c1": {
      "model_module": "@jupyter-widgets/base",
      "model_module_version": "1.2.0",
      "model_name": "LayoutModel",
      "state": {}
     },
     "bd00ee9fc37d42c086fbc77cd86e42d2": {
      "model_module": "@jupyter-widgets/controls",
      "model_module_version": "1.5.0",
      "model_name": "ButtonStyleModel",
      "state": {}
     },
     "bd0f08fa25934cd288b819cbce8cb271": {
      "model_module": "@jupyter-widgets/base",
      "model_module_version": "1.2.0",
      "model_name": "LayoutModel",
      "state": {}
     },
     "bd11562efb2042beaa4de22ccc3018d7": {
      "model_module": "@jupyter-widgets/base",
      "model_module_version": "1.2.0",
      "model_name": "LayoutModel",
      "state": {}
     },
     "bd54936bfa284e91999c2383c99f3d6e": {
      "model_module": "@jupyter-widgets/controls",
      "model_module_version": "1.5.0",
      "model_name": "DescriptionStyleModel",
      "state": {
       "description_width": ""
      }
     },
     "bd64ac9933a44f9f85d9c8456eab9833": {
      "model_module": "@jupyter-widgets/base",
      "model_module_version": "1.2.0",
      "model_name": "LayoutModel",
      "state": {}
     },
     "bdfd990ed83b43e7817310d69a8f172f": {
      "model_module": "@jupyter-widgets/base",
      "model_module_version": "1.2.0",
      "model_name": "LayoutModel",
      "state": {}
     },
     "be90144b9d27449a86970af769608c0d": {
      "model_module": "@jupyter-widgets/base",
      "model_module_version": "1.2.0",
      "model_name": "LayoutModel",
      "state": {}
     },
     "be990fa9b92b49b78fe81a54f97b9c24": {
      "model_module": "@jupyter-widgets/base",
      "model_module_version": "1.2.0",
      "model_name": "LayoutModel",
      "state": {}
     },
     "bf34fccb7e434c52a8250026dec8fa69": {
      "model_module": "@jupyter-widgets/controls",
      "model_module_version": "1.5.0",
      "model_name": "ButtonModel",
      "state": {
       "description": "submit",
       "layout": "IPY_MODEL_a6eab04730b843a6b8a6ad88a2675d9b",
       "style": "IPY_MODEL_9b6010bef71b4ca4a97678d03a09488b"
      }
     },
     "bf4cecbd34844514a74f535825ca82a3": {
      "model_module": "@jupyter-widgets/base",
      "model_module_version": "1.2.0",
      "model_name": "LayoutModel",
      "state": {}
     },
     "bf6e4f84ac334363b1a05003b262fbd9": {
      "model_module": "@jupyter-widgets/controls",
      "model_module_version": "1.5.0",
      "model_name": "ButtonStyleModel",
      "state": {}
     },
     "bf9d2ce821c647e7ae7ddb3b4325a2e9": {
      "model_module": "@jupyter-widgets/controls",
      "model_module_version": "1.5.0",
      "model_name": "DescriptionStyleModel",
      "state": {
       "description_width": ""
      }
     },
     "bfaa5b222bd34cfe897cf9cf956849a1": {
      "model_module": "@jupyter-widgets/base",
      "model_module_version": "1.2.0",
      "model_name": "LayoutModel",
      "state": {}
     },
     "bfb0f5a908ba40c185bb1625085fcdd5": {
      "model_module": "@jupyter-widgets/controls",
      "model_module_version": "1.5.0",
      "model_name": "ButtonStyleModel",
      "state": {}
     },
     "bfe97293c27e46fd846e0a1118dda628": {
      "model_module": "@jupyter-widgets/output",
      "model_module_version": "1.0.0",
      "model_name": "OutputModel",
      "state": {
       "layout": "IPY_MODEL_7e91b5305c2b4112a0b6c940ea70a1b9"
      }
     },
     "c0197df57b58481cbbf7f9ad448e4377": {
      "model_module": "@jupyter-widgets/base",
      "model_module_version": "1.2.0",
      "model_name": "LayoutModel",
      "state": {}
     },
     "c061ba216a484275a90a6cad17541bca": {
      "model_module": "@jupyter-widgets/controls",
      "model_module_version": "1.5.0",
      "model_name": "DescriptionStyleModel",
      "state": {
       "description_width": ""
      }
     },
     "c066ca53c2604fec95ea66f4887e13bb": {
      "model_module": "@jupyter-widgets/base",
      "model_module_version": "1.2.0",
      "model_name": "LayoutModel",
      "state": {}
     },
     "c0962f31a1224205a3f6bf231066f719": {
      "model_module": "@jupyter-widgets/base",
      "model_module_version": "1.2.0",
      "model_name": "LayoutModel",
      "state": {}
     },
     "c0b05c18cc7c4123b8bc89b8c2c29a97": {
      "model_module": "@jupyter-widgets/base",
      "model_module_version": "1.2.0",
      "model_name": "LayoutModel",
      "state": {}
     },
     "c0d8f45c529a406ea1babd85b406a1c5": {
      "model_module": "@jupyter-widgets/base",
      "model_module_version": "1.2.0",
      "model_name": "LayoutModel",
      "state": {}
     },
     "c0dc155bcdfc4e3aaaeb3423788884e2": {
      "model_module": "@jupyter-widgets/base",
      "model_module_version": "1.2.0",
      "model_name": "LayoutModel",
      "state": {}
     },
     "c143878fcbe0472d90e38242ba683fd7": {
      "model_module": "@jupyter-widgets/base",
      "model_module_version": "1.2.0",
      "model_name": "LayoutModel",
      "state": {}
     },
     "c154427952ef42d28b5e2bd243503c68": {
      "model_module": "@jupyter-widgets/base",
      "model_module_version": "1.2.0",
      "model_name": "LayoutModel",
      "state": {}
     },
     "c1b260b1b453467cb721c6ddd7a3e862": {
      "model_module": "@jupyter-widgets/output",
      "model_module_version": "1.0.0",
      "model_name": "OutputModel",
      "state": {
       "layout": "IPY_MODEL_f7c4056932544990be8e0e0b22bb4ce5"
      }
     },
     "c1c0481fd6434eeaaf9d27976b24bbf8": {
      "model_module": "@jupyter-widgets/base",
      "model_module_version": "1.2.0",
      "model_name": "LayoutModel",
      "state": {}
     },
     "c216795d9c254c82a6441089ebb06b5d": {
      "model_module": "@jupyter-widgets/controls",
      "model_module_version": "1.5.0",
      "model_name": "DescriptionStyleModel",
      "state": {
       "description_width": ""
      }
     },
     "c23f358ae368436b840713cc57ee7022": {
      "model_module": "@jupyter-widgets/controls",
      "model_module_version": "1.5.0",
      "model_name": "RadioButtonsModel",
      "state": {
       "_options_labels": [
        "blue",
        "white",
        "red"
       ],
       "index": 0,
       "layout": "IPY_MODEL_2ebdb563291349faa4220a629e61c5b6",
       "style": "IPY_MODEL_590a21d53fb846939cdeaf767a0f8daa"
      }
     },
     "c2452236e62b48fba552c1f2e9039346": {
      "model_module": "@jupyter-widgets/controls",
      "model_module_version": "1.5.0",
      "model_name": "RadioButtonsModel",
      "state": {
       "_options_labels": [
        "blue",
        "white",
        "red"
       ],
       "index": 0,
       "layout": "IPY_MODEL_179563ad29c54fdfa2808efd93c1fb43",
       "style": "IPY_MODEL_1b8a18c020e247419e34d25748a2af72"
      }
     },
     "c304d31151a043eca4825920f2ca9b19": {
      "model_module": "@jupyter-widgets/output",
      "model_module_version": "1.0.0",
      "model_name": "OutputModel",
      "state": {
       "layout": "IPY_MODEL_f79f56e59b3648739fc29819c3a53bbf",
       "outputs": [
        {
         "name": "stdout",
         "output_type": "stream",
         "text": "blablabla\n"
        }
       ]
      }
     },
     "c30bf0d5139a486daf74948ba642675d": {
      "model_module": "@jupyter-widgets/controls",
      "model_module_version": "1.5.0",
      "model_name": "DescriptionStyleModel",
      "state": {
       "description_width": ""
      }
     },
     "c3a6a21ecd3042a5818fa6ba7141d097": {
      "model_module": "@jupyter-widgets/controls",
      "model_module_version": "1.5.0",
      "model_name": "ButtonStyleModel",
      "state": {}
     },
     "c3c44b2a02c2440d955a1e64c601bf6a": {
      "model_module": "@jupyter-widgets/output",
      "model_module_version": "1.0.0",
      "model_name": "OutputModel",
      "state": {
       "layout": "IPY_MODEL_826a8ed7c8c6413cb65b618844fb70d7"
      }
     },
     "c3c84fc6d9a74c7b99b309980ad76535": {
      "model_module": "@jupyter-widgets/output",
      "model_module_version": "1.0.0",
      "model_name": "OutputModel",
      "state": {
       "layout": "IPY_MODEL_4e6089c952c34944900ade548149d310",
       "outputs": [
        {
         "name": "stdout",
         "output_type": "stream",
         "text": "blablabla\n"
        }
       ]
      }
     },
     "c3f2195043964742b75a7facf2f56f3e": {
      "model_module": "@jupyter-widgets/base",
      "model_module_version": "1.2.0",
      "model_name": "LayoutModel",
      "state": {}
     },
     "c420461325804dd59d7c4b2dba0fa6fd": {
      "model_module": "@jupyter-widgets/base",
      "model_module_version": "1.2.0",
      "model_name": "LayoutModel",
      "state": {}
     },
     "c437d9c366d84f508e91f30e5808bf05": {
      "model_module": "@jupyter-widgets/base",
      "model_module_version": "1.2.0",
      "model_name": "LayoutModel",
      "state": {}
     },
     "c4392e94a3d344b18adb40598c0fb03d": {
      "model_module": "@jupyter-widgets/controls",
      "model_module_version": "1.5.0",
      "model_name": "DescriptionStyleModel",
      "state": {
       "description_width": ""
      }
     },
     "c44b63a4060f42eaa0d9aae8f6ac32e6": {
      "model_module": "@jupyter-widgets/output",
      "model_module_version": "1.0.0",
      "model_name": "OutputModel",
      "state": {
       "layout": "IPY_MODEL_7a1d92fd499d472f82d3ac72b2def2d2"
      }
     },
     "c452022086184a40a88cdb33a217313e": {
      "model_module": "@jupyter-widgets/base",
      "model_module_version": "1.2.0",
      "model_name": "LayoutModel",
      "state": {}
     },
     "c4762948e2bb42a483b40b1f0cfb6040": {
      "model_module": "@jupyter-widgets/output",
      "model_module_version": "1.0.0",
      "model_name": "OutputModel",
      "state": {
       "layout": "IPY_MODEL_5f505b184f434f40aa4dee0838b431bb",
       "outputs": [
        {
         "name": "stdout",
         "output_type": "stream",
         "text": "\u001b[6;40;42mCorrect\u001b[0m\n\n"
        }
       ]
      }
     },
     "c4b00feac1f54199aa819ea8e584b035": {
      "model_module": "@jupyter-widgets/base",
      "model_module_version": "1.2.0",
      "model_name": "LayoutModel",
      "state": {}
     },
     "c4b062b2965a4562a89413675340c03a": {
      "model_module": "@jupyter-widgets/base",
      "model_module_version": "1.2.0",
      "model_name": "LayoutModel",
      "state": {}
     },
     "c4ca90263ae241e282503ddf4e1d6ea7": {
      "model_module": "@jupyter-widgets/controls",
      "model_module_version": "1.5.0",
      "model_name": "ButtonModel",
      "state": {
       "description": "submit",
       "layout": "IPY_MODEL_611a09ba906941cd879a4f63855624ed",
       "style": "IPY_MODEL_c80781cae4e54c90ae8e83bf4fd432e4"
      }
     },
     "c5ef4e76cc8846c69d8f8a38d7fb1091": {
      "model_module": "@jupyter-widgets/output",
      "model_module_version": "1.0.0",
      "model_name": "OutputModel",
      "state": {
       "layout": "IPY_MODEL_a514971eaa684f5484b05e2ba68b3784",
       "outputs": [
        {
         "name": "stdout",
         "output_type": "stream",
         "text": "blablabla\n"
        }
       ]
      }
     },
     "c5f61a62fa7a48f687457671753c455f": {
      "model_module": "@jupyter-widgets/output",
      "model_module_version": "1.0.0",
      "model_name": "OutputModel",
      "state": {
       "layout": "IPY_MODEL_5dfabe073620405a9ca2a18828fb7007",
       "outputs": [
        {
         "name": "stdout",
         "output_type": "stream",
         "text": "jajajajaj\n"
        }
       ]
      }
     },
     "c5f943b1137642a2a3e8858f9ef5ad6b": {
      "model_module": "@jupyter-widgets/output",
      "model_module_version": "1.0.0",
      "model_name": "OutputModel",
      "state": {
       "layout": "IPY_MODEL_f29c460a82d74085a00fab865e7296d8",
       "outputs": [
        {
         "name": "stdout",
         "output_type": "stream",
         "text": "\u001b[1;30;43mIncorrect\u001b[0m\n\n"
        }
       ]
      }
     },
     "c68178ee3b234f82ae72c279a95e883b": {
      "model_module": "@jupyter-widgets/controls",
      "model_module_version": "1.5.0",
      "model_name": "ButtonModel",
      "state": {
       "description": "submit",
       "layout": "IPY_MODEL_0fbb7d38535e46cd862df180598aa843",
       "style": "IPY_MODEL_62613137064243ed839b8bd89ecbcb93"
      }
     },
     "c70826f67cd24e529c1413dc475f0103": {
      "model_module": "@jupyter-widgets/base",
      "model_module_version": "1.2.0",
      "model_name": "LayoutModel",
      "state": {}
     },
     "c7551d71df15442985d546cf20745da1": {
      "model_module": "@jupyter-widgets/output",
      "model_module_version": "1.0.0",
      "model_name": "OutputModel",
      "state": {
       "layout": "IPY_MODEL_f8ec3561adfc4369b2797597282e31b1",
       "outputs": [
        {
         "name": "stdout",
         "output_type": "stream",
         "text": "blablabla\n"
        }
       ]
      }
     },
     "c78876546d5c4e7a87590686394369db": {
      "model_module": "@jupyter-widgets/controls",
      "model_module_version": "1.5.0",
      "model_name": "ButtonStyleModel",
      "state": {}
     },
     "c80781cae4e54c90ae8e83bf4fd432e4": {
      "model_module": "@jupyter-widgets/controls",
      "model_module_version": "1.5.0",
      "model_name": "ButtonStyleModel",
      "state": {}
     },
     "c80eb19972ee448f9f9e3e098a25770d": {
      "model_module": "@jupyter-widgets/controls",
      "model_module_version": "1.5.0",
      "model_name": "DescriptionStyleModel",
      "state": {
       "description_width": ""
      }
     },
     "c8292ebc316f4728b1bd8766f7fa9ab7": {
      "model_module": "@jupyter-widgets/base",
      "model_module_version": "1.2.0",
      "model_name": "LayoutModel",
      "state": {}
     },
     "c832804056c84fc6b73d341ba7753c15": {
      "model_module": "@jupyter-widgets/controls",
      "model_module_version": "1.5.0",
      "model_name": "VBoxModel",
      "state": {
       "children": [
        "IPY_MODEL_7a0d5507159a43ceb6442515a6c22ca2",
        "IPY_MODEL_cf9ea6231ad14be6a675411575ad45a5",
        "IPY_MODEL_911aacfd3bf94121a6c7354429fc8f0c",
        "IPY_MODEL_23e71a11265a4e2e9697ecb65864357c"
       ],
       "layout": "IPY_MODEL_70f4edf4db9549f885c7d58219f2e461"
      }
     },
     "c84a38c1a9ae4869932ce04fc2e7425c": {
      "model_module": "@jupyter-widgets/base",
      "model_module_version": "1.2.0",
      "model_name": "LayoutModel",
      "state": {}
     },
     "c86d6e36daa54dd59e7129692edaf53c": {
      "model_module": "@jupyter-widgets/base",
      "model_module_version": "1.2.0",
      "model_name": "LayoutModel",
      "state": {}
     },
     "c876f52ae5ef4d238d673480ee331a27": {
      "model_module": "@jupyter-widgets/controls",
      "model_module_version": "1.5.0",
      "model_name": "ButtonStyleModel",
      "state": {}
     },
     "c93a3817a4d4424b91bb138b4aa4a09d": {
      "model_module": "@jupyter-widgets/controls",
      "model_module_version": "1.5.0",
      "model_name": "RadioButtonsModel",
      "state": {
       "_options_labels": [
        "blue",
        "white",
        "red"
       ],
       "index": 0,
       "layout": "IPY_MODEL_b5702cfcc1c3438ab49253d948faf439",
       "style": "IPY_MODEL_afe8e83b95b9484b8b1d9cd70594505b"
      }
     },
     "c9b5556005dd4e3c9bdb8406b4164607": {
      "model_module": "@jupyter-widgets/controls",
      "model_module_version": "1.5.0",
      "model_name": "ButtonStyleModel",
      "state": {}
     },
     "c9cc3c80637c443fa286205383373cfa": {
      "model_module": "@jupyter-widgets/base",
      "model_module_version": "1.2.0",
      "model_name": "LayoutModel",
      "state": {}
     },
     "c9d1cd4501e4470d8eb8c55a4f425995": {
      "model_module": "@jupyter-widgets/controls",
      "model_module_version": "1.5.0",
      "model_name": "VBoxModel",
      "state": {
       "children": [
        "IPY_MODEL_f7b4243e2845412792ce3cab55bccf3c",
        "IPY_MODEL_27007d3971fa4907bdcc1f3059ed9d13",
        "IPY_MODEL_f291e4c746df4d90946edee1cecbe7ca",
        "IPY_MODEL_4caaf66f8a434d2f8b150eca897fc201"
       ],
       "layout": "IPY_MODEL_52ec13849a334cbcbc8bf9c85e095dcc"
      }
     },
     "ca0105eaca7a4a9cb19f292becc09671": {
      "model_module": "@jupyter-widgets/controls",
      "model_module_version": "1.5.0",
      "model_name": "RadioButtonsModel",
      "state": {
       "_options_labels": [
        "cat",
        "dog",
        "mouse"
       ],
       "index": 0,
       "layout": "IPY_MODEL_c86d6e36daa54dd59e7129692edaf53c",
       "style": "IPY_MODEL_ebd2d32a73294095bdaf0cf0fc125abd"
      }
     },
     "ca044294b7b744389fe55e6067023a7b": {
      "model_module": "@jupyter-widgets/controls",
      "model_module_version": "1.5.0",
      "model_name": "ButtonModel",
      "state": {
       "description": "submit",
       "layout": "IPY_MODEL_11af566e58f345dd9a51ce52f22f296a",
       "style": "IPY_MODEL_074f1b36cf0a423b82efc5d7731a0cd9"
      }
     },
     "ca42676dcde8426f9a61865685cc6484": {
      "model_module": "@jupyter-widgets/controls",
      "model_module_version": "1.5.0",
      "model_name": "RadioButtonsModel",
      "state": {
       "_options_labels": [
        "blue",
        "white",
        "red"
       ],
       "index": 0,
       "layout": "IPY_MODEL_54c1c65fb6834a53b9d62a676eb0c620",
       "style": "IPY_MODEL_09eab1830fd74ed9b79f9e45cf6e9238"
      }
     },
     "ca8aec87e6124517a24813ba5df114a5": {
      "model_module": "@jupyter-widgets/base",
      "model_module_version": "1.2.0",
      "model_name": "LayoutModel",
      "state": {}
     },
     "ca9fbd6ebc8542f785af16f70d31a8d2": {
      "model_module": "@jupyter-widgets/controls",
      "model_module_version": "1.5.0",
      "model_name": "ButtonStyleModel",
      "state": {}
     },
     "caa4164d36744c3b802f0cf5600a815b": {
      "model_module": "@jupyter-widgets/base",
      "model_module_version": "1.2.0",
      "model_name": "LayoutModel",
      "state": {}
     },
     "cae6e3317bff47b7a6f489236a5d5a77": {
      "model_module": "@jupyter-widgets/base",
      "model_module_version": "1.2.0",
      "model_name": "LayoutModel",
      "state": {}
     },
     "caeb366ea4f14353b32caa901772bf38": {
      "model_module": "@jupyter-widgets/controls",
      "model_module_version": "1.5.0",
      "model_name": "DescriptionStyleModel",
      "state": {
       "description_width": ""
      }
     },
     "cb15eacf24dd46119e74c8bc73950729": {
      "model_module": "@jupyter-widgets/controls",
      "model_module_version": "1.5.0",
      "model_name": "ButtonModel",
      "state": {
       "description": "submit",
       "layout": "IPY_MODEL_2b94a3a60d2b4f4bb095da70b77fb0bf",
       "style": "IPY_MODEL_c876f52ae5ef4d238d673480ee331a27"
      }
     },
     "cb1990a04d3941b19fd7f7cd4bda6898": {
      "model_module": "@jupyter-widgets/base",
      "model_module_version": "1.2.0",
      "model_name": "LayoutModel",
      "state": {}
     },
     "cb573d8eaea94cd09e74e8ab34b0fd58": {
      "model_module": "@jupyter-widgets/controls",
      "model_module_version": "1.5.0",
      "model_name": "DescriptionStyleModel",
      "state": {
       "description_width": ""
      }
     },
     "cbed574418934c6db56b58b1c05b6b72": {
      "model_module": "@jupyter-widgets/controls",
      "model_module_version": "1.5.0",
      "model_name": "VBoxModel",
      "state": {
       "children": [
        "IPY_MODEL_38a63b335c824277becaf8d15a31bb6c",
        "IPY_MODEL_890eaebf021c414a9709ed2dc079a196",
        "IPY_MODEL_5298ecb657154fc9bae8854f14986237",
        "IPY_MODEL_cc1a1cba18734501b19836309176d7b3"
       ],
       "layout": "IPY_MODEL_77d7be82d4714b699c40be96a57c0396"
      }
     },
     "cbeecef99b72438abb3b62cf4826025b": {
      "model_module": "@jupyter-widgets/base",
      "model_module_version": "1.2.0",
      "model_name": "LayoutModel",
      "state": {}
     },
     "cc1a1cba18734501b19836309176d7b3": {
      "model_module": "@jupyter-widgets/output",
      "model_module_version": "1.0.0",
      "model_name": "OutputModel",
      "state": {
       "layout": "IPY_MODEL_ba1dc187d79141c8be699c314f1b342b"
      }
     },
     "cc64ceeb769c4ac6907fdf255eb7d840": {
      "model_module": "@jupyter-widgets/controls",
      "model_module_version": "1.5.0",
      "model_name": "RadioButtonsModel",
      "state": {
       "_options_labels": [
        "cat",
        "dog",
        "mouse"
       ],
       "index": 0,
       "layout": "IPY_MODEL_458f587d68204b7a8ef3b80085fbb6e4",
       "style": "IPY_MODEL_42cf1bf4f2f344e691ac2ca0d62257e3"
      }
     },
     "cc748ba4b1aa4ac8b88dc4ef1709ea42": {
      "model_module": "@jupyter-widgets/base",
      "model_module_version": "1.2.0",
      "model_name": "LayoutModel",
      "state": {}
     },
     "cccd874429f94c0496f9f2fefee180d1": {
      "model_module": "@jupyter-widgets/base",
      "model_module_version": "1.2.0",
      "model_name": "LayoutModel",
      "state": {}
     },
     "ccd8da5a087d46d4b62cf4cce998d738": {
      "model_module": "@jupyter-widgets/controls",
      "model_module_version": "1.5.0",
      "model_name": "DescriptionStyleModel",
      "state": {
       "description_width": ""
      }
     },
     "cd4571a893ab43e38e7ae92d2373f38d": {
      "model_module": "@jupyter-widgets/base",
      "model_module_version": "1.2.0",
      "model_name": "LayoutModel",
      "state": {}
     },
     "cda21654a7a24a2ba466c7ed511bfea1": {
      "model_module": "@jupyter-widgets/controls",
      "model_module_version": "1.5.0",
      "model_name": "ButtonModel",
      "state": {
       "description": "submit",
       "layout": "IPY_MODEL_aaceeb59e54f45babb190cbdd18e5d01",
       "style": "IPY_MODEL_de970e237e9d4186a77baa69c6181e45"
      }
     },
     "cdc753f7d1ce4b7fbfccf029d0dfb323": {
      "model_module": "@jupyter-widgets/output",
      "model_module_version": "1.0.0",
      "model_name": "OutputModel",
      "state": {
       "layout": "IPY_MODEL_b33284b1dc7c4d9185fd26ab49aee3f7",
       "outputs": [
        {
         "name": "stdout",
         "output_type": "stream",
         "text": "lalalalal\n"
        }
       ]
      }
     },
     "cdf97fc6b1b4454d98244750d8ee0fc0": {
      "model_module": "@jupyter-widgets/base",
      "model_module_version": "1.2.0",
      "model_name": "LayoutModel",
      "state": {}
     },
     "ce25eae6f56849e8a11def2c54379102": {
      "model_module": "@jupyter-widgets/controls",
      "model_module_version": "1.5.0",
      "model_name": "ButtonModel",
      "state": {
       "description": "submit",
       "layout": "IPY_MODEL_9975c07dc73645258e6ccf4c712e8707",
       "style": "IPY_MODEL_550f8da60aa34d78bdd3d1af0737bf40"
      }
     },
     "ce4dcafb0a1c49d5b35e4a1eeebd55f8": {
      "model_module": "@jupyter-widgets/base",
      "model_module_version": "1.2.0",
      "model_name": "LayoutModel",
      "state": {}
     },
     "ce6977205ea745769b18fa2a8d00857e": {
      "model_module": "@jupyter-widgets/controls",
      "model_module_version": "1.5.0",
      "model_name": "ButtonModel",
      "state": {
       "description": "submit",
       "layout": "IPY_MODEL_42a21ad0f3fd4d42bef322d112862cc7",
       "style": "IPY_MODEL_2ab71c821d9045f585fd88b8eb72da52"
      }
     },
     "ce70c72d7c404f4cab1fcbfa0096dc98": {
      "model_module": "@jupyter-widgets/controls",
      "model_module_version": "1.5.0",
      "model_name": "RadioButtonsModel",
      "state": {
       "_options_labels": [
        "blue",
        "white",
        "red"
       ],
       "index": 0,
       "layout": "IPY_MODEL_e4e7d76f2ea74413a1b01c90350c4a59",
       "style": "IPY_MODEL_0f6e1e368000451499e22f96356cc0f8"
      }
     },
     "ce9548569c91430db96aca656065a900": {
      "model_module": "@jupyter-widgets/controls",
      "model_module_version": "1.5.0",
      "model_name": "RadioButtonsModel",
      "state": {
       "_options_labels": [
        "cat",
        "dog",
        "mouse"
       ],
       "index": 2,
       "layout": "IPY_MODEL_caa4164d36744c3b802f0cf5600a815b",
       "style": "IPY_MODEL_ccd8da5a087d46d4b62cf4cce998d738"
      }
     },
     "ceb7b96723fb4c808666d78cf9566d81": {
      "model_module": "@jupyter-widgets/base",
      "model_module_version": "1.2.0",
      "model_name": "LayoutModel",
      "state": {}
     },
     "cef46b7675d54017881751bd8b9fcc76": {
      "model_module": "@jupyter-widgets/base",
      "model_module_version": "1.2.0",
      "model_name": "LayoutModel",
      "state": {}
     },
     "cf9da09658b34538b3f4524db5894030": {
      "model_module": "@jupyter-widgets/output",
      "model_module_version": "1.0.0",
      "model_name": "OutputModel",
      "state": {
       "layout": "IPY_MODEL_ea6f0bded13a4e81b8d2eba6b067682c",
       "outputs": [
        {
         "name": "stdout",
         "output_type": "stream",
         "text": "\u001b[144;238;144Correct.\u001b[0m\n\n"
        }
       ]
      }
     },
     "cf9ea6231ad14be6a675411575ad45a5": {
      "model_module": "@jupyter-widgets/controls",
      "model_module_version": "1.5.0",
      "model_name": "RadioButtonsModel",
      "state": {
       "_options_labels": [
        "apple",
        "banana",
        "pear"
       ],
       "index": 2,
       "layout": "IPY_MODEL_4fb1550c59914ab4943efbba13ea3ff9",
       "style": "IPY_MODEL_3e03eb9b36c44714bd70a19448f24401"
      }
     },
     "cfadcd6195cf4c99adba6e2c05bfa9d5": {
      "model_module": "@jupyter-widgets/base",
      "model_module_version": "1.2.0",
      "model_name": "LayoutModel",
      "state": {}
     },
     "cfd194e951e142f98b7df029a10099e1": {
      "model_module": "@jupyter-widgets/controls",
      "model_module_version": "1.5.0",
      "model_name": "RadioButtonsModel",
      "state": {
       "_options_labels": [
        "apple",
        "banana",
        "pear"
       ],
       "index": 2,
       "layout": "IPY_MODEL_d94664e61b74415d8289e53aa9b103fc",
       "style": "IPY_MODEL_dda29215a12c44c8aecdb1ebcfecd714"
      }
     },
     "d001999b616543448a3dc18aed5a3389": {
      "model_module": "@jupyter-widgets/base",
      "model_module_version": "1.2.0",
      "model_name": "LayoutModel",
      "state": {}
     },
     "d00201d8f66b45cf88c4fc456ab9dc59": {
      "model_module": "@jupyter-widgets/controls",
      "model_module_version": "1.5.0",
      "model_name": "RadioButtonsModel",
      "state": {
       "_options_labels": [
        "apple",
        "banana",
        "pear"
       ],
       "index": 2,
       "layout": "IPY_MODEL_578e460688f84470868be340ae347a8f",
       "style": "IPY_MODEL_89548424d87b469c986b584822fc704e"
      }
     },
     "d00bb94eefa94cb891e939574f362a03": {
      "model_module": "@jupyter-widgets/base",
      "model_module_version": "1.2.0",
      "model_name": "LayoutModel",
      "state": {}
     },
     "d025b082d22e4b6fbd3f1800f9a493b8": {
      "model_module": "@jupyter-widgets/controls",
      "model_module_version": "1.5.0",
      "model_name": "VBoxModel",
      "state": {
       "children": [
        "IPY_MODEL_7d58f6d419c8460bb386bb7be9acb408",
        "IPY_MODEL_a48cdd3cd9084c8cb27ffbdff62b5553",
        "IPY_MODEL_cda21654a7a24a2ba466c7ed511bfea1",
        "IPY_MODEL_c3c44b2a02c2440d955a1e64c601bf6a"
       ],
       "layout": "IPY_MODEL_200c7a55fe06468d85f7d4790a6654e9"
      }
     },
     "d057e56cad2b47be8a96770a9076bac3": {
      "model_module": "@jupyter-widgets/base",
      "model_module_version": "1.2.0",
      "model_name": "LayoutModel",
      "state": {}
     },
     "d0a79dfaace9460d92155ef480b12f00": {
      "model_module": "@jupyter-widgets/base",
      "model_module_version": "1.2.0",
      "model_name": "LayoutModel",
      "state": {}
     },
     "d15d9e79b943451b829c0c33b35ad5c0": {
      "model_module": "@jupyter-widgets/base",
      "model_module_version": "1.2.0",
      "model_name": "LayoutModel",
      "state": {}
     },
     "d181029003e044228e9772c2c590a89d": {
      "model_module": "@jupyter-widgets/base",
      "model_module_version": "1.2.0",
      "model_name": "LayoutModel",
      "state": {}
     },
     "d18f41365a1348549c423a627bed6da6": {
      "model_module": "@jupyter-widgets/base",
      "model_module_version": "1.2.0",
      "model_name": "LayoutModel",
      "state": {}
     },
     "d19e883de5334c2bb5d57e353e1316c2": {
      "model_module": "@jupyter-widgets/controls",
      "model_module_version": "1.5.0",
      "model_name": "VBoxModel",
      "state": {
       "children": [
        "IPY_MODEL_7e0fa187e0e5476f98500eeb20df5092",
        "IPY_MODEL_ca0105eaca7a4a9cb19f292becc09671",
        "IPY_MODEL_9958288b86554ea3a2cbaf881a6d005c",
        "IPY_MODEL_5f838ba47cfd4ee89e6da47818f411a1"
       ],
       "layout": "IPY_MODEL_8b7922a8a9c94162a99920f2b83b239f"
      }
     },
     "d1a54bc35f294bf19c071836e3db88bc": {
      "model_module": "@jupyter-widgets/output",
      "model_module_version": "1.0.0",
      "model_name": "OutputModel",
      "state": {
       "layout": "IPY_MODEL_dd80d6b313c2424a9140a0adac3d462f",
       "outputs": [
        {
         "name": "stdout",
         "output_type": "stream",
         "text": "jajajajaj\n"
        }
       ]
      }
     },
     "d1a9af53fecd438bae7572aeec39162b": {
      "model_module": "@jupyter-widgets/base",
      "model_module_version": "1.2.0",
      "model_name": "LayoutModel",
      "state": {}
     },
     "d1b5e3210b1549b38fcba14a2cf2ece1": {
      "model_module": "@jupyter-widgets/base",
      "model_module_version": "1.2.0",
      "model_name": "LayoutModel",
      "state": {}
     },
     "d1be4a1658a3461dbc09f7fb05cc003c": {
      "model_module": "@jupyter-widgets/base",
      "model_module_version": "1.2.0",
      "model_name": "LayoutModel",
      "state": {}
     },
     "d1cb099aa87d4a84b79fcbb8d0610018": {
      "model_module": "@jupyter-widgets/controls",
      "model_module_version": "1.5.0",
      "model_name": "ButtonStyleModel",
      "state": {}
     },
     "d223b8ee981b42b8b35b3a520d1b01f5": {
      "model_module": "@jupyter-widgets/controls",
      "model_module_version": "1.5.0",
      "model_name": "VBoxModel",
      "state": {
       "children": [
        "IPY_MODEL_cdc753f7d1ce4b7fbfccf029d0dfb323",
        "IPY_MODEL_5c74083783224f87ade8475baaee2969",
        "IPY_MODEL_15b2684c10714932bbf095738c9a67fd",
        "IPY_MODEL_b3fdf8800e3a4859a6fcb4c0c4265e20"
       ],
       "layout": "IPY_MODEL_0bef766a4e7f4d119f48de544ed97a9f"
      }
     },
     "d23278b031d74988b0c7d8fa955aface": {
      "model_module": "@jupyter-widgets/base",
      "model_module_version": "1.2.0",
      "model_name": "LayoutModel",
      "state": {}
     },
     "d233440be86940ffb42fa9a298515df4": {
      "model_module": "@jupyter-widgets/base",
      "model_module_version": "1.2.0",
      "model_name": "LayoutModel",
      "state": {}
     },
     "d23dd56706e148238eedec4c11f9503a": {
      "model_module": "@jupyter-widgets/output",
      "model_module_version": "1.0.0",
      "model_name": "OutputModel",
      "state": {
       "layout": "IPY_MODEL_039b0288f1744d4a88d4f7cf811ac394",
       "outputs": [
        {
         "name": "stdout",
         "output_type": "stream",
         "text": "blablabla\n"
        }
       ]
      }
     },
     "d26f891375b04b1cbc3842fe4accb521": {
      "model_module": "@jupyter-widgets/controls",
      "model_module_version": "1.5.0",
      "model_name": "ButtonModel",
      "state": {
       "description": "submit",
       "layout": "IPY_MODEL_ea88b98e5bda4844bc4881e2f106b9fa",
       "style": "IPY_MODEL_71d4fe0b718442dda732aee7c787de12"
      }
     },
     "d270a621667841eca66e445342817c6f": {
      "model_module": "@jupyter-widgets/base",
      "model_module_version": "1.2.0",
      "model_name": "LayoutModel",
      "state": {}
     },
     "d27e25ae47e741c7a38321bb2fb2537a": {
      "model_module": "@jupyter-widgets/output",
      "model_module_version": "1.0.0",
      "model_name": "OutputModel",
      "state": {
       "layout": "IPY_MODEL_c8292ebc316f4728b1bd8766f7fa9ab7",
       "outputs": [
        {
         "name": "stdout",
         "output_type": "stream",
         "text": "jajajajaj\n"
        }
       ]
      }
     },
     "d281269865a846c2befe2f28ed22adc5": {
      "model_module": "@jupyter-widgets/base",
      "model_module_version": "1.2.0",
      "model_name": "LayoutModel",
      "state": {}
     },
     "d2828735a7af4ddc89b96181a29b7a35": {
      "model_module": "@jupyter-widgets/controls",
      "model_module_version": "1.5.0",
      "model_name": "ButtonStyleModel",
      "state": {}
     },
     "d29e7503b6d5477fbe716351c925d3c9": {
      "model_module": "@jupyter-widgets/controls",
      "model_module_version": "1.5.0",
      "model_name": "DescriptionStyleModel",
      "state": {
       "description_width": ""
      }
     },
     "d2b2e58cc1554843b0d04e6c5488198d": {
      "model_module": "@jupyter-widgets/controls",
      "model_module_version": "1.5.0",
      "model_name": "DescriptionStyleModel",
      "state": {
       "description_width": ""
      }
     },
     "d342395f6c124b5f8b5a1ea2b583b0e5": {
      "model_module": "@jupyter-widgets/base",
      "model_module_version": "1.2.0",
      "model_name": "LayoutModel",
      "state": {}
     },
     "d39901c37ab0490bbc1637268572732d": {
      "model_module": "@jupyter-widgets/base",
      "model_module_version": "1.2.0",
      "model_name": "LayoutModel",
      "state": {}
     },
     "d3a4695e09cd4e909fa601685d85f9db": {
      "model_module": "@jupyter-widgets/base",
      "model_module_version": "1.2.0",
      "model_name": "LayoutModel",
      "state": {}
     },
     "d3b433a3b06144018a012175f3b1c451": {
      "model_module": "@jupyter-widgets/base",
      "model_module_version": "1.2.0",
      "model_name": "LayoutModel",
      "state": {}
     },
     "d3c673cdbdc64b76a2827880df2b8e2a": {
      "model_module": "@jupyter-widgets/base",
      "model_module_version": "1.2.0",
      "model_name": "LayoutModel",
      "state": {}
     },
     "d3f91178e30e45dc9e7b4bc051804de6": {
      "model_module": "@jupyter-widgets/base",
      "model_module_version": "1.2.0",
      "model_name": "LayoutModel",
      "state": {}
     },
     "d3fa876bcf86405c93ecb5fc431a9abd": {
      "model_module": "@jupyter-widgets/output",
      "model_module_version": "1.0.0",
      "model_name": "OutputModel",
      "state": {
       "layout": "IPY_MODEL_a0bec5362c5648d6bb90ece1884cdeac",
       "outputs": [
        {
         "name": "stdout",
         "output_type": "stream",
         "text": "lalalalal\n"
        }
       ]
      }
     },
     "d407ee3e69954865b8a8cc37cd37fe5f": {
      "model_module": "@jupyter-widgets/controls",
      "model_module_version": "1.5.0",
      "model_name": "RadioButtonsModel",
      "state": {
       "_options_labels": [
        "apple",
        "banana",
        "pear"
       ],
       "index": 1,
       "layout": "IPY_MODEL_d00bb94eefa94cb891e939574f362a03",
       "style": "IPY_MODEL_5b772a45c7864ac785c3526b2727affd"
      }
     },
     "d40f1988310840d1a7c8d881189ff05c": {
      "model_module": "@jupyter-widgets/controls",
      "model_module_version": "1.5.0",
      "model_name": "RadioButtonsModel",
      "state": {
       "_options_labels": [
        "blue",
        "white",
        "red"
       ],
       "index": 0,
       "layout": "IPY_MODEL_fc12f8aba6fe4895aed395c5ddb8cc9f",
       "style": "IPY_MODEL_5a03ea85190d47daad5b2d2a94a8f15e"
      }
     },
     "d4b707a263f743b3893d8a401f28665a": {
      "model_module": "@jupyter-widgets/controls",
      "model_module_version": "1.5.0",
      "model_name": "ButtonStyleModel",
      "state": {}
     },
     "d4fe5c6d3f394ac0874ba2ed67205d06": {
      "model_module": "@jupyter-widgets/controls",
      "model_module_version": "1.5.0",
      "model_name": "RadioButtonsModel",
      "state": {
       "_options_labels": [
        "blue",
        "white",
        "red"
       ],
       "index": 0,
       "layout": "IPY_MODEL_c9cc3c80637c443fa286205383373cfa",
       "style": "IPY_MODEL_511dda85fa8e49d3b7d69c95fd1204f9"
      }
     },
     "d502bb55383642bc8c18ba69d24ab69c": {
      "model_module": "@jupyter-widgets/output",
      "model_module_version": "1.0.0",
      "model_name": "OutputModel",
      "state": {
       "layout": "IPY_MODEL_aada9911c3624406abc11af70ced82f3",
       "outputs": [
        {
         "name": "stdout",
         "output_type": "stream",
         "text": "blablabla\n"
        }
       ]
      }
     },
     "d50e8f732dcc4092ae5287bc0a70eda1": {
      "model_module": "@jupyter-widgets/output",
      "model_module_version": "1.0.0",
      "model_name": "OutputModel",
      "state": {
       "layout": "IPY_MODEL_a1cce23894724c76bb5c4397ad034d85",
       "outputs": [
        {
         "name": "stdout",
         "output_type": "stream",
         "text": "jajajajaj\n"
        }
       ]
      }
     },
     "d537a4e3bb7e4f3abd9253d2036b7630": {
      "model_module": "@jupyter-widgets/controls",
      "model_module_version": "1.5.0",
      "model_name": "ButtonStyleModel",
      "state": {}
     },
     "d5599adc122947eaa95b3fdba76b6a92": {
      "model_module": "@jupyter-widgets/base",
      "model_module_version": "1.2.0",
      "model_name": "LayoutModel",
      "state": {}
     },
     "d56e23c0acf04a98a4193e90f084c302": {
      "model_module": "@jupyter-widgets/base",
      "model_module_version": "1.2.0",
      "model_name": "LayoutModel",
      "state": {}
     },
     "d58f0c50e14f4e49a9ae2e76fef35a50": {
      "model_module": "@jupyter-widgets/controls",
      "model_module_version": "1.5.0",
      "model_name": "ButtonModel",
      "state": {
       "description": "submit",
       "layout": "IPY_MODEL_7d4631ca5c26494fa480523ae587707d",
       "style": "IPY_MODEL_018ae8f26e354a5ebbc1006801a5d9b9"
      }
     },
     "d59701f67c3e4df6a1a34370c847bb1f": {
      "model_module": "@jupyter-widgets/controls",
      "model_module_version": "1.5.0",
      "model_name": "DescriptionStyleModel",
      "state": {
       "description_width": ""
      }
     },
     "d5b16d1221f74129a22dc91a4f056c42": {
      "model_module": "@jupyter-widgets/output",
      "model_module_version": "1.0.0",
      "model_name": "OutputModel",
      "state": {
       "layout": "IPY_MODEL_d3a4695e09cd4e909fa601685d85f9db",
       "outputs": [
        {
         "name": "stdout",
         "output_type": "stream",
         "text": "lalalalal\n"
        }
       ]
      }
     },
     "d5d32dee3a954c02be28b3b9b7b69aca": {
      "model_module": "@jupyter-widgets/base",
      "model_module_version": "1.2.0",
      "model_name": "LayoutModel",
      "state": {}
     },
     "d5e9d8025be94c84a6b6fcb7ace4d16f": {
      "model_module": "@jupyter-widgets/base",
      "model_module_version": "1.2.0",
      "model_name": "LayoutModel",
      "state": {}
     },
     "d5ee7de8c8194ee88848a2be9688493b": {
      "model_module": "@jupyter-widgets/base",
      "model_module_version": "1.2.0",
      "model_name": "LayoutModel",
      "state": {}
     },
     "d65a4d9f6b9e474d95e5e2469d4370cd": {
      "model_module": "@jupyter-widgets/controls",
      "model_module_version": "1.5.0",
      "model_name": "DescriptionStyleModel",
      "state": {
       "description_width": ""
      }
     },
     "d65c11a9771648ebaac86c4e8bdfcd20": {
      "model_module": "@jupyter-widgets/controls",
      "model_module_version": "1.5.0",
      "model_name": "ButtonModel",
      "state": {
       "description": "submit",
       "layout": "IPY_MODEL_0b6a68fe3a0e43dfbb0534d4b07c1b45",
       "style": "IPY_MODEL_f838c90b30cd4e99a0a6fe0b1e5dd16b"
      }
     },
     "d6821394c0d14c80944fa8ebfd2723af": {
      "model_module": "@jupyter-widgets/controls",
      "model_module_version": "1.5.0",
      "model_name": "ButtonStyleModel",
      "state": {}
     },
     "d6c4011779d449e1a505de0d2e47f443": {
      "model_module": "@jupyter-widgets/base",
      "model_module_version": "1.2.0",
      "model_name": "LayoutModel",
      "state": {}
     },
     "d6cd2b1453e0490094395e38945c4ec9": {
      "model_module": "@jupyter-widgets/controls",
      "model_module_version": "1.5.0",
      "model_name": "ButtonStyleModel",
      "state": {}
     },
     "d6e29ef3a73a485a8af34ba0347ac8ec": {
      "model_module": "@jupyter-widgets/controls",
      "model_module_version": "1.5.0",
      "model_name": "ButtonStyleModel",
      "state": {}
     },
     "d7067fd85d4d430ab753e24c07dfb0e2": {
      "model_module": "@jupyter-widgets/base",
      "model_module_version": "1.2.0",
      "model_name": "LayoutModel",
      "state": {}
     },
     "d71779b2f81141b9b8d02b8e90fefbdf": {
      "model_module": "@jupyter-widgets/base",
      "model_module_version": "1.2.0",
      "model_name": "LayoutModel",
      "state": {}
     },
     "d7355b8c775348de81638fe72a0af4c0": {
      "model_module": "@jupyter-widgets/base",
      "model_module_version": "1.2.0",
      "model_name": "LayoutModel",
      "state": {}
     },
     "d74cb61467f944d298f2885daf29addd": {
      "model_module": "@jupyter-widgets/base",
      "model_module_version": "1.2.0",
      "model_name": "LayoutModel",
      "state": {}
     },
     "d7aec6ea02d64fbcb5592f20f19f47ff": {
      "model_module": "@jupyter-widgets/controls",
      "model_module_version": "1.5.0",
      "model_name": "ButtonModel",
      "state": {
       "description": "submit",
       "layout": "IPY_MODEL_1a7a082403934722bbd4f00c49b01c8c",
       "style": "IPY_MODEL_54208f5e563f426ebcea8822f39fc3ae"
      }
     },
     "d7e447697d354840b37a7ea0dac433e1": {
      "model_module": "@jupyter-widgets/controls",
      "model_module_version": "1.5.0",
      "model_name": "ButtonModel",
      "state": {
       "description": "submit",
       "layout": "IPY_MODEL_f85777e887354920ae1a0cd0da05e48d",
       "style": "IPY_MODEL_dc33cf3b8ecd47399df2a2183f24270b"
      }
     },
     "d7e899ad6fbb4656a2e31aff1523ec6b": {
      "model_module": "@jupyter-widgets/controls",
      "model_module_version": "1.5.0",
      "model_name": "VBoxModel",
      "state": {
       "children": [
        "IPY_MODEL_e8068b48fafd4cf78f0ff32766c842cc",
        "IPY_MODEL_fc1213d045bc4e9f81856225676317ce",
        "IPY_MODEL_d7aec6ea02d64fbcb5592f20f19f47ff",
        "IPY_MODEL_f59530c087614ca3983728e7ab939914"
       ],
       "layout": "IPY_MODEL_a710cef2f09a489f89c1014e9e7fde24"
      }
     },
     "d815d5a9a82145a6ba867a3fffe09325": {
      "model_module": "@jupyter-widgets/output",
      "model_module_version": "1.0.0",
      "model_name": "OutputModel",
      "state": {
       "layout": "IPY_MODEL_cc748ba4b1aa4ac8b88dc4ef1709ea42",
       "outputs": [
        {
         "name": "stdout",
         "output_type": "stream",
         "text": "jajajajaj\n"
        }
       ]
      }
     },
     "d869567497d7400a9081a13302185984": {
      "model_module": "@jupyter-widgets/base",
      "model_module_version": "1.2.0",
      "model_name": "LayoutModel",
      "state": {}
     },
     "d884a82aa6154a3780d8512a3ccc9b7c": {
      "model_module": "@jupyter-widgets/controls",
      "model_module_version": "1.5.0",
      "model_name": "ButtonStyleModel",
      "state": {}
     },
     "d8d5ac7e78f347d5a381732329d52c93": {
      "model_module": "@jupyter-widgets/output",
      "model_module_version": "1.0.0",
      "model_name": "OutputModel",
      "state": {
       "layout": "IPY_MODEL_c420461325804dd59d7c4b2dba0fa6fd",
       "outputs": [
        {
         "name": "stdout",
         "output_type": "stream",
         "text": "jajajajaj\n"
        }
       ]
      }
     },
     "d94664e61b74415d8289e53aa9b103fc": {
      "model_module": "@jupyter-widgets/base",
      "model_module_version": "1.2.0",
      "model_name": "LayoutModel",
      "state": {}
     },
     "d950777a285043a68ffa930242c17738": {
      "model_module": "@jupyter-widgets/controls",
      "model_module_version": "1.5.0",
      "model_name": "ButtonModel",
      "state": {
       "description": "submit",
       "layout": "IPY_MODEL_b029f4201798465cba3bf49bdbdcc427",
       "style": "IPY_MODEL_794720d0f4dd42b6a356e190e1545a31"
      }
     },
     "d9a89edd9d384ca6ad5b7e338f66a463": {
      "model_module": "@jupyter-widgets/base",
      "model_module_version": "1.2.0",
      "model_name": "LayoutModel",
      "state": {}
     },
     "d9b28bdbecaf4c43bdad357cd9a848a9": {
      "model_module": "@jupyter-widgets/output",
      "model_module_version": "1.0.0",
      "model_name": "OutputModel",
      "state": {
       "layout": "IPY_MODEL_8c19408c363f4561a906790dd6c34939"
      }
     },
     "d9f4c6e2837e4b4db3050e2da01d3f52": {
      "model_module": "@jupyter-widgets/controls",
      "model_module_version": "1.5.0",
      "model_name": "VBoxModel",
      "state": {
       "children": [
        "IPY_MODEL_d23dd56706e148238eedec4c11f9503a",
        "IPY_MODEL_112732cb9b6b4882b1081684e898761f",
        "IPY_MODEL_b0a0203d95284b2991f6eee644b25823",
        "IPY_MODEL_734bd64a1ad9488db1b9bc915f1bd1cd"
       ],
       "layout": "IPY_MODEL_bdfd990ed83b43e7817310d69a8f172f"
      }
     },
     "d9f95caceac0483e9c938b4e0d4d457a": {
      "model_module": "@jupyter-widgets/controls",
      "model_module_version": "1.5.0",
      "model_name": "RadioButtonsModel",
      "state": {
       "_options_labels": [
        "apple",
        "banana",
        "pear"
       ],
       "index": 2,
       "layout": "IPY_MODEL_c154427952ef42d28b5e2bd243503c68",
       "style": "IPY_MODEL_93426699a3414d899748e2379d8626f2"
      }
     },
     "dabc758922434f21ba1a9c20d1ac9787": {
      "model_module": "@jupyter-widgets/base",
      "model_module_version": "1.2.0",
      "model_name": "LayoutModel",
      "state": {}
     },
     "daef4e8c82d4427090d29faa95709763": {
      "model_module": "@jupyter-widgets/base",
      "model_module_version": "1.2.0",
      "model_name": "LayoutModel",
      "state": {}
     },
     "db96f057c60a470eb97de515e4643bdc": {
      "model_module": "@jupyter-widgets/base",
      "model_module_version": "1.2.0",
      "model_name": "LayoutModel",
      "state": {}
     },
     "dbf53352d7214e7dba0604aa4c2cbcf9": {
      "model_module": "@jupyter-widgets/controls",
      "model_module_version": "1.5.0",
      "model_name": "VBoxModel",
      "state": {
       "children": [
        "IPY_MODEL_d50e8f732dcc4092ae5287bc0a70eda1",
        "IPY_MODEL_08999022178b460da4750299ed616cca",
        "IPY_MODEL_ce6977205ea745769b18fa2a8d00857e",
        "IPY_MODEL_822b02be12a14ec482b40482d350f450"
       ],
       "layout": "IPY_MODEL_5fc462e446b145968e272b58e6c825f2"
      }
     },
     "dc33cf3b8ecd47399df2a2183f24270b": {
      "model_module": "@jupyter-widgets/controls",
      "model_module_version": "1.5.0",
      "model_name": "ButtonStyleModel",
      "state": {}
     },
     "dd21402ba15b4dd6b1f03a456904a2f9": {
      "model_module": "@jupyter-widgets/controls",
      "model_module_version": "1.5.0",
      "model_name": "DescriptionStyleModel",
      "state": {
       "description_width": ""
      }
     },
     "dd63420259b74003aa1ab1cf98af3d2f": {
      "model_module": "@jupyter-widgets/base",
      "model_module_version": "1.2.0",
      "model_name": "LayoutModel",
      "state": {}
     },
     "dd80d6b313c2424a9140a0adac3d462f": {
      "model_module": "@jupyter-widgets/base",
      "model_module_version": "1.2.0",
      "model_name": "LayoutModel",
      "state": {}
     },
     "dda29215a12c44c8aecdb1ebcfecd714": {
      "model_module": "@jupyter-widgets/controls",
      "model_module_version": "1.5.0",
      "model_name": "DescriptionStyleModel",
      "state": {
       "description_width": ""
      }
     },
     "de1e841a3c92404689e165bb0db2e76f": {
      "model_module": "@jupyter-widgets/controls",
      "model_module_version": "1.5.0",
      "model_name": "ButtonModel",
      "state": {
       "description": "submit",
       "layout": "IPY_MODEL_11dc24d6a9e648d2b4772d61ee7e5368",
       "style": "IPY_MODEL_efd3400c416142c499f917cd62f59126"
      }
     },
     "de3b61eaeea4434494643aa7a619fecd": {
      "model_module": "@jupyter-widgets/base",
      "model_module_version": "1.2.0",
      "model_name": "LayoutModel",
      "state": {}
     },
     "de525bc5a858412e8779701428244b15": {
      "model_module": "@jupyter-widgets/base",
      "model_module_version": "1.2.0",
      "model_name": "LayoutModel",
      "state": {}
     },
     "de54eef16f094f0dbcccb2fd4bccfe63": {
      "model_module": "@jupyter-widgets/base",
      "model_module_version": "1.2.0",
      "model_name": "LayoutModel",
      "state": {}
     },
     "de970e237e9d4186a77baa69c6181e45": {
      "model_module": "@jupyter-widgets/controls",
      "model_module_version": "1.5.0",
      "model_name": "ButtonStyleModel",
      "state": {}
     },
     "dea35c05f9c74387a00d8e77ad25eb95": {
      "model_module": "@jupyter-widgets/controls",
      "model_module_version": "1.5.0",
      "model_name": "ButtonModel",
      "state": {
       "description": "submit",
       "layout": "IPY_MODEL_f8718361a6b8429b99e809693e82dc4e",
       "style": "IPY_MODEL_0024ebbbd6774b0bb698edfc395b3cba"
      }
     },
     "deb3e6b77cde427a994838e2690beef5": {
      "model_module": "@jupyter-widgets/controls",
      "model_module_version": "1.5.0",
      "model_name": "ButtonStyleModel",
      "state": {}
     },
     "dec524d3ca4b4f04be69bca1d9521cfb": {
      "model_module": "@jupyter-widgets/base",
      "model_module_version": "1.2.0",
      "model_name": "LayoutModel",
      "state": {}
     },
     "df366b109be2482c8dc173f271c56256": {
      "model_module": "@jupyter-widgets/base",
      "model_module_version": "1.2.0",
      "model_name": "LayoutModel",
      "state": {}
     },
     "df386ac6ae4848a8ab5bf1ec1fd926ac": {
      "model_module": "@jupyter-widgets/base",
      "model_module_version": "1.2.0",
      "model_name": "LayoutModel",
      "state": {}
     },
     "df694d5f32bf4676b66ce905ced1fb0f": {
      "model_module": "@jupyter-widgets/output",
      "model_module_version": "1.0.0",
      "model_name": "OutputModel",
      "state": {
       "layout": "IPY_MODEL_f1867138c8b24e0f802c1c2601205c39"
      }
     },
     "dfbddd748d184541b2700d4d95c851b9": {
      "model_module": "@jupyter-widgets/controls",
      "model_module_version": "1.5.0",
      "model_name": "VBoxModel",
      "state": {
       "children": [
        "IPY_MODEL_5ed54addfa014b79806c76540aa591c5",
        "IPY_MODEL_fa623d1980664039aa8ad2a841599794",
        "IPY_MODEL_3072ecc47e144b739870585db4dd0149",
        "IPY_MODEL_837a5479f6ae4b2db8f5348dad19f3ef"
       ],
       "layout": "IPY_MODEL_a910f484117843d59a8893d09e8d18cd"
      }
     },
     "dfe88467203440f6a5d99b79854ae8d1": {
      "model_module": "@jupyter-widgets/controls",
      "model_module_version": "1.5.0",
      "model_name": "ButtonStyleModel",
      "state": {}
     },
     "e0136de7fca048f7a4ef27abca022e07": {
      "model_module": "@jupyter-widgets/base",
      "model_module_version": "1.2.0",
      "model_name": "LayoutModel",
      "state": {}
     },
     "e070dcdda238469392212466523755e5": {
      "model_module": "@jupyter-widgets/controls",
      "model_module_version": "1.5.0",
      "model_name": "DescriptionStyleModel",
      "state": {
       "description_width": ""
      }
     },
     "e0a011b639d2485f90d7344eedf93cba": {
      "model_module": "@jupyter-widgets/output",
      "model_module_version": "1.0.0",
      "model_name": "OutputModel",
      "state": {
       "layout": "IPY_MODEL_fc910211bce941a5b90ad6ca6d794d1d",
       "outputs": [
        {
         "name": "stdout",
         "output_type": "stream",
         "text": "\u001b[1;30;101mCorrect\u001b[0m\n\n"
        }
       ]
      }
     },
     "e101a0b0fe4f4fa592f4034088f03e2c": {
      "model_module": "@jupyter-widgets/controls",
      "model_module_version": "1.5.0",
      "model_name": "DescriptionStyleModel",
      "state": {
       "description_width": ""
      }
     },
     "e15353281b4241a3942b0946acd91e3f": {
      "model_module": "@jupyter-widgets/output",
      "model_module_version": "1.0.0",
      "model_name": "OutputModel",
      "state": {
       "layout": "IPY_MODEL_5224a04324974d609dda6f2f35229c8d",
       "outputs": [
        {
         "name": "stdout",
         "output_type": "stream",
         "text": "\u001b[6;40;46mCorrect\u001b[0m\n\n"
        }
       ]
      }
     },
     "e1e54deebd1b45d290de9e13b7792b72": {
      "model_module": "@jupyter-widgets/base",
      "model_module_version": "1.2.0",
      "model_name": "LayoutModel",
      "state": {}
     },
     "e25de40ad3454832b122da3a7de1107c": {
      "model_module": "@jupyter-widgets/output",
      "model_module_version": "1.0.0",
      "model_name": "OutputModel",
      "state": {
       "layout": "IPY_MODEL_3bd36aea42ea4ff78e09ecfc5150e871"
      }
     },
     "e2816ba4d42e43a1abe415ad6fc7909e": {
      "model_module": "@jupyter-widgets/controls",
      "model_module_version": "1.5.0",
      "model_name": "ButtonModel",
      "state": {
       "description": "submit",
       "layout": "IPY_MODEL_d057e56cad2b47be8a96770a9076bac3",
       "style": "IPY_MODEL_2339291a73774ec2a1559f3b3a69b9c9"
      }
     },
     "e31fb9f0f1c24a36a4f67b8db1a1d705": {
      "model_module": "@jupyter-widgets/controls",
      "model_module_version": "1.5.0",
      "model_name": "RadioButtonsModel",
      "state": {
       "_options_labels": [
        "cat",
        "dog",
        "mouse"
       ],
       "index": 0,
       "layout": "IPY_MODEL_103f7e54541d4d889ab8af2e890e4114",
       "style": "IPY_MODEL_4b58135d459c4486aa1b508a44e77551"
      }
     },
     "e3601910b73842fe8ef6ac98d7a48767": {
      "model_module": "@jupyter-widgets/base",
      "model_module_version": "1.2.0",
      "model_name": "LayoutModel",
      "state": {}
     },
     "e36a1bf8705245648dd71930880d4ae4": {
      "model_module": "@jupyter-widgets/base",
      "model_module_version": "1.2.0",
      "model_name": "LayoutModel",
      "state": {}
     },
     "e39793d9398f4826b837b3e0eab8a2e2": {
      "model_module": "@jupyter-widgets/controls",
      "model_module_version": "1.5.0",
      "model_name": "ButtonModel",
      "state": {
       "description": "submit",
       "layout": "IPY_MODEL_7a069981c30b447c98d35b14c07986ef",
       "style": "IPY_MODEL_351cdcfe0e7041f58795ec3c9985387a"
      }
     },
     "e3989f804fb84b1f85fcb9952b3d563f": {
      "model_module": "@jupyter-widgets/base",
      "model_module_version": "1.2.0",
      "model_name": "LayoutModel",
      "state": {}
     },
     "e398a43029ab4a81bceb04e43079391a": {
      "model_module": "@jupyter-widgets/base",
      "model_module_version": "1.2.0",
      "model_name": "LayoutModel",
      "state": {}
     },
     "e3c6028b5b31467cb69f8505a1f7d5a4": {
      "model_module": "@jupyter-widgets/base",
      "model_module_version": "1.2.0",
      "model_name": "LayoutModel",
      "state": {}
     },
     "e3d7dd05abcf4f62a08ca8f0ed9f3caf": {
      "model_module": "@jupyter-widgets/controls",
      "model_module_version": "1.5.0",
      "model_name": "VBoxModel",
      "state": {
       "children": [
        "IPY_MODEL_bb907fa3015b4bf3877fc99b180be117",
        "IPY_MODEL_bc36771e7e3e4cab9dd0ecead6fce4ba",
        "IPY_MODEL_0916393245434a21b48d86d4def5c2ee",
        "IPY_MODEL_4cc8fe70960f45a4a884286e03859610"
       ],
       "layout": "IPY_MODEL_d1b5e3210b1549b38fcba14a2cf2ece1"
      }
     },
     "e44468efa4614bc597410e7ef3edfe76": {
      "model_module": "@jupyter-widgets/controls",
      "model_module_version": "1.5.0",
      "model_name": "ButtonStyleModel",
      "state": {}
     },
     "e47d8feac13346bf8220450134278314": {
      "model_module": "@jupyter-widgets/base",
      "model_module_version": "1.2.0",
      "model_name": "LayoutModel",
      "state": {}
     },
     "e47ec23fa32240cdb89847bdfa71a3be": {
      "model_module": "@jupyter-widgets/output",
      "model_module_version": "1.0.0",
      "model_name": "OutputModel",
      "state": {
       "layout": "IPY_MODEL_3e1724139a784e0594fd8bb5c80a1e41",
       "outputs": [
        {
         "name": "stdout",
         "output_type": "stream",
         "text": "\u001b[1;40;42mCorrect.\u001b[0m\n\n"
        }
       ]
      }
     },
     "e494faf8315d4fb0bad0a8b65c367bdd": {
      "model_module": "@jupyter-widgets/output",
      "model_module_version": "1.0.0",
      "model_name": "OutputModel",
      "state": {
       "layout": "IPY_MODEL_8ed52ea9a3bf492d90e4d3feed5cacc2",
       "outputs": [
        {
         "name": "stdout",
         "output_type": "stream",
         "text": "\u001b[1;30;42mCorrect\u001b[0m\n\n"
        }
       ]
      }
     },
     "e4e72d476c7c450facf35f3b04ee4c12": {
      "model_module": "@jupyter-widgets/base",
      "model_module_version": "1.2.0",
      "model_name": "LayoutModel",
      "state": {}
     },
     "e4e7d76f2ea74413a1b01c90350c4a59": {
      "model_module": "@jupyter-widgets/base",
      "model_module_version": "1.2.0",
      "model_name": "LayoutModel",
      "state": {}
     },
     "e4edab866895493288d30de27c223a1c": {
      "model_module": "@jupyter-widgets/base",
      "model_module_version": "1.2.0",
      "model_name": "LayoutModel",
      "state": {}
     },
     "e517de32853c40478455e5b01a33f270": {
      "model_module": "@jupyter-widgets/controls",
      "model_module_version": "1.5.0",
      "model_name": "ButtonModel",
      "state": {
       "description": "submit",
       "layout": "IPY_MODEL_8f622074ca1c4dc484f01bfd0c233fe3",
       "style": "IPY_MODEL_9bd77f4d3e184cf39211bc721a4d670b"
      }
     },
     "e519b56e42bc4fa7aedbff4c068f17b0": {
      "model_module": "@jupyter-widgets/controls",
      "model_module_version": "1.5.0",
      "model_name": "ButtonStyleModel",
      "state": {}
     },
     "e51e6a32fddf497da67beb569732fdac": {
      "model_module": "@jupyter-widgets/base",
      "model_module_version": "1.2.0",
      "model_name": "LayoutModel",
      "state": {}
     },
     "e5736a3604af4fb3a2a8c2ee16368005": {
      "model_module": "@jupyter-widgets/base",
      "model_module_version": "1.2.0",
      "model_name": "LayoutModel",
      "state": {}
     },
     "e5d7cfc3dfc840689e7723be08ab1423": {
      "model_module": "@jupyter-widgets/controls",
      "model_module_version": "1.5.0",
      "model_name": "ButtonStyleModel",
      "state": {}
     },
     "e5fd7decafef4549b706804dbab263c9": {
      "model_module": "@jupyter-widgets/controls",
      "model_module_version": "1.5.0",
      "model_name": "ButtonStyleModel",
      "state": {}
     },
     "e6b29a7c425740b694ffc07f5383bea2": {
      "model_module": "@jupyter-widgets/base",
      "model_module_version": "1.2.0",
      "model_name": "LayoutModel",
      "state": {}
     },
     "e6c2077d70494b92967503437fb8e230": {
      "model_module": "@jupyter-widgets/base",
      "model_module_version": "1.2.0",
      "model_name": "LayoutModel",
      "state": {}
     },
     "e6dab0d90f8c4ab6ba98427c193b703b": {
      "model_module": "@jupyter-widgets/controls",
      "model_module_version": "1.5.0",
      "model_name": "ButtonStyleModel",
      "state": {}
     },
     "e70b6ae07da440debde8a1c45126f1a2": {
      "model_module": "@jupyter-widgets/controls",
      "model_module_version": "1.5.0",
      "model_name": "ButtonModel",
      "state": {
       "description": "submit",
       "layout": "IPY_MODEL_b89e2e15503843f3b9735e70398a5ed9",
       "style": "IPY_MODEL_983fb4133442404cbceff33dd389e0fd"
      }
     },
     "e70f251c8633485d8519a628058df7e8": {
      "model_module": "@jupyter-widgets/controls",
      "model_module_version": "1.5.0",
      "model_name": "VBoxModel",
      "state": {
       "children": [
        "IPY_MODEL_c5ef4e76cc8846c69d8f8a38d7fb1091",
        "IPY_MODEL_f37c092ea7ef4f31942e606f5a76f350",
        "IPY_MODEL_88c4e7b62af24c11919f1bdb3f926083",
        "IPY_MODEL_3466e3e876494c5fb3551519685a5e71"
       ],
       "layout": "IPY_MODEL_37f3cd1368834192a7b29c09cdc3d214"
      }
     },
     "e75f960c4cc145b99e921e2123c5380b": {
      "model_module": "@jupyter-widgets/base",
      "model_module_version": "1.2.0",
      "model_name": "LayoutModel",
      "state": {}
     },
     "e772a27a78554640813bdfd741b57984": {
      "model_module": "@jupyter-widgets/base",
      "model_module_version": "1.2.0",
      "model_name": "LayoutModel",
      "state": {}
     },
     "e786783ef7f44b3baf5441cd5455005b": {
      "model_module": "@jupyter-widgets/controls",
      "model_module_version": "1.5.0",
      "model_name": "VBoxModel",
      "state": {
       "children": [
        "IPY_MODEL_5b7740e696db4d31bbf82a2900ba86d7",
        "IPY_MODEL_d40f1988310840d1a7c8d881189ff05c",
        "IPY_MODEL_7a63775b624b4b1b8292c504455ad930",
        "IPY_MODEL_a5d30a42eada4ee1bce635b9463521c9"
       ],
       "layout": "IPY_MODEL_e398a43029ab4a81bceb04e43079391a"
      }
     },
     "e78d1c68d38c4d3b8fa64fe8b21cb722": {
      "model_module": "@jupyter-widgets/output",
      "model_module_version": "1.0.0",
      "model_name": "OutputModel",
      "state": {
       "layout": "IPY_MODEL_f9cfcc9d2fb341f6836ad85ce933152a"
      }
     },
     "e7c541790ee344e995d41181e0b7a4a7": {
      "model_module": "@jupyter-widgets/output",
      "model_module_version": "1.0.0",
      "model_name": "OutputModel",
      "state": {
       "layout": "IPY_MODEL_c452022086184a40a88cdb33a217313e",
       "outputs": [
        {
         "name": "stdout",
         "output_type": "stream",
         "text": "blablabla\n"
        }
       ]
      }
     },
     "e8068b48fafd4cf78f0ff32766c842cc": {
      "model_module": "@jupyter-widgets/output",
      "model_module_version": "1.0.0",
      "model_name": "OutputModel",
      "state": {
       "layout": "IPY_MODEL_2126131f6e2b44d2aa5dd9b52fcf28e4",
       "outputs": [
        {
         "name": "stdout",
         "output_type": "stream",
         "text": "blablabla\n"
        }
       ]
      }
     },
     "e86f2f75f9b84230aa3f7a9a0fbecf6e": {
      "model_module": "@jupyter-widgets/controls",
      "model_module_version": "1.5.0",
      "model_name": "VBoxModel",
      "state": {
       "children": [
        "IPY_MODEL_4e20b6159c654dba965161eba5359898",
        "IPY_MODEL_8cafc1955fdb472f9de674c2273c3b29",
        "IPY_MODEL_baa89dd526b24fa5b66a60403deff92c",
        "IPY_MODEL_b693c352d4d54856b29256b5705e0b26"
       ],
       "layout": "IPY_MODEL_1a8a06e2640f4445beb12aa1d51335f4"
      }
     },
     "e890f161e3384f80bf76482219cf7d95": {
      "model_module": "@jupyter-widgets/controls",
      "model_module_version": "1.5.0",
      "model_name": "ButtonModel",
      "state": {
       "description": "submit",
       "layout": "IPY_MODEL_335741de5cdf4cc4bf2bd9058be0f8bc",
       "style": "IPY_MODEL_ab3cfd10a93b42acb3fcab4b6f14bca9"
      }
     },
     "e8bba5ee99c1496594cd69950fbf82c3": {
      "model_module": "@jupyter-widgets/base",
      "model_module_version": "1.2.0",
      "model_name": "LayoutModel",
      "state": {}
     },
     "e8e723be5d6b47bd89b628392552bd17": {
      "model_module": "@jupyter-widgets/controls",
      "model_module_version": "1.5.0",
      "model_name": "ButtonStyleModel",
      "state": {}
     },
     "e91a73c36da149e9869e19969eeba406": {
      "model_module": "@jupyter-widgets/controls",
      "model_module_version": "1.5.0",
      "model_name": "VBoxModel",
      "state": {
       "children": [
        "IPY_MODEL_d8d5ac7e78f347d5a381732329d52c93",
        "IPY_MODEL_f87ad1dde58841638b608b4611b0d21f",
        "IPY_MODEL_48e84dc306554188872bac8db84b3864",
        "IPY_MODEL_bfe97293c27e46fd846e0a1118dda628"
       ],
       "layout": "IPY_MODEL_47aaf3c6c52e43ef9b2e49dbe1457edb"
      }
     },
     "e91f20d8172243b682373f06cbc5de2e": {
      "model_module": "@jupyter-widgets/base",
      "model_module_version": "1.2.0",
      "model_name": "LayoutModel",
      "state": {}
     },
     "e926e6d710304e2c9744412814c6f785": {
      "model_module": "@jupyter-widgets/base",
      "model_module_version": "1.2.0",
      "model_name": "LayoutModel",
      "state": {}
     },
     "e966d438919d4c59a0d1a08723949e85": {
      "model_module": "@jupyter-widgets/controls",
      "model_module_version": "1.5.0",
      "model_name": "VBoxModel",
      "state": {
       "children": [
        "IPY_MODEL_3b6222c4b5a24e2dbb16eabf413478cb",
        "IPY_MODEL_95ac6e427d1b4864af2298f608de212d",
        "IPY_MODEL_49bf66e2266e4194b777cf77078a8e69",
        "IPY_MODEL_3ba22d2d9c544990af0556cf79fc076f"
       ],
       "layout": "IPY_MODEL_08fb240a5b914abba50e70e7e0112274"
      }
     },
     "e9d71976ceae469aaf7d70a75e21bd3b": {
      "model_module": "@jupyter-widgets/base",
      "model_module_version": "1.2.0",
      "model_name": "LayoutModel",
      "state": {}
     },
     "e9f06d4f5641467aaf0e65f562bb18d5": {
      "model_module": "@jupyter-widgets/output",
      "model_module_version": "1.0.0",
      "model_name": "OutputModel",
      "state": {
       "layout": "IPY_MODEL_e75f960c4cc145b99e921e2123c5380b"
      }
     },
     "ea320b68f03a450e95cad8848173ef87": {
      "model_module": "@jupyter-widgets/controls",
      "model_module_version": "1.5.0",
      "model_name": "ButtonModel",
      "state": {
       "description": "submit",
       "layout": "IPY_MODEL_d15d9e79b943451b829c0c33b35ad5c0",
       "style": "IPY_MODEL_c3a6a21ecd3042a5818fa6ba7141d097"
      }
     },
     "ea46c430559b45f6a5737f056fa06cda": {
      "model_module": "@jupyter-widgets/controls",
      "model_module_version": "1.5.0",
      "model_name": "VBoxModel",
      "state": {
       "children": [
        "IPY_MODEL_4c9d61229eb0499e9635d7424ad009fd",
        "IPY_MODEL_4b38f865bf554f27bc7b50a3bf3fa597",
        "IPY_MODEL_46635fdb69c64df2aeff32b13d1e2c2a",
        "IPY_MODEL_3cad8ea1345f48388dbed43d3afd1d6a"
       ],
       "layout": "IPY_MODEL_6fb12a340fc441359795f973c015c498"
      }
     },
     "ea6f0bded13a4e81b8d2eba6b067682c": {
      "model_module": "@jupyter-widgets/base",
      "model_module_version": "1.2.0",
      "model_name": "LayoutModel",
      "state": {}
     },
     "ea88b98e5bda4844bc4881e2f106b9fa": {
      "model_module": "@jupyter-widgets/base",
      "model_module_version": "1.2.0",
      "model_name": "LayoutModel",
      "state": {}
     },
     "ea9024fb5c8d4fd9a964d74f9b78474f": {
      "model_module": "@jupyter-widgets/controls",
      "model_module_version": "1.5.0",
      "model_name": "ButtonModel",
      "state": {
       "description": "submit",
       "layout": "IPY_MODEL_d9a89edd9d384ca6ad5b7e338f66a463",
       "style": "IPY_MODEL_5d0eae86a1f646419855c9b4a7dac153"
      }
     },
     "eadce43d3a5b4da086e88bb84c46cfa1": {
      "model_module": "@jupyter-widgets/controls",
      "model_module_version": "1.5.0",
      "model_name": "ButtonModel",
      "state": {
       "description": "submit",
       "layout": "IPY_MODEL_a4d1abf0467c422e9d64d932a29a345a",
       "style": "IPY_MODEL_142cb43b53bd4bf99f6bf7082e6686e0"
      }
     },
     "eb0891074db043ef8aaf2f2c7fab6d39": {
      "model_module": "@jupyter-widgets/controls",
      "model_module_version": "1.5.0",
      "model_name": "RadioButtonsModel",
      "state": {
       "_options_labels": [
        "apple",
        "banana",
        "pear"
       ],
       "index": 2,
       "layout": "IPY_MODEL_63b540cb00d74a648536ce79e445850f",
       "style": "IPY_MODEL_05b4ae2015d0445eb9ef9acf486b02ef"
      }
     },
     "eb166ce5da0e4e85a06c6c5a3c8a59f0": {
      "model_module": "@jupyter-widgets/base",
      "model_module_version": "1.2.0",
      "model_name": "LayoutModel",
      "state": {}
     },
     "eb23d791f1334c77b1389ce9f6a673f7": {
      "model_module": "@jupyter-widgets/controls",
      "model_module_version": "1.5.0",
      "model_name": "ButtonModel",
      "state": {
       "description": "submit",
       "layout": "IPY_MODEL_224316885e3c447f93ce3140b1d7d4c0",
       "style": "IPY_MODEL_096d7c52c19d46acbe29f72568c7f7bc"
      }
     },
     "eb7848ba39814119a3f4ac2d6be6ebc1": {
      "model_module": "@jupyter-widgets/controls",
      "model_module_version": "1.5.0",
      "model_name": "RadioButtonsModel",
      "state": {
       "_options_labels": [
        "apple",
        "banana",
        "pear"
       ],
       "index": 0,
       "layout": "IPY_MODEL_ad9f2273617b436fb39414728d0dd5ca",
       "style": "IPY_MODEL_36f6a9025f18495989197ef687106a52"
      }
     },
     "eb7d2fa7f510497ea1476b09e2d745d5": {
      "model_module": "@jupyter-widgets/base",
      "model_module_version": "1.2.0",
      "model_name": "LayoutModel",
      "state": {}
     },
     "ebc79b5edd7f4ebbb15e007bd50874b5": {
      "model_module": "@jupyter-widgets/controls",
      "model_module_version": "1.5.0",
      "model_name": "VBoxModel",
      "state": {
       "children": [
        "IPY_MODEL_0b90a6cf8d4b4b40a5850b6ffa8e7ac1",
        "IPY_MODEL_d00201d8f66b45cf88c4fc456ab9dc59",
        "IPY_MODEL_ea9024fb5c8d4fd9a964d74f9b78474f",
        "IPY_MODEL_c4762948e2bb42a483b40b1f0cfb6040"
       ],
       "layout": "IPY_MODEL_ed5f362476a842bcbc9507efe746dc65"
      }
     },
     "ebd2d32a73294095bdaf0cf0fc125abd": {
      "model_module": "@jupyter-widgets/controls",
      "model_module_version": "1.5.0",
      "model_name": "DescriptionStyleModel",
      "state": {
       "description_width": ""
      }
     },
     "ec0ed206a8ac45ca8588cd420c3ce078": {
      "model_module": "@jupyter-widgets/controls",
      "model_module_version": "1.5.0",
      "model_name": "VBoxModel",
      "state": {
       "children": [
        "IPY_MODEL_b31409b0899b4d4fb7edfc34ba95e874",
        "IPY_MODEL_eb0891074db043ef8aaf2f2c7fab6d39",
        "IPY_MODEL_432b257e7c494f1cb7e1a2ae446999df",
        "IPY_MODEL_9d0236da5ba14bab99a3ec7d80248e21"
       ],
       "layout": "IPY_MODEL_c3f2195043964742b75a7facf2f56f3e"
      }
     },
     "ec64ca95e3f24a058e9cdae6d49aba4a": {
      "model_module": "@jupyter-widgets/base",
      "model_module_version": "1.2.0",
      "model_name": "LayoutModel",
      "state": {}
     },
     "ec9694f92e134823a6e6aa71fb40db73": {
      "model_module": "@jupyter-widgets/base",
      "model_module_version": "1.2.0",
      "model_name": "LayoutModel",
      "state": {}
     },
     "ec9e3722515b413380f59d19f03b9c93": {
      "model_module": "@jupyter-widgets/output",
      "model_module_version": "1.0.0",
      "model_name": "OutputModel",
      "state": {
       "layout": "IPY_MODEL_93b130f52df24a1f8c95da733a81925c"
      }
     },
     "ec9fb4f0285e45688fab374d77f686bf": {
      "model_module": "@jupyter-widgets/controls",
      "model_module_version": "1.5.0",
      "model_name": "RadioButtonsModel",
      "state": {
       "_options_labels": [
        "blue",
        "white",
        "red"
       ],
       "index": 0,
       "layout": "IPY_MODEL_8f188074c09f4398b4a76c894822598f",
       "style": "IPY_MODEL_9a106973baad432eb990ccba76c9b739"
      }
     },
     "ed2902bf8c9b4d7e84059ef9f9860cf7": {
      "model_module": "@jupyter-widgets/base",
      "model_module_version": "1.2.0",
      "model_name": "LayoutModel",
      "state": {}
     },
     "ed5f362476a842bcbc9507efe746dc65": {
      "model_module": "@jupyter-widgets/base",
      "model_module_version": "1.2.0",
      "model_name": "LayoutModel",
      "state": {}
     },
     "ed65ae3d55654b888ec71d0a3c4a741d": {
      "model_module": "@jupyter-widgets/controls",
      "model_module_version": "1.5.0",
      "model_name": "ButtonModel",
      "state": {
       "description": "submit",
       "layout": "IPY_MODEL_0f12cec8814a49d2a6c1fa828e0992e6",
       "style": "IPY_MODEL_d537a4e3bb7e4f3abd9253d2036b7630"
      }
     },
     "ed86b2645de8439a805a9703dc4618be": {
      "model_module": "@jupyter-widgets/controls",
      "model_module_version": "1.5.0",
      "model_name": "RadioButtonsModel",
      "state": {
       "_options_labels": [
        "cat",
        "dog",
        "mouse"
       ],
       "index": 0,
       "layout": "IPY_MODEL_a727ad3b943f49e3b669d2f246fccbb7",
       "style": "IPY_MODEL_1058343e8c4842c38adad90a9874d4e3"
      }
     },
     "edd927da0d31494b9707f82731ed10f1": {
      "model_module": "@jupyter-widgets/output",
      "model_module_version": "1.0.0",
      "model_name": "OutputModel",
      "state": {
       "layout": "IPY_MODEL_37ac6e9432ed4df2b8f8a88d3bf1f906",
       "outputs": [
        {
         "name": "stdout",
         "output_type": "stream",
         "text": "lalalalal\n"
        }
       ]
      }
     },
     "ede3961115a9457a88da51ac6c3c2f45": {
      "model_module": "@jupyter-widgets/base",
      "model_module_version": "1.2.0",
      "model_name": "LayoutModel",
      "state": {}
     },
     "edf728bd324b4206ac920aa22683a208": {
      "model_module": "@jupyter-widgets/output",
      "model_module_version": "1.0.0",
      "model_name": "OutputModel",
      "state": {
       "layout": "IPY_MODEL_6e4423adaaad45619a527875a7446535"
      }
     },
     "ee0a0f70e73e444bb3ab311c0bf0fd33": {
      "model_module": "@jupyter-widgets/base",
      "model_module_version": "1.2.0",
      "model_name": "LayoutModel",
      "state": {}
     },
     "ee0c213a36e84250939a55b03d06fca7": {
      "model_module": "@jupyter-widgets/controls",
      "model_module_version": "1.5.0",
      "model_name": "DescriptionStyleModel",
      "state": {
       "description_width": ""
      }
     },
     "eea52d1b46344a8aa10af7678ebdaa51": {
      "model_module": "@jupyter-widgets/output",
      "model_module_version": "1.0.0",
      "model_name": "OutputModel",
      "state": {
       "layout": "IPY_MODEL_85f7398fbbf44266b83a47965361b445"
      }
     },
     "eeb21fa188654e66a947d9f89feeb9fb": {
      "model_module": "@jupyter-widgets/output",
      "model_module_version": "1.0.0",
      "model_name": "OutputModel",
      "state": {
       "layout": "IPY_MODEL_cae6e3317bff47b7a6f489236a5d5a77",
       "outputs": [
        {
         "name": "stdout",
         "output_type": "stream",
         "text": "jajajajaj\n"
        }
       ]
      }
     },
     "eed3e0b05eab40609d3ca0e8a0af2373": {
      "model_module": "@jupyter-widgets/output",
      "model_module_version": "1.0.0",
      "model_name": "OutputModel",
      "state": {
       "layout": "IPY_MODEL_bcf71d484cf54f0f9464e17be711b9c1",
       "outputs": [
        {
         "name": "stdout",
         "output_type": "stream",
         "text": "jajajajaj\n"
        }
       ]
      }
     },
     "ef3af2e8914b48a5b88233e7ee39b91c": {
      "model_module": "@jupyter-widgets/base",
      "model_module_version": "1.2.0",
      "model_name": "LayoutModel",
      "state": {}
     },
     "efa3dda8aeda4dafb35f38419c4cb7f6": {
      "model_module": "@jupyter-widgets/base",
      "model_module_version": "1.2.0",
      "model_name": "LayoutModel",
      "state": {}
     },
     "efd3400c416142c499f917cd62f59126": {
      "model_module": "@jupyter-widgets/controls",
      "model_module_version": "1.5.0",
      "model_name": "ButtonStyleModel",
      "state": {}
     },
     "f01c0cc1dba04430809e45eb15423384": {
      "model_module": "@jupyter-widgets/base",
      "model_module_version": "1.2.0",
      "model_name": "LayoutModel",
      "state": {}
     },
     "f0260e89344546afa755454136971ecf": {
      "model_module": "@jupyter-widgets/controls",
      "model_module_version": "1.5.0",
      "model_name": "ButtonStyleModel",
      "state": {}
     },
     "f0276770040d4b749d908c80f18316aa": {
      "model_module": "@jupyter-widgets/base",
      "model_module_version": "1.2.0",
      "model_name": "LayoutModel",
      "state": {}
     },
     "f03490829f9941fd8e2a56815505966e": {
      "model_module": "@jupyter-widgets/controls",
      "model_module_version": "1.5.0",
      "model_name": "RadioButtonsModel",
      "state": {
       "_options_labels": [
        "apple",
        "banana",
        "pear"
       ],
       "index": 0,
       "layout": "IPY_MODEL_7885f6124c1e4558a4216daa0a6ec0cb",
       "style": "IPY_MODEL_1a3239792e80431881a1bc8bb95c6f7b"
      }
     },
     "f0bc5c6d61a942f3b7326bb23894f573": {
      "model_module": "@jupyter-widgets/controls",
      "model_module_version": "1.5.0",
      "model_name": "ButtonStyleModel",
      "state": {}
     },
     "f1867138c8b24e0f802c1c2601205c39": {
      "model_module": "@jupyter-widgets/base",
      "model_module_version": "1.2.0",
      "model_name": "LayoutModel",
      "state": {}
     },
     "f2741c36d11042c098692ff8df898447": {
      "model_module": "@jupyter-widgets/base",
      "model_module_version": "1.2.0",
      "model_name": "LayoutModel",
      "state": {}
     },
     "f291e4c746df4d90946edee1cecbe7ca": {
      "model_module": "@jupyter-widgets/controls",
      "model_module_version": "1.5.0",
      "model_name": "ButtonModel",
      "state": {
       "description": "submit",
       "layout": "IPY_MODEL_5e52b940aeb74e23a3da268279f69461",
       "style": "IPY_MODEL_9a5611b5e4454e0382fdc6cb6bc74538"
      }
     },
     "f296ba57750b452eb6830f011389e8e9": {
      "model_module": "@jupyter-widgets/base",
      "model_module_version": "1.2.0",
      "model_name": "LayoutModel",
      "state": {}
     },
     "f29c460a82d74085a00fab865e7296d8": {
      "model_module": "@jupyter-widgets/base",
      "model_module_version": "1.2.0",
      "model_name": "LayoutModel",
      "state": {}
     },
     "f2ad1ab596c44e48b823f20df81289f0": {
      "model_module": "@jupyter-widgets/output",
      "model_module_version": "1.0.0",
      "model_name": "OutputModel",
      "state": {
       "layout": "IPY_MODEL_94405a30e3304647a3d24439e0a6e31e",
       "outputs": [
        {
         "name": "stdout",
         "output_type": "stream",
         "text": "\u001b[1;60;42mCorrect.\u001b[0m\n\n"
        }
       ]
      }
     },
     "f2fbf3e84278476a85b5fa430f579b85": {
      "model_module": "@jupyter-widgets/controls",
      "model_module_version": "1.5.0",
      "model_name": "DescriptionStyleModel",
      "state": {
       "description_width": ""
      }
     },
     "f30a3d68cdcf42d98e3323d0c3a7a7d8": {
      "model_module": "@jupyter-widgets/base",
      "model_module_version": "1.2.0",
      "model_name": "LayoutModel",
      "state": {}
     },
     "f313fed5c12f43e399a741d02c4265fe": {
      "model_module": "@jupyter-widgets/controls",
      "model_module_version": "1.5.0",
      "model_name": "RadioButtonsModel",
      "state": {
       "_options_labels": [
        "cat",
        "dog",
        "mouse"
       ],
       "index": 0,
       "layout": "IPY_MODEL_212863edce564cd8a69686d9576d3586",
       "style": "IPY_MODEL_14a88b4cde1e4b2cb495e13824f8c34a"
      }
     },
     "f37c092ea7ef4f31942e606f5a76f350": {
      "model_module": "@jupyter-widgets/controls",
      "model_module_version": "1.5.0",
      "model_name": "RadioButtonsModel",
      "state": {
       "_options_labels": [
        "apple",
        "banana",
        "pear"
       ],
       "index": 2,
       "layout": "IPY_MODEL_b930bb6e665642438e02671d1efa30b1",
       "style": "IPY_MODEL_c30bf0d5139a486daf74948ba642675d"
      }
     },
     "f387526b31ad4b1db5bc09ee44f46fb7": {
      "model_module": "@jupyter-widgets/base",
      "model_module_version": "1.2.0",
      "model_name": "LayoutModel",
      "state": {}
     },
     "f4bf23d7286d4944ac2d497e80a716fc": {
      "model_module": "@jupyter-widgets/controls",
      "model_module_version": "1.5.0",
      "model_name": "DescriptionStyleModel",
      "state": {
       "description_width": ""
      }
     },
     "f4d881cee27e41cc98777961b68a47c6": {
      "model_module": "@jupyter-widgets/controls",
      "model_module_version": "1.5.0",
      "model_name": "DescriptionStyleModel",
      "state": {
       "description_width": ""
      }
     },
     "f522fce6fba246ac9c4dc4ef63ad88c4": {
      "model_module": "@jupyter-widgets/controls",
      "model_module_version": "1.5.0",
      "model_name": "ButtonModel",
      "state": {
       "description": "submit",
       "layout": "IPY_MODEL_0bfcccf0b3204f6e8126e2608d8a7967",
       "style": "IPY_MODEL_fe02062bfef5418ea240794c2fe14af4"
      }
     },
     "f59530c087614ca3983728e7ab939914": {
      "model_module": "@jupyter-widgets/output",
      "model_module_version": "1.0.0",
      "model_name": "OutputModel",
      "state": {
       "layout": "IPY_MODEL_f70a7dd433944ee38864c879b33d3251",
       "outputs": [
        {
         "name": "stdout",
         "output_type": "stream",
         "text": "\u001b[6;30;42mRiktig.\u001b[0m\n\n"
        }
       ]
      }
     },
     "f5cfeaa4f1954029b5ec4c9e09ba861d": {
      "model_module": "@jupyter-widgets/base",
      "model_module_version": "1.2.0",
      "model_name": "LayoutModel",
      "state": {}
     },
     "f5de6ded1f674a4c83332d6aa350b230": {
      "model_module": "@jupyter-widgets/controls",
      "model_module_version": "1.5.0",
      "model_name": "ButtonModel",
      "state": {
       "description": "submit",
       "layout": "IPY_MODEL_be990fa9b92b49b78fe81a54f97b9c24",
       "style": "IPY_MODEL_56dc6049dc274e51b10a2b54dc003bed"
      }
     },
     "f5f987d850754e1199e4cf308e852296": {
      "model_module": "@jupyter-widgets/base",
      "model_module_version": "1.2.0",
      "model_name": "LayoutModel",
      "state": {}
     },
     "f641d27a2b164045b06ef5820387ef8f": {
      "model_module": "@jupyter-widgets/output",
      "model_module_version": "1.0.0",
      "model_name": "OutputModel",
      "state": {
       "layout": "IPY_MODEL_a6f62910c91044219c00ace10cfe1517",
       "outputs": [
        {
         "name": "stdout",
         "output_type": "stream",
         "text": "lalalalal\n"
        }
       ]
      }
     },
     "f66d640027c348f99928ecc8409127fa": {
      "model_module": "@jupyter-widgets/controls",
      "model_module_version": "1.5.0",
      "model_name": "RadioButtonsModel",
      "state": {
       "_options_labels": [
        "cat",
        "dog",
        "mouse"
       ],
       "index": 0,
       "layout": "IPY_MODEL_774cd861496b41008643aa1c4a2a32a7",
       "style": "IPY_MODEL_34fa1bd54646484dbbc92ff42b937d18"
      }
     },
     "f695ad50cb8b406bb6540d15d1f90bbb": {
      "model_module": "@jupyter-widgets/controls",
      "model_module_version": "1.5.0",
      "model_name": "VBoxModel",
      "state": {
       "children": [
        "IPY_MODEL_01b5f8582dea433ab270397504a80ba9",
        "IPY_MODEL_ed86b2645de8439a805a9703dc4618be",
        "IPY_MODEL_22c84ddddf4346d7b9344743eef302cf",
        "IPY_MODEL_b590221293504d469b00e983bac8b026"
       ],
       "layout": "IPY_MODEL_87b0e963dd4b497599a2b9afc7e64baa"
      }
     },
     "f69a467f046f4a9cbfbd5a4797285650": {
      "model_module": "@jupyter-widgets/base",
      "model_module_version": "1.2.0",
      "model_name": "LayoutModel",
      "state": {}
     },
     "f6cdc3370d4743e7bedea77924b5e1e9": {
      "model_module": "@jupyter-widgets/output",
      "model_module_version": "1.0.0",
      "model_name": "OutputModel",
      "state": {
       "layout": "IPY_MODEL_35be39a430794c1d839fd7556d5c5a68",
       "outputs": [
        {
         "name": "stdout",
         "output_type": "stream",
         "text": "jajajajaj\n"
        }
       ]
      }
     },
     "f6da9070c5f14786ac0085eff49e2a90": {
      "model_module": "@jupyter-widgets/controls",
      "model_module_version": "1.5.0",
      "model_name": "RadioButtonsModel",
      "state": {
       "_options_labels": [
        "apple",
        "banana",
        "pear"
       ],
       "index": 1,
       "layout": "IPY_MODEL_398e9c3fc1bb4f4bb103a571a172f59c",
       "style": "IPY_MODEL_a4dcd216afde4da3a97ff6ee9737a9cf"
      }
     },
     "f70a7dd433944ee38864c879b33d3251": {
      "model_module": "@jupyter-widgets/base",
      "model_module_version": "1.2.0",
      "model_name": "LayoutModel",
      "state": {}
     },
     "f75edbd526344b178adfdc7c77afcb87": {
      "model_module": "@jupyter-widgets/controls",
      "model_module_version": "1.5.0",
      "model_name": "ButtonModel",
      "state": {
       "description": "submit",
       "layout": "IPY_MODEL_a921d05fd2da4f4e86d98f17927b8f2a",
       "style": "IPY_MODEL_6ce6675d03ce453cb52e23976fc4aeda"
      }
     },
     "f76b2b357b5b488abddba497b20f5377": {
      "model_module": "@jupyter-widgets/output",
      "model_module_version": "1.0.0",
      "model_name": "OutputModel",
      "state": {
       "layout": "IPY_MODEL_87111de1929b4938bb16d00bcf89d42c",
       "outputs": [
        {
         "name": "stdout",
         "output_type": "stream",
         "text": "jajajajaj\n"
        }
       ]
      }
     },
     "f79f56e59b3648739fc29819c3a53bbf": {
      "model_module": "@jupyter-widgets/base",
      "model_module_version": "1.2.0",
      "model_name": "LayoutModel",
      "state": {}
     },
     "f7b4243e2845412792ce3cab55bccf3c": {
      "model_module": "@jupyter-widgets/output",
      "model_module_version": "1.0.0",
      "model_name": "OutputModel",
      "state": {
       "layout": "IPY_MODEL_5580036712a24c23be39380f18596175",
       "outputs": [
        {
         "name": "stdout",
         "output_type": "stream",
         "text": "blablabla\n"
        }
       ]
      }
     },
     "f7c4056932544990be8e0e0b22bb4ce5": {
      "model_module": "@jupyter-widgets/base",
      "model_module_version": "1.2.0",
      "model_name": "LayoutModel",
      "state": {}
     },
     "f7e9b32b3d044cd28c77f90a7fd971f7": {
      "model_module": "@jupyter-widgets/base",
      "model_module_version": "1.2.0",
      "model_name": "LayoutModel",
      "state": {}
     },
     "f838c90b30cd4e99a0a6fe0b1e5dd16b": {
      "model_module": "@jupyter-widgets/controls",
      "model_module_version": "1.5.0",
      "model_name": "ButtonStyleModel",
      "state": {}
     },
     "f84552c1416044ad906d01ae94fd5049": {
      "model_module": "@jupyter-widgets/base",
      "model_module_version": "1.2.0",
      "model_name": "LayoutModel",
      "state": {}
     },
     "f85777e887354920ae1a0cd0da05e48d": {
      "model_module": "@jupyter-widgets/base",
      "model_module_version": "1.2.0",
      "model_name": "LayoutModel",
      "state": {}
     },
     "f8718361a6b8429b99e809693e82dc4e": {
      "model_module": "@jupyter-widgets/base",
      "model_module_version": "1.2.0",
      "model_name": "LayoutModel",
      "state": {}
     },
     "f875a12470c54190b3b7990a3e7bd6fd": {
      "model_module": "@jupyter-widgets/controls",
      "model_module_version": "1.5.0",
      "model_name": "RadioButtonsModel",
      "state": {
       "_options_labels": [
        "cat",
        "dog",
        "mouse"
       ],
       "index": 0,
       "layout": "IPY_MODEL_aa313f4530db43e8bc9d666e443b76db",
       "style": "IPY_MODEL_fd52fb3d18a24eddbc996d6a86d3654c"
      }
     },
     "f87ad1dde58841638b608b4611b0d21f": {
      "model_module": "@jupyter-widgets/controls",
      "model_module_version": "1.5.0",
      "model_name": "RadioButtonsModel",
      "state": {
       "_options_labels": [
        "blue",
        "white",
        "red"
       ],
       "index": 0,
       "layout": "IPY_MODEL_c0d8f45c529a406ea1babd85b406a1c5",
       "style": "IPY_MODEL_10b7023d977f4757b5ebded62bfbb123"
      }
     },
     "f89a89346c4b47ca99ec5137f2fcec61": {
      "model_module": "@jupyter-widgets/output",
      "model_module_version": "1.0.0",
      "model_name": "OutputModel",
      "state": {
       "layout": "IPY_MODEL_096dc93ef22446709d44314150da7c36",
       "outputs": [
        {
         "name": "stdout",
         "output_type": "stream",
         "text": "lalalalal\n"
        }
       ]
      }
     },
     "f8e9a7166af74c43949f1de4fca34104": {
      "model_module": "@jupyter-widgets/base",
      "model_module_version": "1.2.0",
      "model_name": "LayoutModel",
      "state": {}
     },
     "f8ec3561adfc4369b2797597282e31b1": {
      "model_module": "@jupyter-widgets/base",
      "model_module_version": "1.2.0",
      "model_name": "LayoutModel",
      "state": {}
     },
     "f8fee15f74404c53b8df4ec66eb5fa8f": {
      "model_module": "@jupyter-widgets/base",
      "model_module_version": "1.2.0",
      "model_name": "LayoutModel",
      "state": {}
     },
     "f9630d23adb24baca62eadde8d65b9fd": {
      "model_module": "@jupyter-widgets/output",
      "model_module_version": "1.0.0",
      "model_name": "OutputModel",
      "state": {
       "layout": "IPY_MODEL_7ffbd5398a524a799efd419b81a008b7",
       "outputs": [
        {
         "name": "stdout",
         "output_type": "stream",
         "text": "blablabla\n"
        }
       ]
      }
     },
     "f970a22fee3e41d2a94a996355fe82c5": {
      "model_module": "@jupyter-widgets/base",
      "model_module_version": "1.2.0",
      "model_name": "LayoutModel",
      "state": {}
     },
     "f97639bf46314806b901108d2dfefb63": {
      "model_module": "@jupyter-widgets/output",
      "model_module_version": "1.0.0",
      "model_name": "OutputModel",
      "state": {
       "layout": "IPY_MODEL_9453b8e3426141bba8645a3a3083ee15",
       "outputs": [
        {
         "name": "stdout",
         "output_type": "stream",
         "text": "jajajajaj\n"
        }
       ]
      }
     },
     "f984191679bc4b21beb5e0051d3600fd": {
      "model_module": "@jupyter-widgets/controls",
      "model_module_version": "1.5.0",
      "model_name": "ButtonStyleModel",
      "state": {}
     },
     "f9cfcc9d2fb341f6836ad85ce933152a": {
      "model_module": "@jupyter-widgets/base",
      "model_module_version": "1.2.0",
      "model_name": "LayoutModel",
      "state": {}
     },
     "fa4eb9dc625c4985af0d904eefbf247c": {
      "model_module": "@jupyter-widgets/controls",
      "model_module_version": "1.5.0",
      "model_name": "RadioButtonsModel",
      "state": {
       "_options_labels": [
        "blue",
        "white",
        "red"
       ],
       "index": 0,
       "layout": "IPY_MODEL_3e1a1f657d3c4da08fc09b1bb4d5932b",
       "style": "IPY_MODEL_c216795d9c254c82a6441089ebb06b5d"
      }
     },
     "fa623d1980664039aa8ad2a841599794": {
      "model_module": "@jupyter-widgets/controls",
      "model_module_version": "1.5.0",
      "model_name": "RadioButtonsModel",
      "state": {
       "_options_labels": [
        "blue",
        "white",
        "red"
       ],
       "index": 0,
       "layout": "IPY_MODEL_329464506bff4a25a53f02c046f5dc0d",
       "style": "IPY_MODEL_b1826d3a2ad149e7be038283d88fc874"
      }
     },
     "fa8ceef86610476b8a5eade753b39b67": {
      "model_module": "@jupyter-widgets/controls",
      "model_module_version": "1.5.0",
      "model_name": "DescriptionStyleModel",
      "state": {
       "description_width": ""
      }
     },
     "fac88ed4f16c47d691b4242822e2bfc5": {
      "model_module": "@jupyter-widgets/base",
      "model_module_version": "1.2.0",
      "model_name": "LayoutModel",
      "state": {}
     },
     "fb8d6c014153438b995ff9478b8ba58e": {
      "model_module": "@jupyter-widgets/controls",
      "model_module_version": "1.5.0",
      "model_name": "ButtonStyleModel",
      "state": {}
     },
     "fba08a58954947e792b5662ee8f109f0": {
      "model_module": "@jupyter-widgets/base",
      "model_module_version": "1.2.0",
      "model_name": "LayoutModel",
      "state": {}
     },
     "fbb720d47fd646fd8a2033b25c02397a": {
      "model_module": "@jupyter-widgets/base",
      "model_module_version": "1.2.0",
      "model_name": "LayoutModel",
      "state": {}
     },
     "fbb7e1c7b9b34e87a108c6f45ec348a8": {
      "model_module": "@jupyter-widgets/controls",
      "model_module_version": "1.5.0",
      "model_name": "ButtonModel",
      "state": {
       "description": "submit",
       "layout": "IPY_MODEL_b8c65b1b34d148b79995488832c3491b",
       "style": "IPY_MODEL_bc2f5dd86be94e379c5512d507fe5f56"
      }
     },
     "fbfd7b27d9c54684b8e437ad7af78326": {
      "model_module": "@jupyter-widgets/base",
      "model_module_version": "1.2.0",
      "model_name": "LayoutModel",
      "state": {}
     },
     "fc054f4031a34901a457c991db8bc1ee": {
      "model_module": "@jupyter-widgets/output",
      "model_module_version": "1.0.0",
      "model_name": "OutputModel",
      "state": {
       "layout": "IPY_MODEL_75b5ab72d16a4f2bbd37cc7a8c9ca773"
      }
     },
     "fc1213d045bc4e9f81856225676317ce": {
      "model_module": "@jupyter-widgets/controls",
      "model_module_version": "1.5.0",
      "model_name": "RadioButtonsModel",
      "state": {
       "_options_labels": [
        "apple",
        "banana",
        "pear"
       ],
       "index": 2,
       "layout": "IPY_MODEL_a1c188fe29154974890809571e7a3b87",
       "style": "IPY_MODEL_b2e07fcb264d4a018c825302dedfce23"
      }
     },
     "fc12f8aba6fe4895aed395c5ddb8cc9f": {
      "model_module": "@jupyter-widgets/base",
      "model_module_version": "1.2.0",
      "model_name": "LayoutModel",
      "state": {}
     },
     "fc2479e62d414630abbe7795f417efc7": {
      "model_module": "@jupyter-widgets/output",
      "model_module_version": "1.0.0",
      "model_name": "OutputModel",
      "state": {
       "layout": "IPY_MODEL_129629f2562c45239258a454e4519871"
      }
     },
     "fc58197aa70d4959a13d1c55751f57d1": {
      "model_module": "@jupyter-widgets/base",
      "model_module_version": "1.2.0",
      "model_name": "LayoutModel",
      "state": {}
     },
     "fc910211bce941a5b90ad6ca6d794d1d": {
      "model_module": "@jupyter-widgets/base",
      "model_module_version": "1.2.0",
      "model_name": "LayoutModel",
      "state": {}
     },
     "fcd6ed63df4f422fa8b05c9154661ff2": {
      "model_module": "@jupyter-widgets/base",
      "model_module_version": "1.2.0",
      "model_name": "LayoutModel",
      "state": {}
     },
     "fcff4f72a0e748a094819da7d6ad61f6": {
      "model_module": "@jupyter-widgets/output",
      "model_module_version": "1.0.0",
      "model_name": "OutputModel",
      "state": {
       "layout": "IPY_MODEL_e51e6a32fddf497da67beb569732fdac",
       "outputs": [
        {
         "name": "stdout",
         "output_type": "stream",
         "text": "jajajajaj\n"
        }
       ]
      }
     },
     "fd1619e8c1cc4991ae9aa6bdd5f591a5": {
      "model_module": "@jupyter-widgets/controls",
      "model_module_version": "1.5.0",
      "model_name": "ButtonStyleModel",
      "state": {}
     },
     "fd2ecf39c2a24e7fb736d50444b86567": {
      "model_module": "@jupyter-widgets/output",
      "model_module_version": "1.0.0",
      "model_name": "OutputModel",
      "state": {
       "layout": "IPY_MODEL_de3b61eaeea4434494643aa7a619fecd"
      }
     },
     "fd52fb3d18a24eddbc996d6a86d3654c": {
      "model_module": "@jupyter-widgets/controls",
      "model_module_version": "1.5.0",
      "model_name": "DescriptionStyleModel",
      "state": {
       "description_width": ""
      }
     },
     "fd5e18c57ce34c598c5269004ea7ce0a": {
      "model_module": "@jupyter-widgets/output",
      "model_module_version": "1.0.0",
      "model_name": "OutputModel",
      "state": {
       "layout": "IPY_MODEL_2858c7f234fe48d090070380c3ac7942",
       "outputs": [
        {
         "name": "stdout",
         "output_type": "stream",
         "text": "lalalalal\n"
        }
       ]
      }
     },
     "fdbfbd42cb654332b1f0ac6b207b9a73": {
      "model_module": "@jupyter-widgets/controls",
      "model_module_version": "1.5.0",
      "model_name": "ButtonStyleModel",
      "state": {}
     },
     "fe02062bfef5418ea240794c2fe14af4": {
      "model_module": "@jupyter-widgets/controls",
      "model_module_version": "1.5.0",
      "model_name": "ButtonStyleModel",
      "state": {}
     },
     "fe5a86a62210425c857d73c3ba5ec3c8": {
      "model_module": "@jupyter-widgets/output",
      "model_module_version": "1.0.0",
      "model_name": "OutputModel",
      "state": {
       "layout": "IPY_MODEL_55d054fa06cb47039203f254743b2650"
      }
     },
     "fe7c2ec2c56046f1819e9ddccf620c5f": {
      "model_module": "@jupyter-widgets/base",
      "model_module_version": "1.2.0",
      "model_name": "LayoutModel",
      "state": {}
     },
     "fe7dea5ec65745aab88acee5c51595c8": {
      "model_module": "@jupyter-widgets/controls",
      "model_module_version": "1.5.0",
      "model_name": "RadioButtonsModel",
      "state": {
       "_options_labels": [
        "cat",
        "dog",
        "mouse"
       ],
       "index": 0,
       "layout": "IPY_MODEL_c4b00feac1f54199aa819ea8e584b035",
       "style": "IPY_MODEL_7783c9f4408942dd9b2633b69e28ebdc"
      }
     },
     "fe97dd35e10a4ffe91713047da271114": {
      "model_module": "@jupyter-widgets/base",
      "model_module_version": "1.2.0",
      "model_name": "LayoutModel",
      "state": {}
     },
     "fea976b6e2b348e7ae66659ee890fbac": {
      "model_module": "@jupyter-widgets/output",
      "model_module_version": "1.0.0",
      "model_name": "OutputModel",
      "state": {
       "layout": "IPY_MODEL_ff65d622e59443e585773f24cdef8357",
       "outputs": [
        {
         "name": "stdout",
         "output_type": "stream",
         "text": "lalalalal\n"
        }
       ]
      }
     },
     "fecd7c6ef9054b65bb75634a83cea390": {
      "model_module": "@jupyter-widgets/base",
      "model_module_version": "1.2.0",
      "model_name": "LayoutModel",
      "state": {}
     },
     "fef7a80cbd57413d83c9922124004891": {
      "model_module": "@jupyter-widgets/controls",
      "model_module_version": "1.5.0",
      "model_name": "ButtonModel",
      "state": {
       "description": "submit",
       "layout": "IPY_MODEL_d23278b031d74988b0c7d8fa955aface",
       "style": "IPY_MODEL_5f7a771872e84c90a468319837a84280"
      }
     },
     "ff5b3839c04946439c9f7235b11ae160": {
      "model_module": "@jupyter-widgets/controls",
      "model_module_version": "1.5.0",
      "model_name": "ButtonModel",
      "state": {
       "description": "submit",
       "layout": "IPY_MODEL_66553873527f4a86ba7fb4e093f48380",
       "style": "IPY_MODEL_7c6eebafdd7840ada62cdb016e37b11d"
      }
     },
     "ff65d622e59443e585773f24cdef8357": {
      "model_module": "@jupyter-widgets/base",
      "model_module_version": "1.2.0",
      "model_name": "LayoutModel",
      "state": {}
     },
     "ff82867775dd4f04bf65950e000a8e50": {
      "model_module": "@jupyter-widgets/base",
      "model_module_version": "1.2.0",
      "model_name": "LayoutModel",
      "state": {}
     },
     "ff8ebe2605d24b76ae025615ef1f127c": {
      "model_module": "@jupyter-widgets/controls",
      "model_module_version": "1.5.0",
      "model_name": "ButtonStyleModel",
      "state": {}
     },
     "ffdfe1a01dda46c2a7731c7bb4b5a3f0": {
      "model_module": "@jupyter-widgets/base",
      "model_module_version": "1.2.0",
      "model_name": "LayoutModel",
      "state": {}
     }
    },
    "version_major": 2,
    "version_minor": 0
   }
  }
 },
 "nbformat": 4,
 "nbformat_minor": 4
}
