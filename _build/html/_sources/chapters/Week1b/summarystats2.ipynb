{
 "cells": [
  {
   "cell_type": "markdown",
   "metadata": {},
   "source": [
    "# Summary Statistics: Part II\n",
    "\n",
    "## 3. Higher Moments\n",
    "\n",
    "In general, all statistical moments are defined as:\n",
    "\n",
    "$$  \n",
    "\\overline{x^{\\prime r}} = \\frac{1}{N}\\sum_{i=1}^{N}(x_i - \\overline{x})^r\n",
    "$$\n",
    "\n",
    "where $r$ denotes the moment (e.g. $r$ = 2 is the variance)\n",
    "\n",
    "The third and fourth moments are known as the **skewness** and **kurtosis** and these describe the shape of a distribution. In practice, these sample moments are typically reported in their *standardized* form as follows:\n",
    "\n",
    "$$\n",
    "\\alpha_r = \\frac{\\overline{x^{\\prime r}}}{s^r}\n",
    "$$\n",
    "\n",
    "where $s$ is the sample standard deviation.\n",
    "\n",
    "### 3.1 Skewness\n",
    "\n",
    "The **skewness** indicates the degree of asymmetry of the distribution about the mean. $\\alpha_3$ > 0 indicates that the distribution has a long tail on the positive side of the mean and $\\alpha$ < 0 indicates a long tail on the negative side of the mean. Note a normal distribution has $\\alpha$ = 0 (we will discuss the normal distribution in the next section).\n",
    "\n",
    "### 3.2 Kurtosis\n",
    "\n",
    "The **kurtosis** describes the shape of a distribution’s tails relative to the rest of the distribution. A normal distribution has $\\alpha_4$ = 3. $\\alpha_4$ > 3 indicates a more peaked distribution compared to normal (*leptokurtic*) and $\\alpha_4$ < 3 indicates a flatter distribution (*platykurtic*).\n",
    "\n",
    "```{figure} skew_kurt.png\n",
    "---\n",
    "scale: 65%\n",
    "name: skewkurt\n",
    "---\n",
    "Negatively and positively skewed and leptokurtic and platykurtic distributions. The normal distribution is shown in red.\n",
    "```\n",
    "\n",
    "[Figure 4](skewkurt) contrasts the normal distribution (red) against negatively and positively skewed distributions and leptokurtic and platykurtic distributions."
   ]
  },
  {
   "cell_type": "code",
   "execution_count": null,
   "metadata": {},
   "outputs": [],
   "source": []
  }
 ],
 "metadata": {
  "kernelspec": {
   "display_name": "Python 3",
   "language": "python",
   "name": "python3"
  },
  "language_info": {
   "codemirror_mode": {
    "name": "ipython",
    "version": 3
   },
   "file_extension": ".py",
   "mimetype": "text/x-python",
   "name": "python",
   "nbconvert_exporter": "python",
   "pygments_lexer": "ipython3",
   "version": "3.6.8"
  }
 },
 "nbformat": 4,
 "nbformat_minor": 4
}
