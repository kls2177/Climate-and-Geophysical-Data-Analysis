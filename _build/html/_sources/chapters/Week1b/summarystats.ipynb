{
 "cells": [
  {
   "cell_type": "markdown",
   "metadata": {},
   "source": [
    "# Summary Statistics: Part I\n",
    "\n",
    "To get started, we will review several summary statistics that will likely be familiar to you: mean, median, standard deviation, skewness and kurtosis.\n",
    "\n",
    "\n",
    "## 1. First, a few definitions and a bit of nomenclature...\n",
    "\n",
    "Throughout the course, we will define $X$ as a random variable (e.g. surface air temperature). The \"population\" of $X$ represents all possible values of $X$. The true population mean and standard deviation of this variable are denoted as:\n",
    "\n",
    "$$\n",
    "\\begin{align}                                  \n",
    "\\mu &= \\text{population mean}\\\\                \n",
    "\\sigma &= \\text{population standard deviation} \n",
    "\\end{align}                                     \n",
    "$$  \n",
    "\n",
    "A sample of $X$ is a subset of values of $X$. We will define a random sample of $X$ with $N$ elements as [$x_1$, $x_2$, $x_3$, ..., $x_N$]. The sample mean and standard deviation are denoted as:\n",
    "\n",
    "$$\n",
    "\\begin{align}\n",
    "\\overline{x} &= \\text{sample mean}\\\\\n",
    "s &= \\text{sample standard deviation}\n",
    "\\end{align}\n",
    "$$\n",
    "\n",
    "\n",
    "\n",
    "## 2. Moments\n",
    "\n",
    "Moments are quantitative parameters that we will use to describe a sample of $X$.\n",
    "\n",
    "### 2.1 The Mean\n",
    "\n",
    "The first moment is the **mean**. The sample mean is defined as:\n",
    "\n",
    "$$  \n",
    "\\overline{x} = \\frac{1}{N}\\sum_{i=1}^{N}x_i \n",
    "$$\n",
    "\n",
    "If we assume that our sample is a measurement taken at a fixed location but at a certain frequency in time (aka, a time series), then the overbar denotes the sample time mean and the subscript i denotes the time step.\n",
    "\n",
    "```{note} The sample mean is an *unbiased* estimate of the population mean, $\\mu$.\n",
    "\n",
    "In other words, for an infinite number of samples from the same time series, the population mean of all of the sample means ($\\mu_{\\overline{x}}$) is equal to the population mean ($\\mu$). \n",
    "```\n",
    "\n",
    "The **median** is the value in the centre of a population or sample. This is a useful statistic when there are large outliers in the population/sample (e.g. house prices, salaries, rain fall rate, earthquake magnitude)\n",
    "\n",
    "\n",
    "### 2.2 Variance and Standard Deviation\n",
    "\n",
    "The second moment of a sample $X$ is the **variance**. As you can probably guess, the variance of a sample of $X$ describes the *variability* of $X$. The sample variance is defined as:\n",
    "\n",
    "$$  \n",
    "\\overline{x^{\\prime 2}} = \\frac{1}{N-1}\\sum_{i=1}^{N}(x_i - \\overline{x})^2\n",
    "$$\n",
    "\n",
    "where\n",
    "\n",
    "$$\n",
    "x^{\\prime}_i = x_i - \\overline{x}\n",
    "$$\n",
    "\n",
    "Again, assuming that our sample is a time series, then $x^{\\prime}_i$ represents the deviations about the sample mean. \n",
    "\n",
    "The variance is in squared units for whatever our variable $X$ is. To get an estimate of the variability of $X$ from our sample in the correct units, we use the sample **standard deviation**:\n",
    "\n",
    "$$\n",
    "s = \\sqrt{\\overline{x^{\\prime 2}}}\n",
    "$$\n",
    "\n",
    "```{note} The sample variance is an *unbiased* estimate of the population variance, $\\sigma^2$.\n",
    "\n",
    "But notice that we are dividing by $N-1$ instead of $N$. Since the calculation of the sample variance depends on the sample mean (which is itself an approximation and introduces some bias), then we need to divide by $N-1$ rather than $N$ to remove this bias. You can find out more [here](https://www.youtube.com/watch?v=D1hgiAla3KI).\n",
    "```"
   ]
  },
  {
   "cell_type": "code",
   "execution_count": null,
   "metadata": {},
   "outputs": [],
   "source": []
  }
 ],
 "metadata": {
  "celltoolbar": "Tags",
  "kernelspec": {
   "display_name": "Python 3",
   "language": "python",
   "name": "python3"
  },
  "language_info": {
   "codemirror_mode": {
    "name": "ipython",
    "version": 3
   },
   "file_extension": ".py",
   "mimetype": "text/x-python",
   "name": "python",
   "nbconvert_exporter": "python",
   "pygments_lexer": "ipython3",
   "version": "3.6.8"
  },
  "widgets": {
   "application/vnd.jupyter.widget-state+json": {
    "state": {
     "032b7783727b4af2bcb54cbc50e66236": {
      "model_module": "@jupyter-widgets/base",
      "model_module_version": "1.2.0",
      "model_name": "LayoutModel",
      "state": {}
     },
     "034cc1aa86b249dfa89f09511d868fbb": {
      "model_module": "@jupyter-widgets/controls",
      "model_module_version": "1.5.0",
      "model_name": "ButtonStyleModel",
      "state": {}
     },
     "059346708c5447ab85d7e51ab27cbd6f": {
      "model_module": "@jupyter-widgets/controls",
      "model_module_version": "1.5.0",
      "model_name": "RadioButtonsModel",
      "state": {
       "_options_labels": [
        "blue",
        "white",
        "red"
       ],
       "index": 0,
       "layout": "IPY_MODEL_4125b500d6ec44419afa0d24b068e918",
       "style": "IPY_MODEL_74793884b3084c19a073cda068e76984"
      }
     },
     "09cfdf9e46094b23a40166adef876b81": {
      "model_module": "@jupyter-widgets/controls",
      "model_module_version": "1.5.0",
      "model_name": "DescriptionStyleModel",
      "state": {
       "description_width": ""
      }
     },
     "0bfa3a7debb6472ebad3ac34300230e0": {
      "model_module": "@jupyter-widgets/base",
      "model_module_version": "1.2.0",
      "model_name": "LayoutModel",
      "state": {}
     },
     "123696e7014a4752a3d3265e33444bca": {
      "model_module": "@jupyter-widgets/controls",
      "model_module_version": "1.5.0",
      "model_name": "ButtonModel",
      "state": {
       "description": "submit",
       "layout": "IPY_MODEL_c5b3d26a75324c00ae56f5abdfdf7ab4",
       "style": "IPY_MODEL_a7dbb1dd04b94b15992a5e02a1187d6b"
      }
     },
     "15ce81380df04787a2c94b25544b9a47": {
      "model_module": "@jupyter-widgets/base",
      "model_module_version": "1.2.0",
      "model_name": "LayoutModel",
      "state": {}
     },
     "17058b82d834415cb17fc49719267f40": {
      "model_module": "@jupyter-widgets/controls",
      "model_module_version": "1.5.0",
      "model_name": "ButtonStyleModel",
      "state": {}
     },
     "1a95adb17dfc46e89834eda4c4524d3f": {
      "model_module": "@jupyter-widgets/output",
      "model_module_version": "1.0.0",
      "model_name": "OutputModel",
      "state": {
       "layout": "IPY_MODEL_b8cc324ed40940bcb86c32ee9a1c4025"
      }
     },
     "1a9a233894fc43788fa67fa53b020696": {
      "model_module": "@jupyter-widgets/controls",
      "model_module_version": "1.5.0",
      "model_name": "ButtonStyleModel",
      "state": {}
     },
     "208a467bbf2346cfab5f92c9617c16be": {
      "model_module": "@jupyter-widgets/base",
      "model_module_version": "1.2.0",
      "model_name": "LayoutModel",
      "state": {}
     },
     "216aefeadb8d4073bd8670dd866219b3": {
      "model_module": "@jupyter-widgets/output",
      "model_module_version": "1.0.0",
      "model_name": "OutputModel",
      "state": {
       "layout": "IPY_MODEL_b34a08a560ee4229a2e28022e47e4a16",
       "outputs": [
        {
         "name": "stdout",
         "output_type": "stream",
         "text": "lalalalal\n"
        }
       ]
      }
     },
     "223d0c25078745c6ba225cb131bb7d6e": {
      "model_module": "@jupyter-widgets/base",
      "model_module_version": "1.2.0",
      "model_name": "LayoutModel",
      "state": {}
     },
     "29b1a7ecabe14412b8e92a8eb3eb410c": {
      "model_module": "@jupyter-widgets/controls",
      "model_module_version": "1.5.0",
      "model_name": "VBoxModel",
      "state": {
       "children": [
        "IPY_MODEL_216aefeadb8d4073bd8670dd866219b3",
        "IPY_MODEL_934cf691e2a14b42a6a664c704a335f7",
        "IPY_MODEL_9af61e642b4644a49673a2731261c59f",
        "IPY_MODEL_fe2de36d5b714017bd0b4225ac7289ed"
       ],
       "layout": "IPY_MODEL_6f111f04a4a248b7bc79150e8db99253"
      }
     },
     "2b115a10b840468e8dd573f6048f5b8c": {
      "model_module": "@jupyter-widgets/controls",
      "model_module_version": "1.5.0",
      "model_name": "VBoxModel",
      "state": {
       "children": [
        "IPY_MODEL_3a1a02c7efcd474386cfe4a439ab5419",
        "IPY_MODEL_d5f79112fc844dfdb04e2bde563d0940",
        "IPY_MODEL_123696e7014a4752a3d3265e33444bca",
        "IPY_MODEL_a888793c5506416bb914954fd6cd9db1"
       ],
       "layout": "IPY_MODEL_0bfa3a7debb6472ebad3ac34300230e0"
      }
     },
     "2b83431b2c7d4cc0ad36a18bbaea62af": {
      "model_module": "@jupyter-widgets/base",
      "model_module_version": "1.2.0",
      "model_name": "LayoutModel",
      "state": {}
     },
     "2f081605612d4bc8b346c90faad7fe6c": {
      "model_module": "@jupyter-widgets/base",
      "model_module_version": "1.2.0",
      "model_name": "LayoutModel",
      "state": {}
     },
     "2fc0a68526ad4476a58708e309452c4e": {
      "model_module": "@jupyter-widgets/output",
      "model_module_version": "1.0.0",
      "model_name": "OutputModel",
      "state": {
       "layout": "IPY_MODEL_95c460fed1b1461189c4dadb05d32b81"
      }
     },
     "30521cd4acca492aada2a36450d8f7d4": {
      "model_module": "@jupyter-widgets/output",
      "model_module_version": "1.0.0",
      "model_name": "OutputModel",
      "state": {
       "layout": "IPY_MODEL_7899163b196445ab8c6165321483b6a1",
       "outputs": [
        {
         "name": "stdout",
         "output_type": "stream",
         "text": "blablabla\n"
        }
       ]
      }
     },
     "308dac6189304b4aa8f6dd17fc907864": {
      "model_module": "@jupyter-widgets/base",
      "model_module_version": "1.2.0",
      "model_name": "LayoutModel",
      "state": {}
     },
     "359a02db424841dda24c227f3efd6aa5": {
      "model_module": "@jupyter-widgets/controls",
      "model_module_version": "1.5.0",
      "model_name": "DescriptionStyleModel",
      "state": {
       "description_width": ""
      }
     },
     "3a1a02c7efcd474386cfe4a439ab5419": {
      "model_module": "@jupyter-widgets/output",
      "model_module_version": "1.0.0",
      "model_name": "OutputModel",
      "state": {
       "layout": "IPY_MODEL_be0477d59c8642c0a776921aa58737c4",
       "outputs": [
        {
         "name": "stdout",
         "output_type": "stream",
         "text": "blablabla\n"
        }
       ]
      }
     },
     "3a7306c9aaa644078cd402cab8962e07": {
      "model_module": "@jupyter-widgets/controls",
      "model_module_version": "1.5.0",
      "model_name": "ButtonStyleModel",
      "state": {}
     },
     "3d05dcddcc0b40f79b33a0a7b51b1645": {
      "model_module": "@jupyter-widgets/base",
      "model_module_version": "1.2.0",
      "model_name": "LayoutModel",
      "state": {}
     },
     "3dc61db399d9444b8234891f03d35c9b": {
      "model_module": "@jupyter-widgets/controls",
      "model_module_version": "1.5.0",
      "model_name": "VBoxModel",
      "state": {
       "children": [
        "IPY_MODEL_f519100d1fa44cb19086be10194e5e2b",
        "IPY_MODEL_3ee1291e943d4006a84e95db9698dde7",
        "IPY_MODEL_63be7b93392840908f93e16635cfb142",
        "IPY_MODEL_be39ae1c65d6483b80ecb87e7d5dbb64"
       ],
       "layout": "IPY_MODEL_7bffb111d12f4edb9007edc4d7ff0ff9"
      }
     },
     "3ee1291e943d4006a84e95db9698dde7": {
      "model_module": "@jupyter-widgets/controls",
      "model_module_version": "1.5.0",
      "model_name": "RadioButtonsModel",
      "state": {
       "_options_labels": [
        "apple",
        "banana",
        "pear"
       ],
       "index": 0,
       "layout": "IPY_MODEL_41edb5c9e835411291250be421467583",
       "style": "IPY_MODEL_a42917138dbb42298d0e94d541a64c9d"
      }
     },
     "3fbc71fe7bbc4937b9d766a8b7632070": {
      "model_module": "@jupyter-widgets/controls",
      "model_module_version": "1.5.0",
      "model_name": "RadioButtonsModel",
      "state": {
       "_options_labels": [
        "apple",
        "banana",
        "pear"
       ],
       "index": 2,
       "layout": "IPY_MODEL_50c0fc1483834e6d84b26ebcf7f2c2a7",
       "style": "IPY_MODEL_09cfdf9e46094b23a40166adef876b81"
      }
     },
     "4125b500d6ec44419afa0d24b068e918": {
      "model_module": "@jupyter-widgets/base",
      "model_module_version": "1.2.0",
      "model_name": "LayoutModel",
      "state": {}
     },
     "41edb5c9e835411291250be421467583": {
      "model_module": "@jupyter-widgets/base",
      "model_module_version": "1.2.0",
      "model_name": "LayoutModel",
      "state": {}
     },
     "420310cabf1849f38979abda5c45ac62": {
      "model_module": "@jupyter-widgets/base",
      "model_module_version": "1.2.0",
      "model_name": "LayoutModel",
      "state": {}
     },
     "43c8499d59ad49369d47e59fb5de117a": {
      "model_module": "@jupyter-widgets/output",
      "model_module_version": "1.0.0",
      "model_name": "OutputModel",
      "state": {
       "layout": "IPY_MODEL_5d321c695cf64b0cb900a6f639b26545"
      }
     },
     "46348571108245a2b4769f2abca05e00": {
      "model_module": "@jupyter-widgets/base",
      "model_module_version": "1.2.0",
      "model_name": "LayoutModel",
      "state": {}
     },
     "487fac56d48640ad85421ef8f52dfc50": {
      "model_module": "@jupyter-widgets/controls",
      "model_module_version": "1.5.0",
      "model_name": "DescriptionStyleModel",
      "state": {
       "description_width": ""
      }
     },
     "4cd7ea1591754421b76ff772eb03a1bd": {
      "model_module": "@jupyter-widgets/controls",
      "model_module_version": "1.5.0",
      "model_name": "ButtonModel",
      "state": {
       "description": "submit",
       "layout": "IPY_MODEL_a0d0985a1a5146fda9900aa522a172b9",
       "style": "IPY_MODEL_7579c379f305413f937bf670c36eb93b"
      }
     },
     "50c0fc1483834e6d84b26ebcf7f2c2a7": {
      "model_module": "@jupyter-widgets/base",
      "model_module_version": "1.2.0",
      "model_name": "LayoutModel",
      "state": {}
     },
     "53c91900b70744ca836286d311679101": {
      "model_module": "@jupyter-widgets/base",
      "model_module_version": "1.2.0",
      "model_name": "LayoutModel",
      "state": {}
     },
     "59e8195c1d7f4b9ba1c877451d609d4d": {
      "model_module": "@jupyter-widgets/controls",
      "model_module_version": "1.5.0",
      "model_name": "VBoxModel",
      "state": {
       "children": [
        "IPY_MODEL_83c38fd8fb2d43eba1d94fd1ea816411",
        "IPY_MODEL_059346708c5447ab85d7e51ab27cbd6f",
        "IPY_MODEL_923817faed4340289ed5f2a3a54c5733",
        "IPY_MODEL_1a95adb17dfc46e89834eda4c4524d3f"
       ],
       "layout": "IPY_MODEL_c6ad632696d84cb3a8bd8da4c07ae021"
      }
     },
     "5c9a00a2739047a98413eccec889b479": {
      "model_module": "@jupyter-widgets/output",
      "model_module_version": "1.0.0",
      "model_name": "OutputModel",
      "state": {
       "layout": "IPY_MODEL_032b7783727b4af2bcb54cbc50e66236",
       "outputs": [
        {
         "name": "stdout",
         "output_type": "stream",
         "text": "\u001b[1;30;42mCorrect!\u001b[0m\n\n"
        }
       ]
      }
     },
     "5d321c695cf64b0cb900a6f639b26545": {
      "model_module": "@jupyter-widgets/base",
      "model_module_version": "1.2.0",
      "model_name": "LayoutModel",
      "state": {}
     },
     "63be7b93392840908f93e16635cfb142": {
      "model_module": "@jupyter-widgets/controls",
      "model_module_version": "1.5.0",
      "model_name": "ButtonModel",
      "state": {
       "description": "submit",
       "layout": "IPY_MODEL_46348571108245a2b4769f2abca05e00",
       "style": "IPY_MODEL_034cc1aa86b249dfa89f09511d868fbb"
      }
     },
     "65247580849043a4b187d4e150f83f45": {
      "model_module": "@jupyter-widgets/controls",
      "model_module_version": "1.5.0",
      "model_name": "VBoxModel",
      "state": {
       "children": [
        "IPY_MODEL_80cfebcb539745cebe293f82acc4eb0c",
        "IPY_MODEL_80eb8c2bc95148d5bdd0221ad1f7173a",
        "IPY_MODEL_4cd7ea1591754421b76ff772eb03a1bd",
        "IPY_MODEL_43c8499d59ad49369d47e59fb5de117a"
       ],
       "layout": "IPY_MODEL_9424dfb196ed42deb301888d2bc53d9b"
      }
     },
     "693b2afed3454eb39f256df4b2e25d6e": {
      "model_module": "@jupyter-widgets/base",
      "model_module_version": "1.2.0",
      "model_name": "LayoutModel",
      "state": {}
     },
     "6a754aabd07f466a8b1c6fcf979ffc1e": {
      "model_module": "@jupyter-widgets/base",
      "model_module_version": "1.2.0",
      "model_name": "LayoutModel",
      "state": {}
     },
     "6f111f04a4a248b7bc79150e8db99253": {
      "model_module": "@jupyter-widgets/base",
      "model_module_version": "1.2.0",
      "model_name": "LayoutModel",
      "state": {}
     },
     "7185e062728c4a3b81d8f7df68a92371": {
      "model_module": "@jupyter-widgets/controls",
      "model_module_version": "1.5.0",
      "model_name": "VBoxModel",
      "state": {
       "children": [
        "IPY_MODEL_bc6e0cbbcb54408fbd6121387b8f9378",
        "IPY_MODEL_e3577669503841b7b3a8c0723ee91f41",
        "IPY_MODEL_ddf2306bc7514471b1d564e318161e96",
        "IPY_MODEL_2fc0a68526ad4476a58708e309452c4e"
       ],
       "layout": "IPY_MODEL_693b2afed3454eb39f256df4b2e25d6e"
      }
     },
     "74793884b3084c19a073cda068e76984": {
      "model_module": "@jupyter-widgets/controls",
      "model_module_version": "1.5.0",
      "model_name": "DescriptionStyleModel",
      "state": {
       "description_width": ""
      }
     },
     "7579c379f305413f937bf670c36eb93b": {
      "model_module": "@jupyter-widgets/controls",
      "model_module_version": "1.5.0",
      "model_name": "ButtonStyleModel",
      "state": {}
     },
     "76eadd1e6fe440e49aa958e93af41892": {
      "model_module": "@jupyter-widgets/base",
      "model_module_version": "1.2.0",
      "model_name": "LayoutModel",
      "state": {}
     },
     "7899163b196445ab8c6165321483b6a1": {
      "model_module": "@jupyter-widgets/base",
      "model_module_version": "1.2.0",
      "model_name": "LayoutModel",
      "state": {}
     },
     "7bffb111d12f4edb9007edc4d7ff0ff9": {
      "model_module": "@jupyter-widgets/base",
      "model_module_version": "1.2.0",
      "model_name": "LayoutModel",
      "state": {}
     },
     "80cfebcb539745cebe293f82acc4eb0c": {
      "model_module": "@jupyter-widgets/output",
      "model_module_version": "1.0.0",
      "model_name": "OutputModel",
      "state": {
       "layout": "IPY_MODEL_aae6f95f601548fa990985e199b270ef",
       "outputs": [
        {
         "name": "stdout",
         "output_type": "stream",
         "text": "lalalalal\n"
        }
       ]
      }
     },
     "80eb8c2bc95148d5bdd0221ad1f7173a": {
      "model_module": "@jupyter-widgets/controls",
      "model_module_version": "1.5.0",
      "model_name": "RadioButtonsModel",
      "state": {
       "_options_labels": [
        "cat",
        "dog",
        "mouse"
       ],
       "index": 0,
       "layout": "IPY_MODEL_c1246ca0e82a4e7c880cc2dca9a4e0cd",
       "style": "IPY_MODEL_9a1923850bde4d41af25c300d0969f47"
      }
     },
     "83c38fd8fb2d43eba1d94fd1ea816411": {
      "model_module": "@jupyter-widgets/output",
      "model_module_version": "1.0.0",
      "model_name": "OutputModel",
      "state": {
       "layout": "IPY_MODEL_208a467bbf2346cfab5f92c9617c16be",
       "outputs": [
        {
         "name": "stdout",
         "output_type": "stream",
         "text": "jajajajaj\n"
        }
       ]
      }
     },
     "923817faed4340289ed5f2a3a54c5733": {
      "model_module": "@jupyter-widgets/controls",
      "model_module_version": "1.5.0",
      "model_name": "ButtonModel",
      "state": {
       "description": "submit",
       "layout": "IPY_MODEL_9bea7ccc926a4e91a47f06693247d3fa",
       "style": "IPY_MODEL_3a7306c9aaa644078cd402cab8962e07"
      }
     },
     "934cf691e2a14b42a6a664c704a335f7": {
      "model_module": "@jupyter-widgets/controls",
      "model_module_version": "1.5.0",
      "model_name": "RadioButtonsModel",
      "state": {
       "_options_labels": [
        "cat",
        "dog",
        "mouse"
       ],
       "index": 0,
       "layout": "IPY_MODEL_223d0c25078745c6ba225cb131bb7d6e",
       "style": "IPY_MODEL_af5d6edba11f438289c0ca69a891c9e1"
      }
     },
     "9424dfb196ed42deb301888d2bc53d9b": {
      "model_module": "@jupyter-widgets/base",
      "model_module_version": "1.2.0",
      "model_name": "LayoutModel",
      "state": {}
     },
     "94a6a0a102a74b5f82c0356829e5c617": {
      "model_module": "@jupyter-widgets/controls",
      "model_module_version": "1.5.0",
      "model_name": "ButtonStyleModel",
      "state": {}
     },
     "95c460fed1b1461189c4dadb05d32b81": {
      "model_module": "@jupyter-widgets/base",
      "model_module_version": "1.2.0",
      "model_name": "LayoutModel",
      "state": {}
     },
     "9a1923850bde4d41af25c300d0969f47": {
      "model_module": "@jupyter-widgets/controls",
      "model_module_version": "1.5.0",
      "model_name": "DescriptionStyleModel",
      "state": {
       "description_width": ""
      }
     },
     "9af61e642b4644a49673a2731261c59f": {
      "model_module": "@jupyter-widgets/controls",
      "model_module_version": "1.5.0",
      "model_name": "ButtonModel",
      "state": {
       "description": "submit",
       "layout": "IPY_MODEL_2f081605612d4bc8b346c90faad7fe6c",
       "style": "IPY_MODEL_17058b82d834415cb17fc49719267f40"
      }
     },
     "9bea7ccc926a4e91a47f06693247d3fa": {
      "model_module": "@jupyter-widgets/base",
      "model_module_version": "1.2.0",
      "model_name": "LayoutModel",
      "state": {}
     },
     "a0d0985a1a5146fda9900aa522a172b9": {
      "model_module": "@jupyter-widgets/base",
      "model_module_version": "1.2.0",
      "model_name": "LayoutModel",
      "state": {}
     },
     "a0db61c994f94581bc024b49f61675e8": {
      "model_module": "@jupyter-widgets/controls",
      "model_module_version": "1.5.0",
      "model_name": "ButtonModel",
      "state": {
       "description": "submit",
       "layout": "IPY_MODEL_308dac6189304b4aa8f6dd17fc907864",
       "style": "IPY_MODEL_94a6a0a102a74b5f82c0356829e5c617"
      }
     },
     "a42917138dbb42298d0e94d541a64c9d": {
      "model_module": "@jupyter-widgets/controls",
      "model_module_version": "1.5.0",
      "model_name": "DescriptionStyleModel",
      "state": {
       "description_width": ""
      }
     },
     "a7dbb1dd04b94b15992a5e02a1187d6b": {
      "model_module": "@jupyter-widgets/controls",
      "model_module_version": "1.5.0",
      "model_name": "ButtonStyleModel",
      "state": {}
     },
     "a888793c5506416bb914954fd6cd9db1": {
      "model_module": "@jupyter-widgets/output",
      "model_module_version": "1.0.0",
      "model_name": "OutputModel",
      "state": {
       "layout": "IPY_MODEL_420310cabf1849f38979abda5c45ac62",
       "outputs": [
        {
         "name": "stdout",
         "output_type": "stream",
         "text": "\u001b[1;30;42mCorrect\u001b[0m\n\n"
        }
       ]
      }
     },
     "aae6f95f601548fa990985e199b270ef": {
      "model_module": "@jupyter-widgets/base",
      "model_module_version": "1.2.0",
      "model_name": "LayoutModel",
      "state": {}
     },
     "af5d6edba11f438289c0ca69a891c9e1": {
      "model_module": "@jupyter-widgets/controls",
      "model_module_version": "1.5.0",
      "model_name": "DescriptionStyleModel",
      "state": {
       "description_width": ""
      }
     },
     "b34a08a560ee4229a2e28022e47e4a16": {
      "model_module": "@jupyter-widgets/base",
      "model_module_version": "1.2.0",
      "model_name": "LayoutModel",
      "state": {}
     },
     "b8cc324ed40940bcb86c32ee9a1c4025": {
      "model_module": "@jupyter-widgets/base",
      "model_module_version": "1.2.0",
      "model_name": "LayoutModel",
      "state": {}
     },
     "bc6e0cbbcb54408fbd6121387b8f9378": {
      "model_module": "@jupyter-widgets/output",
      "model_module_version": "1.0.0",
      "model_name": "OutputModel",
      "state": {
       "layout": "IPY_MODEL_c436bd5cffc54a63866136b308a67fda",
       "outputs": [
        {
         "name": "stdout",
         "output_type": "stream",
         "text": "jajajajaj\n"
        }
       ]
      }
     },
     "be0477d59c8642c0a776921aa58737c4": {
      "model_module": "@jupyter-widgets/base",
      "model_module_version": "1.2.0",
      "model_name": "LayoutModel",
      "state": {}
     },
     "be39ae1c65d6483b80ecb87e7d5dbb64": {
      "model_module": "@jupyter-widgets/output",
      "model_module_version": "1.0.0",
      "model_name": "OutputModel",
      "state": {
       "layout": "IPY_MODEL_fd6ede0def0e4db28b64a8b3cb6c7e06"
      }
     },
     "c1246ca0e82a4e7c880cc2dca9a4e0cd": {
      "model_module": "@jupyter-widgets/base",
      "model_module_version": "1.2.0",
      "model_name": "LayoutModel",
      "state": {}
     },
     "c436bd5cffc54a63866136b308a67fda": {
      "model_module": "@jupyter-widgets/base",
      "model_module_version": "1.2.0",
      "model_name": "LayoutModel",
      "state": {}
     },
     "c5b3d26a75324c00ae56f5abdfdf7ab4": {
      "model_module": "@jupyter-widgets/base",
      "model_module_version": "1.2.0",
      "model_name": "LayoutModel",
      "state": {}
     },
     "c6ad632696d84cb3a8bd8da4c07ae021": {
      "model_module": "@jupyter-widgets/base",
      "model_module_version": "1.2.0",
      "model_name": "LayoutModel",
      "state": {}
     },
     "cc904d14c19649feb7f181b09e757b96": {
      "model_module": "@jupyter-widgets/controls",
      "model_module_version": "1.5.0",
      "model_name": "VBoxModel",
      "state": {
       "children": [
        "IPY_MODEL_30521cd4acca492aada2a36450d8f7d4",
        "IPY_MODEL_3fbc71fe7bbc4937b9d766a8b7632070",
        "IPY_MODEL_a0db61c994f94581bc024b49f61675e8",
        "IPY_MODEL_5c9a00a2739047a98413eccec889b479"
       ],
       "layout": "IPY_MODEL_76eadd1e6fe440e49aa958e93af41892"
      }
     },
     "d5f79112fc844dfdb04e2bde563d0940": {
      "model_module": "@jupyter-widgets/controls",
      "model_module_version": "1.5.0",
      "model_name": "RadioButtonsModel",
      "state": {
       "_options_labels": [
        "apple",
        "banana",
        "pear"
       ],
       "index": 2,
       "layout": "IPY_MODEL_15ce81380df04787a2c94b25544b9a47",
       "style": "IPY_MODEL_487fac56d48640ad85421ef8f52dfc50"
      }
     },
     "ddf2306bc7514471b1d564e318161e96": {
      "model_module": "@jupyter-widgets/controls",
      "model_module_version": "1.5.0",
      "model_name": "ButtonModel",
      "state": {
       "description": "submit",
       "layout": "IPY_MODEL_2b83431b2c7d4cc0ad36a18bbaea62af",
       "style": "IPY_MODEL_1a9a233894fc43788fa67fa53b020696"
      }
     },
     "e3577669503841b7b3a8c0723ee91f41": {
      "model_module": "@jupyter-widgets/controls",
      "model_module_version": "1.5.0",
      "model_name": "RadioButtonsModel",
      "state": {
       "_options_labels": [
        "blue",
        "white",
        "red"
       ],
       "index": 0,
       "layout": "IPY_MODEL_53c91900b70744ca836286d311679101",
       "style": "IPY_MODEL_359a02db424841dda24c227f3efd6aa5"
      }
     },
     "f519100d1fa44cb19086be10194e5e2b": {
      "model_module": "@jupyter-widgets/output",
      "model_module_version": "1.0.0",
      "model_name": "OutputModel",
      "state": {
       "layout": "IPY_MODEL_3d05dcddcc0b40f79b33a0a7b51b1645",
       "outputs": [
        {
         "name": "stdout",
         "output_type": "stream",
         "text": "blablabla\n"
        }
       ]
      }
     },
     "fd6ede0def0e4db28b64a8b3cb6c7e06": {
      "model_module": "@jupyter-widgets/base",
      "model_module_version": "1.2.0",
      "model_name": "LayoutModel",
      "state": {}
     },
     "fe2de36d5b714017bd0b4225ac7289ed": {
      "model_module": "@jupyter-widgets/output",
      "model_module_version": "1.0.0",
      "model_name": "OutputModel",
      "state": {
       "layout": "IPY_MODEL_6a754aabd07f466a8b1c6fcf979ffc1e"
      }
     }
    },
    "version_major": 2,
    "version_minor": 0
   }
  }
 },
 "nbformat": 4,
 "nbformat_minor": 4
}
