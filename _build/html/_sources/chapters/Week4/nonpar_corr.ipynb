{
 "cells": [
  {
   "cell_type": "markdown",
   "metadata": {},
   "source": [
    "# Non-parametric Correlations\n",
    "\n",
    "In this section, we will discuss two alternative expressions for correlation that do not depend on any assumptions of normality (aka *non-parametric*). \n",
    "\n",
    "## Spearman's Rank Correlation\n",
    "\n",
    "**Spearman's Rank Correlation** is a non-parametric statistic that tests whether a set of paired data monotonically vary together, but it does not assume that the data co-vary linearly. [Figure 16](spearman) illustrates data that co-vary montonically but not linearly and are perfectly correlated using the Spearman's Rank Correlation.\n",
    "\n",
    "```{figure} spearman.png\n",
    "---\n",
    "scale: 50%\n",
    "name: spearman\n",
    "---\n",
    "Scatter plot showing perfectly monotonically co-varying data [ref](https://en.wikipedia.org/wiki/Spearman%27s_rank_correlation_coefficient).\n",
    "```\n",
    "\n",
    "The idea is very simple, your original paired data $x_i$ and $y_i$ get converted into ranks $X_i$ and $Y_i$ from lowest to highest. We then compute the correlation coefficient in the same way as before but using the ranks.\n",
    "\n",
    "$$\n",
    "\\begin{align}\n",
    "r_{\\text{spearman}} = \\frac{\\overline{X^{\\prime}Y^{\\prime}}}{\\sigma_X\\sigma_Y}\n",
    "\\end{align}\n",
    "$$\n",
    "\n",
    "Statistical significance testing for Spearman's Rank Correlation can be performed using the Fisher-Z transformation.\n",
    "\n",
    "Let's compare the Pearson Correlation with the Spearman's Rank Correlation for our ENSO and California Precipitation Data.\n",
    "\n",
    "First, we need to load the data."
   ]
  },
  {
   "cell_type": "code",
   "execution_count": 15,
   "metadata": {},
   "outputs": [],
   "source": [
    "# load packages\n",
    "import numpy as np\n",
    "import pickle as pickle\n",
    "import scipy.stats as st\n",
    "import matplotlib.pyplot as plt\n",
    "import matplotlib as mpl\n",
    "mpl.rc('font',size=16,weight='bold') #set default font size and weight for plots"
   ]
  },
  {
   "cell_type": "code",
   "execution_count": 16,
   "metadata": {},
   "outputs": [],
   "source": [
    "# ENSO Data:\n",
    "# unpickle NINO34 (units of degC)\n",
    "with open('NINO34_NDJF.pickle','rb') as fp: #.pickle files are a python file type\n",
    "    nino34 = pickle.load(fp,encoding='latin1')[0]\n",
    "\n",
    "#  Precipitation Data:\n",
    "#  unpickle CA_PRECIP_DJFM (units of mm/day)\n",
    "with open('CA_PRECIP_DJFM.pickle','rb') as fp: #.pickle files are a python file type\n",
    "    precip_djfm = pickle.load(fp,encoding='latin1')"
   ]
  },
  {
   "cell_type": "markdown",
   "metadata": {},
   "source": [
    "Let's remind ourselves of the Pearson correlation between these two variables."
   ]
  },
  {
   "cell_type": "code",
   "execution_count": 17,
   "metadata": {},
   "outputs": [
    {
     "name": "stdout",
     "output_type": "stream",
     "text": [
      "The Pearson Correlation = 0.5 with a very small p-value of 2.6350145043515812e-71 i.e., a very significant correlation!\n"
     ]
    }
   ],
   "source": [
    "# Pearson's correlation coefficient function including the p-value\n",
    "pearsons_corrcoef, p_corr = st.pearsonr(nino34,precip_djfm)\n",
    "print(\"The Pearson Correlation =\",np.round(pearsons_corrcoef,2), \"with a very small p-value of\", p_corr, \"i.e., a very significant correlation!\")"
   ]
  },
  {
   "cell_type": "markdown",
   "metadata": {},
   "source": [
    "Now let's take a look at Spearman's Rank Correlation."
   ]
  },
  {
   "cell_type": "code",
   "execution_count": 18,
   "metadata": {},
   "outputs": [
    {
     "name": "stdout",
     "output_type": "stream",
     "text": [
      "The Spearman's Rank Correlation = 0.45 with a very small p-value of 3.803726297407863e-57 i.e., a very significant correlation!\n"
     ]
    }
   ],
   "source": [
    "# Spearman's Rank correlation coefficient function including the p-value\n",
    "spearmans_corrcoef, p_corr = st.spearmanr(nino34,precip_djfm)\n",
    "print(\"The Spearman's Rank Correlation =\",np.round(spearmans_corrcoef,2), \"with a very small p-value of\", p_corr, \"i.e., a very significant correlation!\")"
   ]
  },
  {
   "cell_type": "markdown",
   "metadata": {},
   "source": [
    "In both cases, we find statistically significant correlations, but the correlation coefficients are somewhat different. We find a stronger relationship using the Pearson Correlation.\n",
    "\n",
    "## Kendall's Rank Correlation (aka Kendall's Tau)\n",
    "\n",
    "Kendall’s Tau coefficient, like Spearman’s Rank Correlation coefficient, assess statistical associations based on the ranks of the data. This is the best alternative to the Spearman Rank Correlation when your sample size is small and has many tied ranks.\n",
    "\n",
    "Let ($x_1$, $y_1$), ($x_2$, $y_2$), …, ($x_n$, $y_n$) be a set of observations of the joint random variables $X$ and $Y$, respectively.\n",
    "\n",
    "Any pair of observations ($x_i$,$y_i$) and ($x_j$,$y_j$), where $i \\neq j$, are said to be **concordant** if the ranks for both elements agree: that is, if both $x_i$ > $x_j$ and $y_i$ > $y_j$; or if both $x_i$ < $x_j$ and $y_i$ < $y_j$. \n",
    "\n",
    "They are said to be **discordant**, if  $x_i$ > $x_j$ and $y_i$ < $y_j$; or if $x_i$ < $x_j$ and $y_i$ > $y_j$. \n",
    "\n",
    "If $x_i$ = $x_j$ or $y_i$ = $y_j$, the pair is neither concordant nor discordant.\n",
    "\n",
    "The **Kendall Tau coefficient ($\\tau$)** is defined as:\n",
    "\n",
    "$$\n",
    "\\tau = \\frac{\\text{(number of concordant pairs) - (number of discordant pairs)}}{\\frac{n(n-1)}{2}}\n",
    "$$\n",
    "\n",
    "Let's work through an illustrative example to understand how this works. \n",
    "\n",
    "Suppose we have two meteorologists, one is a senior meteorologist and one is just graduated and in a junior role. They have been tasked with ranking the overall strength of 8 hurricanes in the North Atlantic for the past several seasons based on expert judgement. We are going to use Kendall's $\\tau$ to establish how closely their assessments agree.\n",
    "\n",
    "Here is a [table](kendalls) showing their rankings.\n",
    "\n",
    "```{list-table}\n",
    ":header-rows: 1\n",
    ":name: kendalls\n",
    "\n",
    "* - Senior Meteorologist\n",
    "  - Junior Meteorologist\n",
    "  - Concordant Pairs\n",
    "  - Discordant Pairs\n",
    "* - 1\n",
    "  - 2\n",
    "  -\n",
    "  -\n",
    "* - 2\n",
    "  - 1\n",
    "  -\n",
    "  -\n",
    "* - 3\n",
    "  - 4\n",
    "  -\n",
    "  -\n",
    "* - 4\n",
    "  - 3\n",
    "  -\n",
    "  -\n",
    "* - 5\n",
    "  - 6\n",
    "  -\n",
    "  -\n",
    "* - 6\n",
    "  - 5\n",
    "  -\n",
    "  -\n",
    "* - 7\n",
    "  - 8\n",
    "  -\n",
    "  -\n",
    "* - 8\n",
    "  - 7\n",
    "  -\n",
    "  -\n",
    "```"
   ]
  },
  {
   "cell_type": "markdown",
   "metadata": {},
   "source": [
    "We can see that the Junior Meteorologists rankings differ from the Senior Meteorologists somewhat. Looking at the first row, we see that the meteorologists disagree in their ranking, but if we compare the first row to the subsequent rows, we see that they both agree that the first row is higher ranked than rows 3-8. Thus, we have one discordant pair but 10 concordant pairs. \n",
    "\n",
    "Looking now at the second row, we see that both meteorologists agree that this ranking is higher than all the rows below, so we have 10 concordant pairs and 0 discordant pairs. \n",
    "\n",
    "We repeat the above for all rows and get the following completed table:\n",
    "\n",
    "Here is a [table](kendalls2) showing their rankings.\n",
    "\n",
    "```{list-table}\n",
    ":header-rows: 1\n",
    ":name: kendalls2\n",
    "\n",
    "* - Senior Meteorologist\n",
    "  - Junior Meteorologist\n",
    "  - Concordant Pairs\n",
    "  - Discordant Pairs\n",
    "* - 1\n",
    "  - 2\n",
    "  - 6\n",
    "  - 1\n",
    "* - 2\n",
    "  - 1\n",
    "  - 6\n",
    "  - 0\n",
    "* - 3\n",
    "  - 4\n",
    "  - 4\n",
    "  - 1\n",
    "* - 4\n",
    "  - 3\n",
    "  - 4\n",
    "  - 0\n",
    "* - 5\n",
    "  - 6\n",
    "  - 2\n",
    "  - 1\n",
    "* - 6\n",
    "  - 5\n",
    "  - 2\n",
    "  - 0\n",
    "* - 7\n",
    "  - 8\n",
    "  - 0\n",
    "  - 1\n",
    "* - 8\n",
    "  - 7\n",
    "  -\n",
    "  -\n",
    "* -\n",
    "  -\n",
    "  - 24\n",
    "  - 4\n",
    "```\n",
    "\n",
    "The bottom row shows the sums of the concordant and discordant pairs. Plugging these into the above equation for $\\tau$ we get,\n",
    "\n",
    "$$\n",
    "\\begin{align}\n",
    "\\tau & = \\frac{\\text{(number of concordant pairs) - (number of discordant pairs)}}{\\frac{n(n-1)}{2}}\\\\\n",
    "& = \\frac{24-4}{\\frac{8(8-1)}{2}}\\\\\n",
    "& = 0.71\n",
    "\\end{align}\n",
    "$$\n",
    "\n",
    "Let's check our result using the `scipy.stats.kendalltau()` function."
   ]
  },
  {
   "cell_type": "code",
   "execution_count": 19,
   "metadata": {},
   "outputs": [
    {
     "name": "stdout",
     "output_type": "stream",
     "text": [
      "KendalltauResult(correlation=0.7142857142857142, pvalue=0.014136904761904762)\n"
     ]
    }
   ],
   "source": [
    "# Kendall's Tau for our simple meteorology example\n",
    "senior = [1,2,3,4,5,6,7,8]\n",
    "junior = [2,1,4,3,6,5,8,7]\n",
    "\n",
    "print(st.kendalltau(senior,junior))"
   ]
  },
  {
   "cell_type": "markdown",
   "metadata": {},
   "source": [
    "We get the same value for $\\tau$ - great! \n",
    "\n",
    "Let's try it out with our ENSO and California precipitation data."
   ]
  },
  {
   "cell_type": "code",
   "execution_count": 20,
   "metadata": {},
   "outputs": [
    {
     "name": "stdout",
     "output_type": "stream",
     "text": [
      "The Kendall's Rank Correlation = 0.31 with a very small p-value of 8.130093661460598e-54 i.e., a very significant correlation!\n"
     ]
    }
   ],
   "source": [
    "# Kendall's Rank correlation coefficient function including the p-value\n",
    "ktau_corrcoef, p_corr = st.kendalltau(nino34,precip_djfm)\n",
    "print(\"The Kendall's Rank Correlation =\",np.round(ktau_corrcoef,2), \"with a very small p-value of\", p_corr, \"i.e., a very significant correlation!\")"
   ]
  },
  {
   "cell_type": "markdown",
   "metadata": {},
   "source": [
    "The `scipy.stats.kendalltau()` function gives us a p-value, but we are not going to discuss how this is derived. If you are interested you can read more about Kendall's Tau [here](https://en.wikipedia.org/wiki/Kendall_rank_correlation_coefficient#:~:text=In%20statistics%2C%20the%20Kendall%20rank,association%20between%20two%20measured%20quantities.&text=can%20be%20formulated%20as%20special%20cases%20of%20a%20more%20general%20correlation%20coefficient.)."
   ]
  }
 ],
 "metadata": {
  "kernelspec": {
   "display_name": "Python 3",
   "language": "python",
   "name": "python3"
  },
  "language_info": {
   "codemirror_mode": {
    "name": "ipython",
    "version": 3
   },
   "file_extension": ".py",
   "mimetype": "text/x-python",
   "name": "python",
   "nbconvert_exporter": "python",
   "pygments_lexer": "ipython3",
   "version": "3.7.2"
  }
 },
 "nbformat": 4,
 "nbformat_minor": 4
}
