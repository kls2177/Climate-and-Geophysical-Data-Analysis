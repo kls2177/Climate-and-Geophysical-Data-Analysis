{
 "cells": [
  {
   "cell_type": "markdown",
   "metadata": {},
   "source": [
    "# Accounting for Autocorrelation: Effective Sample Size\n",
    "\n",
    "Recall that persistence/autocorrelation in a data set means that our sample size is actually an overestimate, because each data point is not independent of those around it. To deal with this problem, we can decrease $N$ to reflect the degree of autocorrelation in our data.\n",
    "\n",
    "The most convenient way to do this is to introduce an **effective sample size, $N^*$**, where $N^*$ < $N$. So, we substitute $N^*$ in the place of $N$ in the formulas for the standard errors of the mean, regression, slope, intercept, etc. and in the degrees of freedom for the $t$-statistic.\n",
    "\n",
    "So, you are probably asking yourself, where does the *red noise* come in? The estimation of $N^*$ is generally approached assuming that a given time series behaves like a red noise time series. \n",
    "\n",
    "Using [this assumption](https://journals.ametsoc.org/jamc/article/12/6/1066/349434/The-Standard-Error-of-Time-Average-Estimates-of), $N^*$ can be estimated using the following [approximation](https://www.elsevier.com/books/statistical-methods-in-the-atmospheric-sciences/wilks/978-0-12-751965-4):\n",
    "\n",
    "$$\n",
    "\\frac{N^*}{N} = \\frac{1-\\rho(\\Delta t)}{1+\\rho(\\Delta t)}\n",
    "$$\n",
    "\n",
    "where $N$ is the number of data points in the time series, $\\Delta t$ is the time step and $\\rho(\\Delta t)$ is the lag-1 autocorrelation, i.e., the coefficient $a$ in the equation for a red noise time series.\n",
    "\n",
    "### Properties of $N^*$\n",
    "\n",
    "- for white noise, $\\rho(\\Delta t)$ = 0 -> N* = N\n",
    "- as $\\rho(\\Delta t)$ increases, $N^*$ decreases\n",
    "\n",
    "## Example Revisited: Lower Tropospheric Temperature Data\n",
    "\n",
    "Let's take a look at how substituting $N^*$ for $N$ affects the confidence intervals on the slope we calculated in our previous example of the TLT temperature time series."
   ]
  },
  {
   "cell_type": "code",
   "execution_count": 3,
   "metadata": {},
   "outputs": [],
   "source": [
    "# Load packages\n",
    "import numpy as np\n",
    "import scipy.stats as stats\n",
    "import matplotlib.pyplot as plt\n",
    "import matplotlib as mpl\n",
    "mpl.rc('font',size=14,weight='bold') #set default font size and weight for plots"
   ]
  },
  {
   "cell_type": "markdown",
   "metadata": {},
   "source": [
    "First, we need to load in our TLT temperature time series again and convert to seasonal averages."
   ]
  },
  {
   "cell_type": "code",
   "execution_count": null,
   "metadata": {},
   "outputs": [],
   "source": [
    "# Read in TLT file\n",
    "filename = 'TLT_19792019.csv'\n",
    "T = np.squeeze(np.genfromtxt(filename,delimiter=','))\n",
    "\n",
    "# Extract Dec. 1979 - November 2019 and just extract last column (temperature data)\n",
    "T = T[11:-1,2]\n",
    "\n",
    "# Alternative way to compute the seasonal averages\n",
    "T_seasons = np.mean(T.reshape(-1, 3), axis=1)"
   ]
  },
  {
   "cell_type": "markdown",
   "metadata": {},
   "source": [
    "Next, we will plot the data again and calculate the best-fit line."
   ]
  },
  {
   "cell_type": "code",
   "execution_count": 6,
   "metadata": {},
   "outputs": [],
   "source": [
    "# Create time index for plotting and for regression\n",
    "time = np.arange(0,len(T_seasons),1)\n",
    "\n",
    "#  Plot the data (update to Fig. 3 of Santer et al. 2000)\n",
    "plt.figure(figsize=(12,6))\n",
    "\n",
    "# plot time series\n",
    "plt.plot(time,T_seasons,'k',linewidth=2)\n",
    "\n",
    "# calculate best-fit line\n",
    "a = np.polyfit(time,T_seasons,1)\n",
    "T_hat = np.polyval(a,time)\n",
    "\n",
    "# plot best-fit line\n",
    "plt.plot(time,T_hat,'k',linestyle='--')\n",
    "\n",
    "# ticks, labels, etc.\n",
    "plt.xticks(np.arange(4,len(time),20),[\"1980\",\"1985\",\"1990\",\"1995\",\"2000\",\"2005\",\"2010\",\"2015\"])\n",
    "plt.xlim(0,len(time)) \n",
    "plt.text(0.4, 0.925,'LS trend = ' + str(np.round(a[0]*40,3)) + '$^o$C/decade', ha='right', \n",
    "         transform=plt.gca().transAxes, color = 'k') #we multiply by 40 because our unit of time is seasons but we\n",
    "                                                        #want to report the trend in deg C per decade\n",
    "plt.ylabel(\"TLT Anomaly\")\n",
    "plt.xlabel(\"Year\")\n",
    "plt.title(\"Seasonal TLT Time Series (1980-2019)\")"
   ]
  },
  {
   "cell_type": "markdown",
   "metadata": {},
   "source": [
    "To calculate $N^*$, we need to know the lag-1 autocorrelation, so let's calculate the ACF for the TLT time series again and extract the lag-1 autocorrelation."
   ]
  },
  {
   "cell_type": "code",
   "execution_count": 8,
   "metadata": {},
   "outputs": [],
   "source": [
    "#np.correlate actually gives the covariance. We need to find the covariance of the deviations from the mean and then\n",
    "#divide the the tau=0 covariance, i.e., the variance to get the correlation\n",
    "\n",
    "Tcorr = np.correlate((T_seasons-np.mean(T_seasons)),(T_seasons-np.mean(T_seasons))/(len(T_seasons)*np.var(T_seasons)),'same')"
   ]
  },
  {
   "cell_type": "code",
   "execution_count": 30,
   "metadata": {},
   "outputs": [
    {
     "name": "stdout",
     "output_type": "stream",
     "text": [
      "0.91\n"
     ]
    }
   ],
   "source": [
    "# Extract the lag-1 autocorreltation (remember Tcorr goes from lag = -N/2 to + N/2)\n",
    "\n",
    "Tcorr_lag1 = Tcorr[int(len(T_seasons)/2)+1]\n",
    "print(np.round(Tcorr_lag1,2))"
   ]
  },
  {
   "cell_type": "markdown",
   "metadata": {},
   "source": [
    "This is a very large lag-1 autocorrelation, so our effective sample size will likely be much, much smaller than our originial sample size. To calculate $N^*$, we simply plug this lag-1 autocorrelation into the equation above to get $N^*$."
   ]
  },
  {
   "cell_type": "code",
   "execution_count": 32,
   "metadata": {},
   "outputs": [],
   "source": [
    "# calculate the effective sample size\n",
    "\n",
    "Ne = len(T_seasons) * (1 - Tcorr_lag1)/(1 + Tcorr_lag1)"
   ]
  },
  {
   "cell_type": "markdown",
   "metadata": {},
   "source": [
    "Let's compare $N^*$ to $N$."
   ]
  },
  {
   "cell_type": "code",
   "execution_count": 33,
   "metadata": {},
   "outputs": [
    {
     "name": "stdout",
     "output_type": "stream",
     "text": [
      "7.0 160\n"
     ]
    }
   ],
   "source": [
    "print(np.round(Ne), len(T_seasons))"
   ]
  },
  {
   "cell_type": "markdown",
   "metadata": {},
   "source": [
    "Wow! That is quite a big difference. So, now let's see how much this change in $N$ affects the confidence intervals on the slope that we calculated. As a reminder, this is what we did to find the confidence intervals using $N$."
   ]
  },
  {
   "cell_type": "code",
   "execution_count": 34,
   "metadata": {},
   "outputs": [
    {
     "name": "stdout",
     "output_type": "stream",
     "text": [
      "The true value of the slope is then 0.212 +/- 0.021 degC/decade\n"
     ]
    }
   ],
   "source": [
    "#use the alternate way to calculate the best fit parameters\n",
    "slope, intercept, r_value, p_value, std_err = stats.linregress(time,T_seasons)\n",
    "\n",
    "#find t_crit for our 95% confidence intervals on our slope\n",
    "t_crit = stats.t.ppf(0.975,len(time)-2)\n",
    "confidence_interval = t_crit*std_err\n",
    "print(\"The true value of the slope is then\", np.round(slope*40,3), \"+/-\", np.round(confidence_interval*40,3), \"degC/decade\")"
   ]
  },
  {
   "cell_type": "markdown",
   "metadata": {},
   "source": [
    "We get a fairly narrow confidence interval around this slope. In other words, we are quite confident that the true value of the slope is 0.212 degC/decade.\n",
    "\n",
    "If we instead calculate the standard error of the slope and the critical $t$-value using $N^*$, we will see that the confidence interval widens. We will need to calculate the standard error of the slope using the [formula](https://kls2177.github.io/Climate-and-Geophysical-Data-Analysis/chapters/Week3/confidence_intervals.html)."
   ]
  },
  {
   "cell_type": "code",
   "execution_count": 39,
   "metadata": {},
   "outputs": [],
   "source": [
    "# Calculate residuals\n",
    "resids = T_seasons - T_hat"
   ]
  },
  {
   "cell_type": "markdown",
   "metadata": {},
   "source": [
    "We will call our new standard error of the slope, `std_err_ne`."
   ]
  },
  {
   "cell_type": "code",
   "execution_count": 40,
   "metadata": {},
   "outputs": [],
   "source": [
    "# Now we need to recalculate our standard error of the slope...\n",
    "\n",
    "std_err_ne = np.sqrt(np.sum(resids**2)/((Ne-2)*np.sum((time -np.mean(time))**2)))"
   ]
  },
  {
   "cell_type": "markdown",
   "metadata": {},
   "source": [
    "Notice that the standard error of the slope gets larger when we use $N^*$."
   ]
  },
  {
   "cell_type": "code",
   "execution_count": 41,
   "metadata": {},
   "outputs": [
    {
     "name": "stdout",
     "output_type": "stream",
     "text": [
      "0.0015 0.0003\n"
     ]
    }
   ],
   "source": [
    "# Compare std_err_ne with std_err\n",
    "print(np.round(std_err_ne,4), np.round(std_err,4))"
   ]
  },
  {
   "cell_type": "markdown",
   "metadata": {},
   "source": [
    "Next, we calculate the critical $t$-value using $N^*$ for the degrees of freedom. Again, notice the the critical $t$-value is now larger."
   ]
  },
  {
   "cell_type": "code",
   "execution_count": 43,
   "metadata": {},
   "outputs": [
    {
     "name": "stdout",
     "output_type": "stream",
     "text": [
      "2.51 1.98\n"
     ]
    }
   ],
   "source": [
    "# Recalculate t-crit\n",
    "t_crit_ne = stats.t.ppf(0.975,Ne-2)\n",
    "\n",
    "# Compare t_crit_ne with t_crit\n",
    "print(np.round(t_crit_ne,2), np.round(t_crit,2))"
   ]
  },
  {
   "cell_type": "markdown",
   "metadata": {},
   "source": [
    "Finally, we can recalculate the confidence interval on the slope using the adjusted standard error and critical $t$-value."
   ]
  },
  {
   "cell_type": "code",
   "execution_count": 44,
   "metadata": {},
   "outputs": [
    {
     "name": "stdout",
     "output_type": "stream",
     "text": [
      "The true value of the slope is then 0.212 +/- 0.146 degC/decade\n"
     ]
    }
   ],
   "source": [
    "confidence_interval_ne = t_crit_ne*std_err_ne\n",
    "print(\"The true value of the slope is then\", np.round(slope*40,3), \"+/-\", np.round(confidence_interval_ne*40,3), \"degC/decade\")"
   ]
  },
  {
   "cell_type": "markdown",
   "metadata": {},
   "source": [
    "Even though our effective sample size is quite small, we still find that our slope is significantly positive. But, notice that the confidence interval is now quite wide, indicating that we are less confident that the true value of the slope is 0.212 - it could be as low as 0.066 or as high as 0.358 - degC/decade.\n",
    "\n",
    "In the climate science and geophysics literature, you may notice two ways to use the effective sample size. Here, we have calculated $N^*$ using the lag-1 autocorrelation function of the time series; however, sometimes the lag-1 autocorrelation of the residuals is used instead. In the above example, using the lag-1 autocorrelation of the time series leads to a more conservative estimate of the confidence interval than if we had used the lag-1 autocorrelation of the residuals (go back and compare the ACF's for the TLT temperature and the residuals to convince yourself that this is true). "
   ]
  },
  {
   "cell_type": "code",
   "execution_count": null,
   "metadata": {},
   "outputs": [],
   "source": []
  }
 ],
 "metadata": {
  "kernelspec": {
   "display_name": "Python 3",
   "language": "python",
   "name": "python3"
  },
  "language_info": {
   "codemirror_mode": {
    "name": "ipython",
    "version": 3
   },
   "file_extension": ".py",
   "mimetype": "text/x-python",
   "name": "python",
   "nbconvert_exporter": "python",
   "pygments_lexer": "ipython3",
   "version": "3.8.6"
  }
 },
 "nbformat": 4,
 "nbformat_minor": 4
}
