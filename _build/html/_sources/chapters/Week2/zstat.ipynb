{
 "cells": [
  {
   "cell_type": "markdown",
   "metadata": {},
   "source": [
    "# The *z*-Statistic\n",
    "\n",
    "Rather than referring to diagrams of the standard normal distribution to assess probabilities of $z$, the typical thing to do in statistics courses is to use $z$-tables.\n",
    "\n",
    "We will take a look at how to use tables, but we will also use python functions.\n",
    "\n",
    "The following [link]() contains a $z$-table (as well as other tables), and it is also shown in [Figure 7](ztab).\n",
    "\n",
    "```{figure} ztab.png\n",
    "---\n",
    "scale: 65%\n",
    "name: ztab\n",
    "---\n",
    "*z*-Table. Table entries for $z$ represent the area under the curve to the left of $z$. Only positive values for $z$ are shown. (from C. Dougherty Introduction to Econometrics second edition 2002, Oxford University Press, Oxford.)\n",
    "```\n",
    "\n",
    "Let's learn how to read this table using a few examples.\n",
    "\n",
    "## *z*-Statistic Examples\n",
    "\n",
    "Assume that you have 50 years of monthly El-Niño Southern Oscillation (ENSO) indices ($Z$), and that the index is well approximated by a standard normal distribution:\n",
    "\n",
    "```{admonition} Question #1\n",
    ":class: tip\n",
    "1. Using the table, what is the probability that a randomly chosen month has an ENSO index of exactly +2?\n",
    "```\n",
    "\n",
    "Before you go to the table, re-read this question. What are the chances that a continuous variable, like the ENSO index, has a value of *exactly* +2? This is a trick question. In this case, the probability is zero. \n",
    "\n",
    "```{admonition} Question #2\n",
    ":class: tip\n",
    "2. Using the table, what is the probability that a randomly chosen month has an ENSO index of +2.05 or less?\n",
    "```\n",
    "\n",
    "Looking at the $z$-table in [Figure 7](ztab), we go to the left-most column and look for a value of 2.0. We can use the other columns to add the appropriate hundredths to our value of 2.0. We want to add 0.05 to get 2.05, so we look-up the probability under the column labelled 0.05. What do you get?\n",
    "\n",
    "You should get a value of 0.9798. This means that there is a 97.98% probability that a randomly chosen month has an ENSO index of +2.05 or less.\n",
    "\n",
    "Let's try another one.\n",
    "\n",
    "```{admonition} Question #3\n",
    ":class: tip\n",
    "3. Using the table, what is the probability that a randomly chosen month has an ENSO index of +2.05 or greater?\n",
    "```\n",
    "\n",
    "This one is a bit trickier. The $z$-table we are using shows us the area under the curve left of $z$, but we actually want to know the area right of $z$. The key is that we know the total area under this curve is 1. So, the probability that a randomly chosen month has an ENSO index of +2.05 or greater is simply 1 - 0.9798 = 0.0202.\n",
    "\n",
    "Now, let's try these same two examples with python."
   ]
  },
  {
   "cell_type": "code",
   "execution_count": 31,
   "metadata": {},
   "outputs": [
    {
     "name": "stdout",
     "output_type": "stream",
     "text": [
      "0.9798\n"
     ]
    }
   ],
   "source": [
    "# To look up this the probability of a certain z-score in python, we use the scipy.stats norm.cdf() function\n",
    "import scipy.stats as st\n",
    "\n",
    "#Example #2\n",
    "p = st.norm.cdf(2.05)\n",
    "print(round(p,4)) # here, I'm rounding to the same number of decimal places as the table."
   ]
  },
  {
   "cell_type": "markdown",
   "metadata": {},
   "source": [
    "We should get the same answer that we got with the table, and we do."
   ]
  },
  {
   "cell_type": "code",
   "execution_count": 32,
   "metadata": {},
   "outputs": [
    {
     "name": "stdout",
     "output_type": "stream",
     "text": [
      "0.0202\n"
     ]
    }
   ],
   "source": [
    "#Example #3\n",
    "p = 1- st.norm.cdf(2.05)\n",
    "print(round(p,4))"
   ]
  },
  {
   "cell_type": "markdown",
   "metadata": {},
   "source": [
    "Great! Everything checks out."
   ]
  },
  {
   "cell_type": "markdown",
   "metadata": {},
   "source": [
    "Here are a few more for you to try with the table first and then check with python.\n",
    "\n",
    "```{admonition} Question #4\n",
    ":class: tip\n",
    "4. What is the probability the ENSO index is 1.23 or smaller?\n",
    "```"
   ]
  },
  {
   "cell_type": "code",
   "execution_count": 33,
   "metadata": {
    "tags": [
     "hide-output"
    ]
   },
   "outputs": [
    {
     "name": "stdout",
     "output_type": "stream",
     "text": [
      "0.8907\n"
     ]
    }
   ],
   "source": [
    "#Example #4\n",
    "p = st.norm.cdf(1.23)\n",
    "print(round(p,4))"
   ]
  },
  {
   "cell_type": "markdown",
   "metadata": {},
   "source": [
    "```{admonition} Question #5\n",
    ":class: tip\n",
    "5. What is the probability the ENSO index is 1.23 or greater?\n",
    "```"
   ]
  },
  {
   "cell_type": "code",
   "execution_count": 34,
   "metadata": {
    "tags": [
     "hide-output"
    ]
   },
   "outputs": [
    {
     "name": "stdout",
     "output_type": "stream",
     "text": [
      "0.1093\n"
     ]
    }
   ],
   "source": [
    "#Example #5\n",
    "p = 1-st.norm.cdf(1.23)\n",
    "print(round(p,4))"
   ]
  },
  {
   "cell_type": "markdown",
   "metadata": {},
   "source": [
    "```{admonition} Question #6\n",
    ":class: tip\n",
    "6. What is the probability the ENSO index is greater than +1 and less than +2?\n",
    "```"
   ]
  },
  {
   "cell_type": "code",
   "execution_count": 35,
   "metadata": {
    "tags": [
     "hide-output",
     "hide-input"
    ]
   },
   "outputs": [
    {
     "name": "stdout",
     "output_type": "stream",
     "text": [
      "0.1359\n"
     ]
    }
   ],
   "source": [
    "#Example #6\n",
    "p = st.norm.cdf(2) - st.norm.cdf(1)\n",
    "print(round(p,4))"
   ]
  },
  {
   "cell_type": "markdown",
   "metadata": {},
   "source": [
    "We can also use the $z$-table in reverse, i.e., if we know the probability of an event, we can find the $z$-score. Using the same ENSO index as above:\n",
    "\n",
    "```{admonition} Question #7\n",
    ":class: tip\n",
    "7. What ENSO index $\\epsilon$ gives $Pr$($z$ $\\leq$ $\\epsilon$) = 0.9? \n",
    "```\n",
    "\n",
    "The formulation of this problem corresponds to the structure of our $z$-table which shows the area under the curve to the left ($\\leq$) of $z$. Looking at the table, we look for the value 0.9. We don't see an exact value for 0.9, but we can interpolate. $\\epsilon$ in about 1.282.\n",
    "\n",
    "Let's check this with python."
   ]
  },
  {
   "cell_type": "code",
   "execution_count": 36,
   "metadata": {},
   "outputs": [
    {
     "name": "stdout",
     "output_type": "stream",
     "text": [
      "1.282\n"
     ]
    }
   ],
   "source": [
    "# To look up this the z-score for a certain probability in python, we use the scipy.stats norm.ppf() function\n",
    "\n",
    "# Example #7\n",
    "z = st.norm.ppf(0.9)\n",
    "print(round(z,3))"
   ]
  },
  {
   "cell_type": "markdown",
   "metadata": {},
   "source": [
    "Now, you can try the rest on your own. Open up a blank notebook to try it out before you check the answer."
   ]
  },
  {
   "cell_type": "markdown",
   "metadata": {},
   "source": [
    "```{admonition} Question #8\n",
    ":class: tip\n",
    "8. What ENSO index $\\epsilon$ gives $Pr$($z$ $\\geq$ $\\epsilon$) = 0.1? \n",
    "```"
   ]
  },
  {
   "cell_type": "code",
   "execution_count": 37,
   "metadata": {
    "tags": [
     "hide-input",
     "hide-output"
    ]
   },
   "outputs": [
    {
     "name": "stdout",
     "output_type": "stream",
     "text": [
      "1.282\n"
     ]
    }
   ],
   "source": [
    "# Example #2\n",
    "z = -st.norm.ppf(0.1)\n",
    "print(round(z,3))"
   ]
  },
  {
   "cell_type": "markdown",
   "metadata": {},
   "source": [
    "```{admonition} Question #9\n",
    ":class: tip\n",
    "9. What ENSO index $\\epsilon$ gives $Pr$($z$ $\\leq$ $\\epsilon$) = 0.1?\n",
    "```"
   ]
  },
  {
   "cell_type": "code",
   "execution_count": 39,
   "metadata": {
    "tags": [
     "hide-input",
     "hide-output"
    ]
   },
   "outputs": [
    {
     "name": "stdout",
     "output_type": "stream",
     "text": [
      "-1.282\n"
     ]
    }
   ],
   "source": [
    "# Example #3\n",
    "z = st.norm.ppf(0.1)\n",
    "print(round(z,3))"
   ]
  },
  {
   "cell_type": "markdown",
   "metadata": {},
   "source": [
    "```{admonition} Question #10\n",
    ":class: tip\n",
    "10. What ENSO index $\\epsilon$ gives $Pr$(|$z$| $\\geq$ $\\epsilon$) = 0.1? (Note: |$z$| $\\geq$ $\\epsilon$ is the same as $z$ $\\leq$ -$\\epsilon$ and $z$ $\\geq$ $\\epsilon$)\n",
    "```"
   ]
  },
  {
   "cell_type": "code",
   "execution_count": 40,
   "metadata": {
    "tags": [
     "hide-input",
     "hide-output"
    ]
   },
   "outputs": [
    {
     "name": "stdout",
     "output_type": "stream",
     "text": [
      "-1.645 1.645\n"
     ]
    }
   ],
   "source": [
    "# Example #3\n",
    "z1 = st.norm.ppf(0.05)\n",
    "z2 = st.norm.ppf(0.95)\n",
    "print(round(z1,3),round(z2,3))"
   ]
  },
  {
   "cell_type": "code",
   "execution_count": null,
   "metadata": {},
   "outputs": [],
   "source": []
  }
 ],
 "metadata": {
  "celltoolbar": "Tags",
  "kernelspec": {
   "display_name": "Python 3",
   "language": "python",
   "name": "python3"
  },
  "language_info": {
   "codemirror_mode": {
    "name": "ipython",
    "version": 3
   },
   "file_extension": ".py",
   "mimetype": "text/x-python",
   "name": "python",
   "nbconvert_exporter": "python",
   "pygments_lexer": "ipython3",
   "version": "3.6.8"
  }
 },
 "nbformat": 4,
 "nbformat_minor": 4
}
