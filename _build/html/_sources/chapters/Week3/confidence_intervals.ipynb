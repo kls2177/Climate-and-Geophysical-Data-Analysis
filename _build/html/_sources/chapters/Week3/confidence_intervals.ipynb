{
 "cells": [
  {
   "cell_type": "markdown",
   "metadata": {},
   "source": [
    "# Confidence Intervals\n",
    "\n",
    "Now that we have gone over the fundamentals of linear regression, we will take a lot at the uncertainty in our different estimates.\n",
    "\n",
    "Before we get started, let's import the packages we will need."
   ]
  },
  {
   "cell_type": "code",
   "execution_count": 1,
   "metadata": {},
   "outputs": [],
   "source": [
    "# load packages\n",
    "import numpy as np\n",
    "import pickle as pickle\n",
    "import scipy.stats as st\n",
    "import matplotlib.pyplot as plt\n",
    "import matplotlib as mpl\n",
    "mpl.rc('font',size=16,weight='bold') #set default font size and weight for plots"
   ]
  },
  {
   "cell_type": "markdown",
   "metadata": {},
   "source": [
    "And, let's load in our ENSO and California precipitation data again."
   ]
  },
  {
   "cell_type": "code",
   "execution_count": 2,
   "metadata": {},
   "outputs": [],
   "source": [
    "# ENSO Data:\n",
    "# unpickle NINO34 (units of degC)\n",
    "with open('NINO34_NDJF.pickle','rb') as fp: #.pickle files are a python file type\n",
    "    nino34 = pickle.load(fp,encoding='latin1')[0]"
   ]
  },
  {
   "cell_type": "code",
   "execution_count": 3,
   "metadata": {},
   "outputs": [],
   "source": [
    "#  Precipitation Data:\n",
    "#  unpickle CA_PRECIP_DJFM (units of mm/day)\n",
    "with open('CA_PRECIP_DJFM.pickle','rb') as fp: #.pickle files are a python file type\n",
    "    precip_djfm = pickle.load(fp,encoding='latin1')"
   ]
  },
  {
   "cell_type": "markdown",
   "metadata": {},
   "source": [
    "Let's also read in the data that identifies the La Niña and El Niño events."
   ]
  },
  {
   "cell_type": "code",
   "execution_count": 4,
   "metadata": {},
   "outputs": [],
   "source": [
    "# unpickle data indicating strong El Niño/La Niña years\n",
    "with open('ENSO_NDJF_years_rev.pickle','rb') as fp:   #another .pickle file\n",
    "    elnino_yrs,lanina_yrs = pickle.load(fp,encoding='latin1')\n",
    "\n",
    "# create groups of strong El Niño/La Niña years\n",
    "ElNinoyrs = nino34[np.squeeze(elnino_yrs)]\n",
    "LaNinayrs = nino34[np.squeeze(lanina_yrs)]\n",
    "\n",
    "ElNinoP = precip_djfm[np.squeeze(elnino_yrs)]\n",
    "LaNinaP = precip_djfm[np.squeeze(lanina_yrs)]"
   ]
  },
  {
   "cell_type": "markdown",
   "metadata": {},
   "source": [
    "## Confidence Intervals on the Slope and Intercept\n",
    "\n",
    "Before we discuss the second way to calculate the best-fit line using python, let's talk about confidence intervals. Often we want to quantify the 95% confidence intervals on our estimate of the slope and y-intercept. To do this, we need an estimate of the **standard error of the slope**, $s_{a_1}$, and the **standard error of the y-intercept**, $s_{a_0}$. We are not going to get into the derivation of these quantities, but if you're interested, you can check it out [here](https://www.youtube.com/watch?v=rODUBTRUV0U).\n",
    "\n",
    "Let's start by defining the **standard error of the regression**, $s_{y/x}$. This is analogous to the standard error of the sample mean that we have seen previously - it is simply the square-root of the sum of squared errors ($Q$) divided by the square-root of $N$ - 2,\n",
    " \n",
    "$$\n",
    "s_{y/x} = \\sqrt{\\frac{\\sum\\limits_{i=1}^N(\\hat{y_i}(t) - y_i(t))^2}{N-2}}\n",
    "$$\n",
    "\n",
    "Notice that we are dividing by $N$ - 2 in this case. This is because we have used up two degrees of freedom to estimate the slope and the y-intercept.\n",
    "\n",
    "The standard error of the slope is then defined as,\n",
    "\n",
    "$$\n",
    "s_{a_1} = \\frac{s_{y/x}}{\\sqrt{\\sum\\limits_{i=1}^N(x_i(t) - \\overline{x})^2}}\n",
    "$$\n",
    "\n",
    "Looking at this equation, you can see intuitively that it is looks like the standard error of the regression divided by the variance in $x$ - sort of like a slope of errors or variances. \n",
    "\n",
    "With this definition of the standard error of the slope, we can calculate confidence intervals in the usual way. For example,\n",
    "\n",
    "$$\n",
    "a_1 - t_{\\alpha/2}s_{a_1} \\leq b_1 \\leq a_1 + t_{\\alpha/2}s_{a_1}\n",
    "$$\n",
    "\n",
    "where $b_1$ is the true value for the slope and $t_{\\alpha/2}$ is the critical $t$-value with $\\nu$ = $N$ - 2.\n",
    "\n",
    "We can also compute the standard error of the y-intercept as follows,\n",
    "\n",
    "$$\n",
    "s_{a_0} = s_{y/x}\\sqrt{\\frac{\\sum\\limits_{i=1}^Nx_i(t)^2}{N\\sum\\limits_{i=1}^Nx_i(t)^{\\prime2}}}\n",
    "$$\n",
    "\n",
    "\n",
    "\n",
    "Again, we can now calculate the confidence intervals in the usual way.\n",
    "\n",
    "$$\n",
    "a_0 - t_{\\alpha/2}s_{a_0} \\leq b_0 \\leq a_0 + t_{\\alpha/2}s_{a_0}\n",
    "$$\n",
    "\n",
    "Now, that we have taken a look at the standard errors and confidence intervals, we can try out the second python function for linear regression. This function is part of the `scipy.stats` package and there are multiple outputs. In this section, we will just worry about the slope, intercept and standard error outputs (we will discuss the other outputs in the next section).\n",
    "\n",
    "Let's try it out. "
   ]
  },
  {
   "cell_type": "code",
   "execution_count": 5,
   "metadata": {},
   "outputs": [],
   "source": [
    "# alternate way to calculate the best fit\n",
    "slope, intercept, r_value, p_value, s_a1 = st.linregress(nino34,precip_djfm)\n",
    "\n",
    "# calculate fit\n",
    "y_hat = intercept + nino34*slope"
   ]
  },
  {
   "cell_type": "markdown",
   "metadata": {},
   "source": [
    "By default, the above function outputs the standard error of the slope, but we can use this to compute the standard error of the y-intercept.\n",
    "\n",
    "First, let's compute the 95% confidence intervals on the slope. To do this, we need to find our critical $t$-value."
   ]
  },
  {
   "cell_type": "code",
   "execution_count": 6,
   "metadata": {},
   "outputs": [],
   "source": [
    "# find t_crit for our 95% confidence intervals on our slope\n",
    "t_crit = st.t.ppf(0.975,len(nino34)-2) # two-sided, v = N - 2"
   ]
  },
  {
   "cell_type": "markdown",
   "metadata": {},
   "source": [
    "Now, we multiply our critical $t$-value by the standard error of the slope."
   ]
  },
  {
   "cell_type": "code",
   "execution_count": 7,
   "metadata": {},
   "outputs": [
    {
     "name": "stdout",
     "output_type": "stream",
     "text": [
      "The true value of the slope is then 0.44 +/- 0.05\n"
     ]
    }
   ],
   "source": [
    "# calculate the 95% confidence interval on the slope\n",
    "confidence_interval_slope = t_crit*s_a1\n",
    "print(\"The true value of the slope is then\", np.round(slope,2), \"+/-\", np.round(confidence_interval_slope,2))"
   ]
  },
  {
   "cell_type": "markdown",
   "metadata": {},
   "source": [
    "To find the standard error of the intercept, we can first find $s_{y/x}$."
   ]
  },
  {
   "cell_type": "code",
   "execution_count": 12,
   "metadata": {},
   "outputs": [
    {
     "name": "stdout",
     "output_type": "stream",
     "text": [
      "0.8354636284630473\n"
     ]
    }
   ],
   "source": [
    "# calculate the standard error of the regression, s_y/x\n",
    "s_yx = s_a1*np.sqrt(np.var(nino34,ddof=1)*(len(nino34)-1))\n",
    "print(s_yx)"
   ]
  },
  {
   "cell_type": "markdown",
   "metadata": {},
   "source": [
    "Now, we can compute $s_{a_0}$ and the 95% confidence intervals."
   ]
  },
  {
   "cell_type": "code",
   "execution_count": 13,
   "metadata": {},
   "outputs": [
    {
     "name": "stdout",
     "output_type": "stream",
     "text": [
      "The true value of the intercept is then 2.5 +/- 0.05\n"
     ]
    }
   ],
   "source": [
    "# calculate the standard error of the intercept, s_a0\n",
    "s_a0 = s_yx*np.sqrt(np.sum(nino34**2)/((len(nino34)-1)*len(nino34)*np.var(nino34,ddof=1)))\n",
    "\n",
    "# calculate the 95% confidence interval on the intercept\n",
    "confidence_interval_yint = t_crit*s_a0\n",
    "print(\"The true value of the intercept is then\", np.round(intercept,2), \"+/-\", np.round(confidence_interval_yint,2))"
   ]
  },
  {
   "cell_type": "markdown",
   "metadata": {},
   "source": [
    "## Confidence Band on the Estimate\n",
    "\n",
    "We can also calculate the *confidence band* for $\\hat{y(t)}$. To do this, we use the standard error of the fit, $s_{\\hat{y}}$. Again, we are not going to worry about the derivation of this formula, but we want to have a sense of why it looks the way it does.\n",
    "\n",
    "$$\n",
    "s_{\\hat{y}} = s_{y/x}\\sqrt{\\frac{1}{N} + \\frac{(x_i(t) - \\overline{x})^2}{\\sum\\limits_{i=1}^Nx_i(t)^{\\prime2}}}\n",
    "$$\n",
    "\n",
    "Now, we can now calculate the confidence band in the usual way.\n",
    "\n",
    "$$\n",
    "\\hat{y(t)} - t_{\\alpha/2}s_{\\hat{y}} \\leq y(t) \\leq \\hat{y(t)} + t_{\\alpha/2}s_{\\hat{y}}\n",
    "$$\n",
    "\n",
    "Taking a look at the formula, how does $s_{\\hat{y}}$ vary as $x(t)$ gets closer or farther away from the mean, $\\overline{x}$? $s_{\\hat{y}}$ should get smaller the closer we are to $\\overline{x}$. This means that we are more confident in our estimate, $\\hat{y(t)}$, near the centre of the data, $\\overline{x}$, than we are at the edges. \n",
    "\n",
    "\n",
    "Let's add the 95\\% confidence band to our plot. We will use the command `plt.fill_between()` to shade in the confidence band."
   ]
  },
  {
   "cell_type": "code",
   "execution_count": 14,
   "metadata": {},
   "outputs": [],
   "source": [
    "# calculate the standard error of the fit, s_yhat\n",
    "s_yhat = s_yx * (np.sqrt( (1/len(nino34)) + ((nino34 - np.mean(nino34))**2)/np.sum((nino34-np.mean(nino34))**2)))\n",
    "\n",
    "# calculate the 95% confidence band\n",
    "confidence_band = t_crit*s_yhat"
   ]
  },
  {
   "cell_type": "code",
   "execution_count": 15,
   "metadata": {},
   "outputs": [
    {
     "data": {
      "text/plain": [
       "<matplotlib.legend.Legend at 0x7f8cf0bab2b0>"
      ]
     },
     "execution_count": 15,
     "metadata": {},
     "output_type": "execute_result"
    },
    {
     "data": {
      "image/png": "[encoded data removed]",
      "text/plain": [
       "<Figure size 504x432 with 1 Axes>"
      ]
     },
     "metadata": {
      "needs_background": "light"
     },
     "output_type": "display_data"
    }
   ],
   "source": [
    "# replot the original scatter plots\n",
    "plt.figure(figsize=(7,6))\n",
    "plt.axhline(0,color='gray')  #add zero lines for reference\n",
    "plt.axvline(0,color='gray')  #add zero lines for reference\n",
    "plt.scatter(nino34,precip_djfm,color='k')\n",
    "plt.scatter(ElNinoyrs,ElNinoP,color='r',label='El Nino')\n",
    "plt.scatter(LaNinayrs,LaNinaP,color='b',label='La Nina')\n",
    "\n",
    "# add linear fit on top\n",
    "plt.plot(nino34,y_hat,'k')\n",
    "\n",
    "# add confidence band (we need to sort the data in ascending order to get the plot to look correct)\n",
    "plt.fill_between(np.sort(nino34),np.sort(y_hat - confidence_band), np.sort(y_hat + confidence_band),color = 'gray',alpha=0.5)\n",
    "\n",
    "# labels, legends, etc.\n",
    "plt.xlabel('NINO3.4 ($^{\\circ}$C)')\n",
    "plt.ylabel('CA Precipitation (mm day$^{-1}$)')\n",
    "plt.title('Scatter Plot: NINO3.4 vs. CA Precip')\n",
    "plt.legend(loc='upper left')"
   ]
  },
  {
   "cell_type": "code",
   "execution_count": null,
   "metadata": {},
   "outputs": [],
   "source": []
  }
 ],
 "metadata": {
  "kernelspec": {
   "display_name": "Python 3",
   "language": "python",
   "name": "python3"
  },
  "language_info": {
   "codemirror_mode": {
    "name": "ipython",
    "version": 3
   },
   "file_extension": ".py",
   "mimetype": "text/x-python",
   "name": "python",
   "nbconvert_exporter": "python",
   "pygments_lexer": "ipython3",
   "version": "3.7.2"
  }
 },
 "nbformat": 4,
 "nbformat_minor": 4
}
