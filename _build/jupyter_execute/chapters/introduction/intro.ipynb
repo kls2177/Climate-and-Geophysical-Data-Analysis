{
 "cells": [
  {
   "cell_type": "markdown",
   "metadata": {},
   "source": [
    "# Introduction\n",
    "\n",
    "The goal of this book is to provide upper-year undergraduate and graduate students with a working knowledge of the data analysis concepts and tools most commonly used in climate science and geophysics.\n",
    "\n",
    "**Note:** This book is for use in, but is not the primary course website for, [EES1132](https://www.utsc.utoronto.ca/physsci/ees1132h-climate-data-analysis)/[EESD21](https://utsc.calendar.utoronto.ca/course/eesd21h3) at the [University of Toronto Scarborough](https://www.utsc.utoronto.ca/home/). For all relevant course information including announcements, assignments, etc. please refer to [Quercus](http://q.utoronto.ca).\n",
    "\n",
    "Let's get started with a brief introduction to the course."
   ]
  },
  {
   "cell_type": "code",
   "execution_count": 1,
   "metadata": {
    "tags": [
     "remove-input"
    ]
   },
   "outputs": [
    {
     "data": {
      "text/html": [
       "\n",
       "        <iframe\n",
       "            width=\"560\"\n",
       "            height=\"315\"\n",
       "            src=\"https://play.library.utoronto.ca/embed/fa3bb5a1962b5c960d91366e6465eda9\"\n",
       "            frameborder=\"0\"\n",
       "            allowfullscreen\n",
       "            \n",
       "        ></iframe>\n",
       "        "
      ],
      "text/plain": [
       "<IPython.lib.display.IFrame at 0x10fee6e30>"
      ]
     },
     "execution_count": 1,
     "metadata": {},
     "output_type": "execute_result"
    }
   ],
   "source": [
    "from IPython.display import IFrame\n",
    " \n",
    "IFrame(\"https://play.library.utoronto.ca/embed/fa3bb5a1962b5c960d91366e6465eda9\", width=\"560\",height=\"315\")"
   ]
  },
  {
   "cell_type": "code",
   "execution_count": null,
   "metadata": {},
   "outputs": [],
   "source": []
  }
 ],
 "metadata": {
  "celltoolbar": "Tags",
  "kernelspec": {
   "display_name": "Python 3 (ipykernel)",
   "language": "python",
   "name": "python3"
  },
  "language_info": {
   "codemirror_mode": {
    "name": "ipython",
    "version": 3
   },
   "file_extension": ".py",
   "mimetype": "text/x-python",
   "name": "python",
   "nbconvert_exporter": "python",
   "pygments_lexer": "ipython3",
   "version": "3.10.8"
  }
 },
 "nbformat": 4,
 "nbformat_minor": 4
}