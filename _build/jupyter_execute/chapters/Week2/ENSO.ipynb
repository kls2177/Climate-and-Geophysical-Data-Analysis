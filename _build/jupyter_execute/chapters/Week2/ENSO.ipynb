{
 "cells": [
  {
   "cell_type": "markdown",
   "id": "a8c42115",
   "metadata": {},
   "source": [
    "# What is ENSO?\n",
    "\n",
    "In this course, I will be using the El Niño-Southern Oscillation (ENSO), a large-scale mode of climate variability, as a common example. You may be familiar with the terms \"El Niño\" or \"La Niña\", but may not know what these terms refer to. Before we continue, let's get to know ENSO."
   ]
  },
  {
   "cell_type": "code",
   "execution_count": 1,
   "id": "7ef953d3",
   "metadata": {},
   "outputs": [
    {
     "data": {
      "text/html": [
       "\n",
       "        <iframe\n",
       "            width=\"560\"\n",
       "            height=\"315\"\n",
       "            src=\"https://www.youtube.com/embed/WPA-KpldDVc?si=ivS0-P12i3tlNRmR\"\n",
       "            frameborder=\"0\"\n",
       "            allowfullscreen\n",
       "            \n",
       "        ></iframe>\n",
       "        "
      ],
      "text/plain": [
       "<IPython.lib.display.IFrame at 0x111d17340>"
      ]
     },
     "execution_count": 1,
     "metadata": {},
     "output_type": "execute_result"
    }
   ],
   "source": [
    "from IPython.display import IFrame\n",
    " \n",
    "IFrame(\"https://www.youtube.com/embed/WPA-KpldDVc?si=ivS0-P12i3tlNRmR\", width=\"560\",height=\"315\")"
   ]
  },
  {
   "cell_type": "code",
   "execution_count": null,
   "id": "63a20a9b",
   "metadata": {},
   "outputs": [],
   "source": []
  }
 ],
 "metadata": {
  "kernelspec": {
   "display_name": "Python 3 (ipykernel)",
   "language": "python",
   "name": "python3"
  },
  "language_info": {
   "codemirror_mode": {
    "name": "ipython",
    "version": 3
   },
   "file_extension": ".py",
   "mimetype": "text/x-python",
   "name": "python",
   "nbconvert_exporter": "python",
   "pygments_lexer": "ipython3",
   "version": "3.10.8"
  }
 },
 "nbformat": 4,
 "nbformat_minor": 5
}