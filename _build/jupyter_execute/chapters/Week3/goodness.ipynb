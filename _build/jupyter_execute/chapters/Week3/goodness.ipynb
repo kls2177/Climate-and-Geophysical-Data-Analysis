{
 "cells": [
  {
   "cell_type": "markdown",
   "metadata": {},
   "source": [
    "# Goodness of Fit\n",
    "\n",
    "How much we trust that the regression coefficient, $a_{1}$, reflects the true relationship between $x(t)$ and $y(t)$ depends on the spread of the points about the best fit line. [Figure 12](goodness) illustrates this point. On the right, we see that the points cluster closely to the best fit line, while on the left, the points are more spread out and do not correspond to the best fit line as well.\n",
    "\n",
    "```{figure} goodness.png\n",
    "---\n",
    "scale: 80%\n",
    "name: goodness\n",
    "---\n",
    "Scatter plots showing (a) small scatter/spread and (b) large scatter/spread of points about the best fit line.\n",
    "```\n",
    "\n",
    "If the points are closely packed about the regression line, then the fit is considered to be \"good\". Quantitatively, the measure of the spread of the points about the best fit line is given by the **correlation coefficient, $r$**.\n",
    "\n",
    "## Correlation Coefficient\n",
    "\n",
    "Let's start to write down the expression for the correlation coefficient. What we aim to do is to come up with an expression that tells us how much of the original variance in $y(t)$ is captured by the fit, $\\hat{y}(t)$. We will start by defining the total sum of squares for $y(t)$, $S_{yy}$,\n",
    "\n",
    "$$\n",
    "S_{yy} = \\sum\\limits_{i=1}^N(y_i(t) - \\overline{y})^2\n",
    "$$\n",
    "\n",
    "This is essentially the variance of $y(t)$ except that we are not dividing by $N$, just to keep things simple.\n",
    "\n",
    "Next, let's write down an expression for the sum of squares for $\\hat{y(t)}$, which represents the variance in the fit between $x(t)$ and $y(t)$ (except again, we are not going to divide by $N$),\n",
    "\n",
    "$$\n",
    "\\begin{align}\n",
    "S_{\\hat{y}\\hat{y}} & = \\sum\\limits_{i=1}^N(\\hat{y_i}(t) - \\overline{\\hat{y}})^2\\\\\n",
    "& = \\sum\\limits_{i=1}^N(\\hat{y_i}(t) - \\overline{y})^2\n",
    "\\end{align}\n",
    "$$\n",
    "\n",
    "You can prove to yourself that $\\overline{\\hat{y}}$ = $\\overline{y}$.\n",
    "\n",
    "So, now we have the two parts of the expression that we need. The ratio of $S_{\\hat{y}\\hat{y}}$ to $S_{yy}$ tells of the fraction of the totoal variance in $y(t)$ explained by the variance of the fit. This ratio is called the **coefficient of determination, $r^2$**. The coefficient of determination is the correlation coefficient squared!\n",
    "\n",
    "$$\n",
    "\\begin{align}\n",
    "r^2 & = \\frac{\\text{explained variance}}{\\text{total variance}}\\\\\n",
    "& = \\frac{S_{\\hat{y}\\hat{y}}}{S_{yy}}\\\\\n",
    "& \\\\\n",
    "& \\text{Plugging in the expression for $\\hat{y}(t)$ and rearranging things, we get ...}\\\\\n",
    "& \\\\\n",
    "& = \\frac{(\\overline{x^{\\prime}y^{\\prime}})^2}{\\overline{{x^\\prime}^2}\\overline{{y^\\prime}^2}}\n",
    "\\end{align}\n",
    "$$\n",
    "\n",
    "We are not going to worry about all the algebra required to get to the final expression for the coefficient of determination, but if you are interested you can take a look [here](https://online.stat.psu.edu/stat462/node/96/).\n",
    "\n",
    "So, the correlation coefficient is the square-root of $r^2$,\n",
    "\n",
    "$$\n",
    "\\begin{align}\n",
    "r & = \\pm\\sqrt{r^2}\\\\\n",
    "& = \\frac{\\overline{x^{\\prime}y^{\\prime}}}{\\sigma_x\\sigma_y}\n",
    "\\end{align}\n",
    "$$\n",
    "\n",
    "To summarize the above:\n",
    "\n",
    "**$r^2$, the coefficient of determination (aka \"r-squared\"):**\n",
    "\n",
    "- is the fraction of variance explained by the linear least-squares fit between the two variables\n",
    "- always lies between 0 and 1\n",
    "\n",
    "**r, the correlation coefficient:**\n",
    "\n",
    "- varies between -1 and 1\n",
    "- indicates the sign of the relationship between the two variables\n",
    "\n",
    "The [table](correlation) below shows some values of $r$ and $r^2$.\n",
    "\n",
    "```{list-table}\n",
    ":header-rows: 1\n",
    ":name: correlation\n",
    "\n",
    "* - Correlation Coefficient\n",
    "  - Coefficient of Determination\n",
    "* - 0.99\n",
    "  - 0.98\n",
    "* - 0.90\n",
    "  - 0.81\n",
    "* - 0.70\n",
    "  - 0.49\n",
    "* - 0.50\n",
    "  - 0.25\n",
    "* - 0.25\n",
    "  - 0.06\n",
    "```\n",
    "\n",
    "Let's take a look at how good the fit between ENSO and California precipitation is by calculating the correlation coefficient."
   ]
  },
  {
   "cell_type": "code",
   "execution_count": 1,
   "metadata": {},
   "outputs": [],
   "source": [
    "# load packages\n",
    "import numpy as np\n",
    "import pickle as pickle\n",
    "import scipy.stats as st\n",
    "import matplotlib.pyplot as plt\n",
    "import matplotlib as mpl\n",
    "mpl.rc('font',size=16,weight='bold') #set default font size and weight for plots"
   ]
  },
  {
   "cell_type": "markdown",
   "metadata": {},
   "source": [
    "Let's load in our ENSO and California precipitation data again."
   ]
  },
  {
   "cell_type": "code",
   "execution_count": 2,
   "metadata": {},
   "outputs": [],
   "source": [
    "# ENSO Data:\n",
    "# unpickle NINO34 (units of degC)\n",
    "with open('NINO34_NDJF_2021.pickle','rb') as fp: #.pickle files are a python file type\n",
    "    nino34 = pickle.load(fp,encoding='latin1')"
   ]
  },
  {
   "cell_type": "code",
   "execution_count": 3,
   "metadata": {},
   "outputs": [],
   "source": [
    "#  Precipitation Data:\n",
    "#  unpickle CA_PRECIP_DJFM (units of mm/day)\n",
    "with open('CA_PRECIP_DJFM.pickle','rb') as fp: #.pickle files are a python file type\n",
    "    precip_djfm = pickle.load(fp,encoding='latin1')"
   ]
  },
  {
   "cell_type": "markdown",
   "metadata": {},
   "source": [
    "We will take a look at two ways to compute the correlation coefficient, first using `np.corrcoeff()` and second using `stats.pearsonr()`."
   ]
  },
  {
   "cell_type": "code",
   "execution_count": 4,
   "metadata": {},
   "outputs": [
    {
     "name": "stdout",
     "output_type": "stream",
     "text": [
      "[[1.        0.5020922]\n",
      " [0.5020922 1.       ]]\n"
     ]
    }
   ],
   "source": [
    "# np.corrcoef computes the correlation matrix, \n",
    "# i.e. it computes the correlation between nino34 and itself, precip_djfm and itself and nino34 and precip_djfm\n",
    "\n",
    "r = np.corrcoef(nino34,precip_djfm)\n",
    "print(r)"
   ]
  },
  {
   "cell_type": "markdown",
   "metadata": {},
   "source": [
    "The correlation between ENSO and California precipitation are the correlations on the off-diagonals while the correlations of each variable with itself are identically 1.0 and along the diagonal."
   ]
  },
  {
   "cell_type": "code",
   "execution_count": 5,
   "metadata": {},
   "outputs": [
    {
     "name": "stdout",
     "output_type": "stream",
     "text": [
      "0.5020922027309632\n"
     ]
    }
   ],
   "source": [
    "# extract the correlation we want using slicing\n",
    "r = np.corrcoef(nino34,precip_djfm)[0,1]\n",
    "print(r)"
   ]
  },
  {
   "cell_type": "markdown",
   "metadata": {},
   "source": [
    "We can also calculate the correlation coefficient using the following function. This function also provides the p-value for the correlation (we will talk more about computing the statistical significance of correlations in the next section)."
   ]
  },
  {
   "cell_type": "code",
   "execution_count": 6,
   "metadata": {},
   "outputs": [
    {
     "name": "stdout",
     "output_type": "stream",
     "text": [
      "The correlation =  0.5020922027309634 with a very small p-value of 2.6350145043512816e-71 i.e., very significant!\n"
     ]
    }
   ],
   "source": [
    "# alternative correlation coefficient function including the p-value\n",
    "pearsons_corrcoef, p_corr = st.pearsonr(nino34,precip_djfm)\n",
    "print(\"The correlation = \", pearsons_corrcoef, \"with a very small p-value of\", p_corr, \"i.e., very significant!\")"
   ]
  },
  {
   "cell_type": "markdown",
   "metadata": {},
   "source": [
    "We find that the correlation between ENSO and California precipitation is positive and approximately 0.5. We can express this as the fraction of variance explained by the fit using the r-squared."
   ]
  },
  {
   "cell_type": "code",
   "execution_count": 7,
   "metadata": {},
   "outputs": [
    {
     "name": "stdout",
     "output_type": "stream",
     "text": [
      "0.25209658004323066\n"
     ]
    }
   ],
   "source": [
    "# calculate r-squared (aka coefficient of determination)\n",
    "r2 = r**2\n",
    "print(r2)"
   ]
  },
  {
   "cell_type": "markdown",
   "metadata": {},
   "source": [
    "So, the fraction of variance in California precipitation explained by ENSO is about 25\\%. That's actually a fair bit considering all the meteorological phenomena that can affect precipitation."
   ]
  },
  {
   "cell_type": "code",
   "execution_count": null,
   "metadata": {},
   "outputs": [],
   "source": []
  }
 ],
 "metadata": {
  "kernelspec": {
   "display_name": "Python 3",
   "language": "python",
   "name": "python3"
  },
  "language_info": {
   "codemirror_mode": {
    "name": "ipython",
    "version": 3
   },
   "file_extension": ".py",
   "mimetype": "text/x-python",
   "name": "python",
   "nbconvert_exporter": "python",
   "pygments_lexer": "ipython3",
   "version": "3.10.8"
  }
 },
 "nbformat": 4,
 "nbformat_minor": 4
}